{
  "cells": [
    {
      "cell_type": "markdown",
      "metadata": {
        "id": "iLAA8XjK2zxp"
      },
      "source": [
        "\n",
        "\n",
        "# Laboratorio 1.0:\n",
        "\n",
        "\n",
        "https://pypi.org/project/fitter/\n",
        "\n",
        "7. Para el data frame, seleccionemos solo los datos del 2023.\n",
        "\n",
        "8. El comando groupby permite agrupar los datos con la periodicidad deseada: 1 dias, 2 dias, 1 mes etc. Determina el promedio con una periodicidad de 15 dias, con periodidicidad de 1 semana, y una periodicidad de 1 mes\n",
        "\n",
        "```python\n",
        "  df.groupby(pd.Grouper(key='time', freq='15D')).mean()\n",
        "```\n",
        "\n",
        "9. Para los datos asociados a los meses de 2023, construya un histograma para cada mes.  Para ello puedo emplear el metodo groupby. Notetese que si no  realiza una operación después de aplicar el metodo grouby, podrias iterar sobre dicho objeto, por ejemplo:\n",
        "\n",
        "```python\n",
        "q=df.groupby(pd.Grouper(key='time', freq='15D'))\n",
        "\n",
        "for name, group in q:\n",
        "  print(name, group)\n",
        "```\n"
      ]
    },
    {
      "cell_type": "markdown",
      "metadata": {
        "id": "dzhBd58dWJXq"
      },
      "source": [
        "Para el dataset realizar lo siguiente:\n",
        "\n",
        "1. Leer los datos desde la página web\n",
        "\n",
        "2. Renombrar las columnas en PascalCase\n",
        "  Ejemplo: La columna radius_worst, concave points_se deberia llamar: RadiusWorst, ConcavePointsSe\n",
        "\n",
        "3. Emplear los metodos head, tail, describe,info para obtener información acerca del dataframe,\n",
        "\n",
        "4. Contabilizar la cantidad de null or nan en el dataframe, si hay null, ¿que valor se puede tomar para reemplazar los datos?\n",
        "\n",
        "5. Encontrar los valores  diferentes en el target, mostrar que es B y M. Emplear el metodo unique.\n",
        "\n",
        "6. Empleando la libreria seaborn y el metodo countplot, realice un conteo de las personas que tiene la etiqueta B y M.\n",
        "\n",
        "  ```python\n",
        "  import seaborn as sns\n",
        "  sns.countplot?\n",
        "  ```\n",
        "\n",
        "7. Agregar una nueva columna llamada DiagnosisNumeric, en la que cada valor B, M se corresponde con un valor 0, 1 respectivamente.\n",
        "\n",
        "8. Normalizar cada columna respecto a su media y desviación estandar: (x-mean(x))/std(x)\n",
        "\n",
        "9. Realizar un promedio de todas las características similares, llamelas:\n",
        "\n",
        "```python\n",
        "['RadiusMean', 'TextureMean', 'PerimeterMean', 'AreaMean','SmoothnessMean', 'CompactnessMean', 'ConcavityMean','ConcavePointsMean',\"SymetryMean\",\"FractalDimensionMean\"]\n",
        "```\n",
        "\n",
        "Para encontrar las características similares, radius1, radius2, radius3 y tomar los promedios puede emplear expresiones regulares como:\n",
        "\n",
        "```python\n",
        "re.match(r'^[a-zA-Z_]+', \"holamundo12341\").group(0)\n",
        "```\n",
        "\n",
        "con base a lo anterior forme los patrones a buscar, es decir:\n",
        "\n",
        "```python\n",
        "[Radius, Texture, Perimeter, ...]\n",
        "```\n",
        " y con base en ello, emplee el metodo `startwith` para un string.  \n",
        "\n",
        "\n",
        "\n",
        "10. En un mismo gráfico mostrar el histograma de la columna RadiusMean  para la etiqueta B y M en color naranja y azul de la columna Diagnosis respectivamente.\n",
        "\n",
        "11. Para las columnas:\n",
        "```python\n",
        "['RadiusMean', 'TextureMean', 'PerimeterMean', 'AreaMean','SmoothnessMean', 'CompactnessMean', 'ConcavityMean','ConcavePointsMean',\"symmetry3\",\"fractal_dimension3\"]```\n",
        "\n",
        "realizar multiples histograma en un gráfico de [violin](https://seaborn.pydata.org/generated/seaborn.violinplot.html).\n",
        "\n",
        "```python\n",
        "data = pd.melt(df.iloc[:, 0:10], id_vars=\"Diagnosis\",var_name=\"features\",value_name=\"value\")\n",
        "sns.violinplot(x=\"features\",y=\"value\",  hue=\"Diagnosis\",data=data, split=True, inner=\"quart\")\n",
        "plt.xticks(rotation=45)\n",
        "```\n",
        "\n",
        "10. Determinar los datos [outlier](https://en.wikipedia.org/wiki/Outlier)  para la columna RadiusMean y eliminarlos del data frame, para ello construya un gráfico tipo [boxplot](https://pandas.pydata.org/docs/reference/api/pandas.DataFrame.boxplot.html)\n",
        "\n",
        "\n",
        "```\n",
        "df.boxplot(column=\"RadiusMean\", by='Diagnosis', sym = 'k.', figsize=(18,6))\n",
        "```\n",
        "\n",
        "¿Qué informacion podemos obtener de este tipo de gráficos?\n",
        "\n",
        "\n",
        "Usar el rango intercuartílico (IQR): El IQR es la diferencia entre el tercer y el primer cuartil de los datos, es decir, el 75% y el 25% de los valores ordenados. Los valores que están fuera del rango [Q1 - 1.5 * IQR, Q3 + 1.5 * IQR] se consideran outliers y se pueden eliminar o reemplazar. Por ejemplo, si queremos eliminar los outliers de una columna llamada 'edad' usando el IQR, podemos hacer lo siguiente\n",
        "\n",
        "```python\n",
        "Q1 = df['edad'].quantile(0.25)\n",
        "Q3 = df['edad'].quantile(0.75)\n",
        "IQR = Q3 - Q1\n",
        "df = df[~((df['edad'] < (Q1 - 1.5 * IQR)) | (df['edad'] > (Q3 + 1.5 * IQR)))]\n",
        "```\n",
        "\n",
        "Otra forma de determinar los outlier es con el puntaje Z:\n",
        "El puntaje Z es el número de desviaciones estándar que un valor está por encima o por debajo de la media. Los valores que tienen un puntaje Z mayor que un umbral (por ejemplo, 3) se consideran outliers y se pueden eliminar o reemplazar. Por ejemplo, si queremos eliminar los outliers de la columna 'edad' usando el puntaje Z, podemos hacer lo siguiente:\n",
        "\n",
        "```python\n",
        "df = df[(np.abs(stats.zscore(df['edad'])) < 3)]\n",
        "```\n",
        "\n",
        "En un problema de machine learning se debe elegir todas las columnas y construir un algoritmo que permite obtener la mejor calidad de los datos sobre todas las columnas.\n",
        "\n",
        "\n",
        "11. Encontrar la matrix de correlacion, emplear el metodo corr(), dentro de seaborn buscar el metodo heatmap() para realizar un grafico de la matrix de correlación.\n",
        "\n",
        "12. ¿Que otro tipo de gráficos pueden ser realizados para entender mejor los datos?\n",
        "\n"
      ]
    },
    {
      "cell_type": "markdown",
      "metadata": {
        "id": "dg5T-MejYZf-"
      },
      "source": []
    },
    {
      "cell_type": "code",
      "execution_count": 1,
      "metadata": {
        "id": "nyhIUpJmfXQr"
      },
      "outputs": [],
      "source": [
        "import pandas as pd\n",
        "import seaborn as sns\n",
        "import matplotlib.pyplot as plt\n",
        "import numpy as np"
      ]
    },
    {
      "cell_type": "code",
      "execution_count": 2,
      "metadata": {},
      "outputs": [
        {
          "data": {
            "text/html": [
              "<div>\n",
              "<style scoped>\n",
              "    .dataframe tbody tr th:only-of-type {\n",
              "        vertical-align: middle;\n",
              "    }\n",
              "\n",
              "    .dataframe tbody tr th {\n",
              "        vertical-align: top;\n",
              "    }\n",
              "\n",
              "    .dataframe thead th {\n",
              "        text-align: right;\n",
              "    }\n",
              "</style>\n",
              "<table border=\"1\" class=\"dataframe\">\n",
              "  <thead>\n",
              "    <tr style=\"text-align: right;\">\n",
              "      <th></th>\n",
              "      <th>Unnamed: 0</th>\n",
              "      <th>time</th>\n",
              "      <th>open</th>\n",
              "      <th>high</th>\n",
              "      <th>low</th>\n",
              "      <th>close</th>\n",
              "      <th>tick_volume</th>\n",
              "      <th>spread</th>\n",
              "      <th>real_volume</th>\n",
              "      <th>MeanCloseOpen</th>\n",
              "      <th>Diff_Close</th>\n",
              "      <th>Diff_Open</th>\n",
              "      <th>Diff_MeanCloseOpen</th>\n",
              "    </tr>\n",
              "  </thead>\n",
              "  <tbody>\n",
              "    <tr>\n",
              "      <th>0</th>\n",
              "      <td>0</td>\n",
              "      <td>2022-07-25 13:00:00</td>\n",
              "      <td>1.02427</td>\n",
              "      <td>1.02430</td>\n",
              "      <td>1.02145</td>\n",
              "      <td>1.02345</td>\n",
              "      <td>3927</td>\n",
              "      <td>8</td>\n",
              "      <td>0</td>\n",
              "      <td>1.023860</td>\n",
              "      <td>-0.00046</td>\n",
              "      <td>-0.00082</td>\n",
              "      <td>-0.000640</td>\n",
              "    </tr>\n",
              "    <tr>\n",
              "      <th>1</th>\n",
              "      <td>1</td>\n",
              "      <td>2022-07-25 14:00:00</td>\n",
              "      <td>1.02345</td>\n",
              "      <td>1.02578</td>\n",
              "      <td>1.02288</td>\n",
              "      <td>1.02299</td>\n",
              "      <td>5344</td>\n",
              "      <td>8</td>\n",
              "      <td>0</td>\n",
              "      <td>1.023220</td>\n",
              "      <td>-0.00046</td>\n",
              "      <td>-0.00082</td>\n",
              "      <td>-0.000640</td>\n",
              "    </tr>\n",
              "    <tr>\n",
              "      <th>2</th>\n",
              "      <td>2</td>\n",
              "      <td>2022-07-25 15:00:00</td>\n",
              "      <td>1.02303</td>\n",
              "      <td>1.02476</td>\n",
              "      <td>1.02230</td>\n",
              "      <td>1.02457</td>\n",
              "      <td>5524</td>\n",
              "      <td>8</td>\n",
              "      <td>0</td>\n",
              "      <td>1.023800</td>\n",
              "      <td>0.00158</td>\n",
              "      <td>-0.00042</td>\n",
              "      <td>0.000580</td>\n",
              "    </tr>\n",
              "    <tr>\n",
              "      <th>3</th>\n",
              "      <td>3</td>\n",
              "      <td>2022-07-25 16:00:00</td>\n",
              "      <td>1.02454</td>\n",
              "      <td>1.02548</td>\n",
              "      <td>1.02355</td>\n",
              "      <td>1.02485</td>\n",
              "      <td>5234</td>\n",
              "      <td>8</td>\n",
              "      <td>0</td>\n",
              "      <td>1.024695</td>\n",
              "      <td>0.00028</td>\n",
              "      <td>0.00151</td>\n",
              "      <td>0.000895</td>\n",
              "    </tr>\n",
              "    <tr>\n",
              "      <th>4</th>\n",
              "      <td>4</td>\n",
              "      <td>2022-07-25 17:00:00</td>\n",
              "      <td>1.02485</td>\n",
              "      <td>1.02514</td>\n",
              "      <td>1.02030</td>\n",
              "      <td>1.02181</td>\n",
              "      <td>9031</td>\n",
              "      <td>7</td>\n",
              "      <td>0</td>\n",
              "      <td>1.023330</td>\n",
              "      <td>-0.00304</td>\n",
              "      <td>0.00031</td>\n",
              "      <td>-0.001365</td>\n",
              "    </tr>\n",
              "  </tbody>\n",
              "</table>\n",
              "</div>"
            ],
            "text/plain": [
              "   Unnamed: 0                 time     open     high      low    close  \\\n",
              "0           0  2022-07-25 13:00:00  1.02427  1.02430  1.02145  1.02345   \n",
              "1           1  2022-07-25 14:00:00  1.02345  1.02578  1.02288  1.02299   \n",
              "2           2  2022-07-25 15:00:00  1.02303  1.02476  1.02230  1.02457   \n",
              "3           3  2022-07-25 16:00:00  1.02454  1.02548  1.02355  1.02485   \n",
              "4           4  2022-07-25 17:00:00  1.02485  1.02514  1.02030  1.02181   \n",
              "\n",
              "   tick_volume  spread  real_volume  MeanCloseOpen  Diff_Close  Diff_Open  \\\n",
              "0         3927       8            0       1.023860    -0.00046   -0.00082   \n",
              "1         5344       8            0       1.023220    -0.00046   -0.00082   \n",
              "2         5524       8            0       1.023800     0.00158   -0.00042   \n",
              "3         5234       8            0       1.024695     0.00028    0.00151   \n",
              "4         9031       7            0       1.023330    -0.00304    0.00031   \n",
              "\n",
              "   Diff_MeanCloseOpen  \n",
              "0           -0.000640  \n",
              "1           -0.000640  \n",
              "2            0.000580  \n",
              "3            0.000895  \n",
              "4           -0.001365  "
            ]
          },
          "execution_count": 2,
          "metadata": {},
          "output_type": "execute_result"
        }
      ],
      "source": [
        "path = \"https://raw.githubusercontent.com/hernansalinas/Curso_aprendizaje_estadistico/main/datasets/Pandas_data_historical_dataEURUSD.csv\"\n",
        "df = pd.read_csv(f\"{path}\")\n",
        "df.head()"
      ]
    },
    {
      "cell_type": "code",
      "execution_count": 3,
      "metadata": {},
      "outputs": [
        {
          "data": {
            "text/plain": [
              "pandas.core.series.Series"
            ]
          },
          "execution_count": 3,
          "metadata": {},
          "output_type": "execute_result"
        }
      ],
      "source": [
        "type(df.time)"
      ]
    },
    {
      "cell_type": "code",
      "execution_count": 4,
      "metadata": {},
      "outputs": [
        {
          "data": {
            "text/plain": [
              "Int64Index([25, 25, 25, 25, 25, 25, 25, 25, 25, 25,\n",
              "            ...\n",
              "            12, 12, 12, 12, 12, 12, 12, 12, 12, 12],\n",
              "           dtype='int64', name='time', length=5000)"
            ]
          },
          "execution_count": 4,
          "metadata": {},
          "output_type": "execute_result"
        }
      ],
      "source": [
        "df.index = pd.to_datetime(pd.to_datetime(df.time))\n",
        "df.drop(columns=[\"Unnamed: 0\", \"time\"], inplace=True)\n",
        "df.index.day"
      ]
    },
    {
      "cell_type": "markdown",
      "metadata": {},
      "source": [
        "## Series de tiempo\n",
        "\n",
        "El siguiente [dataset](https://raw.githubusercontent.com/hernansalinas/Curso_aprendizaje_estadistico/main/datasets/Pandas_data_historical_dataEURUSD.csv) contiene información del precio del eur/usd  desde el 05/07/2022/ hasta el 12/05/2023 con periodicidad de una hora. El data frame contiene el precio de apertura, cierrre, valor más bajo cotizado, valor más alto cotizado, volumen, spread etc. Para este dataset, realizar lo siguiente:\n",
        "\n",
        "\n",
        "1. Leer el dataset desde el github.\n",
        "2. Definir como indice la columna time.\n",
        "3. Obtenga información del data frame.\n",
        "\n",
        "4. Determine si hay null, nan en el data frame."
      ]
    },
    {
      "cell_type": "code",
      "execution_count": 6,
      "metadata": {},
      "outputs": [
        {
          "name": "stdout",
          "output_type": "stream",
          "text": [
            "<class 'pandas.core.frame.DataFrame'>\n",
            "DatetimeIndex: 5000 entries, 2022-07-25 13:00:00 to 2023-05-12 23:00:00\n",
            "Data columns (total 11 columns):\n",
            " #   Column              Non-Null Count  Dtype  \n",
            "---  ------              --------------  -----  \n",
            " 0   open                5000 non-null   float64\n",
            " 1   high                5000 non-null   float64\n",
            " 2   low                 5000 non-null   float64\n",
            " 3   close               5000 non-null   float64\n",
            " 4   tick_volume         5000 non-null   int64  \n",
            " 5   spread              5000 non-null   int64  \n",
            " 6   real_volume         5000 non-null   int64  \n",
            " 7   MeanCloseOpen       5000 non-null   float64\n",
            " 8   Diff_Close          5000 non-null   float64\n",
            " 9   Diff_Open           5000 non-null   float64\n",
            " 10  Diff_MeanCloseOpen  5000 non-null   float64\n",
            "dtypes: float64(8), int64(3)\n",
            "memory usage: 468.8 KB\n"
          ]
        }
      ],
      "source": [
        "df.info()"
      ]
    },
    {
      "cell_type": "code",
      "execution_count": 10,
      "metadata": {},
      "outputs": [
        {
          "data": {
            "text/plain": [
              "open                  0\n",
              "high                  0\n",
              "low                   0\n",
              "close                 0\n",
              "tick_volume           0\n",
              "spread                0\n",
              "real_volume           0\n",
              "MeanCloseOpen         0\n",
              "Diff_Close            0\n",
              "Diff_Open             0\n",
              "Diff_MeanCloseOpen    0\n",
              "dtype: int64"
            ]
          },
          "execution_count": 10,
          "metadata": {},
          "output_type": "execute_result"
        }
      ],
      "source": [
        "df.isna().sum()"
      ]
    },
    {
      "cell_type": "code",
      "execution_count": 11,
      "metadata": {},
      "outputs": [
        {
          "data": {
            "text/plain": [
              "open                  0\n",
              "high                  0\n",
              "low                   0\n",
              "close                 0\n",
              "tick_volume           0\n",
              "spread                0\n",
              "real_volume           0\n",
              "MeanCloseOpen         0\n",
              "Diff_Close            0\n",
              "Diff_Open             0\n",
              "Diff_MeanCloseOpen    0\n",
              "dtype: int64"
            ]
          },
          "execution_count": 11,
          "metadata": {},
          "output_type": "execute_result"
        }
      ],
      "source": [
        "df.isnull().sum()"
      ]
    },
    {
      "cell_type": "markdown",
      "metadata": {},
      "source": [
        "### No hay datos NULL ni NAN"
      ]
    },
    {
      "cell_type": "markdown",
      "metadata": {},
      "source": [
        "\n",
        "5. Emplea la notacion Pascal Case y trabaja solo con la columa del precio de cierre del eur/usd.  \n",
        "\n",
        "6. Ahora vamos a determinar cual es la mejor distribución estadística que se ajusta a la diferencia del precio de cierre cada hora, para ello realizamos lo siguiente:\n",
        "- Determine la diferencia de precio entre horas, agregue una nueva columna llamada DiffPrice, en este punto tu dataframe debe tener solo dos columnas Close, DiffPrice y el indice debe ser el tiempo.\n",
        "- Para la nueva columna construya un histograma de los datos.\n",
        "- Determine la mejor distribucion estadística que se ajusta al histograma anterior, para ello puede emplear lo siguente:"
      ]
    },
    {
      "cell_type": "code",
      "execution_count": 12,
      "metadata": {},
      "outputs": [
        {
          "data": {
            "text/html": [
              "<div>\n",
              "<style scoped>\n",
              "    .dataframe tbody tr th:only-of-type {\n",
              "        vertical-align: middle;\n",
              "    }\n",
              "\n",
              "    .dataframe tbody tr th {\n",
              "        vertical-align: top;\n",
              "    }\n",
              "\n",
              "    .dataframe thead th {\n",
              "        text-align: right;\n",
              "    }\n",
              "</style>\n",
              "<table border=\"1\" class=\"dataframe\">\n",
              "  <thead>\n",
              "    <tr style=\"text-align: right;\">\n",
              "      <th></th>\n",
              "      <th>open</th>\n",
              "      <th>high</th>\n",
              "      <th>low</th>\n",
              "      <th>close</th>\n",
              "      <th>tick_volume</th>\n",
              "      <th>spread</th>\n",
              "      <th>real_volume</th>\n",
              "      <th>MeanCloseOpen</th>\n",
              "      <th>Diff_Close</th>\n",
              "      <th>Diff_Open</th>\n",
              "      <th>Diff_MeanCloseOpen</th>\n",
              "    </tr>\n",
              "    <tr>\n",
              "      <th>time</th>\n",
              "      <th></th>\n",
              "      <th></th>\n",
              "      <th></th>\n",
              "      <th></th>\n",
              "      <th></th>\n",
              "      <th></th>\n",
              "      <th></th>\n",
              "      <th></th>\n",
              "      <th></th>\n",
              "      <th></th>\n",
              "      <th></th>\n",
              "    </tr>\n",
              "  </thead>\n",
              "  <tbody>\n",
              "    <tr>\n",
              "      <th>2022-07-25 13:00:00</th>\n",
              "      <td>1.02427</td>\n",
              "      <td>1.02430</td>\n",
              "      <td>1.02145</td>\n",
              "      <td>1.02345</td>\n",
              "      <td>3927</td>\n",
              "      <td>8</td>\n",
              "      <td>0</td>\n",
              "      <td>1.023860</td>\n",
              "      <td>-0.00046</td>\n",
              "      <td>-0.00082</td>\n",
              "      <td>-0.000640</td>\n",
              "    </tr>\n",
              "    <tr>\n",
              "      <th>2022-07-25 14:00:00</th>\n",
              "      <td>1.02345</td>\n",
              "      <td>1.02578</td>\n",
              "      <td>1.02288</td>\n",
              "      <td>1.02299</td>\n",
              "      <td>5344</td>\n",
              "      <td>8</td>\n",
              "      <td>0</td>\n",
              "      <td>1.023220</td>\n",
              "      <td>-0.00046</td>\n",
              "      <td>-0.00082</td>\n",
              "      <td>-0.000640</td>\n",
              "    </tr>\n",
              "    <tr>\n",
              "      <th>2022-07-25 15:00:00</th>\n",
              "      <td>1.02303</td>\n",
              "      <td>1.02476</td>\n",
              "      <td>1.02230</td>\n",
              "      <td>1.02457</td>\n",
              "      <td>5524</td>\n",
              "      <td>8</td>\n",
              "      <td>0</td>\n",
              "      <td>1.023800</td>\n",
              "      <td>0.00158</td>\n",
              "      <td>-0.00042</td>\n",
              "      <td>0.000580</td>\n",
              "    </tr>\n",
              "    <tr>\n",
              "      <th>2022-07-25 16:00:00</th>\n",
              "      <td>1.02454</td>\n",
              "      <td>1.02548</td>\n",
              "      <td>1.02355</td>\n",
              "      <td>1.02485</td>\n",
              "      <td>5234</td>\n",
              "      <td>8</td>\n",
              "      <td>0</td>\n",
              "      <td>1.024695</td>\n",
              "      <td>0.00028</td>\n",
              "      <td>0.00151</td>\n",
              "      <td>0.000895</td>\n",
              "    </tr>\n",
              "    <tr>\n",
              "      <th>2022-07-25 17:00:00</th>\n",
              "      <td>1.02485</td>\n",
              "      <td>1.02514</td>\n",
              "      <td>1.02030</td>\n",
              "      <td>1.02181</td>\n",
              "      <td>9031</td>\n",
              "      <td>7</td>\n",
              "      <td>0</td>\n",
              "      <td>1.023330</td>\n",
              "      <td>-0.00304</td>\n",
              "      <td>0.00031</td>\n",
              "      <td>-0.001365</td>\n",
              "    </tr>\n",
              "  </tbody>\n",
              "</table>\n",
              "</div>"
            ],
            "text/plain": [
              "                        open     high      low    close  tick_volume  spread  \\\n",
              "time                                                                           \n",
              "2022-07-25 13:00:00  1.02427  1.02430  1.02145  1.02345         3927       8   \n",
              "2022-07-25 14:00:00  1.02345  1.02578  1.02288  1.02299         5344       8   \n",
              "2022-07-25 15:00:00  1.02303  1.02476  1.02230  1.02457         5524       8   \n",
              "2022-07-25 16:00:00  1.02454  1.02548  1.02355  1.02485         5234       8   \n",
              "2022-07-25 17:00:00  1.02485  1.02514  1.02030  1.02181         9031       7   \n",
              "\n",
              "                     real_volume  MeanCloseOpen  Diff_Close  Diff_Open  \\\n",
              "time                                                                     \n",
              "2022-07-25 13:00:00            0       1.023860    -0.00046   -0.00082   \n",
              "2022-07-25 14:00:00            0       1.023220    -0.00046   -0.00082   \n",
              "2022-07-25 15:00:00            0       1.023800     0.00158   -0.00042   \n",
              "2022-07-25 16:00:00            0       1.024695     0.00028    0.00151   \n",
              "2022-07-25 17:00:00            0       1.023330    -0.00304    0.00031   \n",
              "\n",
              "                     Diff_MeanCloseOpen  \n",
              "time                                     \n",
              "2022-07-25 13:00:00           -0.000640  \n",
              "2022-07-25 14:00:00           -0.000640  \n",
              "2022-07-25 15:00:00            0.000580  \n",
              "2022-07-25 16:00:00            0.000895  \n",
              "2022-07-25 17:00:00           -0.001365  "
            ]
          },
          "execution_count": 12,
          "metadata": {},
          "output_type": "execute_result"
        }
      ],
      "source": [
        "df.head()"
      ]
    },
    {
      "cell_type": "code",
      "execution_count": 15,
      "metadata": {},
      "outputs": [
        {
          "data": {
            "text/plain": [
              "Index(['Open', 'High', 'Low', 'Close', 'Tick_Volume', 'Spread', 'Real_Volume',\n",
              "       'Meancloseopen', 'Diff_Close', 'Diff_Open', 'Diff_Meancloseopen'],\n",
              "      dtype='object')"
            ]
          },
          "execution_count": 15,
          "metadata": {},
          "output_type": "execute_result"
        }
      ],
      "source": [
        "df.columns = df.columns.str.title()\n",
        "df.columns"
      ]
    },
    {
      "cell_type": "code",
      "execution_count": 21,
      "metadata": {},
      "outputs": [
        {
          "data": {
            "text/plain": [
              "Index(['Open', 'High', 'Low', 'Close', 'TickVolume', 'Spread', 'RealVolume',\n",
              "       'Meancloseopen', 'DiffClose', 'DiffOpen', 'DiffMeancloseopen'],\n",
              "      dtype='object')"
            ]
          },
          "execution_count": 21,
          "metadata": {},
          "output_type": "execute_result"
        }
      ],
      "source": [
        "df.columns = df.columns.str.replace(\"_\", \"\")\n",
        "df.columns"
      ]
    },
    {
      "cell_type": "code",
      "execution_count": 19,
      "metadata": {},
      "outputs": [
        {
          "data": {
            "text/plain": [
              "pandas.core.indexes.datetimes.DatetimeIndex"
            ]
          },
          "execution_count": 19,
          "metadata": {},
          "output_type": "execute_result"
        }
      ],
      "source": [
        "type(df.index)"
      ]
    },
    {
      "cell_type": "code",
      "execution_count": 45,
      "metadata": {},
      "outputs": [
        {
          "data": {
            "text/html": [
              "<div>\n",
              "<style scoped>\n",
              "    .dataframe tbody tr th:only-of-type {\n",
              "        vertical-align: middle;\n",
              "    }\n",
              "\n",
              "    .dataframe tbody tr th {\n",
              "        vertical-align: top;\n",
              "    }\n",
              "\n",
              "    .dataframe thead th {\n",
              "        text-align: right;\n",
              "    }\n",
              "</style>\n",
              "<table border=\"1\" class=\"dataframe\">\n",
              "  <thead>\n",
              "    <tr style=\"text-align: right;\">\n",
              "      <th></th>\n",
              "      <th>Close</th>\n",
              "    </tr>\n",
              "    <tr>\n",
              "      <th>time</th>\n",
              "      <th></th>\n",
              "    </tr>\n",
              "  </thead>\n",
              "  <tbody>\n",
              "    <tr>\n",
              "      <th>2022-07-25 13:00:00</th>\n",
              "      <td>1.02345</td>\n",
              "    </tr>\n",
              "    <tr>\n",
              "      <th>2022-07-25 14:00:00</th>\n",
              "      <td>1.02299</td>\n",
              "    </tr>\n",
              "    <tr>\n",
              "      <th>2022-07-25 15:00:00</th>\n",
              "      <td>1.02457</td>\n",
              "    </tr>\n",
              "    <tr>\n",
              "      <th>2022-07-25 16:00:00</th>\n",
              "      <td>1.02485</td>\n",
              "    </tr>\n",
              "    <tr>\n",
              "      <th>2022-07-25 17:00:00</th>\n",
              "      <td>1.02181</td>\n",
              "    </tr>\n",
              "  </tbody>\n",
              "</table>\n",
              "</div>"
            ],
            "text/plain": [
              "                       Close\n",
              "time                        \n",
              "2022-07-25 13:00:00  1.02345\n",
              "2022-07-25 14:00:00  1.02299\n",
              "2022-07-25 15:00:00  1.02457\n",
              "2022-07-25 16:00:00  1.02485\n",
              "2022-07-25 17:00:00  1.02181"
            ]
          },
          "execution_count": 45,
          "metadata": {},
          "output_type": "execute_result"
        }
      ],
      "source": [
        "df_close = df[[\"Close\"]]\n",
        "df_close.head()"
      ]
    },
    {
      "cell_type": "code",
      "execution_count": 46,
      "metadata": {},
      "outputs": [
        {
          "data": {
            "image/png": "[encoded data removed]",
            "text/plain": [
              "<Figure size 720x432 with 1 Axes>"
            ]
          },
          "metadata": {
            "needs_background": "light"
          },
          "output_type": "display_data"
        }
      ],
      "source": [
        "plt.figure(figsize=(10, 6))\n",
        "plt.plot(df_close)\n",
        "plt.grid()"
      ]
    },
    {
      "cell_type": "code",
      "execution_count": 48,
      "metadata": {},
      "outputs": [
        {
          "data": {
            "text/html": [
              "<div>\n",
              "<style scoped>\n",
              "    .dataframe tbody tr th:only-of-type {\n",
              "        vertical-align: middle;\n",
              "    }\n",
              "\n",
              "    .dataframe tbody tr th {\n",
              "        vertical-align: top;\n",
              "    }\n",
              "\n",
              "    .dataframe thead th {\n",
              "        text-align: right;\n",
              "    }\n",
              "</style>\n",
              "<table border=\"1\" class=\"dataframe\">\n",
              "  <thead>\n",
              "    <tr style=\"text-align: right;\">\n",
              "      <th></th>\n",
              "      <th>Close</th>\n",
              "    </tr>\n",
              "    <tr>\n",
              "      <th>time</th>\n",
              "      <th></th>\n",
              "    </tr>\n",
              "  </thead>\n",
              "  <tbody>\n",
              "    <tr>\n",
              "      <th>2022-07-25 13:00:00</th>\n",
              "      <td>NaN</td>\n",
              "    </tr>\n",
              "    <tr>\n",
              "      <th>2022-07-25 14:00:00</th>\n",
              "      <td>-0.00046</td>\n",
              "    </tr>\n",
              "    <tr>\n",
              "      <th>2022-07-25 15:00:00</th>\n",
              "      <td>0.00158</td>\n",
              "    </tr>\n",
              "    <tr>\n",
              "      <th>2022-07-25 16:00:00</th>\n",
              "      <td>0.00028</td>\n",
              "    </tr>\n",
              "    <tr>\n",
              "      <th>2022-07-25 17:00:00</th>\n",
              "      <td>-0.00304</td>\n",
              "    </tr>\n",
              "    <tr>\n",
              "      <th>...</th>\n",
              "      <td>...</td>\n",
              "    </tr>\n",
              "    <tr>\n",
              "      <th>2023-05-12 19:00:00</th>\n",
              "      <td>-0.00038</td>\n",
              "    </tr>\n",
              "    <tr>\n",
              "      <th>2023-05-12 20:00:00</th>\n",
              "      <td>0.00032</td>\n",
              "    </tr>\n",
              "    <tr>\n",
              "      <th>2023-05-12 21:00:00</th>\n",
              "      <td>-0.00015</td>\n",
              "    </tr>\n",
              "    <tr>\n",
              "      <th>2023-05-12 22:00:00</th>\n",
              "      <td>-0.00013</td>\n",
              "    </tr>\n",
              "    <tr>\n",
              "      <th>2023-05-12 23:00:00</th>\n",
              "      <td>-0.00024</td>\n",
              "    </tr>\n",
              "  </tbody>\n",
              "</table>\n",
              "<p>5000 rows × 1 columns</p>\n",
              "</div>"
            ],
            "text/plain": [
              "                       Close\n",
              "time                        \n",
              "2022-07-25 13:00:00      NaN\n",
              "2022-07-25 14:00:00 -0.00046\n",
              "2022-07-25 15:00:00  0.00158\n",
              "2022-07-25 16:00:00  0.00028\n",
              "2022-07-25 17:00:00 -0.00304\n",
              "...                      ...\n",
              "2023-05-12 19:00:00 -0.00038\n",
              "2023-05-12 20:00:00  0.00032\n",
              "2023-05-12 21:00:00 -0.00015\n",
              "2023-05-12 22:00:00 -0.00013\n",
              "2023-05-12 23:00:00 -0.00024\n",
              "\n",
              "[5000 rows x 1 columns]"
            ]
          },
          "execution_count": 48,
          "metadata": {},
          "output_type": "execute_result"
        }
      ],
      "source": [
        "df_close.diff(1)"
      ]
    },
    {
      "cell_type": "code",
      "execution_count": 52,
      "metadata": {},
      "outputs": [
        {
          "data": {
            "text/plain": [
              "Text(0, 0.5, 'Frecuencia ($F$)')"
            ]
          },
          "execution_count": 52,
          "metadata": {},
          "output_type": "execute_result"
        },
        {
          "data": {
            "image/png": "[encoded data removed]",
            "text/plain": [
              "<Figure size 432x288 with 1 Axes>"
            ]
          },
          "metadata": {
            "needs_background": "light"
          },
          "output_type": "display_data"
        }
      ],
      "source": [
        "df_close.diff(1)[1:].hist(bins=50)\n",
        "plt.xlabel(r\"Variación en el precio ($\\Delta P$)\")\n",
        "plt.ylabel(r\"Frecuencia ($F$)\")"
      ]
    },
    {
      "cell_type": "code",
      "execution_count": 37,
      "metadata": {},
      "outputs": [
        {
          "name": "stdout",
          "output_type": "stream",
          "text": [
            "11\n"
          ]
        }
      ],
      "source": [
        "df_month = df_close.resample(\"M\").mean()\n",
        "print(df_month.size)"
      ]
    },
    {
      "cell_type": "code",
      "execution_count": 40,
      "metadata": {},
      "outputs": [
        {
          "name": "stdout",
          "output_type": "stream",
          "text": [
            "305\n"
          ]
        }
      ],
      "source": [
        "df_day = df_close.resample(\"D\").mean()\n",
        "print(df_day.size)"
      ]
    },
    {
      "cell_type": "code",
      "execution_count": 44,
      "metadata": {},
      "outputs": [
        {
          "data": {
            "text/plain": [
              "time\n",
              "2022-07-31    1.018298\n",
              "2022-08-01         NaN\n",
              "2022-08-02         NaN\n",
              "2022-08-03         NaN\n",
              "2022-08-04         NaN\n",
              "Freq: D, Name: Close, dtype: float64"
            ]
          },
          "execution_count": 44,
          "metadata": {},
          "output_type": "execute_result"
        }
      ],
      "source": [
        "df_day.head()"
      ]
    },
    {
      "cell_type": "code",
      "execution_count": null,
      "metadata": {},
      "outputs": [],
      "source": []
    },
    {
      "cell_type": "code",
      "execution_count": 54,
      "metadata": {},
      "outputs": [
        {
          "ename": "ModuleNotFoundError",
          "evalue": "No module named 'fitter'",
          "output_type": "error",
          "traceback": [
            "\u001b[0;31m---------------------------------------------------------------------------\u001b[0m",
            "\u001b[0;31mModuleNotFoundError\u001b[0m                       Traceback (most recent call last)",
            "\u001b[0;32m/tmp/ipykernel_10765/2657946799.py\u001b[0m in \u001b[0;36m<module>\u001b[0;34m\u001b[0m\n\u001b[0;32m----> 1\u001b[0;31m \u001b[0;32mfrom\u001b[0m \u001b[0mfitter\u001b[0m \u001b[0;32mimport\u001b[0m \u001b[0mFitter\u001b[0m\u001b[0;34m,\u001b[0m \u001b[0mget_common_distributions\u001b[0m\u001b[0;34m,\u001b[0m \u001b[0mget_distributions\u001b[0m\u001b[0;34m\u001b[0m\u001b[0;34m\u001b[0m\u001b[0m\n\u001b[0m\u001b[1;32m      2\u001b[0m \u001b[0;34m\u001b[0m\u001b[0m\n\u001b[1;32m      3\u001b[0m f = Fitter(data,\n\u001b[1;32m      4\u001b[0m            distributions=['gamma',\n\u001b[1;32m      5\u001b[0m                           \u001b[0;34m'lognorm'\u001b[0m\u001b[0;34m,\u001b[0m\u001b[0;34m\u001b[0m\u001b[0;34m\u001b[0m\u001b[0m\n",
            "\u001b[0;31mModuleNotFoundError\u001b[0m: No module named 'fitter'"
          ]
        }
      ],
      "source": [
        "from fitter import Fitter, get_common_distributions, get_distributions\n",
        "\n",
        "f = Fitter(data,\n",
        "           distributions=['gamma',\n",
        "                          'lognorm',\n",
        "                          \"beta\",\n",
        "                          \"burr\",\n",
        "                          \"norm\"])\n",
        "f.fit()\n",
        "f.summary()\n",
        "#Indentificamos la mejor distribucion con el error cuadratico medio\n",
        "f.get_best(method = 'sumsquare_error')\n",
        "#Indentificamos parametros de la distrubicion beta\n",
        "f.fitted_param[\"beta\"]\n",
        "\n",
        "\"\"\"\n",
        "Con el metodo get_distributions(), podemos ver todas las distribuciones estadisticas de la libreria.\n",
        "Ajusta a la mejor.  Puede consultar [esta]\n",
        "(https://medium.com/the-researchers-guide/finding-the-best-distribution-that-fits-your-data-using-pythons-fitter-library-319a5a0972e9)\n",
        "página si desea ver un ejemplo.\n",
        "\"\"\"\n",
        "\n"
      ]
    },
    {
      "cell_type": "code",
      "execution_count": null,
      "metadata": {},
      "outputs": [],
      "source": []
    }
  ],
  "metadata": {
    "colab": {
      "provenance": []
    },
    "kernelspec": {
      "display_name": "Python 3 (ipykernel)",
      "language": "python",
      "name": "python3"
    },
    "language_info": {
      "codemirror_mode": {
        "name": "ipython",
        "version": 3
      },
      "file_extension": ".py",
      "mimetype": "text/x-python",
      "name": "python",
      "nbconvert_exporter": "python",
      "pygments_lexer": "ipython3",
      "version": "3.9.7"
    }
  },
  "nbformat": 4,
  "nbformat_minor": 0
}
