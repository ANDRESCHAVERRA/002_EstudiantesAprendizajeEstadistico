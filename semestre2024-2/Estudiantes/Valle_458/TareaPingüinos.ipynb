{
  "nbformat": 4,
  "nbformat_minor": 0,
  "metadata": {
    "colab": {
      "provenance": []
    },
    "kernelspec": {
      "name": "python3",
      "display_name": "Python 3"
    },
    "language_info": {
      "name": "python"
    }
  },
  "cells": [
    {
      "cell_type": "code",
      "execution_count": 139,
      "metadata": {
        "colab": {
          "base_uri": "https://localhost:8080/",
          "height": 424
        },
        "id": "1ukJIOjTuyaQ",
        "outputId": "7563ed80-0fe1-467f-be07-a18a4d8d3ae1"
      },
      "outputs": [
        {
          "output_type": "execute_result",
          "data": {
            "text/plain": [
              "    species     island  bill_length_mm  bill_depth_mm  flipper_length_mm  \\\n",
              "0    Adelie  Torgersen            39.1           18.7              181.0   \n",
              "1    Adelie  Torgersen            39.5           17.4              186.0   \n",
              "2    Adelie  Torgersen            40.3           18.0              195.0   \n",
              "3    Adelie  Torgersen             NaN            NaN                NaN   \n",
              "4    Adelie  Torgersen            36.7           19.3              193.0   \n",
              "..      ...        ...             ...            ...                ...   \n",
              "339  Gentoo     Biscoe             NaN            NaN                NaN   \n",
              "340  Gentoo     Biscoe            46.8           14.3              215.0   \n",
              "341  Gentoo     Biscoe            50.4           15.7              222.0   \n",
              "342  Gentoo     Biscoe            45.2           14.8              212.0   \n",
              "343  Gentoo     Biscoe            49.9           16.1              213.0   \n",
              "\n",
              "     body_mass_g     sex  \n",
              "0         3750.0    Male  \n",
              "1         3800.0  Female  \n",
              "2         3250.0  Female  \n",
              "3            NaN     NaN  \n",
              "4         3450.0  Female  \n",
              "..           ...     ...  \n",
              "339          NaN     NaN  \n",
              "340       4850.0  Female  \n",
              "341       5750.0    Male  \n",
              "342       5200.0  Female  \n",
              "343       5400.0    Male  \n",
              "\n",
              "[344 rows x 7 columns]"
            ],
            "text/html": [
              "\n",
              "  <div id=\"df-753f6069-f85a-40c8-9dcf-593f39a9a1b4\" class=\"colab-df-container\">\n",
              "    <div>\n",
              "<style scoped>\n",
              "    .dataframe tbody tr th:only-of-type {\n",
              "        vertical-align: middle;\n",
              "    }\n",
              "\n",
              "    .dataframe tbody tr th {\n",
              "        vertical-align: top;\n",
              "    }\n",
              "\n",
              "    .dataframe thead th {\n",
              "        text-align: right;\n",
              "    }\n",
              "</style>\n",
              "<table border=\"1\" class=\"dataframe\">\n",
              "  <thead>\n",
              "    <tr style=\"text-align: right;\">\n",
              "      <th></th>\n",
              "      <th>species</th>\n",
              "      <th>island</th>\n",
              "      <th>bill_length_mm</th>\n",
              "      <th>bill_depth_mm</th>\n",
              "      <th>flipper_length_mm</th>\n",
              "      <th>body_mass_g</th>\n",
              "      <th>sex</th>\n",
              "    </tr>\n",
              "  </thead>\n",
              "  <tbody>\n",
              "    <tr>\n",
              "      <th>0</th>\n",
              "      <td>Adelie</td>\n",
              "      <td>Torgersen</td>\n",
              "      <td>39.1</td>\n",
              "      <td>18.7</td>\n",
              "      <td>181.0</td>\n",
              "      <td>3750.0</td>\n",
              "      <td>Male</td>\n",
              "    </tr>\n",
              "    <tr>\n",
              "      <th>1</th>\n",
              "      <td>Adelie</td>\n",
              "      <td>Torgersen</td>\n",
              "      <td>39.5</td>\n",
              "      <td>17.4</td>\n",
              "      <td>186.0</td>\n",
              "      <td>3800.0</td>\n",
              "      <td>Female</td>\n",
              "    </tr>\n",
              "    <tr>\n",
              "      <th>2</th>\n",
              "      <td>Adelie</td>\n",
              "      <td>Torgersen</td>\n",
              "      <td>40.3</td>\n",
              "      <td>18.0</td>\n",
              "      <td>195.0</td>\n",
              "      <td>3250.0</td>\n",
              "      <td>Female</td>\n",
              "    </tr>\n",
              "    <tr>\n",
              "      <th>3</th>\n",
              "      <td>Adelie</td>\n",
              "      <td>Torgersen</td>\n",
              "      <td>NaN</td>\n",
              "      <td>NaN</td>\n",
              "      <td>NaN</td>\n",
              "      <td>NaN</td>\n",
              "      <td>NaN</td>\n",
              "    </tr>\n",
              "    <tr>\n",
              "      <th>4</th>\n",
              "      <td>Adelie</td>\n",
              "      <td>Torgersen</td>\n",
              "      <td>36.7</td>\n",
              "      <td>19.3</td>\n",
              "      <td>193.0</td>\n",
              "      <td>3450.0</td>\n",
              "      <td>Female</td>\n",
              "    </tr>\n",
              "    <tr>\n",
              "      <th>...</th>\n",
              "      <td>...</td>\n",
              "      <td>...</td>\n",
              "      <td>...</td>\n",
              "      <td>...</td>\n",
              "      <td>...</td>\n",
              "      <td>...</td>\n",
              "      <td>...</td>\n",
              "    </tr>\n",
              "    <tr>\n",
              "      <th>339</th>\n",
              "      <td>Gentoo</td>\n",
              "      <td>Biscoe</td>\n",
              "      <td>NaN</td>\n",
              "      <td>NaN</td>\n",
              "      <td>NaN</td>\n",
              "      <td>NaN</td>\n",
              "      <td>NaN</td>\n",
              "    </tr>\n",
              "    <tr>\n",
              "      <th>340</th>\n",
              "      <td>Gentoo</td>\n",
              "      <td>Biscoe</td>\n",
              "      <td>46.8</td>\n",
              "      <td>14.3</td>\n",
              "      <td>215.0</td>\n",
              "      <td>4850.0</td>\n",
              "      <td>Female</td>\n",
              "    </tr>\n",
              "    <tr>\n",
              "      <th>341</th>\n",
              "      <td>Gentoo</td>\n",
              "      <td>Biscoe</td>\n",
              "      <td>50.4</td>\n",
              "      <td>15.7</td>\n",
              "      <td>222.0</td>\n",
              "      <td>5750.0</td>\n",
              "      <td>Male</td>\n",
              "    </tr>\n",
              "    <tr>\n",
              "      <th>342</th>\n",
              "      <td>Gentoo</td>\n",
              "      <td>Biscoe</td>\n",
              "      <td>45.2</td>\n",
              "      <td>14.8</td>\n",
              "      <td>212.0</td>\n",
              "      <td>5200.0</td>\n",
              "      <td>Female</td>\n",
              "    </tr>\n",
              "    <tr>\n",
              "      <th>343</th>\n",
              "      <td>Gentoo</td>\n",
              "      <td>Biscoe</td>\n",
              "      <td>49.9</td>\n",
              "      <td>16.1</td>\n",
              "      <td>213.0</td>\n",
              "      <td>5400.0</td>\n",
              "      <td>Male</td>\n",
              "    </tr>\n",
              "  </tbody>\n",
              "</table>\n",
              "<p>344 rows × 7 columns</p>\n",
              "</div>\n",
              "    <div class=\"colab-df-buttons\">\n",
              "\n",
              "  <div class=\"colab-df-container\">\n",
              "    <button class=\"colab-df-convert\" onclick=\"convertToInteractive('df-753f6069-f85a-40c8-9dcf-593f39a9a1b4')\"\n",
              "            title=\"Convert this dataframe to an interactive table.\"\n",
              "            style=\"display:none;\">\n",
              "\n",
              "  <svg xmlns=\"http://www.w3.org/2000/svg\" height=\"24px\" viewBox=\"0 -960 960 960\">\n",
              "    <path d=\"M120-120v-720h720v720H120Zm60-500h600v-160H180v160Zm220 220h160v-160H400v160Zm0 220h160v-160H400v160ZM180-400h160v-160H180v160Zm440 0h160v-160H620v160ZM180-180h160v-160H180v160Zm440 0h160v-160H620v160Z\"/>\n",
              "  </svg>\n",
              "    </button>\n",
              "\n",
              "  <style>\n",
              "    .colab-df-container {\n",
              "      display:flex;\n",
              "      gap: 12px;\n",
              "    }\n",
              "\n",
              "    .colab-df-convert {\n",
              "      background-color: #E8F0FE;\n",
              "      border: none;\n",
              "      border-radius: 50%;\n",
              "      cursor: pointer;\n",
              "      display: none;\n",
              "      fill: #1967D2;\n",
              "      height: 32px;\n",
              "      padding: 0 0 0 0;\n",
              "      width: 32px;\n",
              "    }\n",
              "\n",
              "    .colab-df-convert:hover {\n",
              "      background-color: #E2EBFA;\n",
              "      box-shadow: 0px 1px 2px rgba(60, 64, 67, 0.3), 0px 1px 3px 1px rgba(60, 64, 67, 0.15);\n",
              "      fill: #174EA6;\n",
              "    }\n",
              "\n",
              "    .colab-df-buttons div {\n",
              "      margin-bottom: 4px;\n",
              "    }\n",
              "\n",
              "    [theme=dark] .colab-df-convert {\n",
              "      background-color: #3B4455;\n",
              "      fill: #D2E3FC;\n",
              "    }\n",
              "\n",
              "    [theme=dark] .colab-df-convert:hover {\n",
              "      background-color: #434B5C;\n",
              "      box-shadow: 0px 1px 3px 1px rgba(0, 0, 0, 0.15);\n",
              "      filter: drop-shadow(0px 1px 2px rgba(0, 0, 0, 0.3));\n",
              "      fill: #FFFFFF;\n",
              "    }\n",
              "  </style>\n",
              "\n",
              "    <script>\n",
              "      const buttonEl =\n",
              "        document.querySelector('#df-753f6069-f85a-40c8-9dcf-593f39a9a1b4 button.colab-df-convert');\n",
              "      buttonEl.style.display =\n",
              "        google.colab.kernel.accessAllowed ? 'block' : 'none';\n",
              "\n",
              "      async function convertToInteractive(key) {\n",
              "        const element = document.querySelector('#df-753f6069-f85a-40c8-9dcf-593f39a9a1b4');\n",
              "        const dataTable =\n",
              "          await google.colab.kernel.invokeFunction('convertToInteractive',\n",
              "                                                    [key], {});\n",
              "        if (!dataTable) return;\n",
              "\n",
              "        const docLinkHtml = 'Like what you see? Visit the ' +\n",
              "          '<a target=\"_blank\" href=https://colab.research.google.com/notebooks/data_table.ipynb>data table notebook</a>'\n",
              "          + ' to learn more about interactive tables.';\n",
              "        element.innerHTML = '';\n",
              "        dataTable['output_type'] = 'display_data';\n",
              "        await google.colab.output.renderOutput(dataTable, element);\n",
              "        const docLink = document.createElement('div');\n",
              "        docLink.innerHTML = docLinkHtml;\n",
              "        element.appendChild(docLink);\n",
              "      }\n",
              "    </script>\n",
              "  </div>\n",
              "\n",
              "\n",
              "<div id=\"df-9136412e-a45c-4e87-ad23-6400a2d1e47f\">\n",
              "  <button class=\"colab-df-quickchart\" onclick=\"quickchart('df-9136412e-a45c-4e87-ad23-6400a2d1e47f')\"\n",
              "            title=\"Suggest charts\"\n",
              "            style=\"display:none;\">\n",
              "\n",
              "<svg xmlns=\"http://www.w3.org/2000/svg\" height=\"24px\"viewBox=\"0 0 24 24\"\n",
              "     width=\"24px\">\n",
              "    <g>\n",
              "        <path d=\"M19 3H5c-1.1 0-2 .9-2 2v14c0 1.1.9 2 2 2h14c1.1 0 2-.9 2-2V5c0-1.1-.9-2-2-2zM9 17H7v-7h2v7zm4 0h-2V7h2v10zm4 0h-2v-4h2v4z\"/>\n",
              "    </g>\n",
              "</svg>\n",
              "  </button>\n",
              "\n",
              "<style>\n",
              "  .colab-df-quickchart {\n",
              "      --bg-color: #E8F0FE;\n",
              "      --fill-color: #1967D2;\n",
              "      --hover-bg-color: #E2EBFA;\n",
              "      --hover-fill-color: #174EA6;\n",
              "      --disabled-fill-color: #AAA;\n",
              "      --disabled-bg-color: #DDD;\n",
              "  }\n",
              "\n",
              "  [theme=dark] .colab-df-quickchart {\n",
              "      --bg-color: #3B4455;\n",
              "      --fill-color: #D2E3FC;\n",
              "      --hover-bg-color: #434B5C;\n",
              "      --hover-fill-color: #FFFFFF;\n",
              "      --disabled-bg-color: #3B4455;\n",
              "      --disabled-fill-color: #666;\n",
              "  }\n",
              "\n",
              "  .colab-df-quickchart {\n",
              "    background-color: var(--bg-color);\n",
              "    border: none;\n",
              "    border-radius: 50%;\n",
              "    cursor: pointer;\n",
              "    display: none;\n",
              "    fill: var(--fill-color);\n",
              "    height: 32px;\n",
              "    padding: 0;\n",
              "    width: 32px;\n",
              "  }\n",
              "\n",
              "  .colab-df-quickchart:hover {\n",
              "    background-color: var(--hover-bg-color);\n",
              "    box-shadow: 0 1px 2px rgba(60, 64, 67, 0.3), 0 1px 3px 1px rgba(60, 64, 67, 0.15);\n",
              "    fill: var(--button-hover-fill-color);\n",
              "  }\n",
              "\n",
              "  .colab-df-quickchart-complete:disabled,\n",
              "  .colab-df-quickchart-complete:disabled:hover {\n",
              "    background-color: var(--disabled-bg-color);\n",
              "    fill: var(--disabled-fill-color);\n",
              "    box-shadow: none;\n",
              "  }\n",
              "\n",
              "  .colab-df-spinner {\n",
              "    border: 2px solid var(--fill-color);\n",
              "    border-color: transparent;\n",
              "    border-bottom-color: var(--fill-color);\n",
              "    animation:\n",
              "      spin 1s steps(1) infinite;\n",
              "  }\n",
              "\n",
              "  @keyframes spin {\n",
              "    0% {\n",
              "      border-color: transparent;\n",
              "      border-bottom-color: var(--fill-color);\n",
              "      border-left-color: var(--fill-color);\n",
              "    }\n",
              "    20% {\n",
              "      border-color: transparent;\n",
              "      border-left-color: var(--fill-color);\n",
              "      border-top-color: var(--fill-color);\n",
              "    }\n",
              "    30% {\n",
              "      border-color: transparent;\n",
              "      border-left-color: var(--fill-color);\n",
              "      border-top-color: var(--fill-color);\n",
              "      border-right-color: var(--fill-color);\n",
              "    }\n",
              "    40% {\n",
              "      border-color: transparent;\n",
              "      border-right-color: var(--fill-color);\n",
              "      border-top-color: var(--fill-color);\n",
              "    }\n",
              "    60% {\n",
              "      border-color: transparent;\n",
              "      border-right-color: var(--fill-color);\n",
              "    }\n",
              "    80% {\n",
              "      border-color: transparent;\n",
              "      border-right-color: var(--fill-color);\n",
              "      border-bottom-color: var(--fill-color);\n",
              "    }\n",
              "    90% {\n",
              "      border-color: transparent;\n",
              "      border-bottom-color: var(--fill-color);\n",
              "    }\n",
              "  }\n",
              "</style>\n",
              "\n",
              "  <script>\n",
              "    async function quickchart(key) {\n",
              "      const quickchartButtonEl =\n",
              "        document.querySelector('#' + key + ' button');\n",
              "      quickchartButtonEl.disabled = true;  // To prevent multiple clicks.\n",
              "      quickchartButtonEl.classList.add('colab-df-spinner');\n",
              "      try {\n",
              "        const charts = await google.colab.kernel.invokeFunction(\n",
              "            'suggestCharts', [key], {});\n",
              "      } catch (error) {\n",
              "        console.error('Error during call to suggestCharts:', error);\n",
              "      }\n",
              "      quickchartButtonEl.classList.remove('colab-df-spinner');\n",
              "      quickchartButtonEl.classList.add('colab-df-quickchart-complete');\n",
              "    }\n",
              "    (() => {\n",
              "      let quickchartButtonEl =\n",
              "        document.querySelector('#df-9136412e-a45c-4e87-ad23-6400a2d1e47f button');\n",
              "      quickchartButtonEl.style.display =\n",
              "        google.colab.kernel.accessAllowed ? 'block' : 'none';\n",
              "    })();\n",
              "  </script>\n",
              "</div>\n",
              "\n",
              "  <div id=\"id_9487558f-3555-44e6-a486-83d7d2a1bd2d\">\n",
              "    <style>\n",
              "      .colab-df-generate {\n",
              "        background-color: #E8F0FE;\n",
              "        border: none;\n",
              "        border-radius: 50%;\n",
              "        cursor: pointer;\n",
              "        display: none;\n",
              "        fill: #1967D2;\n",
              "        height: 32px;\n",
              "        padding: 0 0 0 0;\n",
              "        width: 32px;\n",
              "      }\n",
              "\n",
              "      .colab-df-generate:hover {\n",
              "        background-color: #E2EBFA;\n",
              "        box-shadow: 0px 1px 2px rgba(60, 64, 67, 0.3), 0px 1px 3px 1px rgba(60, 64, 67, 0.15);\n",
              "        fill: #174EA6;\n",
              "      }\n",
              "\n",
              "      [theme=dark] .colab-df-generate {\n",
              "        background-color: #3B4455;\n",
              "        fill: #D2E3FC;\n",
              "      }\n",
              "\n",
              "      [theme=dark] .colab-df-generate:hover {\n",
              "        background-color: #434B5C;\n",
              "        box-shadow: 0px 1px 3px 1px rgba(0, 0, 0, 0.15);\n",
              "        filter: drop-shadow(0px 1px 2px rgba(0, 0, 0, 0.3));\n",
              "        fill: #FFFFFF;\n",
              "      }\n",
              "    </style>\n",
              "    <button class=\"colab-df-generate\" onclick=\"generateWithVariable('df')\"\n",
              "            title=\"Generate code using this dataframe.\"\n",
              "            style=\"display:none;\">\n",
              "\n",
              "  <svg xmlns=\"http://www.w3.org/2000/svg\" height=\"24px\"viewBox=\"0 0 24 24\"\n",
              "       width=\"24px\">\n",
              "    <path d=\"M7,19H8.4L18.45,9,17,7.55,7,17.6ZM5,21V16.75L18.45,3.32a2,2,0,0,1,2.83,0l1.4,1.43a1.91,1.91,0,0,1,.58,1.4,1.91,1.91,0,0,1-.58,1.4L9.25,21ZM18.45,9,17,7.55Zm-12,3A5.31,5.31,0,0,0,4.9,8.1,5.31,5.31,0,0,0,1,6.5,5.31,5.31,0,0,0,4.9,4.9,5.31,5.31,0,0,0,6.5,1,5.31,5.31,0,0,0,8.1,4.9,5.31,5.31,0,0,0,12,6.5,5.46,5.46,0,0,0,6.5,12Z\"/>\n",
              "  </svg>\n",
              "    </button>\n",
              "    <script>\n",
              "      (() => {\n",
              "      const buttonEl =\n",
              "        document.querySelector('#id_9487558f-3555-44e6-a486-83d7d2a1bd2d button.colab-df-generate');\n",
              "      buttonEl.style.display =\n",
              "        google.colab.kernel.accessAllowed ? 'block' : 'none';\n",
              "\n",
              "      buttonEl.onclick = () => {\n",
              "        google.colab.notebook.generateWithVariable('df');\n",
              "      }\n",
              "      })();\n",
              "    </script>\n",
              "  </div>\n",
              "\n",
              "    </div>\n",
              "  </div>\n"
            ],
            "application/vnd.google.colaboratory.intrinsic+json": {
              "type": "dataframe",
              "variable_name": "df",
              "summary": "{\n  \"name\": \"df\",\n  \"rows\": 344,\n  \"fields\": [\n    {\n      \"column\": \"species\",\n      \"properties\": {\n        \"dtype\": \"category\",\n        \"num_unique_values\": 3,\n        \"samples\": [\n          \"Adelie\",\n          \"Chinstrap\",\n          \"Gentoo\"\n        ],\n        \"semantic_type\": \"\",\n        \"description\": \"\"\n      }\n    },\n    {\n      \"column\": \"island\",\n      \"properties\": {\n        \"dtype\": \"category\",\n        \"num_unique_values\": 3,\n        \"samples\": [\n          \"Torgersen\",\n          \"Biscoe\",\n          \"Dream\"\n        ],\n        \"semantic_type\": \"\",\n        \"description\": \"\"\n      }\n    },\n    {\n      \"column\": \"bill_length_mm\",\n      \"properties\": {\n        \"dtype\": \"number\",\n        \"std\": 5.4595837139265315,\n        \"min\": 32.1,\n        \"max\": 59.6,\n        \"num_unique_values\": 164,\n        \"samples\": [\n          48.2,\n          49.8,\n          45.1\n        ],\n        \"semantic_type\": \"\",\n        \"description\": \"\"\n      }\n    },\n    {\n      \"column\": \"bill_depth_mm\",\n      \"properties\": {\n        \"dtype\": \"number\",\n        \"std\": 1.9747931568167816,\n        \"min\": 13.1,\n        \"max\": 21.5,\n        \"num_unique_values\": 80,\n        \"samples\": [\n          16.9,\n          18.7,\n          18.6\n        ],\n        \"semantic_type\": \"\",\n        \"description\": \"\"\n      }\n    },\n    {\n      \"column\": \"flipper_length_mm\",\n      \"properties\": {\n        \"dtype\": \"number\",\n        \"std\": 14.061713679356888,\n        \"min\": 172.0,\n        \"max\": 231.0,\n        \"num_unique_values\": 55,\n        \"samples\": [\n          201.0,\n          180.0,\n          212.0\n        ],\n        \"semantic_type\": \"\",\n        \"description\": \"\"\n      }\n    },\n    {\n      \"column\": \"body_mass_g\",\n      \"properties\": {\n        \"dtype\": \"number\",\n        \"std\": 801.9545356980956,\n        \"min\": 2700.0,\n        \"max\": 6300.0,\n        \"num_unique_values\": 94,\n        \"samples\": [\n          4350.0,\n          4150.0,\n          3525.0\n        ],\n        \"semantic_type\": \"\",\n        \"description\": \"\"\n      }\n    },\n    {\n      \"column\": \"sex\",\n      \"properties\": {\n        \"dtype\": \"category\",\n        \"num_unique_values\": 2,\n        \"samples\": [\n          \"Female\",\n          \"Male\"\n        ],\n        \"semantic_type\": \"\",\n        \"description\": \"\"\n      }\n    }\n  ]\n}"
            }
          },
          "metadata": {},
          "execution_count": 139
        }
      ],
      "source": [
        "import pandas as pd\n",
        "import seaborn as sns\n",
        "import numpy\n",
        "# Cargar el dataset\n",
        "df = sns.load_dataset('penguins')\n",
        "df\n"
      ]
    },
    {
      "cell_type": "code",
      "source": [
        "#1 ¿Cuántas especies diferentes de pingüinos hay en el dataset?\n",
        "\n",
        "sp=df['species'].value_counts()\n",
        "sp"
      ],
      "metadata": {
        "colab": {
          "base_uri": "https://localhost:8080/",
          "height": 210
        },
        "id": "xZuOuu0-vUs0",
        "outputId": "784ef487-eff7-47a5-ddea-f25ffe602818"
      },
      "execution_count": 140,
      "outputs": [
        {
          "output_type": "execute_result",
          "data": {
            "text/plain": [
              "species\n",
              "Adelie       152\n",
              "Gentoo       124\n",
              "Chinstrap     68\n",
              "Name: count, dtype: int64"
            ],
            "text/html": [
              "<div>\n",
              "<style scoped>\n",
              "    .dataframe tbody tr th:only-of-type {\n",
              "        vertical-align: middle;\n",
              "    }\n",
              "\n",
              "    .dataframe tbody tr th {\n",
              "        vertical-align: top;\n",
              "    }\n",
              "\n",
              "    .dataframe thead th {\n",
              "        text-align: right;\n",
              "    }\n",
              "</style>\n",
              "<table border=\"1\" class=\"dataframe\">\n",
              "  <thead>\n",
              "    <tr style=\"text-align: right;\">\n",
              "      <th></th>\n",
              "      <th>count</th>\n",
              "    </tr>\n",
              "    <tr>\n",
              "      <th>species</th>\n",
              "      <th></th>\n",
              "    </tr>\n",
              "  </thead>\n",
              "  <tbody>\n",
              "    <tr>\n",
              "      <th>Adelie</th>\n",
              "      <td>152</td>\n",
              "    </tr>\n",
              "    <tr>\n",
              "      <th>Gentoo</th>\n",
              "      <td>124</td>\n",
              "    </tr>\n",
              "    <tr>\n",
              "      <th>Chinstrap</th>\n",
              "      <td>68</td>\n",
              "    </tr>\n",
              "  </tbody>\n",
              "</table>\n",
              "</div><br><label><b>dtype:</b> int64</label>"
            ]
          },
          "metadata": {},
          "execution_count": 140
        }
      ]
    },
    {
      "cell_type": "code",
      "source": [
        "#2 ¿Cuál es la longitud media del pico de los pingüinos de la especie Adelie?\n",
        "\n",
        "prom_bill = df[df['species'] == 'Adelie']['bill_length_mm'].mean()  #.mean() para calcular el promedio\n",
        "print(\"La longitud media del pico en la especie Adelie es\", round(prom_bill,2),\"mm\")"
      ],
      "metadata": {
        "colab": {
          "base_uri": "https://localhost:8080/"
        },
        "id": "a77BH5F-wZER",
        "outputId": "f6aa3902-3823-4f73-8358-11d1a4bfdf8a"
      },
      "execution_count": 141,
      "outputs": [
        {
          "output_type": "stream",
          "name": "stdout",
          "text": [
            "La longitud media del pico en la especie Adelie es 38.79 mm\n"
          ]
        }
      ]
    },
    {
      "cell_type": "code",
      "source": [
        "#3 ¿Cuál es la masa corporal promedio de los pingüinos de la especie Gentoo?\n",
        "\n",
        "prom_mass = df[df['species'] == 'Chinstrap']['body_mass_g'].mean()\n",
        "print(\"La masa promedio de la especie Gentoo es\",round(prom_mass,2),\"gramos\")"
      ],
      "metadata": {
        "colab": {
          "base_uri": "https://localhost:8080/"
        },
        "id": "xJifbF9_z-Tc",
        "outputId": "f8dce042-3764-46c8-ced0-e9dfe4650a51"
      },
      "execution_count": 142,
      "outputs": [
        {
          "output_type": "stream",
          "name": "stdout",
          "text": [
            "La masa promedio de la especie Gentoo es 3733.09 gramos\n"
          ]
        }
      ]
    },
    {
      "cell_type": "code",
      "source": [
        "#4 ¿Cuál es la relación entre la longitud del pico y la masa corporal de los pingüinos?\n",
        "\n",
        "lp=df['bill_length_mm']\n",
        "mp=df['body_mass_g']\n",
        "corml= lp.corr(mp)  #.corr() halla el coeficiente de correlacion de Pearson\n",
        "\n",
        "print(\"La correlación entre la longitud del pico y la masa de los pingüinos es positiva y tiene un valor de\",corml)\n"
      ],
      "metadata": {
        "id": "C3p428Ai1rQy",
        "colab": {
          "base_uri": "https://localhost:8080/"
        },
        "outputId": "d9c434ca-230f-442a-f8b0-ad7971264ba9"
      },
      "execution_count": 143,
      "outputs": [
        {
          "output_type": "stream",
          "name": "stdout",
          "text": [
            "La correlación entre la longitud del pico y la masa de los pingüinos es positiva y tiene un valor de 0.5951098244376303\n"
          ]
        }
      ]
    },
    {
      "cell_type": "code",
      "source": [
        "#5 ¿Cuál es la isla con mayor número de pingüinos en el dataset?\n",
        "\n",
        "isl=df['island'].value_counts()\n",
        "isl\n"
      ],
      "metadata": {
        "colab": {
          "base_uri": "https://localhost:8080/",
          "height": 210
        },
        "id": "WiIN6I1wzlEL",
        "outputId": "23c08c09-ec2b-4a83-87b8-b7122e92911d"
      },
      "execution_count": 144,
      "outputs": [
        {
          "output_type": "execute_result",
          "data": {
            "text/plain": [
              "island\n",
              "Biscoe       168\n",
              "Dream        124\n",
              "Torgersen     52\n",
              "Name: count, dtype: int64"
            ],
            "text/html": [
              "<div>\n",
              "<style scoped>\n",
              "    .dataframe tbody tr th:only-of-type {\n",
              "        vertical-align: middle;\n",
              "    }\n",
              "\n",
              "    .dataframe tbody tr th {\n",
              "        vertical-align: top;\n",
              "    }\n",
              "\n",
              "    .dataframe thead th {\n",
              "        text-align: right;\n",
              "    }\n",
              "</style>\n",
              "<table border=\"1\" class=\"dataframe\">\n",
              "  <thead>\n",
              "    <tr style=\"text-align: right;\">\n",
              "      <th></th>\n",
              "      <th>count</th>\n",
              "    </tr>\n",
              "    <tr>\n",
              "      <th>island</th>\n",
              "      <th></th>\n",
              "    </tr>\n",
              "  </thead>\n",
              "  <tbody>\n",
              "    <tr>\n",
              "      <th>Biscoe</th>\n",
              "      <td>168</td>\n",
              "    </tr>\n",
              "    <tr>\n",
              "      <th>Dream</th>\n",
              "      <td>124</td>\n",
              "    </tr>\n",
              "    <tr>\n",
              "      <th>Torgersen</th>\n",
              "      <td>52</td>\n",
              "    </tr>\n",
              "  </tbody>\n",
              "</table>\n",
              "</div><br><label><b>dtype:</b> int64</label>"
            ]
          },
          "metadata": {},
          "execution_count": 144
        }
      ]
    },
    {
      "cell_type": "code",
      "source": [
        "#6 ¿Cuál es la desviación estándar de la longitud de la aleta de los pingüinos de la especie Chinstrap?\n",
        "\n",
        "desv_flip = df[df['species'] == 'Gentoo']['flipper_length_mm'].std()  #.std() para hallar la desviacion estandar\n",
        "print(\"La desviacion estandar de la longitud de la aleta en la especie Chinstrap es\",round(desv_flip,2))\n"
      ],
      "metadata": {
        "colab": {
          "base_uri": "https://localhost:8080/"
        },
        "id": "IdXJwPBW2KZZ",
        "outputId": "dcdd886d-87bd-45b4-8a93-8c3277f0c99e"
      },
      "execution_count": 145,
      "outputs": [
        {
          "output_type": "stream",
          "name": "stdout",
          "text": [
            "La desviacion estandar de la longitud de la aleta en la especie Chinstrap es 6.48\n"
          ]
        }
      ]
    },
    {
      "cell_type": "code",
      "source": [
        "#7 ¿Qué pingüino tiene el pico más largo en el dataset y cuál es su especie?\n",
        "\n",
        "bill_mayor=df['bill_length_mm'].max() #.max() halla el valor maximo\n",
        "\n",
        "\n",
        "spe_mayor=df.loc[df['bill_length_mm'] == bill_mayor, 'species'].values[0]\n",
        "print(\"El pico mayor mide\",bill_mayor,\"mm y pertenece a la especie\",spe_mayor)"
      ],
      "metadata": {
        "colab": {
          "base_uri": "https://localhost:8080/"
        },
        "id": "UBynHBjB3B2M",
        "outputId": "ce1b3b36-e53a-483e-fc88-915c2825f333"
      },
      "execution_count": 146,
      "outputs": [
        {
          "output_type": "stream",
          "name": "stdout",
          "text": [
            "El pico mayor mide 59.6 mm y pertenece a la especie Gentoo\n"
          ]
        }
      ]
    },
    {
      "cell_type": "code",
      "source": [
        "#8 ¿Cuál es la proporción de machos y hembras en la especie Adelie?\n",
        "\n",
        "prop=df[df['species']=='Adelie']['sex'].value_counts()\n",
        "prop\n",
        "\n"
      ],
      "metadata": {
        "colab": {
          "base_uri": "https://localhost:8080/",
          "height": 178
        },
        "id": "V-N_QosW4lae",
        "outputId": "20c63410-ac2b-4df4-f775-18a5a4bd8f3a"
      },
      "execution_count": 147,
      "outputs": [
        {
          "output_type": "execute_result",
          "data": {
            "text/plain": [
              "sex\n",
              "Male      73\n",
              "Female    73\n",
              "Name: count, dtype: int64"
            ],
            "text/html": [
              "<div>\n",
              "<style scoped>\n",
              "    .dataframe tbody tr th:only-of-type {\n",
              "        vertical-align: middle;\n",
              "    }\n",
              "\n",
              "    .dataframe tbody tr th {\n",
              "        vertical-align: top;\n",
              "    }\n",
              "\n",
              "    .dataframe thead th {\n",
              "        text-align: right;\n",
              "    }\n",
              "</style>\n",
              "<table border=\"1\" class=\"dataframe\">\n",
              "  <thead>\n",
              "    <tr style=\"text-align: right;\">\n",
              "      <th></th>\n",
              "      <th>count</th>\n",
              "    </tr>\n",
              "    <tr>\n",
              "      <th>sex</th>\n",
              "      <th></th>\n",
              "    </tr>\n",
              "  </thead>\n",
              "  <tbody>\n",
              "    <tr>\n",
              "      <th>Male</th>\n",
              "      <td>73</td>\n",
              "    </tr>\n",
              "    <tr>\n",
              "      <th>Female</th>\n",
              "      <td>73</td>\n",
              "    </tr>\n",
              "  </tbody>\n",
              "</table>\n",
              "</div><br><label><b>dtype:</b> int64</label>"
            ]
          },
          "metadata": {},
          "execution_count": 147
        }
      ]
    },
    {
      "cell_type": "markdown",
      "source": [
        "**RELACION 1 A 1 ENTRE MACHOS Y HEMBRAS DE LA ESPECIE ADELIE**"
      ],
      "metadata": {
        "id": "xbn2Ez1c8xyY"
      }
    },
    {
      "cell_type": "code",
      "source": [
        "#9 ¿Existe una correlación significativa entre la longitud del pico y la masa corporal en las diferentes especies de pingüinos?\n",
        "\n",
        "correlaciones = df.groupby('species').apply(lambda x: x['bill_length_mm'].corr(x['body_mass_g'])) #df.groupby para agrupar datos del dataframe\n",
        "\n",
        "print(correlaciones)\n",
        "\n"
      ],
      "metadata": {
        "colab": {
          "base_uri": "https://localhost:8080/"
        },
        "id": "vrnOP8EWXyKF",
        "outputId": "f6bf2b74-4238-40be-8edc-17cc2a5b62db"
      },
      "execution_count": 148,
      "outputs": [
        {
          "output_type": "stream",
          "name": "stdout",
          "text": [
            "species\n",
            "Adelie       0.548866\n",
            "Chinstrap    0.513638\n",
            "Gentoo       0.669166\n",
            "dtype: float64\n"
          ]
        }
      ]
    },
    {
      "cell_type": "markdown",
      "source": [
        "**Existe una correlación positiva para cada una de las especies, es decir, cuando la longitud del pico aumenta entonces la masa del pingüino tambien aumenta**"
      ],
      "metadata": {
        "id": "yn0CkhykZSWN"
      }
    },
    {
      "cell_type": "code",
      "source": [
        "#10 ¿Cuál es la distribución de la masa corporal entre las especies de pingüinos?\n",
        "\n",
        "import matplotlib.pyplot as plt\n",
        "\n",
        "spec=df['species'].unique() #Obtener las especies\n",
        "\n",
        "plt.figure(figsize=(10,6))\n",
        "\n",
        "#Graficar un histograma para cada especie\n",
        "for i in spec:\n",
        "    subset = df[df['species'] == i]\n",
        "    plt.hist(subset['body_mass_g'], alpha=0.5, label=f'Especie {i}', bins=5)\n",
        "\n",
        "plt.title('Distribución de la masa corporal por especie')\n",
        "plt.xlabel('Masa corporal')\n",
        "plt.ylabel('Frecuencia')\n",
        "plt.legend(title='Especies')\n",
        "plt.grid(True)\n",
        "plt.show()\n"
      ],
      "metadata": {
        "id": "hpyN1Xt4Z1PO",
        "colab": {
          "base_uri": "https://localhost:8080/",
          "height": 565
        },
        "outputId": "944ff887-aacf-4ef5-8f79-57212f748837"
      },
      "execution_count": 149,
      "outputs": [
        {
          "output_type": "display_data",
          "data": {
            "text/plain": [
              "<Figure size 1000x600 with 1 Axes>"
            ],
            "image/png": "[encoded data removed]"
          },
          "metadata": {}
        }
      ]
    },
    {
      "cell_type": "code",
      "source": [
        "# Tambien usamos .describe() para conocer las estadisticas descriptivas de la distribucion\n",
        "descr = df.groupby('species')['body_mass_g'].describe()\n",
        "\n",
        "print(\"Una descripcion mas detalla de los grupos es: \\n\",descr)"
      ],
      "metadata": {
        "colab": {
          "base_uri": "https://localhost:8080/"
        },
        "id": "ErX3RBRa6ZwM",
        "outputId": "62a548c9-8ee8-4a27-f2e3-9cbb8ae07e41"
      },
      "execution_count": 150,
      "outputs": [
        {
          "output_type": "stream",
          "name": "stdout",
          "text": [
            "Una descripcion mas detalla de los grupos es: \n",
            "            count         mean         std     min     25%     50%     75%  \\\n",
            "species                                                                     \n",
            "Adelie     151.0  3700.662252  458.566126  2850.0  3350.0  3700.0  4000.0   \n",
            "Chinstrap   68.0  3733.088235  384.335081  2700.0  3487.5  3700.0  3950.0   \n",
            "Gentoo     123.0  5076.016260  504.116237  3950.0  4700.0  5000.0  5500.0   \n",
            "\n",
            "              max  \n",
            "species            \n",
            "Adelie     4775.0  \n",
            "Chinstrap  4800.0  \n",
            "Gentoo     6300.0  \n"
          ]
        }
      ]
    },
    {
      "cell_type": "code",
      "source": [
        "#11 ¿Cuál es la longitud mínima y máxima de la aleta entre las tres especies de pingüinos?\n",
        "\n",
        "max=df.groupby('species').apply(lambda x: x['flipper_length_mm'].max())\n",
        "print(\" La longituud máxima de la aleta de cada especie en mm es:\\n\",max)"
      ],
      "metadata": {
        "colab": {
          "base_uri": "https://localhost:8080/"
        },
        "id": "8VM4dMCRbePW",
        "outputId": "f173788b-7a04-4c43-f051-d2d7e4e72bd1"
      },
      "execution_count": 151,
      "outputs": [
        {
          "output_type": "stream",
          "name": "stdout",
          "text": [
            " La longituud máxima de la aleta de cada especie en mm es:\n",
            " species\n",
            "Adelie       210.0\n",
            "Chinstrap    212.0\n",
            "Gentoo       231.0\n",
            "dtype: float64\n"
          ]
        }
      ]
    },
    {
      "cell_type": "code",
      "source": [
        "min=df.groupby('species').apply(lambda x: x['flipper_length_mm'].min())\n",
        "print(\" La longituud mínima de la aleta de cada especie en mm es:\\n\",min)"
      ],
      "metadata": {
        "colab": {
          "base_uri": "https://localhost:8080/"
        },
        "id": "QXyO9Liucu51",
        "outputId": "076226c6-88d1-4f36-e405-69b8ae8c212b"
      },
      "execution_count": 152,
      "outputs": [
        {
          "output_type": "stream",
          "name": "stdout",
          "text": [
            " La longituud mínima de la aleta de cada especie en mm es:\n",
            " species\n",
            "Adelie       172.0\n",
            "Chinstrap    178.0\n",
            "Gentoo       203.0\n",
            "dtype: float64\n"
          ]
        }
      ]
    },
    {
      "cell_type": "code",
      "source": [
        "#12 ¿Cuántos pingüinos tienen una masa corporal superior a 5000 gramos?\n",
        "\n",
        "conteo1=df['body_mass_g']>5000\n",
        "conteo2=conteo1.sum() #.sum() para saber cuantos cumplen la condicion anterior\n",
        "\n",
        "print(\"El número de pingüinos que superan los 5 mil gramos son \",conteo2)\n"
      ],
      "metadata": {
        "colab": {
          "base_uri": "https://localhost:8080/"
        },
        "id": "ehRugobZdPEL",
        "outputId": "50f41260-05cc-41f2-eb5b-35d62e61e4fe"
      },
      "execution_count": 153,
      "outputs": [
        {
          "output_type": "stream",
          "name": "stdout",
          "text": [
            "El número de pingüinos que superan los 5 mil gramos son  61\n"
          ]
        }
      ]
    },
    {
      "cell_type": "code",
      "source": [
        "#13 ¿Cómo varía la longitud del pico entre las diferentes especies de pingüinos en las distintas islas?\n",
        "\n",
        "\n",
        "#Toco hacerlo uno por uno, viendo como varía  la longitud del pico en cada isla por cada especie\n",
        "# Cabe acotar que hay algunas especies las cuales no habitan en ciertas islas\n",
        "\n",
        "paila1=df[(df['species']=='Adelie') & (df['island']=='Biscoe') ]\n",
        "var1=paila1['bill_length_mm'].var()\n",
        "print(\"La variacion de la especie Adelie en la isla Biscoe es\",round(var1,2))\n",
        "\n",
        "paila2=df[(df['species']=='Adelie') & (df['island']=='Dream') ]\n",
        "var2=paila2['bill_length_mm'].var()\n",
        "print(\"La variacion de la especie Adelie en la isla Dream es\",round(var2,2))\n",
        "\n",
        "paila3=df[(df['species']=='Adelie') & (df['island']=='Torgersen') ]\n",
        "var3=paila3['bill_length_mm'].var()\n",
        "print(\"La variacion de la especie Adelie en la isla Torgersen es\",round(var3,2))\n",
        "\n",
        "paila4=df[(df['species']=='Gentoo') & (df['island']=='Biscoe') ]\n",
        "var4=paila4['bill_length_mm'].var()\n",
        "print(\"La variacion de la especie Gentoo en la isla Biscoe es\",round(var4,2))\n",
        "\n",
        "\"\"\"paila5=df[(df['species']=='Gentoo') & (df['island']=='Dream') ]\n",
        "var5=paila5['bill_length_mm'].var()\n",
        "print(var5)\n",
        "\n",
        "paila6=df[(df['species']=='Gentoo') & (df['island']=='Torgersen') ]\n",
        "var6=paila6['bill_length_mm'].var()\n",
        "print(var6)\n",
        "\n",
        "paila7=df[(df['species']=='Chinstrap') & (df['island']=='Biscoe') ]\n",
        "var7=paila7['bill_length_mm'].var()\n",
        "print(var7)\"\"\"\n",
        "\n",
        "paila8=df[(df['species']=='Chinstrap') & (df['island']=='Dream') ]\n",
        "var8=paila8['bill_length_mm'].var()\n",
        "print(\"La variacion de la especie Chinstrap en la isla Dream es\",round(var8,2))\n",
        "\n",
        "#paila9=df[(df['species']=='Chinstrap') & (df['island']=='Torgersen') ]\n",
        "#var9=paila9['bill_length_mm'].var()\n",
        "#print(var9)\n",
        "\n",
        "print(\"Para los demas casos no se encontraron poblaciones de pingüinos\")\n"
      ],
      "metadata": {
        "id": "KJE69DQlesMN",
        "colab": {
          "base_uri": "https://localhost:8080/"
        },
        "outputId": "c42178ea-dd77-4f4a-a76a-9bc549c41dea"
      },
      "execution_count": 154,
      "outputs": [
        {
          "output_type": "stream",
          "name": "stdout",
          "text": [
            "La variacion de la especie Adelie en la isla Biscoe es 6.15\n",
            "La variacion de la especie Adelie en la isla Dream es 6.08\n",
            "La variacion de la especie Adelie en la isla Torgersen es 9.15\n",
            "La variacion de la especie Gentoo en la isla Biscoe es 9.5\n",
            "La variacion de la especie Chinstrap en la isla Dream es 11.15\n",
            "Para los demas casos no se encontraron poblaciones de pingüinos\n"
          ]
        }
      ]
    },
    {
      "cell_type": "code",
      "source": [
        "#14 ¿Cuál es la relación entre la longitud de la aleta y la masa corporal en los pingüinos de la especie Gentoo?\n",
        "\n",
        "gentoo=df[df['species']=='Gentoo']\n",
        "\n",
        "rel_g=gentoo['flipper_length_mm'].corr(gentoo['body_mass_g'])\n",
        "print(\"La relación entre la longitud de la aleta y la masa para la especie Gentoo es positiva y tiene un valor de :\",rel_g)"
      ],
      "metadata": {
        "colab": {
          "base_uri": "https://localhost:8080/"
        },
        "id": "cceiP3j1faNf",
        "outputId": "decbdf28-9434-4bdb-abc4-aede4b348094"
      },
      "execution_count": 155,
      "outputs": [
        {
          "output_type": "stream",
          "name": "stdout",
          "text": [
            "La relación entre la longitud de la aleta y la masa para la especie Gentoo es positiva y tiene un valor de : 0.7026665243575183\n"
          ]
        }
      ]
    },
    {
      "cell_type": "code",
      "source": [
        "#15 ¿Cuántos pingüinos tienen datos faltantes en alguna de sus características?\n",
        "\n",
        "falt=df[df.isnull().any(axis=1)]   #df.isnull() es para identificar valores nulos , el .any(axis=1) es para ver si al menos un valor es True a lo largo de un eje, es decir, .any(axis=1) es nulos en las filas, y .any(axis=0) es nulos en las columnas\n",
        "nan=falt['species'].value_counts()\n",
        "print(\"Hay 6 pinguinos de la especie Adelie con al menos un dato faltante, 5 de la especie Gentoo, y ninguno de la especie Chinstrap, tal que \\n\", nan)\n",
        "\n"
      ],
      "metadata": {
        "colab": {
          "base_uri": "https://localhost:8080/"
        },
        "id": "bXIrOrJglQQb",
        "outputId": "83ac3bcd-e65f-4eca-bf1e-8b5f4790c6a0"
      },
      "execution_count": 156,
      "outputs": [
        {
          "output_type": "stream",
          "name": "stdout",
          "text": [
            "Hay 6 pinguinos de la especie Adelie con al menos un dato faltante, 5 de la especie Gentoo, y ninguno de la especie Chinstrap, tal que \n",
            " species\n",
            "Adelie    6\n",
            "Gentoo    5\n",
            "Name: count, dtype: int64\n"
          ]
        }
      ]
    },
    {
      "cell_type": "code",
      "source": [
        "#16 ¿Cuál es la isla con la mayor variación en la longitud del pico entre las tres especies de pingüinos?\n",
        "\n",
        "vari=df.groupby('island')['bill_depth_mm'].var()\n",
        "print(vari)\n",
        "print(\"La isla con mayor de la longitud entre las especies de pingüinos es\",vari.idxmax())\n"
      ],
      "metadata": {
        "id": "12-1LG49rKjE",
        "colab": {
          "base_uri": "https://localhost:8080/"
        },
        "outputId": "4e3e45b7-d268-422e-aec6-673032f04f64"
      },
      "execution_count": 157,
      "outputs": [
        {
          "output_type": "stream",
          "name": "stdout",
          "text": [
            "island\n",
            "Biscoe       3.315026\n",
            "Dream        1.283952\n",
            "Torgersen    1.794118\n",
            "Name: bill_depth_mm, dtype: float64\n",
            "La isla con mayor de la longitud entre las especies de pingüinos es Biscoe\n"
          ]
        }
      ]
    },
    {
      "cell_type": "code",
      "source": [
        "#17 ¿Cuál es la diferencia en masa corporal promedio entre machos y hembras de la especie Chinstrap?\n",
        "\n",
        "ma=df[(df['species'] == 'Chinstrap') & (df['sex'] == 'Male')]  #Especificamos que estamos en la especie Chinstrap en el sexo masculino\n",
        "prom_ma=ma['body_mass_g'].mean()\n",
        "\n",
        "fe=df[(df['species'] == 'Chinstrap') & (df['sex'] == 'Female')] # Lo mismo pero con el femenino\n",
        "prom_fe=fe['body_mass_g'].mean()\n",
        "\n",
        "ab=abs(prom_ma-prom_fe) # Restamos ambos promedios, no te que es un valor absoluto\n",
        "\n",
        "print(\"La diferencia en masa corporal promedio entre machos y hembras en la especie Chinstrap es\",round(ab,2),\"gramos\")\n"
      ],
      "metadata": {
        "colab": {
          "base_uri": "https://localhost:8080/"
        },
        "id": "f0FLFSLXZNoD",
        "outputId": "9bac159f-1163-421f-8e40-765bda42671a"
      },
      "execution_count": 158,
      "outputs": [
        {
          "output_type": "stream",
          "name": "stdout",
          "text": [
            "La diferencia en masa corporal promedio entre machos y hembras en la especie Chinstrap es 411.76 gramos\n"
          ]
        }
      ]
    },
    {
      "cell_type": "code",
      "source": [
        "#18 ¿Qué especie de pingüino tiene la longitud de aleta promedio más alta?\n",
        "\n",
        "prom_flip=df.groupby('species').apply(lambda x: x['flipper_length_mm'].mean())\n",
        "maximo=prom_flip.idxmax() #encontrar el índice de la primera ocurrencia del valor máximo a lo largo de un eje específico\n",
        "print(prom_flip)\n",
        "print(\"La especie con masyor longitud promedio de aleta es\",maximo)"
      ],
      "metadata": {
        "colab": {
          "base_uri": "https://localhost:8080/"
        },
        "id": "VPj5V_4QdjP8",
        "outputId": "f975ab8e-75b4-47f7-9cb8-06d5e11c69cf"
      },
      "execution_count": 159,
      "outputs": [
        {
          "output_type": "stream",
          "name": "stdout",
          "text": [
            "species\n",
            "Adelie       189.953642\n",
            "Chinstrap    195.823529\n",
            "Gentoo       217.186992\n",
            "dtype: float64\n",
            "La especie con masyor longitud promedio de aleta es Gentoo\n"
          ]
        }
      ]
    },
    {
      "cell_type": "code",
      "source": [
        "#19 ¿Cuál es la longitud del pico más pequeña registrada en el dataset y de qué especie es?\n",
        "\n",
        "flip_min=df['bill_length_mm'].min()\n",
        "filtro=df[df['bill_length_mm']==flip_min]\n",
        "especie=filtro['species'].values[0]\n",
        "\n",
        "print(\"La longitud mínima del pico es\",flip_min,\"mm y pertenece a la especie\",especie)\n"
      ],
      "metadata": {
        "colab": {
          "base_uri": "https://localhost:8080/"
        },
        "id": "LrT5CfPYeL_f",
        "outputId": "4d6c945d-3a6e-4739-9cd4-3aeac0aa23c5"
      },
      "execution_count": 160,
      "outputs": [
        {
          "output_type": "stream",
          "name": "stdout",
          "text": [
            "La longitud mínima del pico es 32.1 mm y pertenece a la especie Adelie\n"
          ]
        }
      ]
    },
    {
      "cell_type": "code",
      "source": [
        "#20 ¿Cuál es la relación entre el sexo y la longitud de la aleta en los pingüinos de la especie Adelie?\n",
        "\n",
        "# Se pensó separar las longitudes de alteas de machos y hembras en la especie Adelie, y hallar una correlacion entre estos 2\n",
        "\n",
        "\n",
        "rel_ma=df[(df['species']=='Adelie') & (df['sex']=='Male') ]   # Separamos los machos de Adelie\n",
        "relM=rel_ma['flipper_length_mm']                              # Lo interceptamos con la longitud del aleta\n",
        "\n",
        "\n",
        "rel_f=df[(df['species']=='Adelie') & (df['sex']=='Female') ] # Las hembras de Adelie\n",
        "relF=rel_f['flipper_length_mm']\n",
        "\n",
        "\n",
        "\n",
        "\n",
        "\n",
        "df_aletas = pd.DataFrame({\n",
        "    'Aleta_Masc': relM.reset_index(drop=True),\n",
        "    'Aleta_Fem': relF.reset_index(drop=True)})  # Hacemos un dataframe de estos 2 conjuntos de datos\n",
        "\n",
        "corMF = df_aletas.corr().iloc[0, 1]    # Hallamos la correlacion\n",
        "\n",
        "print(\"El data frame de las aletas de los masculinos y femeninos en la especie Adelie es \\n\",df_aletas)\n",
        "\n",
        "print(\"La correlación es positiva y tiene un valor de\",round(corMF,2))"
      ],
      "metadata": {
        "colab": {
          "base_uri": "https://localhost:8080/"
        },
        "id": "OROjtR-bnz9a",
        "outputId": "218ba47d-35c8-42e4-beb1-aeb263cb8d2f"
      },
      "execution_count": 161,
      "outputs": [
        {
          "output_type": "stream",
          "name": "stdout",
          "text": [
            "El data frame de las aletas de los masculinos y femeninos en la especie Adelie es \n",
            "     Aleta_Masc  Aleta_Fem\n",
            "0        181.0      186.0\n",
            "1        190.0      195.0\n",
            "2        195.0      193.0\n",
            "3        191.0      181.0\n",
            "4        198.0      182.0\n",
            "..         ...        ...\n",
            "68       190.0      188.0\n",
            "69       185.0      192.0\n",
            "70       190.0      184.0\n",
            "71       193.0      195.0\n",
            "72       201.0      187.0\n",
            "\n",
            "[73 rows x 2 columns]\n",
            "La correlación es positiva y tiene un valor de 0.23\n"
          ]
        }
      ]
    }
  ]
}