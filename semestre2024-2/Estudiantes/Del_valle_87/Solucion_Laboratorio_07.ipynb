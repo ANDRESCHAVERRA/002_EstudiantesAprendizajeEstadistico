{
 "cells": [
  {
   "cell_type": "markdown",
   "metadata": {},
   "source": [
    "# Laboratorio 7: Implementación de una red neuronal\n",
    "por: Juliana del Valle"
   ]
  },
  {
   "cell_type": "code",
   "execution_count": 1,
   "metadata": {
    "id": "UG0R-DxjnBhn"
   },
   "outputs": [],
   "source": [
    "import pandas as pd\n",
    "import scipy as sc\n",
    "import numpy as np\n",
    "import h5py\n",
    "import matplotlib.pylab as plt"
   ]
  },
  {
   "cell_type": "markdown",
   "metadata": {},
   "source": [
    "## Importa Dataset"
   ]
  },
  {
   "cell_type": "markdown",
   "metadata": {},
   "source": [
    "El dataset consta de un conjunto de 209 imágenes de 64x64 píxeles, cada una etiquetada: 0 para las imágenes que no contienen gatos y 1 para las que sí los contienen."
   ]
  },
  {
   "cell_type": "code",
   "execution_count": 2,
   "metadata": {
    "id": "u3DbUInju5bB"
   },
   "outputs": [],
   "source": [
    "train_dataset = h5py.File(\"train_catvnoncat.h5\", \"r\")\n",
    "\n",
    "test_dataset = h5py.File(\"test_catvnoncat.h5\", \"r\")"
   ]
  },
  {
   "cell_type": "code",
   "execution_count": 3,
   "metadata": {
    "colab": {
     "base_uri": "https://localhost:8080/"
    },
    "id": "vXXeE1af2OJx",
    "outputId": "434a15b2-e3b7-44aa-bdea-2baf25963e35"
   },
   "outputs": [
    {
     "data": {
      "text/plain": [
       "<KeysViewHDF5 ['list_classes', 'train_set_x', 'train_set_y']>"
      ]
     },
     "execution_count": 3,
     "metadata": {},
     "output_type": "execute_result"
    }
   ],
   "source": [
    "train_dataset.keys()"
   ]
  },
  {
   "cell_type": "code",
   "execution_count": 4,
   "metadata": {},
   "outputs": [],
   "source": [
    "# Read the data\n",
    "xtrain_classes, xtrain, train_label =\\\n",
    "train_dataset[\"list_classes\"],train_dataset[\"train_set_x\"],train_dataset[\"train_set_y\"]\n",
    "\n",
    "test_classes, xtest,test_label =\\\n",
    "test_dataset[\"list_classes\"],test_dataset[\"test_set_x\"],test_dataset[\"test_set_y\"]"
   ]
  },
  {
   "cell_type": "code",
   "execution_count": 5,
   "metadata": {
    "colab": {
     "base_uri": "https://localhost:8080/",
     "height": 449
    },
    "id": "qC1DrIWiu--B",
    "outputId": "bf516ee1-edeb-4592-dde2-b2957ebb1b87"
   },
   "outputs": [
    {
     "data": {
      "text/plain": [
       "<matplotlib.image.AxesImage at 0x216f9a21d68>"
      ]
     },
     "execution_count": 5,
     "metadata": {},
     "output_type": "execute_result"
    },
    {
     "data": {
      "image/png": "[encoded data removed]",
      "text/plain": [
       "<Figure size 640x480 with 1 Axes>"
      ]
     },
     "metadata": {},
     "output_type": "display_data"
    }
   ],
   "source": [
    "\n",
    "img_random = np.random.randint(0, 209)\n",
    "\n",
    "plt.imshow(xtrain[0])\n"
   ]
  },
  {
   "cell_type": "code",
   "execution_count": 6,
   "metadata": {
    "id": "vhMaDzC0vVPp"
   },
   "outputs": [],
   "source": [
    "xtrain_= np.reshape(xtrain,(209, 64*64*3))/255\n",
    "xtest_ = np.reshape(xtest,(50, 64*64*3))/255"
   ]
  },
  {
   "cell_type": "markdown",
   "metadata": {},
   "source": [
    "## Funciones de Coste y Activación "
   ]
  },
  {
   "cell_type": "code",
   "execution_count": 7,
   "metadata": {},
   "outputs": [],
   "source": [
    "def cost_f(Y, A):\n",
    "    return -np.mean(Y * np.log(A + 1e-8) + (1 - Y) * np.log(1 - A + 1e-8))\n",
    "\n",
    "def Da_cost(Y, A):#Derivative of the cost function with respect to A\n",
    "    epsilon = 1e-8  # Add epsilon to avoid division by zero\n",
    "    dA = - (Y / (A + epsilon)) + ((1 - Y) / (1 - A + epsilon))\n",
    "    return dA\n",
    "\n",
    "#Funciones de activación\n",
    "sigmoid = lambda x: 1/(1 + np.exp(-x))\n",
    "\n",
    "D_sigmoid = lambda x: sigmoid(x)*(1-sigmoid(x))\n",
    "\n",
    "def relu(Z):\n",
    "    return np.maximum(0, Z)\n",
    "\n",
    "def D_relu(Z):\n",
    "    return 1. * (Z > 0)\n",
    "def identity(Z):\n",
    "    return Z\n",
    "def D_identity(Z):\n",
    "    return 1"
   ]
  },
  {
   "cell_type": "markdown",
   "metadata": {},
   "source": [
    "## Red Neuronal 2"
   ]
  },
  {
   "cell_type": "markdown",
   "metadata": {},
   "source": [
    "### Forward Pass\n",
    "\n",
    "Sea $l$ la $l$-ésima capa de la red neuronal, $\\Theta^{[l]}$ la matriz de pesos asociada a esa capa, $\\vec{A}^{[l-1]}$ las unidades de salida de la capa anterior, y $\\vec{b}^{[l]}$ el vector de sesgos. Entonces, el **forward pass** computa el vector $\\vec{Z}^{[l]}$ y las activaciones $\\vec{A}^{[l]}$ de la siguiente forma:\n",
    "\n",
    "$$\n",
    "\\vec{Z}^{[l]} = \\Theta^{[l]} \\vec{A}^{[l-1]} + \\vec{b}^{[l]}\n",
    "$$\n",
    "\n",
    "$$\n",
    "\\vec{A}^{[l]} = f(\\vec{Z}^{[l]})\n",
    "$$\n",
    "\n",
    "donde $f$ es la función de activación.  \n",
    "\n",
    "Es importante destacar que la fórmula anterior corresponde al cálculo para un único dato de entrenamiento. Al generalizar para $m$ datos de entrenamiento, se tiene:\n",
    "\n",
    "$$\n",
    "\\mathbf{Z}^{[l]} = \\Theta^{[l]} \\mathbf{A}^{[l-1]} + \\vec{b}^{[l]} \\mathbf{1}^\\top\n",
    "$$\n",
    "\n",
    "Aquí, $\\mathbf{Z}^{[l]}$ es una matriz donde cada columna representa $\\vec{Z}^{[l](i)}$ para el $i$-ésimo dato de entrenamiento, y $\\mathbf{A}^{[l-1]}$ es una matriz donde cada columna corresponde a $\\vec{A}^{[l-1](i)}$. El término $\\vec{b}^{[l]} \\mathbf{1}^\\top$ asegura que el vector de sesgos $\\vec{b}^{[l]}$ se adapte a las dimensiones de $\\mathbf{Z}^{[l]}$ mediante *broadcasting*, donde $\\mathbf{1}^\\top$ es un vector fila de $m$ unos.\n"
   ]
  },
  {
   "cell_type": "markdown",
   "metadata": {},
   "source": [
    "\n",
    "### Backward Pass\n",
    "\n",
    "El **backward pass** calcula las derivadas de la función de coste con respecto a los parámetros de la red neuronal (pesos y sesgos). Estas derivadas se usan luego en el descenso por gradiente para actualizar los parámetros.\n",
    "\n",
    "---\n",
    "\n",
    "### Derivadas\n",
    "\n",
    "#### Última capa:\n",
    "Sea $l$ la última capa de la red neuronal. La derivada de la función de coste respecto a los pesos $\\theta_{ij}$ y los sesgos $b^{[l]}$ se calcula como:\n",
    "\n",
    "$$\n",
    "\\frac{\\partial J}{\\partial \\theta_{ij}} = d\\theta^{[L]}, \\quad \\frac{\\partial J}{\\partial b^{[l]}} = db^{[l]}\n",
    "$$\n",
    "\n",
    "Aplicando la regla de la cadena, para un conjunto de $m$ datos de entrenamiento, se tiene:\n",
    "\n",
    "$$\n",
    "d\\theta^{[L]} = \\frac{\\partial J}{\\partial \\theta_{ij}} = \\frac{1}{m} \\sum_{i=0}^{m-1} \\frac{\\partial J}{\\partial A^{(i)[L]}} \\frac{\\partial A^{(i)[L]}}{\\partial Z^{(i)[L]}} \\frac{\\partial Z^{(i)[L]}}{\\partial \\theta_{ij}}\n",
    "$$\n",
    "\n",
    "$$\n",
    "db^{[l]} = \\frac{\\partial J}{\\partial b} = \\frac{1}{m} \\sum_{i=0}^{m-1} \\frac{\\partial J}{\\partial A^{(i)[L]}} \\frac{\\partial A^{(i)[L]}}{\\partial Z^{(i)[L]}} \\frac{\\partial Z^{(i)[L]}}{\\partial b^{[l]}}\n",
    "$$\n",
    "\n",
    "Si asumimos que la función de coste es la de **máxima verosimilitud** y que la función de activación en la última capa es una sigmoide, entonces:\n",
    "\n",
    "1. La derivada de la función de coste respecto a las activaciones de salida es:\n",
    "\n",
    "$$\n",
    "\\frac{\\partial J}{\\partial A^{(i)[L]}} = dA^{[L]} = \\left[ \\frac{Y^{(i)}}{A^{(i)[L]}} - \\frac{(1 - Y^{(i)})}{1 - A^{(i)[L]}} \\right]\n",
    "$$\n",
    "\n",
    "donde $Y^{(i)}$ es la etiqueta real asociada al $i$-ésimo dato de entrenamiento.\n",
    "\n",
    "2. La derivada de la función de activación sigmoide respecto a $Z^{(i)[L]}$ es:\n",
    "\n",
    "$$\n",
    "\\frac{\\partial A^{(i)[L]}}{\\partial Z^{(i)[L]}} = A(Z^{(i)[L]}) (1 - A(Z^{(i)[L]})) = f'(Z^{(i)[L]})\n",
    "$$\n",
    "\n",
    "3. Otras derivadas importantes son:\n",
    "\n",
    "- $$\\frac{\\partial Z^{(i)[L]}}{\\partial \\theta_{ij}} = A^{(i)[L-1]}$$\n",
    "- $$\\frac{\\partial Z^{(i)[L]}}{\\partial b^{[l]}} = 1$$\n",
    "\n",
    "---\n",
    "\n",
    "#### Capa arbitraria:\n",
    "\n",
    "Para una capa arbitraria $l$, las derivadas se calculan como sigue:\n",
    "\n",
    "1. **Error local**:\n",
    "   $$\n",
    "   dZ^{[l]} = dA^{[l]} \\circ f'^{[l]}(Z^{[l]})\n",
    "   $$\n",
    "\n",
    "2. **Gradiente de los pesos**:\n",
    "   $$\n",
    "   d\\Theta^{[l]} = \\frac{\\partial J}{\\partial \\Theta^{[l]}} = \\frac{1}{m} dZ^{[l]} (A^{[l-1]})^\\top \\tag{1}\n",
    "   $$\n",
    "\n",
    "3. **Gradiente de los sesgos**:\n",
    "   $$\n",
    "   db^{[l]} = \\frac{\\partial J}{\\partial b^{[l]}} = \\frac{1}{m} \\sum_{i=1}^{m} dZ^{[l](i)} \\tag{2}\n",
    "   $$\n",
    "\n",
    "4. **Error propagado hacia la capa anterior**:\n",
    "   $$\n",
    "   dA^{[l-1]} = \\frac{\\partial J}{\\partial A^{[l-1]}} = (\\Theta^{[l]})^\\top dZ^{[l]} \\tag{3}\n",
    "   $$\n",
    "\n"
   ]
  },
  {
   "cell_type": "code",
   "execution_count": 9,
   "metadata": {},
   "outputs": [],
   "source": [
    "class layer():\n",
    "    def __init__(self, nnlayer_present, nnlayer_before, act_fun, D_act_fun):\n",
    "        self.neurons = nnlayer_present\n",
    "        \n",
    "        #weights parameters\n",
    "        self.theta = 2*np.random.random((nnlayer_present, nnlayer_before)) - 1\n",
    "        #biases\n",
    "        self.b = np.zeros((nnlayer_present, 1))\n",
    "        \n",
    "        self.act_fun = act_fun\n",
    "        \n",
    "        self.D_act_fun = D_act_fun #derivative of the activation fucnction\n",
    "        \n",
    "        # activations\n",
    "        self.A = None\n",
    "        \n",
    "        # Hidden units\n",
    "        self.Z = None\n",
    "        \n",
    "        #Derivative of the cost function with respect to A\n",
    "        self.Dtheta = None\n",
    "        \n",
    "        self.Dz = None\n",
    "        \n",
    "        self.Da = None\n",
    "        \n",
    "        self.Db = None\n",
    "        "
   ]
  },
  {
   "cell_type": "code",
   "execution_count": 23,
   "metadata": {},
   "outputs": [],
   "source": [
    "\n",
    "class neural_net():\n",
    "    # Build the neural net\n",
    "    def __init__(self, topology, act_function, Dact_function, cost, Dcost):\n",
    "        # Create the first layer\n",
    "        nx = layer(topology[0], 0, act_function[0], Dact_function[0])\n",
    "        nn = [nx]\n",
    "        \n",
    "        # Add hidden layers\n",
    "        for i in range(1, len(topology)):\n",
    "            nn.append(layer(topology[i], nn[i - 1].neurons, act_function[i], Dact_function[i]))\n",
    "        \n",
    "        self.nn = nn #The neural net is a list with the neural layers\n",
    "        self.topology = topology\n",
    "        self.len = len(nn)\n",
    "        self.learning_rate = 0.0001\n",
    "        self.training_cicles = 1200\n",
    "        self.J = cost\n",
    "        self.DJ = Dcost\n",
    "    #===================================================================================\n",
    "        \n",
    "    \n",
    "    def forward_pass(self, Z0):\n",
    "        #Primera capa\n",
    "        self. nn[0].Z = Z0\n",
    "        self.nn[0].A = self.nn[0].act_fun(Z0)\n",
    "        \n",
    "        for i in range(1, self.len):\n",
    "            \n",
    "            self.nn[i].Z = self.nn[i].theta @ self.nn[i-1].A + self.nn[i].b @ np.ones((1, Z0.shape[1]))\n",
    "            self.nn[i].A = self.nn[i].act_fun(self.nn[i].Z)\n",
    "    \n",
    "    def find_derivatives(self, Y):\n",
    "        size = Y.shape[1]  # Número de ejemplos en el batch\n",
    "\n",
    "        for l in reversed(range(self.len)):\n",
    "            if l == (self.len - 1):  # Última capa\n",
    "                # Derivada del coste respecto a las activaciones (Da)\n",
    "                self.nn[l].Da = self.DJ(Y, self.nn[l].A)\n",
    "                \n",
    "\n",
    "                # Derivada del coste respecto a Z (Dz)\n",
    "                self.nn[l].Dz = self.nn[l].Da * self.nn[l].D_act_fun(self.nn[l].Z)\n",
    "\n",
    "                # Derivada de los pesos (Dtheta) y sesgos (Db)\n",
    "                self.nn[l].Dtheta = (self.nn[l].Dz @ self.nn[l - 1].A.T) / size\n",
    "                self.nn[l].Db = np.mean(self.nn[l].Dz, axis=1, keepdims=True)\n",
    "\n",
    "            else:  # Capas intermedias\n",
    "                # Propagar el error hacia atrás\n",
    "                self.nn[l].Da = self.nn[l + 1].theta.T @ self.nn[l + 1].Dz\n",
    "\n",
    "                # Derivada respecto a Z (Dz)\n",
    "                self.nn[l].Dz = self.nn[l].Da * self.nn[l].D_act_fun(self.nn[l].Z)\n",
    "\n",
    "                # Derivadas de los pesos (Dtheta) y sesgos (Db)\n",
    "                if l > 0:  # Capas ocultas\n",
    "                    self.nn[l].Dtheta = (self.nn[l].Dz @ self.nn[l - 1].A.T) / size\n",
    "                    self.nn[l].Db = np.mean(self.nn[l].Dz, axis=1, keepdims=True)\n",
    "                else:  # For input layer, skip `Dtheta` computation\n",
    "                    self.nn[l].Dtheta = None\n",
    "                    self.nn[l].Db = None\n",
    "                \n",
    "                #print(f\"DErivatives of layer {l}: compleated\")\n",
    "                #print(\"******\")\n",
    "\n",
    "\n",
    "#========================================================================================\n",
    "    def gradient_descent(self):\n",
    "        \n",
    "        for l in range(1, self.len):\n",
    "\n",
    "            self.nn[l].theta -=   self.learning_rate * self.nn[l].Dtheta\n",
    "            self.nn[l].b -= self.learning_rate * self.nn[l].Db\n",
    "            \n",
    "    #=================================================================================\n",
    "    def train(self, Z0, Y):\n",
    "        tolerancia = 1e-5\n",
    "        prev_cost = float(\"inf\") #incializa el coste como infinito\n",
    "        for _ in range(self.training_cicles):\n",
    "            #print(\"==========================\")\n",
    "            #print(f\"Cicle num {_}\")\n",
    "            self.forward_pass(Z0)\n",
    "            #print(f\"forward_pass: compleated \\t In: {self.nn[0].Z.shape} \\t out: {self.nn[-1].A.shape}\")\n",
    "            #print(f\"A: is zero {self.nn[-1].A == 0}\")\n",
    "            #print(f\"Weights:  {self.nn[0].theta.shape} \\t {self.nn[1].theta.shape} \\t {self.nn[2].theta.shape}\")\n",
    "            self.find_derivatives(Y)\n",
    "            #print(f\"Derivatives: compleated\")\n",
    "            #print(f\"dA: {self.nn[0].Da.shape} \\t {self.nn[1].Da.shape} \\t {self.nn[2].Da.shape}\")\n",
    "            #print(f\"dz: {self.nn[0].Dz.shape} \\t {self.nn[1].Dz.shape} \\t {self.nn[2].Dz.shape}\")\n",
    "            #print(f\"dtheta: {self.nn[0].Dtheta.shape} \\t {self.nn[1].Dtheta.shape} \\t {self.nn[2].Dtheta.shape}\")\n",
    "            #print(f\"Starting gradient descent\")\n",
    "            self.gradient_descent()\n",
    "            #print(f\"Weights updated\")\n",
    "            \n",
    "            #Para si la función de coste es muy baja\n",
    "            cost = np.mean(self.J(Y, self.nn[-1].A))\n",
    "            if abs(prev_cost - cost) < tolerancia:\n",
    "                break\n",
    "            prev_cost = cost\n"
   ]
  },
  {
   "cell_type": "code",
   "execution_count": 24,
   "metadata": {},
   "outputs": [],
   "source": [
    "\n",
    "Y = np.array(train_label).reshape(-1, 1).T\n",
    "nx = 12288            \n",
    "Topology = [nx, 64, 30, 8, 3,  1 ]\n",
    "act_fun = [identity, relu, relu, relu, relu, sigmoid]\n",
    "D_act_fun = [D_identity, D_relu,D_relu, D_relu, D_relu, D_sigmoid]\n",
    "mynet = neural_net(Topology, act_fun, D_act_fun, cost_f, Da_cost)\n",
    "\n",
    "Z0 = (xtrain_.T - np.mean(xtrain_.T, axis=1, keepdims=True)) / np.std(xtrain_.T, axis=1, keepdims=True)\n",
    "mynet.train(Z0, Y)\n"
   ]
  },
  {
   "cell_type": "code",
   "execution_count": 25,
   "metadata": {
    "collapsed": true
   },
   "outputs": [
    {
     "data": {
      "text/plain": [
       "array([[4.96288104e-01, 1.07412603e-12, 4.96288104e-01, 6.02129865e-01,\n",
       "        2.62774651e-02, 1.44204058e-04, 3.33051552e-03, 1.08015824e-01,\n",
       "        4.96288104e-01, 4.96288104e-01, 4.96288104e-01, 9.25417404e-07,\n",
       "        4.96288104e-01, 4.96288104e-01, 4.96288104e-01, 4.96288104e-01,\n",
       "        4.96288104e-01, 4.96288104e-01, 2.17102209e-05, 9.96437753e-01,\n",
       "        3.05354524e-03, 2.72713671e-10, 4.96288104e-01, 4.96288104e-01,\n",
       "        4.96288104e-01, 4.96288104e-01, 1.27578462e-55, 9.93363242e-01,\n",
       "        4.96288104e-01, 8.95128213e-01, 5.28886469e-01, 4.96288104e-01,\n",
       "        4.96288104e-01, 4.96288104e-01, 4.96288104e-01, 4.96288104e-01,\n",
       "        4.96288104e-01, 4.96288104e-01, 9.94184917e-01, 1.17948172e-02,\n",
       "        4.96288104e-01, 5.47671967e-08, 9.99963746e-01, 4.96288104e-01,\n",
       "        4.96288104e-01, 4.96288104e-01, 4.96288104e-01, 9.99966551e-01,\n",
       "        4.96288104e-01, 4.96288104e-01, 4.96288104e-01, 4.96288104e-01,\n",
       "        5.34431901e-21, 4.96288104e-01, 4.96288104e-01, 4.96288104e-01,\n",
       "        6.02183071e-29, 4.96288104e-01, 4.96288104e-01, 5.19257153e-01,\n",
       "        2.13663829e-26, 4.96288104e-01, 4.96288104e-01, 4.96288104e-01,\n",
       "        4.96288104e-01, 5.76476904e-01, 4.96288104e-01, 4.96288104e-01,\n",
       "        4.96288104e-01, 2.18392228e-01, 4.96288104e-01, 9.68092023e-01,\n",
       "        4.96288104e-01, 4.96288104e-01, 4.96288104e-01, 4.96288104e-01,\n",
       "        4.96288104e-01, 3.72750298e-08, 3.91859184e-12, 6.77466826e-01,\n",
       "        4.96288104e-01, 4.96288104e-01, 2.35438499e-03, 4.96288104e-01,\n",
       "        4.96288104e-01, 4.96288104e-01, 4.96288104e-01, 1.39562086e-07,\n",
       "        4.96288104e-01, 4.96288104e-01, 4.96288104e-01, 1.02484456e-26,\n",
       "        9.99982660e-01, 3.31684952e-03, 9.99998460e-01, 4.96288104e-01,\n",
       "        4.96288104e-01, 4.96288104e-01, 4.96288104e-01, 4.96288104e-01,\n",
       "        4.96288104e-01, 4.96288104e-01, 4.96288104e-01, 4.96288104e-01,\n",
       "        4.96288104e-01, 4.96288104e-01, 4.96288104e-01, 4.96288104e-01,\n",
       "        4.96288104e-01, 4.96288104e-01, 4.96288104e-01, 4.96288104e-01,\n",
       "        4.96288104e-01, 5.23009239e-47, 4.96288104e-01, 4.96288104e-01,\n",
       "        4.96288104e-01, 4.96288104e-01, 2.18609192e-02, 4.96288104e-01,\n",
       "        4.96288104e-01, 4.96288104e-01, 4.38895242e-10, 1.05645927e-01,\n",
       "        4.96288104e-01, 7.58399076e-12, 4.96288104e-01, 4.96288104e-01,\n",
       "        4.04151500e-33, 4.96288104e-01, 1.42300569e-02, 4.96288104e-01,\n",
       "        4.96288104e-01, 7.56804062e-01, 5.76146609e-01, 4.96288104e-01,\n",
       "        9.98784017e-01, 4.96288104e-01, 4.96288104e-01, 4.96288104e-01,\n",
       "        4.96288104e-01, 4.96288104e-01, 4.96288104e-01, 4.96288104e-01,\n",
       "        4.96288104e-01, 7.08898397e-01, 4.96288104e-01, 4.96288104e-01,\n",
       "        4.96288104e-01, 4.96288104e-01, 4.96288104e-01, 4.96920883e-01,\n",
       "        3.65402711e-06, 4.96288104e-01, 6.31502457e-01, 4.96288104e-01,\n",
       "        9.99998848e-01, 4.96288104e-01, 4.96288104e-01, 4.96288104e-01,\n",
       "        4.89743730e-16, 4.96288104e-01, 9.36397734e-01, 1.00000000e+00,\n",
       "        4.96288104e-01, 4.96288104e-01, 4.96288104e-01, 4.96288104e-01,\n",
       "        4.96288104e-01, 4.96288104e-01, 4.96288104e-01, 4.96288104e-01,\n",
       "        4.96288104e-01, 4.96288104e-01, 5.62116896e-01, 4.96288104e-01,\n",
       "        2.04336591e-04, 4.96288104e-01, 4.96288104e-01, 4.96288104e-01,\n",
       "        4.96288104e-01, 4.96288104e-01, 4.96288104e-01, 1.08330829e-01,\n",
       "        4.96288104e-01, 4.96288104e-01, 4.96288104e-01, 4.96288104e-01,\n",
       "        4.96288104e-01, 4.96288104e-01, 4.96288104e-01, 4.96288104e-01,\n",
       "        4.96288104e-01, 4.96288104e-01, 4.96288104e-01, 2.83122358e-26,\n",
       "        4.96288104e-01, 4.96288104e-01, 4.96288104e-01, 4.96288104e-01,\n",
       "        4.96288104e-01, 4.96288104e-01, 7.25103652e-01, 4.96288104e-01,\n",
       "        4.96288104e-01, 4.96288104e-01, 4.96288104e-01, 4.96288104e-01,\n",
       "        8.63802529e-01]])"
      ]
     },
     "execution_count": 25,
     "metadata": {},
     "output_type": "execute_result"
    }
   ],
   "source": [
    "mynet.nn[-1].A"
   ]
  },
  {
   "cell_type": "code",
   "execution_count": 26,
   "metadata": {},
   "outputs": [],
   "source": [
    "#Si la probabilidad es mayor a 0.5 se le asigna un 1 de lo contrario se le asigna un 0.\n",
    "resultado = []\n",
    "for elem in mynet.nn[-1].A[0]:\n",
    "    if elem > 0.5:\n",
    "        resultado.append(1)\n",
    "    else:\n",
    "        resultado.append(0)\n",
    "        "
   ]
  },
  {
   "cell_type": "code",
   "execution_count": 32,
   "metadata": {},
   "outputs": [
    {
     "name": "stdout",
     "output_type": "stream",
     "text": [
      "El error mínimo que se alcanzó fue: 1.084983778549082\n"
     ]
    }
   ],
   "source": [
    "print(f\"El error mínimo que se alcanzó fue: {mynet.J(Y, mynet.nn[-1].A)}\" )"
   ]
  },
  {
   "cell_type": "markdown",
   "metadata": {},
   "source": [
    "Imprime el número de datos que obtienen el valor esperado respecto a los que no"
   ]
  },
  {
   "cell_type": "code",
   "execution_count": 28,
   "metadata": {},
   "outputs": [
    {
     "name": "stdout",
     "output_type": "stream",
     "text": [
      "malos:63 buenos: 146\n"
     ]
    }
   ],
   "source": [
    "print( f\"malos:{np.sum(np.abs(np.array(resultado)-Y))} buenos: {209- np.sum(np.abs(np.array(resultado)-Y))}\")"
   ]
  }
 ],
 "metadata": {
  "colab": {
   "provenance": []
  },
  "kernelspec": {
   "display_name": "Python 3 (ipykernel)",
   "language": "python",
   "name": "python3"
  },
  "language_info": {
   "codemirror_mode": {
    "name": "ipython",
    "version": 3
   },
   "file_extension": ".py",
   "mimetype": "text/x-python",
   "name": "python",
   "nbconvert_exporter": "python",
   "pygments_lexer": "ipython3",
   "version": "3.7.1"
  }
 },
 "nbformat": 4,
 "nbformat_minor": 4
}
