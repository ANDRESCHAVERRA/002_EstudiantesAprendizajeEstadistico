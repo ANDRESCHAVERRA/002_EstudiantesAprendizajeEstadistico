{
 "cells": [
  {
   "cell_type": "markdown",
   "metadata": {},
   "source": [
    "# Problema: Dataset de pingüinos:\n",
    "\n",
    "Carga el sigiuente dataset y responde las siguientes preguntas:\n",
    "\n",
    "```python\n",
    "import pandas as pd\n",
    "import seaborn as sns\n",
    "\n",
    "# Cargar el dataset\n",
    "df = sns.load_dataset('penguins')\n",
    "```\n",
    "\n",
    "\n",
    "<font color='#2f8adf'>**1.**</font> ¿Cuántas especies diferentes de pingüinos hay en el dataset?\n",
    "\n",
    "    R. Hay 3 especies diferentes: Adelie, Gentoo, Chinstrap\n",
    "    \n",
    "<font color='#2f8adf'>**2.**</font> ¿Cuál es la longitud media del pico de los pingüinos de la especie Adelie?\n",
    "\n",
    "    R. La longitud media del pico es 38.82397260273973 mm\n",
    "\n",
    "<font color='#2f8adf'>**3.**</font> ¿Cuál es la masa corporal promedio de los pingüinos de la especie Gentoo?\n",
    "\n",
    "    R. La masa corporal promedio es 5092.436974789916 g\n",
    "\n",
    "<font color='#2f8adf'>**4.**</font> ¿Cuál es la relación entre la longitud del pico y la masa corporal de los pingüinos?\n",
    "\n",
    "    R. La longitud del pico y la masa corporal tiene una correlación de 0.589451\n",
    "\n",
    "<font color='#2f8adf'>**5.**</font> ¿Cuál es la isla con mayor número de pingüinos en el dataset?\n",
    "\n",
    "    R. La isla con mayor número de pingüinos en el dataset es Biscoe\n",
    "\n",
    "<font color='#2f8adf'>**6.**</font> ¿Cuál es la desviación estándar de la longitud de la aleta de los pingüinos de la especie Chinstrap?\n",
    "\n",
    "    R. La desviacion estandar en la longitud del pico de la especie Chinstrap es:  3.3392558959358865\n",
    "\n",
    "<font color='#2f8adf'>**7.**</font> ¿Qué pingüino tiene el pico más largo en el dataset y cuál es su especie?\n",
    "\n",
    "    R. El pingüino tiene el pico más largo en el dataset es de especie Gentoo\n",
    "\n",
    "<font color='#2f8adf'>**8.**</font> ¿Cuál es la proporción de machos y hembras en la especie Adelie?\n",
    "\n",
    "    R. El 50% es macho y el 50% es hembra, están en proporcion 1:1\n",
    "\n",
    "<font color='#2f8adf'>**9.**</font> ¿Existe una correlación significativa entre la longitud del pico y la masa corporal en las diferentes especies de pingüinos?\n",
    "\n",
    "    R. Todas las especies tienen una correlación directa entre la longitud del pico y la masa, en este dataset las correlaciones son: \n",
    "    Adelie: 0.544276\n",
    "    Chinstrap: 0.513638 \n",
    "    Gentoo: 0.666730\n",
    "    \n",
    "\n",
    "<font color='#2f8adf'>**10.**</font> ¿Cuál es la distribución de la masa corporal entre las especies de pingüinos?\n",
    "\n",
    "    R. Solución en histograma\n",
    "\n",
    "<font color='#2f8adf'>**11.**</font> ¿Cuál es la longitud mínima y máxima de la aleta entre las tres especies de pingüinos?\n",
    "\n",
    "    R. La longitud (mm) de aleta mínima y máxima de cada especie es:\n",
    "\n",
    "    Adelie: 172 - 210\n",
    "\n",
    "    Chinstrap: 178 - 212\n",
    "\n",
    "    Gentoo: 203 - 231\n",
    "\n",
    "<font color='#2f8adf'>**12.**</font> ¿Cuántos pingüinos tienen una masa corporal superior a 5000 gramos?\n",
    "\n",
    "    R. La cantidad de pinguinos con masa superior a 5000 gramos es:  61\n",
    "\n",
    "<font color='#2f8adf'>**13.**</font> ¿Cómo varía la longitud del pico entre las diferentes especies de pingüinos en las distintas islas?\n",
    "\n",
    "    R.\n",
    "\n",
    "<font color='#2f8adf'>**14.**</font> ¿Cuál es la relación entre la longitud de la aleta y la masa corporal en los pingüinos de la especie Gentoo?\n",
    "\n",
    "    R. Los pinguinos de la especie Gentoo tienen una relación directa entre la longitud de su aleta y la masa corporal, tienendo estos dos atributos una correlación de 0.711305\n",
    "\n",
    "<font color='#2f8adf'>**15.**</font> ¿Cuántos pingüinos tienen datos faltantes en alguna de sus características?\n",
    "\n",
    "    R. La cacntidad de pinguinos con algun dato nulo es:  11\n",
    "\n",
    "<font color='#2f8adf'>**16.**</font> ¿Cuál es la isla con la mayor variación en la longitud del pico entre las tres especies de pingüinos?\n",
    "\n",
    "    R.\n",
    "\n",
    "<font color='#2f8adf'>**17.**</font> ¿Cuál es la diferencia en masa corporal promedio entre machos y hembras de la especie Chinstrap?\n",
    "\n",
    "    R. En promedio los machos son 411.8 gramos más pesados que las hembras\n",
    "\n",
    "<font color='#2f8adf'>**18.**</font> ¿Qué especie de pingüino tiene la longitud de aleta promedio más alta?\n",
    "\n",
    "    R. La especie con la longitud de aleta promedio mas larga es Gentoo y su longitud media es 217.2 mm\n",
    "\n",
    "<font color='#2f8adf'>**19.**</font> ¿Cuál es la longitud del pico más pequeña registrada en el dataset y de qué especie es?\n",
    "\n",
    "    R. La menor longitud de pico registrada en el dataset es 32.1 mm, y corresponde a un pinguino de la especie Adelie.\n",
    "\n",
    "<font color='#2f8adf'>**20.**</font> ¿Cuál es la relación entre el sexo y la longitud de la aleta en los pingüinos de la especie Adelie?\n",
    "\n",
    "    R. En los pinguinos Adelie al hermbras tienen en promedio la aleta más corta que los machos.\n",
    "\n",
    "    promedio $\\pm$ std\n",
    "\n",
    "    hembras: 187.8 $\\pm$ 5.6 \n",
    "    machos:  192.4 $\\pm$ 6.6"
   ]
  },
  {
   "cell_type": "markdown",
   "metadata": {},
   "source": [
    "# Importar librerias y dataset"
   ]
  },
  {
   "cell_type": "code",
   "execution_count": 3,
   "metadata": {},
   "outputs": [],
   "source": [
    "import pandas as pd\n",
    "import seaborn as sns\n",
    "\n",
    "# Cargar el dataset\n",
    "df = sns.load_dataset('penguins')"
   ]
  },
  {
   "cell_type": "code",
   "execution_count": 4,
   "metadata": {},
   "outputs": [
    {
     "data": {
      "text/html": [
       "<div>\n",
       "<style scoped>\n",
       "    .dataframe tbody tr th:only-of-type {\n",
       "        vertical-align: middle;\n",
       "    }\n",
       "\n",
       "    .dataframe tbody tr th {\n",
       "        vertical-align: top;\n",
       "    }\n",
       "\n",
       "    .dataframe thead th {\n",
       "        text-align: right;\n",
       "    }\n",
       "</style>\n",
       "<table border=\"1\" class=\"dataframe\">\n",
       "  <thead>\n",
       "    <tr style=\"text-align: right;\">\n",
       "      <th></th>\n",
       "      <th>species</th>\n",
       "      <th>island</th>\n",
       "      <th>bill_length_mm</th>\n",
       "      <th>bill_depth_mm</th>\n",
       "      <th>flipper_length_mm</th>\n",
       "      <th>body_mass_g</th>\n",
       "      <th>sex</th>\n",
       "    </tr>\n",
       "  </thead>\n",
       "  <tbody>\n",
       "    <tr>\n",
       "      <th>0</th>\n",
       "      <td>Adelie</td>\n",
       "      <td>Torgersen</td>\n",
       "      <td>39.1</td>\n",
       "      <td>18.7</td>\n",
       "      <td>181.0</td>\n",
       "      <td>3750.0</td>\n",
       "      <td>Male</td>\n",
       "    </tr>\n",
       "    <tr>\n",
       "      <th>1</th>\n",
       "      <td>Adelie</td>\n",
       "      <td>Torgersen</td>\n",
       "      <td>39.5</td>\n",
       "      <td>17.4</td>\n",
       "      <td>186.0</td>\n",
       "      <td>3800.0</td>\n",
       "      <td>Female</td>\n",
       "    </tr>\n",
       "    <tr>\n",
       "      <th>2</th>\n",
       "      <td>Adelie</td>\n",
       "      <td>Torgersen</td>\n",
       "      <td>40.3</td>\n",
       "      <td>18.0</td>\n",
       "      <td>195.0</td>\n",
       "      <td>3250.0</td>\n",
       "      <td>Female</td>\n",
       "    </tr>\n",
       "    <tr>\n",
       "      <th>3</th>\n",
       "      <td>Adelie</td>\n",
       "      <td>Torgersen</td>\n",
       "      <td>NaN</td>\n",
       "      <td>NaN</td>\n",
       "      <td>NaN</td>\n",
       "      <td>NaN</td>\n",
       "      <td>NaN</td>\n",
       "    </tr>\n",
       "    <tr>\n",
       "      <th>4</th>\n",
       "      <td>Adelie</td>\n",
       "      <td>Torgersen</td>\n",
       "      <td>36.7</td>\n",
       "      <td>19.3</td>\n",
       "      <td>193.0</td>\n",
       "      <td>3450.0</td>\n",
       "      <td>Female</td>\n",
       "    </tr>\n",
       "  </tbody>\n",
       "</table>\n",
       "</div>"
      ],
      "text/plain": [
       "  species     island  bill_length_mm  bill_depth_mm  flipper_length_mm  \\\n",
       "0  Adelie  Torgersen            39.1           18.7              181.0   \n",
       "1  Adelie  Torgersen            39.5           17.4              186.0   \n",
       "2  Adelie  Torgersen            40.3           18.0              195.0   \n",
       "3  Adelie  Torgersen             NaN            NaN                NaN   \n",
       "4  Adelie  Torgersen            36.7           19.3              193.0   \n",
       "\n",
       "   body_mass_g     sex  \n",
       "0       3750.0    Male  \n",
       "1       3800.0  Female  \n",
       "2       3250.0  Female  \n",
       "3          NaN     NaN  \n",
       "4       3450.0  Female  "
      ]
     },
     "execution_count": 4,
     "metadata": {},
     "output_type": "execute_result"
    }
   ],
   "source": [
    "df.head()"
   ]
  },
  {
   "cell_type": "code",
   "execution_count": 5,
   "metadata": {},
   "outputs": [],
   "source": [
    "df.dropna(inplace=True)"
   ]
  },
  {
   "cell_type": "markdown",
   "metadata": {},
   "source": [
    "# Desarrollo de preguntas\n",
    "\n",
    "1."
   ]
  },
  {
   "cell_type": "code",
   "execution_count": 6,
   "metadata": {},
   "outputs": [
    {
     "name": "stdout",
     "output_type": "stream",
     "text": [
      "species\n",
      "Adelie       146\n",
      "Gentoo       119\n",
      "Chinstrap     68\n",
      "Name: count, dtype: int64\n",
      "-----------------------------------------\n",
      "\n",
      "La cantidad de especies diferentes es:  3\n"
     ]
    }
   ],
   "source": [
    "print(df.value_counts('species'))\n",
    "print('-----------------------------------------')\n",
    "print('\\nLa cantidad de especies diferentes es: ',len(df['species'].unique()))\n"
   ]
  },
  {
   "cell_type": "markdown",
   "metadata": {},
   "source": [
    "2."
   ]
  },
  {
   "cell_type": "code",
   "execution_count": 22,
   "metadata": {},
   "outputs": [
    {
     "name": "stdout",
     "output_type": "stream",
     "text": [
      "La longitud promedio del pico de la especie Adelie en mm es:\n"
     ]
    },
    {
     "data": {
      "text/plain": [
       "38.82397260273973"
      ]
     },
     "execution_count": 22,
     "metadata": {},
     "output_type": "execute_result"
    }
   ],
   "source": [
    "print('La longitud promedio del pico de la especie Adelie en mm es:')\n",
    "\n",
    "df.groupby('species')['bill_length_mm'].mean().loc['Adelie']"
   ]
  },
  {
   "cell_type": "markdown",
   "metadata": {},
   "source": [
    "3."
   ]
  },
  {
   "cell_type": "code",
   "execution_count": 23,
   "metadata": {},
   "outputs": [
    {
     "name": "stdout",
     "output_type": "stream",
     "text": [
      "La masa corporal promedio de los pingüinos de la especie Gentoo en gramos es:\n"
     ]
    },
    {
     "data": {
      "text/plain": [
       "5092.436974789916"
      ]
     },
     "execution_count": 23,
     "metadata": {},
     "output_type": "execute_result"
    }
   ],
   "source": [
    "print('La masa corporal promedio de los pingüinos de la especie Gentoo en gramos es:')\n",
    "\n",
    "df.groupby('species')['body_mass_g'].mean().loc['Gentoo']"
   ]
  },
  {
   "cell_type": "markdown",
   "metadata": {},
   "source": [
    "4."
   ]
  },
  {
   "cell_type": "code",
   "execution_count": 49,
   "metadata": {},
   "outputs": [
    {
     "data": {
      "text/html": [
       "<div>\n",
       "<style scoped>\n",
       "    .dataframe tbody tr th:only-of-type {\n",
       "        vertical-align: middle;\n",
       "    }\n",
       "\n",
       "    .dataframe tbody tr th {\n",
       "        vertical-align: top;\n",
       "    }\n",
       "\n",
       "    .dataframe thead th {\n",
       "        text-align: right;\n",
       "    }\n",
       "</style>\n",
       "<table border=\"1\" class=\"dataframe\">\n",
       "  <thead>\n",
       "    <tr style=\"text-align: right;\">\n",
       "      <th></th>\n",
       "      <th>bill_length_mm</th>\n",
       "      <th>body_mass_g</th>\n",
       "    </tr>\n",
       "  </thead>\n",
       "  <tbody>\n",
       "    <tr>\n",
       "      <th>bill_length_mm</th>\n",
       "      <td>1.000000</td>\n",
       "      <td>0.589451</td>\n",
       "    </tr>\n",
       "    <tr>\n",
       "      <th>body_mass_g</th>\n",
       "      <td>0.589451</td>\n",
       "      <td>1.000000</td>\n",
       "    </tr>\n",
       "  </tbody>\n",
       "</table>\n",
       "</div>"
      ],
      "text/plain": [
       "                bill_length_mm  body_mass_g\n",
       "bill_length_mm        1.000000     0.589451\n",
       "body_mass_g           0.589451     1.000000"
      ]
     },
     "execution_count": 49,
     "metadata": {},
     "output_type": "execute_result"
    }
   ],
   "source": [
    "dfBillAndMass = df[['bill_length_mm','body_mass_g']]\n",
    "dfBillAndMass.corr()"
   ]
  },
  {
   "cell_type": "code",
   "execution_count": 52,
   "metadata": {},
   "outputs": [
    {
     "data": {
      "text/plain": [
       "<Axes: xlabel='bill_length_mm', ylabel='body_mass_g'>"
      ]
     },
     "execution_count": 52,
     "metadata": {},
     "output_type": "execute_result"
    },
    {
     "data": {
      "image/png": "[encoded data removed]",
      "text/plain": [
       "<Figure size 640x480 with 1 Axes>"
      ]
     },
     "metadata": {},
     "output_type": "display_data"
    }
   ],
   "source": [
    "sns.scatterplot(data=dfBillAndMass,x='bill_length_mm', y='body_mass_g')"
   ]
  },
  {
   "cell_type": "markdown",
   "metadata": {},
   "source": [
    "5."
   ]
  },
  {
   "cell_type": "code",
   "execution_count": 33,
   "metadata": {},
   "outputs": [
    {
     "name": "stdout",
     "output_type": "stream",
     "text": [
      "La isla con más pinguinos es:  Biscoe\n"
     ]
    }
   ],
   "source": [
    "morePenguinsIsland = df['island'].value_counts().idxmax()\n",
    "print('La isla con más pinguinos es: ',morePenguinsIsland)"
   ]
  },
  {
   "cell_type": "markdown",
   "metadata": {},
   "source": [
    "6."
   ]
  },
  {
   "cell_type": "code",
   "execution_count": 47,
   "metadata": {},
   "outputs": [
    {
     "name": "stdout",
     "output_type": "stream",
     "text": [
      "La desviacion estandar en la longitud del pico de la especie Chinstrap es:  3.3392558959358865\n"
     ]
    }
   ],
   "source": [
    "chinstrapBillLength_std = df[df['species'] == 'Chinstrap']['bill_length_mm'].std()\n",
    "print('La desviacion estandar en la longitud del pico de la especie Chinstrap es: ', chinstrapBillLength_std)"
   ]
  },
  {
   "cell_type": "markdown",
   "metadata": {},
   "source": [
    "7."
   ]
  },
  {
   "cell_type": "code",
   "execution_count": 43,
   "metadata": {},
   "outputs": [
    {
     "name": "stdout",
     "output_type": "stream",
     "text": [
      "La especie del pinguino con el pico mas largo es:  Gentoo\n"
     ]
    }
   ],
   "source": [
    "largestBillIndex = df['bill_length_mm'].idxmax()\n",
    "largestBillSpecie = df['species'].iloc[largestBillIndex]\n",
    "print('La especie del pinguino con el pico mas largo es: ',largestBillSpecie)"
   ]
  },
  {
   "cell_type": "markdown",
   "metadata": {},
   "source": [
    "8."
   ]
  },
  {
   "cell_type": "code",
   "execution_count": 38,
   "metadata": {},
   "outputs": [
    {
     "data": {
      "text/plain": [
       "sex\n",
       "Male      0.5\n",
       "Female    0.5\n",
       "Name: proportion, dtype: float64"
      ]
     },
     "execution_count": 38,
     "metadata": {},
     "output_type": "execute_result"
    }
   ],
   "source": [
    "adelieSexProportion = df[df['species'] == 'Adelie']['sex'].value_counts(normalize=True)\n",
    "print('Proporcion de machos y hembras en la especie Adelie')\n",
    "adelieSexProportion"
   ]
  },
  {
   "cell_type": "markdown",
   "metadata": {},
   "source": [
    "9."
   ]
  },
  {
   "cell_type": "code",
   "execution_count": 6,
   "metadata": {},
   "outputs": [
    {
     "name": "stdout",
     "output_type": "stream",
     "text": [
      "Tabla de correlación bill length y body mass para casa especie\n"
     ]
    },
    {
     "data": {
      "text/html": [
       "<div>\n",
       "<style scoped>\n",
       "    .dataframe tbody tr th:only-of-type {\n",
       "        vertical-align: middle;\n",
       "    }\n",
       "\n",
       "    .dataframe tbody tr th {\n",
       "        vertical-align: top;\n",
       "    }\n",
       "\n",
       "    .dataframe thead th {\n",
       "        text-align: right;\n",
       "    }\n",
       "</style>\n",
       "<table border=\"1\" class=\"dataframe\">\n",
       "  <thead>\n",
       "    <tr style=\"text-align: right;\">\n",
       "      <th></th>\n",
       "      <th></th>\n",
       "      <th>bill_length_mm</th>\n",
       "      <th>body_mass_g</th>\n",
       "    </tr>\n",
       "    <tr>\n",
       "      <th>species</th>\n",
       "      <th></th>\n",
       "      <th></th>\n",
       "      <th></th>\n",
       "    </tr>\n",
       "  </thead>\n",
       "  <tbody>\n",
       "    <tr>\n",
       "      <th rowspan=\"2\" valign=\"top\">Adelie</th>\n",
       "      <th>bill_length_mm</th>\n",
       "      <td>1.000000</td>\n",
       "      <td>0.544276</td>\n",
       "    </tr>\n",
       "    <tr>\n",
       "      <th>body_mass_g</th>\n",
       "      <td>0.544276</td>\n",
       "      <td>1.000000</td>\n",
       "    </tr>\n",
       "    <tr>\n",
       "      <th rowspan=\"2\" valign=\"top\">Chinstrap</th>\n",
       "      <th>bill_length_mm</th>\n",
       "      <td>1.000000</td>\n",
       "      <td>0.513638</td>\n",
       "    </tr>\n",
       "    <tr>\n",
       "      <th>body_mass_g</th>\n",
       "      <td>0.513638</td>\n",
       "      <td>1.000000</td>\n",
       "    </tr>\n",
       "    <tr>\n",
       "      <th rowspan=\"2\" valign=\"top\">Gentoo</th>\n",
       "      <th>bill_length_mm</th>\n",
       "      <td>1.000000</td>\n",
       "      <td>0.666730</td>\n",
       "    </tr>\n",
       "    <tr>\n",
       "      <th>body_mass_g</th>\n",
       "      <td>0.666730</td>\n",
       "      <td>1.000000</td>\n",
       "    </tr>\n",
       "  </tbody>\n",
       "</table>\n",
       "</div>"
      ],
      "text/plain": [
       "                          bill_length_mm  body_mass_g\n",
       "species                                              \n",
       "Adelie    bill_length_mm        1.000000     0.544276\n",
       "          body_mass_g           0.544276     1.000000\n",
       "Chinstrap bill_length_mm        1.000000     0.513638\n",
       "          body_mass_g           0.513638     1.000000\n",
       "Gentoo    bill_length_mm        1.000000     0.666730\n",
       "          body_mass_g           0.666730     1.000000"
      ]
     },
     "execution_count": 6,
     "metadata": {},
     "output_type": "execute_result"
    }
   ],
   "source": [
    "dfSpecieBillAndMass = df[['species','bill_length_mm','body_mass_g']]\n",
    "\n",
    "print('Tabla de correlación bill length y body mass para casa especie')\n",
    "dfSpecieBillAndMass.groupby('species').corr()"
   ]
  },
  {
   "cell_type": "markdown",
   "metadata": {},
   "source": [
    "10."
   ]
  },
  {
   "cell_type": "code",
   "execution_count": 15,
   "metadata": {},
   "outputs": [
    {
     "data": {
      "text/plain": [
       "Text(0.5, 1.0, 'Distribución de masa corporal por especie')"
      ]
     },
     "execution_count": 15,
     "metadata": {},
     "output_type": "execute_result"
    },
    {
     "data": {
      "image/png": "[encoded data removed]",
      "text/plain": [
       "<Figure size 640x480 with 1 Axes>"
      ]
     },
     "metadata": {},
     "output_type": "display_data"
    }
   ],
   "source": [
    "specieBodyMass = df[['species','body_mass_g']]\n",
    "\n",
    "sns.histplot(data=specieBodyMass,x='body_mass_g', multiple='stack', hue='species', alpha=1).set_title('Distribución de masa corporal por especie')"
   ]
  },
  {
   "cell_type": "code",
   "execution_count": null,
   "metadata": {},
   "outputs": [
    {
     "name": "stdout",
     "output_type": "stream",
     "text": [
      "La cacntidad de pinguinos con algun dato nulo es:  11\n"
     ]
    }
   ],
   "source": [
    "originalDf = sns.load_dataset('penguins')\n",
    "rowsWithSomeNull = originalDf.isnull().any(axis=1).sum()\n",
    "\n",
    "print('La cacntidad de pinguinos con algun dato nulo es: ', rowsWithSomeNull)"
   ]
  },
  {
   "cell_type": "markdown",
   "metadata": {},
   "source": [
    "11."
   ]
  },
  {
   "cell_type": "code",
   "execution_count": 15,
   "metadata": {},
   "outputs": [
    {
     "data": {
      "text/html": [
       "<div>\n",
       "<style scoped>\n",
       "    .dataframe tbody tr th:only-of-type {\n",
       "        vertical-align: middle;\n",
       "    }\n",
       "\n",
       "    .dataframe tbody tr th {\n",
       "        vertical-align: top;\n",
       "    }\n",
       "\n",
       "    .dataframe thead tr th {\n",
       "        text-align: left;\n",
       "    }\n",
       "\n",
       "    .dataframe thead tr:last-of-type th {\n",
       "        text-align: right;\n",
       "    }\n",
       "</style>\n",
       "<table border=\"1\" class=\"dataframe\">\n",
       "  <thead>\n",
       "    <tr>\n",
       "      <th></th>\n",
       "      <th colspan=\"8\" halign=\"left\">flipper_length_mm</th>\n",
       "    </tr>\n",
       "    <tr>\n",
       "      <th></th>\n",
       "      <th>count</th>\n",
       "      <th>mean</th>\n",
       "      <th>std</th>\n",
       "      <th>min</th>\n",
       "      <th>25%</th>\n",
       "      <th>50%</th>\n",
       "      <th>75%</th>\n",
       "      <th>max</th>\n",
       "    </tr>\n",
       "    <tr>\n",
       "      <th>species</th>\n",
       "      <th></th>\n",
       "      <th></th>\n",
       "      <th></th>\n",
       "      <th></th>\n",
       "      <th></th>\n",
       "      <th></th>\n",
       "      <th></th>\n",
       "      <th></th>\n",
       "    </tr>\n",
       "  </thead>\n",
       "  <tbody>\n",
       "    <tr>\n",
       "      <th>Adelie</th>\n",
       "      <td>146.0</td>\n",
       "      <td>190.102740</td>\n",
       "      <td>6.521825</td>\n",
       "      <td>172.0</td>\n",
       "      <td>186.0</td>\n",
       "      <td>190.0</td>\n",
       "      <td>195.0</td>\n",
       "      <td>210.0</td>\n",
       "    </tr>\n",
       "    <tr>\n",
       "      <th>Chinstrap</th>\n",
       "      <td>68.0</td>\n",
       "      <td>195.823529</td>\n",
       "      <td>7.131894</td>\n",
       "      <td>178.0</td>\n",
       "      <td>191.0</td>\n",
       "      <td>196.0</td>\n",
       "      <td>201.0</td>\n",
       "      <td>212.0</td>\n",
       "    </tr>\n",
       "    <tr>\n",
       "      <th>Gentoo</th>\n",
       "      <td>119.0</td>\n",
       "      <td>217.235294</td>\n",
       "      <td>6.585431</td>\n",
       "      <td>203.0</td>\n",
       "      <td>212.0</td>\n",
       "      <td>216.0</td>\n",
       "      <td>221.5</td>\n",
       "      <td>231.0</td>\n",
       "    </tr>\n",
       "  </tbody>\n",
       "</table>\n",
       "</div>"
      ],
      "text/plain": [
       "          flipper_length_mm                                                    \\\n",
       "                      count        mean       std    min    25%    50%    75%   \n",
       "species                                                                         \n",
       "Adelie                146.0  190.102740  6.521825  172.0  186.0  190.0  195.0   \n",
       "Chinstrap              68.0  195.823529  7.131894  178.0  191.0  196.0  201.0   \n",
       "Gentoo                119.0  217.235294  6.585431  203.0  212.0  216.0  221.5   \n",
       "\n",
       "                  \n",
       "             max  \n",
       "species           \n",
       "Adelie     210.0  \n",
       "Chinstrap  212.0  \n",
       "Gentoo     231.0  "
      ]
     },
     "execution_count": 15,
     "metadata": {},
     "output_type": "execute_result"
    }
   ],
   "source": [
    "dataFlipper = df[['species','flipper_length_mm']]\t\n",
    "\n",
    "dataFlipper.groupby('species').describe()"
   ]
  },
  {
   "cell_type": "markdown",
   "metadata": {},
   "source": [
    "12."
   ]
  },
  {
   "cell_type": "code",
   "execution_count": 19,
   "metadata": {},
   "outputs": [
    {
     "name": "stdout",
     "output_type": "stream",
     "text": [
      "La cantidad de pinguinos con masa superior a 5000 gramos es:  61\n"
     ]
    }
   ],
   "source": [
    "heavyPenguis = df[df['body_mass_g'] > 5000]\n",
    "print('La cantidad de pinguinos con masa superior a 5000 gramos es: ',len(heavyPenguis))"
   ]
  },
  {
   "cell_type": "markdown",
   "metadata": {},
   "source": [
    "13."
   ]
  },
  {
   "cell_type": "code",
   "execution_count": null,
   "metadata": {},
   "outputs": [],
   "source": []
  },
  {
   "cell_type": "markdown",
   "metadata": {},
   "source": [
    "14."
   ]
  },
  {
   "cell_type": "code",
   "execution_count": 6,
   "metadata": {},
   "outputs": [
    {
     "data": {
      "text/html": [
       "<div>\n",
       "<style scoped>\n",
       "    .dataframe tbody tr th:only-of-type {\n",
       "        vertical-align: middle;\n",
       "    }\n",
       "\n",
       "    .dataframe tbody tr th {\n",
       "        vertical-align: top;\n",
       "    }\n",
       "\n",
       "    .dataframe thead th {\n",
       "        text-align: right;\n",
       "    }\n",
       "</style>\n",
       "<table border=\"1\" class=\"dataframe\">\n",
       "  <thead>\n",
       "    <tr style=\"text-align: right;\">\n",
       "      <th></th>\n",
       "      <th>flipper_length_mm</th>\n",
       "      <th>body_mass_g</th>\n",
       "    </tr>\n",
       "  </thead>\n",
       "  <tbody>\n",
       "    <tr>\n",
       "      <th>flipper_length_mm</th>\n",
       "      <td>1.000000</td>\n",
       "      <td>0.711305</td>\n",
       "    </tr>\n",
       "    <tr>\n",
       "      <th>body_mass_g</th>\n",
       "      <td>0.711305</td>\n",
       "      <td>1.000000</td>\n",
       "    </tr>\n",
       "  </tbody>\n",
       "</table>\n",
       "</div>"
      ],
      "text/plain": [
       "                   flipper_length_mm  body_mass_g\n",
       "flipper_length_mm           1.000000     0.711305\n",
       "body_mass_g                 0.711305     1.000000"
      ]
     },
     "execution_count": 6,
     "metadata": {},
     "output_type": "execute_result"
    }
   ],
   "source": [
    "flipperMassGentoo = df[df['species'] == 'Gentoo'][['flipper_length_mm','body_mass_g']]\n",
    "flipperMassGentoo.corr()"
   ]
  },
  {
   "cell_type": "markdown",
   "metadata": {},
   "source": [
    "15."
   ]
  },
  {
   "cell_type": "code",
   "execution_count": 13,
   "metadata": {},
   "outputs": [
    {
     "name": "stdout",
     "output_type": "stream",
     "text": [
      "La cacntidad de pinguinos con algun dato nulo es:  11\n"
     ]
    }
   ],
   "source": [
    "originalDf = sns.load_dataset('penguins')\n",
    "rowsWithSomeNull = originalDf.isnull().any(axis=1).sum()\n",
    "\n",
    "print('La cacntidad de pinguinos con algun dato nulo es: ', rowsWithSomeNull)"
   ]
  },
  {
   "cell_type": "markdown",
   "metadata": {},
   "source": [
    "16."
   ]
  },
  {
   "cell_type": "markdown",
   "metadata": {},
   "source": [
    "17."
   ]
  },
  {
   "cell_type": "code",
   "execution_count": 15,
   "metadata": {},
   "outputs": [
    {
     "name": "stdout",
     "output_type": "stream",
     "text": [
      "En promedio los machos son 411.8 gramos más pesados que las hembras\n"
     ]
    }
   ],
   "source": [
    "ChinstrapMassSex = df[df['species'] == 'Chinstrap'][['body_mass_g','sex']]\n",
    "\n",
    "male, female = ChinstrapMassSex[ChinstrapMassSex['sex'] == 'Male'], ChinstrapMassSex[ChinstrapMassSex['sex'] == 'Female']\n",
    "\n",
    "meandifference = round( male['body_mass_g'].mean() - female['body_mass_g'].mean(), 1)\n",
    "\n",
    "print(f'En promedio los machos son {meandifference} gramos más pesados que las hembras')"
   ]
  },
  {
   "cell_type": "markdown",
   "metadata": {},
   "source": [
    "18."
   ]
  },
  {
   "cell_type": "code",
   "execution_count": 39,
   "metadata": {},
   "outputs": [
    {
     "name": "stdout",
     "output_type": "stream",
     "text": [
      "           flipper_length_mm\n",
      "species                     \n",
      "Adelie            190.102740\n",
      "Chinstrap         195.823529\n",
      "Gentoo            217.235294 \n",
      "-----------------------------\n",
      "La especie con la longitud de aleta promedio mas larga es Gentoo y su longitud media es 217.2 mm\n"
     ]
    }
   ],
   "source": [
    "flipperDataBySpecie = df[['species','flipper_length_mm']].groupby('species')\n",
    "meanData = flipperDataBySpecie.mean()\n",
    "\n",
    "maxSpecie, maxMeanLength = meanData.idxmax().iloc[0], round( meanData.max().iloc[0], 1)\n",
    "\n",
    "print(meanData, '\\n-----------------------------')\n",
    "\n",
    "print(f'La especie con la longitud de aleta promedio mas larga es {maxSpecie} y su longitud media es {maxMeanLength} mm')"
   ]
  },
  {
   "cell_type": "markdown",
   "metadata": {},
   "source": [
    "19."
   ]
  },
  {
   "cell_type": "code",
   "execution_count": 41,
   "metadata": {},
   "outputs": [
    {
     "name": "stdout",
     "output_type": "stream",
     "text": [
      "La menor longitud de pico registrada en el dataset es 32.1 mm, y corresponde a un pinguino de la especie Adelie\n"
     ]
    }
   ],
   "source": [
    "minBillLength, minBillLengthIndex = df['bill_length_mm'].min(), df['bill_length_mm'].idxmin()\n",
    "\n",
    "minBillLengthSpecie = df['species'].iloc[minBillLengthIndex]\n",
    "\n",
    "print(f'La menor longitud de pico registrada en el dataset es {minBillLength} mm, y corresponde a un pinguino de la especie {minBillLengthSpecie}')"
   ]
  },
  {
   "cell_type": "markdown",
   "metadata": {},
   "source": [
    "20."
   ]
  },
  {
   "cell_type": "code",
   "execution_count": 17,
   "metadata": {},
   "outputs": [
    {
     "data": {
      "text/plain": [
       "<Axes: xlabel='sex', ylabel='flipper_length_mm'>"
      ]
     },
     "execution_count": 17,
     "metadata": {},
     "output_type": "execute_result"
    },
    {
     "data": {
      "image/png": "[encoded data removed]",
      "text/plain": [
       "<Figure size 640x480 with 1 Axes>"
      ]
     },
     "metadata": {},
     "output_type": "display_data"
    }
   ],
   "source": [
    "AdelieSexFlipper = df[df['species'] == 'Adelie'][['sex','flipper_length_mm']]\n",
    "\n",
    "sns.histplot(data=AdelieSexFlipper, x='sex', y='flipper_length_mm')"
   ]
  },
  {
   "cell_type": "code",
   "execution_count": 21,
   "metadata": {},
   "outputs": [
    {
     "data": {
      "text/html": [
       "<div>\n",
       "<style scoped>\n",
       "    .dataframe tbody tr th:only-of-type {\n",
       "        vertical-align: middle;\n",
       "    }\n",
       "\n",
       "    .dataframe tbody tr th {\n",
       "        vertical-align: top;\n",
       "    }\n",
       "\n",
       "    .dataframe thead tr th {\n",
       "        text-align: left;\n",
       "    }\n",
       "\n",
       "    .dataframe thead tr:last-of-type th {\n",
       "        text-align: right;\n",
       "    }\n",
       "</style>\n",
       "<table border=\"1\" class=\"dataframe\">\n",
       "  <thead>\n",
       "    <tr>\n",
       "      <th></th>\n",
       "      <th colspan=\"8\" halign=\"left\">flipper_length_mm</th>\n",
       "    </tr>\n",
       "    <tr>\n",
       "      <th></th>\n",
       "      <th>count</th>\n",
       "      <th>mean</th>\n",
       "      <th>std</th>\n",
       "      <th>min</th>\n",
       "      <th>25%</th>\n",
       "      <th>50%</th>\n",
       "      <th>75%</th>\n",
       "      <th>max</th>\n",
       "    </tr>\n",
       "    <tr>\n",
       "      <th>sex</th>\n",
       "      <th></th>\n",
       "      <th></th>\n",
       "      <th></th>\n",
       "      <th></th>\n",
       "      <th></th>\n",
       "      <th></th>\n",
       "      <th></th>\n",
       "      <th></th>\n",
       "    </tr>\n",
       "  </thead>\n",
       "  <tbody>\n",
       "    <tr>\n",
       "      <th>Female</th>\n",
       "      <td>73.0</td>\n",
       "      <td>187.794521</td>\n",
       "      <td>5.595035</td>\n",
       "      <td>172.0</td>\n",
       "      <td>185.0</td>\n",
       "      <td>188.0</td>\n",
       "      <td>191.0</td>\n",
       "      <td>202.0</td>\n",
       "    </tr>\n",
       "    <tr>\n",
       "      <th>Male</th>\n",
       "      <td>73.0</td>\n",
       "      <td>192.410959</td>\n",
       "      <td>6.599317</td>\n",
       "      <td>178.0</td>\n",
       "      <td>189.0</td>\n",
       "      <td>193.0</td>\n",
       "      <td>197.0</td>\n",
       "      <td>210.0</td>\n",
       "    </tr>\n",
       "  </tbody>\n",
       "</table>\n",
       "</div>"
      ],
      "text/plain": [
       "       flipper_length_mm                                                    \\\n",
       "                   count        mean       std    min    25%    50%    75%   \n",
       "sex                                                                          \n",
       "Female              73.0  187.794521  5.595035  172.0  185.0  188.0  191.0   \n",
       "Male                73.0  192.410959  6.599317  178.0  189.0  193.0  197.0   \n",
       "\n",
       "               \n",
       "          max  \n",
       "sex            \n",
       "Female  202.0  \n",
       "Male    210.0  "
      ]
     },
     "execution_count": 21,
     "metadata": {},
     "output_type": "execute_result"
    }
   ],
   "source": [
    "AdelieSexFlipper.groupby('sex').describe()"
   ]
  }
 ],
 "metadata": {
  "kernelspec": {
   "display_name": "Python 3",
   "language": "python",
   "name": "python3"
  },
  "language_info": {
   "codemirror_mode": {
    "name": "ipython",
    "version": 3
   },
   "file_extension": ".py",
   "mimetype": "text/x-python",
   "name": "python",
   "nbconvert_exporter": "python",
   "pygments_lexer": "ipython3",
   "version": "3.12.4"
  }
 },
 "nbformat": 4,
 "nbformat_minor": 2
}
