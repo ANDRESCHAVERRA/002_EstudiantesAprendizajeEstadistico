{
  "cells": [
    {
      "cell_type": "markdown",
      "metadata": {
        "id": "NsRH0Q4Yqn_D"
      },
      "source": [
        "<a href=\"https://colab.research.google.com/github/CienciaDatosUdea/002_EstudiantesAprendizajeEstadistico/blob/main/semestre2024-2/Sesiones/Sesion_01b_pandas_V1.ipynb\" target=\"_parent\"><img src=\"https://colab.research.google.com/assets/colab-badge.svg\" alt=\"Open In Colab\"/></a>\n",
        "\n",
        "\n"
      ]
    },
    {
      "cell_type": "markdown",
      "metadata": {
        "id": "mO08F9Bh2fU6"
      },
      "source": [
        "# Construyendo Data Frame desde diccionarios  y cargando datos del un data frame\n"
      ]
    },
    {
      "cell_type": "code",
      "execution_count": 271,
      "metadata": {
        "id": "aU4aSvHu56Hw"
      },
      "outputs": [],
      "source": [
        "import numpy as np\n",
        "import matplotlib.pylab as plt\n",
        "import pandas as pd\n",
        "import seaborn as sns\n",
        "from scipy import stats"
      ]
    },
    {
      "cell_type": "code",
      "execution_count": 272,
      "metadata": {
        "id": "_0w-AXrlBeTf"
      },
      "outputs": [],
      "source": [
        "def PascalCase(s):\n",
        "    return [\"\".join([i.capitalize() for i in col.split(\"_\")]) for col in s]"
      ]
    },
    {
      "cell_type": "markdown",
      "metadata": {
        "id": "_1cMfErhK3c9"
      },
      "source": [
        "# Problema: Dataset de pingüinos:\n",
        "\n",
        "Carga el sigiuente dataset y responde las siguientes preguntas:\n",
        "\n",
        "```python\n",
        "import pandas as pd\n",
        "import seaborn as sns\n",
        "\n",
        "# Cargar el dataset\n",
        "df = sns.load_dataset('penguins')\n",
        "```\n",
        "\n",
        "\n",
        "\n",
        "\n",
        "\n",
        "\n",
        "\n",
        "\n",
        "\n",
        "\n"
      ]
    },
    {
      "cell_type": "markdown",
      "metadata": {
        "id": "FO6zL3HtMJg9"
      },
      "source": [
        "1. ¿Cuántas especies diferentes de pingüinos hay en el dataset?"
      ]
    },
    {
      "cell_type": "code",
      "execution_count": 273,
      "metadata": {
        "id": "Gwplcj2PA7Bv"
      },
      "outputs": [],
      "source": [
        "# Cargar el dataset\n",
        "Ping = sns.load_dataset('penguins')"
      ]
    },
    {
      "cell_type": "code",
      "execution_count": 274,
      "metadata": {
        "id": "DPodAFXZB_Di"
      },
      "outputs": [
        {
          "data": {
            "text/html": [
              "<div>\n",
              "<style scoped>\n",
              "    .dataframe tbody tr th:only-of-type {\n",
              "        vertical-align: middle;\n",
              "    }\n",
              "\n",
              "    .dataframe tbody tr th {\n",
              "        vertical-align: top;\n",
              "    }\n",
              "\n",
              "    .dataframe thead th {\n",
              "        text-align: right;\n",
              "    }\n",
              "</style>\n",
              "<table border=\"1\" class=\"dataframe\">\n",
              "  <thead>\n",
              "    <tr style=\"text-align: right;\">\n",
              "      <th></th>\n",
              "      <th>Species</th>\n",
              "      <th>Island</th>\n",
              "      <th>BillLengthMm</th>\n",
              "      <th>BillDepthMm</th>\n",
              "      <th>FlipperLengthMm</th>\n",
              "      <th>BodyMassG</th>\n",
              "      <th>Sex</th>\n",
              "    </tr>\n",
              "  </thead>\n",
              "  <tbody>\n",
              "    <tr>\n",
              "      <th>0</th>\n",
              "      <td>Adelie</td>\n",
              "      <td>Torgersen</td>\n",
              "      <td>39.1</td>\n",
              "      <td>18.7</td>\n",
              "      <td>181.0</td>\n",
              "      <td>3750.0</td>\n",
              "      <td>Male</td>\n",
              "    </tr>\n",
              "    <tr>\n",
              "      <th>1</th>\n",
              "      <td>Adelie</td>\n",
              "      <td>Torgersen</td>\n",
              "      <td>39.5</td>\n",
              "      <td>17.4</td>\n",
              "      <td>186.0</td>\n",
              "      <td>3800.0</td>\n",
              "      <td>Female</td>\n",
              "    </tr>\n",
              "    <tr>\n",
              "      <th>2</th>\n",
              "      <td>Adelie</td>\n",
              "      <td>Torgersen</td>\n",
              "      <td>40.3</td>\n",
              "      <td>18.0</td>\n",
              "      <td>195.0</td>\n",
              "      <td>3250.0</td>\n",
              "      <td>Female</td>\n",
              "    </tr>\n",
              "    <tr>\n",
              "      <th>3</th>\n",
              "      <td>Adelie</td>\n",
              "      <td>Torgersen</td>\n",
              "      <td>NaN</td>\n",
              "      <td>NaN</td>\n",
              "      <td>NaN</td>\n",
              "      <td>NaN</td>\n",
              "      <td>NaN</td>\n",
              "    </tr>\n",
              "    <tr>\n",
              "      <th>4</th>\n",
              "      <td>Adelie</td>\n",
              "      <td>Torgersen</td>\n",
              "      <td>36.7</td>\n",
              "      <td>19.3</td>\n",
              "      <td>193.0</td>\n",
              "      <td>3450.0</td>\n",
              "      <td>Female</td>\n",
              "    </tr>\n",
              "    <tr>\n",
              "      <th>...</th>\n",
              "      <td>...</td>\n",
              "      <td>...</td>\n",
              "      <td>...</td>\n",
              "      <td>...</td>\n",
              "      <td>...</td>\n",
              "      <td>...</td>\n",
              "      <td>...</td>\n",
              "    </tr>\n",
              "    <tr>\n",
              "      <th>339</th>\n",
              "      <td>Gentoo</td>\n",
              "      <td>Biscoe</td>\n",
              "      <td>NaN</td>\n",
              "      <td>NaN</td>\n",
              "      <td>NaN</td>\n",
              "      <td>NaN</td>\n",
              "      <td>NaN</td>\n",
              "    </tr>\n",
              "    <tr>\n",
              "      <th>340</th>\n",
              "      <td>Gentoo</td>\n",
              "      <td>Biscoe</td>\n",
              "      <td>46.8</td>\n",
              "      <td>14.3</td>\n",
              "      <td>215.0</td>\n",
              "      <td>4850.0</td>\n",
              "      <td>Female</td>\n",
              "    </tr>\n",
              "    <tr>\n",
              "      <th>341</th>\n",
              "      <td>Gentoo</td>\n",
              "      <td>Biscoe</td>\n",
              "      <td>50.4</td>\n",
              "      <td>15.7</td>\n",
              "      <td>222.0</td>\n",
              "      <td>5750.0</td>\n",
              "      <td>Male</td>\n",
              "    </tr>\n",
              "    <tr>\n",
              "      <th>342</th>\n",
              "      <td>Gentoo</td>\n",
              "      <td>Biscoe</td>\n",
              "      <td>45.2</td>\n",
              "      <td>14.8</td>\n",
              "      <td>212.0</td>\n",
              "      <td>5200.0</td>\n",
              "      <td>Female</td>\n",
              "    </tr>\n",
              "    <tr>\n",
              "      <th>343</th>\n",
              "      <td>Gentoo</td>\n",
              "      <td>Biscoe</td>\n",
              "      <td>49.9</td>\n",
              "      <td>16.1</td>\n",
              "      <td>213.0</td>\n",
              "      <td>5400.0</td>\n",
              "      <td>Male</td>\n",
              "    </tr>\n",
              "  </tbody>\n",
              "</table>\n",
              "<p>344 rows × 7 columns</p>\n",
              "</div>"
            ],
            "text/plain": [
              "    Species     Island  BillLengthMm  BillDepthMm  FlipperLengthMm  BodyMassG  \\\n",
              "0    Adelie  Torgersen          39.1         18.7            181.0     3750.0   \n",
              "1    Adelie  Torgersen          39.5         17.4            186.0     3800.0   \n",
              "2    Adelie  Torgersen          40.3         18.0            195.0     3250.0   \n",
              "3    Adelie  Torgersen           NaN          NaN              NaN        NaN   \n",
              "4    Adelie  Torgersen          36.7         19.3            193.0     3450.0   \n",
              "..      ...        ...           ...          ...              ...        ...   \n",
              "339  Gentoo     Biscoe           NaN          NaN              NaN        NaN   \n",
              "340  Gentoo     Biscoe          46.8         14.3            215.0     4850.0   \n",
              "341  Gentoo     Biscoe          50.4         15.7            222.0     5750.0   \n",
              "342  Gentoo     Biscoe          45.2         14.8            212.0     5200.0   \n",
              "343  Gentoo     Biscoe          49.9         16.1            213.0     5400.0   \n",
              "\n",
              "        Sex  \n",
              "0      Male  \n",
              "1    Female  \n",
              "2    Female  \n",
              "3       NaN  \n",
              "4    Female  \n",
              "..      ...  \n",
              "339     NaN  \n",
              "340  Female  \n",
              "341    Male  \n",
              "342  Female  \n",
              "343    Male  \n",
              "\n",
              "[344 rows x 7 columns]"
            ]
          },
          "execution_count": 274,
          "metadata": {},
          "output_type": "execute_result"
        }
      ],
      "source": [
        "Ping.columns = PascalCase(Ping.columns)\n",
        "Ping"
      ]
    },
    {
      "cell_type": "markdown",
      "metadata": {
        "id": "7sl_HYJZOAhw"
      },
      "source": [
        "Hay filas que no tienen ninguna información adicional al nombre, por lo tanto, las elimino."
      ]
    },
    {
      "cell_type": "code",
      "execution_count": 275,
      "metadata": {
        "id": "jsMKb9TOOJ3P"
      },
      "outputs": [
        {
          "data": {
            "text/html": [
              "<div>\n",
              "<style scoped>\n",
              "    .dataframe tbody tr th:only-of-type {\n",
              "        vertical-align: middle;\n",
              "    }\n",
              "\n",
              "    .dataframe tbody tr th {\n",
              "        vertical-align: top;\n",
              "    }\n",
              "\n",
              "    .dataframe thead th {\n",
              "        text-align: right;\n",
              "    }\n",
              "</style>\n",
              "<table border=\"1\" class=\"dataframe\">\n",
              "  <thead>\n",
              "    <tr style=\"text-align: right;\">\n",
              "      <th></th>\n",
              "      <th>Species</th>\n",
              "      <th>Island</th>\n",
              "      <th>BillLengthMm</th>\n",
              "      <th>BillDepthMm</th>\n",
              "      <th>FlipperLengthMm</th>\n",
              "      <th>BodyMassG</th>\n",
              "      <th>Sex</th>\n",
              "    </tr>\n",
              "  </thead>\n",
              "  <tbody>\n",
              "    <tr>\n",
              "      <th>0</th>\n",
              "      <td>Adelie</td>\n",
              "      <td>Torgersen</td>\n",
              "      <td>39.1</td>\n",
              "      <td>18.7</td>\n",
              "      <td>181.0</td>\n",
              "      <td>3750.0</td>\n",
              "      <td>Male</td>\n",
              "    </tr>\n",
              "    <tr>\n",
              "      <th>1</th>\n",
              "      <td>Adelie</td>\n",
              "      <td>Torgersen</td>\n",
              "      <td>39.5</td>\n",
              "      <td>17.4</td>\n",
              "      <td>186.0</td>\n",
              "      <td>3800.0</td>\n",
              "      <td>Female</td>\n",
              "    </tr>\n",
              "    <tr>\n",
              "      <th>2</th>\n",
              "      <td>Adelie</td>\n",
              "      <td>Torgersen</td>\n",
              "      <td>40.3</td>\n",
              "      <td>18.0</td>\n",
              "      <td>195.0</td>\n",
              "      <td>3250.0</td>\n",
              "      <td>Female</td>\n",
              "    </tr>\n",
              "    <tr>\n",
              "      <th>4</th>\n",
              "      <td>Adelie</td>\n",
              "      <td>Torgersen</td>\n",
              "      <td>36.7</td>\n",
              "      <td>19.3</td>\n",
              "      <td>193.0</td>\n",
              "      <td>3450.0</td>\n",
              "      <td>Female</td>\n",
              "    </tr>\n",
              "    <tr>\n",
              "      <th>5</th>\n",
              "      <td>Adelie</td>\n",
              "      <td>Torgersen</td>\n",
              "      <td>39.3</td>\n",
              "      <td>20.6</td>\n",
              "      <td>190.0</td>\n",
              "      <td>3650.0</td>\n",
              "      <td>Male</td>\n",
              "    </tr>\n",
              "    <tr>\n",
              "      <th>...</th>\n",
              "      <td>...</td>\n",
              "      <td>...</td>\n",
              "      <td>...</td>\n",
              "      <td>...</td>\n",
              "      <td>...</td>\n",
              "      <td>...</td>\n",
              "      <td>...</td>\n",
              "    </tr>\n",
              "    <tr>\n",
              "      <th>338</th>\n",
              "      <td>Gentoo</td>\n",
              "      <td>Biscoe</td>\n",
              "      <td>47.2</td>\n",
              "      <td>13.7</td>\n",
              "      <td>214.0</td>\n",
              "      <td>4925.0</td>\n",
              "      <td>Female</td>\n",
              "    </tr>\n",
              "    <tr>\n",
              "      <th>340</th>\n",
              "      <td>Gentoo</td>\n",
              "      <td>Biscoe</td>\n",
              "      <td>46.8</td>\n",
              "      <td>14.3</td>\n",
              "      <td>215.0</td>\n",
              "      <td>4850.0</td>\n",
              "      <td>Female</td>\n",
              "    </tr>\n",
              "    <tr>\n",
              "      <th>341</th>\n",
              "      <td>Gentoo</td>\n",
              "      <td>Biscoe</td>\n",
              "      <td>50.4</td>\n",
              "      <td>15.7</td>\n",
              "      <td>222.0</td>\n",
              "      <td>5750.0</td>\n",
              "      <td>Male</td>\n",
              "    </tr>\n",
              "    <tr>\n",
              "      <th>342</th>\n",
              "      <td>Gentoo</td>\n",
              "      <td>Biscoe</td>\n",
              "      <td>45.2</td>\n",
              "      <td>14.8</td>\n",
              "      <td>212.0</td>\n",
              "      <td>5200.0</td>\n",
              "      <td>Female</td>\n",
              "    </tr>\n",
              "    <tr>\n",
              "      <th>343</th>\n",
              "      <td>Gentoo</td>\n",
              "      <td>Biscoe</td>\n",
              "      <td>49.9</td>\n",
              "      <td>16.1</td>\n",
              "      <td>213.0</td>\n",
              "      <td>5400.0</td>\n",
              "      <td>Male</td>\n",
              "    </tr>\n",
              "  </tbody>\n",
              "</table>\n",
              "<p>342 rows × 7 columns</p>\n",
              "</div>"
            ],
            "text/plain": [
              "    Species     Island  BillLengthMm  BillDepthMm  FlipperLengthMm  BodyMassG  \\\n",
              "0    Adelie  Torgersen          39.1         18.7            181.0     3750.0   \n",
              "1    Adelie  Torgersen          39.5         17.4            186.0     3800.0   \n",
              "2    Adelie  Torgersen          40.3         18.0            195.0     3250.0   \n",
              "4    Adelie  Torgersen          36.7         19.3            193.0     3450.0   \n",
              "5    Adelie  Torgersen          39.3         20.6            190.0     3650.0   \n",
              "..      ...        ...           ...          ...              ...        ...   \n",
              "338  Gentoo     Biscoe          47.2         13.7            214.0     4925.0   \n",
              "340  Gentoo     Biscoe          46.8         14.3            215.0     4850.0   \n",
              "341  Gentoo     Biscoe          50.4         15.7            222.0     5750.0   \n",
              "342  Gentoo     Biscoe          45.2         14.8            212.0     5200.0   \n",
              "343  Gentoo     Biscoe          49.9         16.1            213.0     5400.0   \n",
              "\n",
              "        Sex  \n",
              "0      Male  \n",
              "1    Female  \n",
              "2    Female  \n",
              "4    Female  \n",
              "5      Male  \n",
              "..      ...  \n",
              "338  Female  \n",
              "340  Female  \n",
              "341    Male  \n",
              "342  Female  \n",
              "343    Male  \n",
              "\n",
              "[342 rows x 7 columns]"
            ]
          },
          "execution_count": 275,
          "metadata": {},
          "output_type": "execute_result"
        }
      ],
      "source": [
        "colum = ['BillLengthMm', 'BillDepthMm', 'FlipperLengthMm', 'BodyMassG', 'Sex']\n",
        "\n",
        "# Eliminar filas donde todas las columnas de medidas importantes sean NaN\n",
        "Ping = Ping.dropna(subset=colum, how='all')\n",
        "Ping"
      ]
    },
    {
      "cell_type": "markdown",
      "metadata": {},
      "source": [
        "1. ¿Cuántas especies de pinguinos hay?"
      ]
    },
    {
      "cell_type": "code",
      "execution_count": 276,
      "metadata": {
        "id": "tE-uv0hTCKin"
      },
      "outputs": [
        {
          "name": "stdout",
          "output_type": "stream",
          "text": [
            "Hay 3 especies de pinguinos, estas son: ['Adelie' 'Chinstrap' 'Gentoo']\n"
          ]
        }
      ],
      "source": [
        "print(\"Hay {} especies de pinguinos, estas son: {}\".format(len(Ping.Species.unique()), Ping.Species.unique()))"
      ]
    },
    {
      "cell_type": "markdown",
      "metadata": {
        "id": "s3-GUT2tMNVv"
      },
      "source": [
        "2. ¿Cuál es la longitud media del pico de los pingüinos de la especie Adelie?"
      ]
    },
    {
      "cell_type": "code",
      "execution_count": 277,
      "metadata": {
        "id": "ny1fA1ncDqmn"
      },
      "outputs": [
        {
          "name": "stdout",
          "output_type": "stream",
          "text": [
            "La longitud media es 43.9219298245614 mm\n"
          ]
        }
      ],
      "source": [
        "print('La longitud media es {} mm'.format(np.mean(Ping['BillLengthMm'])))"
      ]
    },
    {
      "cell_type": "markdown",
      "metadata": {
        "id": "2-KxQP18P5FA"
      },
      "source": [
        "3. ¿Cuál es la masa corporal promedio de los pingüinos de la especie Gentoo?"
      ]
    },
    {
      "cell_type": "code",
      "execution_count": 278,
      "metadata": {
        "id": "EVE5AlW3QQs8"
      },
      "outputs": [
        {
          "name": "stdout",
          "output_type": "stream",
          "text": [
            "La masa corporal promedio de los Gentoo es 5076.016260162602 g\n"
          ]
        }
      ],
      "source": [
        "masam = Ping[Ping.Species == 'Gentoo']['BodyMassG'].mean()\n",
        "\n",
        "print('La masa corporal promedio de los Gentoo es {} g'.format(masam))"
      ]
    },
    {
      "cell_type": "markdown",
      "metadata": {
        "id": "hMwqintCRuvD"
      },
      "source": [
        "4. ¿Cuál es la relación entre la longitud del pico y la masa corporal de los pingüinos?\n"
      ]
    },
    {
      "cell_type": "code",
      "execution_count": 279,
      "metadata": {},
      "outputs": [],
      "source": [
        "x = Ping['BillLengthMm']\n",
        "y = Ping['BodyMassG']\n",
        "\n",
        "m, b, r, p, stderr = stats.linregress(x, y)\n",
        "\n",
        "# Generar los valores ajustados\n",
        "y_fit = m*x + b"
      ]
    },
    {
      "cell_type": "code",
      "execution_count": 280,
      "metadata": {
        "id": "if0M2gGiRvds"
      },
      "outputs": [
        {
          "data": {
            "image/png": "[encoded data removed]",
            "text/plain": [
              "<Figure size 640x480 with 1 Axes>"
            ]
          },
          "metadata": {},
          "output_type": "display_data"
        }
      ],
      "source": [
        "plt.plot(x, y, '.')\n",
        "plt.plot(x, y_fit)\n",
        "plt.xlabel('Longitud del pico (mm)')\n",
        "plt.ylabel('Masa corporal (g)')\n",
        "plt.title('Relación entre longitud del pico y masa corporal')\n",
        "plt.show()"
      ]
    },
    {
      "cell_type": "markdown",
      "metadata": {},
      "source": [
        "Vemos que hay una relación directamente proporcional entre estas 2 variables."
      ]
    },
    {
      "cell_type": "markdown",
      "metadata": {
        "id": "xuk9SM7gR9MN"
      },
      "source": [
        "5. ¿Cuál es la isla con mayor número de pingüinos en el dataset?\n"
      ]
    },
    {
      "cell_type": "code",
      "execution_count": 281,
      "metadata": {
        "id": "uN7RARX0R-Ez"
      },
      "outputs": [
        {
          "name": "stdout",
          "output_type": "stream",
          "text": [
            "La isla con mayor pinguinos es Biscoe con un total de 167 pinguinos\n"
          ]
        }
      ],
      "source": [
        "totmax_pin = Ping.Island.value_counts().max()\n",
        "Isla_totmax = Ping.Island.value_counts().idxmax()\n",
        "print('La isla con mayor pinguinos es {} con un total de {} pinguinos'.format(Isla_totmax,totmax_pin))"
      ]
    },
    {
      "cell_type": "markdown",
      "metadata": {
        "id": "jh6Z_9eZSCXA"
      },
      "source": [
        "6. ¿Cuál es la desviación estándar de la longitud de la aleta de los pingüinos de la especie Chinstrap?\n"
      ]
    },
    {
      "cell_type": "code",
      "execution_count": 282,
      "metadata": {
        "id": "NHIV4vsoTuM_"
      },
      "outputs": [
        {
          "name": "stdout",
          "output_type": "stream",
          "text": [
            "La desviación estándar de la longitud de la aleta de los pingüinos de la especie Chinstrap es 7.131894258578147\n"
          ]
        }
      ],
      "source": [
        "print('La desviación estándar de la longitud de la aleta de los pingüinos de la especie Chinstrap es {}'.format(Ping[Ping.Species == 'Chinstrap']['FlipperLengthMm'].std()))"
      ]
    },
    {
      "cell_type": "markdown",
      "metadata": {
        "id": "v2Ebg6m5SE6F"
      },
      "source": [
        "7. ¿Qué pingüino tiene el pico más largo en el dataset y cuál es su especie?\n"
      ]
    },
    {
      "cell_type": "code",
      "execution_count": 283,
      "metadata": {
        "id": "rsWhDmhRUO_c"
      },
      "outputs": [
        {
          "data": {
            "text/html": [
              "<div>\n",
              "<style scoped>\n",
              "    .dataframe tbody tr th:only-of-type {\n",
              "        vertical-align: middle;\n",
              "    }\n",
              "\n",
              "    .dataframe tbody tr th {\n",
              "        vertical-align: top;\n",
              "    }\n",
              "\n",
              "    .dataframe thead th {\n",
              "        text-align: right;\n",
              "    }\n",
              "</style>\n",
              "<table border=\"1\" class=\"dataframe\">\n",
              "  <thead>\n",
              "    <tr style=\"text-align: right;\">\n",
              "      <th></th>\n",
              "      <th>Species</th>\n",
              "      <th>Island</th>\n",
              "      <th>BillLengthMm</th>\n",
              "    </tr>\n",
              "  </thead>\n",
              "  <tbody>\n",
              "    <tr>\n",
              "      <th>253</th>\n",
              "      <td>Gentoo</td>\n",
              "      <td>Biscoe</td>\n",
              "      <td>59.6</td>\n",
              "    </tr>\n",
              "  </tbody>\n",
              "</table>\n",
              "</div>"
            ],
            "text/plain": [
              "    Species  Island  BillLengthMm\n",
              "253  Gentoo  Biscoe          59.6"
            ]
          },
          "execution_count": 283,
          "metadata": {},
          "output_type": "execute_result"
        }
      ],
      "source": [
        "Ping[Ping.BillLengthMm == Ping.BillLengthMm.max()][['Species','Island', 'BillLengthMm']]"
      ]
    },
    {
      "cell_type": "markdown",
      "metadata": {
        "id": "XJCIZyabSJbl"
      },
      "source": [
        "8. ¿Cuál es la proporción de machos y hembras en la especie Adelie?\n"
      ]
    },
    {
      "cell_type": "code",
      "execution_count": 303,
      "metadata": {
        "id": "BstXxRjCUVhl"
      },
      "outputs": [
        {
          "name": "stdout",
          "output_type": "stream",
          "text": [
            "Hay un 48.34437086092715% de Machos y un 48.34437086092715% de hembras\n"
          ]
        }
      ],
      "source": [
        "Tot_Adel = Ping[Ping.Species == 'Adelie']['Species'].count()\n",
        "Pro_male = 100*Ping[(Ping.Species == 'Adelie') & (Ping.Sex == 'Male')]['Species'].count()/Tot_Adel\n",
        "Pro_female = 100*Ping[(Ping.Species == 'Adelie') & (Ping.Sex == 'Female')]['Species'].count()/Tot_Adel\n",
        "\n",
        "print('Hay un {}% de Machos y un {}% de hembras'.format(Pro_male, Pro_female))"
      ]
    },
    {
      "cell_type": "markdown",
      "metadata": {
        "id": "Va_KedWLSMQD"
      },
      "source": [
        "9. ¿Existe una correlación significativa entre la longitud del pico y la masa corporal en las diferentes especies de pingüinos?"
      ]
    },
    {
      "cell_type": "code",
      "execution_count": 286,
      "metadata": {},
      "outputs": [],
      "source": [
        "x1 = Ping[Ping.Species == 'Gentoo']['BillLengthMm']\n",
        "y1 = Ping[Ping.Species == 'Gentoo']['BodyMassG']\n",
        "x2 = Ping[Ping.Species == 'Adelie']['BillLengthMm']\n",
        "y2 = Ping[Ping.Species == 'Adelie']['BodyMassG']\n",
        "x3 = Ping[Ping.Species == 'Chinstrap']['BillLengthMm']\n",
        "y3 = Ping[Ping.Species == 'Chinstrap']['BodyMassG']\n",
        "\n",
        "m1, b1, r, p, stderr = stats.linregress(x1, y1)\n",
        "m2, b2, r, p, stderr = stats.linregress(x2, y2)\n",
        "m3, b3, r, p, stderr = stats.linregress(x3, y3)\n",
        "\n",
        "# Generar los valores ajustados\n",
        "y_fit1 = m1*x1 + b1\n",
        "y_fit2 = m2*x2 + b2\n",
        "y_fit3 = m3*x3 + b3"
      ]
    },
    {
      "cell_type": "code",
      "execution_count": 287,
      "metadata": {
        "id": "UwaVyTqIUbAt"
      },
      "outputs": [
        {
          "data": {
            "text/plain": [
              "Text(0.5, 1.0, 'Relación entre longitud del pico y masa corporal')"
            ]
          },
          "execution_count": 287,
          "metadata": {},
          "output_type": "execute_result"
        },
        {
          "data": {
            "image/png": "[encoded data removed]",
            "text/plain": [
              "<Figure size 640x480 with 1 Axes>"
            ]
          },
          "metadata": {},
          "output_type": "display_data"
        }
      ],
      "source": [
        "plt.plot(x1, y1, '.')\n",
        "plt.plot(x2, y2, '.')\n",
        "plt.plot(x3, y3, '.')\n",
        "plt.plot(x1, y_fit1)\n",
        "plt.plot(x2, y_fit2)\n",
        "plt.plot(x3, y_fit3)\n",
        "plt.xlabel('Longitud del pico (mm)')\n",
        "plt.ylabel('Masa corporal (g)')\n",
        "plt.title('Relación entre longitud del pico y masa corporal')"
      ]
    },
    {
      "cell_type": "code",
      "execution_count": 288,
      "metadata": {},
      "outputs": [
        {
          "name": "stdout",
          "output_type": "stream",
          "text": [
            "La correlación entre las 2 variables en las 3 especies son las siguientes: 0.6691661646930205 0.5488658064533206 0.5136383479489105\n"
          ]
        }
      ],
      "source": [
        "print('La correlación entre las 2 variables en las 3 especies son las siguientes:',x1.corr(y1), x2.corr(y2), x3.corr(y3))"
      ]
    },
    {
      "cell_type": "markdown",
      "metadata": {
        "id": "VE1VAvycSO7q"
      },
      "source": [
        "10. ¿Cuál es la distribución de la masa corporal entre las especies de pingüinos?"
      ]
    },
    {
      "cell_type": "code",
      "execution_count": 289,
      "metadata": {
        "id": "JYF_RJ9EVIUl"
      },
      "outputs": [
        {
          "data": {
            "text/plain": [
              "<matplotlib.legend.Legend at 0x7fde9e1f34c0>"
            ]
          },
          "execution_count": 289,
          "metadata": {},
          "output_type": "execute_result"
        },
        {
          "data": {
            "image/png": "[encoded data removed]",
            "text/plain": [
              "<Figure size 640x480 with 1 Axes>"
            ]
          },
          "metadata": {},
          "output_type": "display_data"
        }
      ],
      "source": [
        "plt.hist(Ping[Ping.Species == 'Adelie']['BodyMassG'], bins=20, alpha=0.5, label='Adelie')\n",
        "plt.hist(Ping[Ping.Species == 'Gentoo']['BodyMassG'], bins=20, alpha=0.5, label='Gentoo')\n",
        "plt.hist(Ping[Ping.Species == 'Chinstrap']['BodyMassG'], bins=20, alpha=0.5, label='Chinstrap')\n",
        "plt.xlabel('Masa [g]')\n",
        "plt.ylabel('Frecuencia')\n",
        "plt.title('Distribución de masa corporal por especie')\n",
        "plt.legend()\n"
      ]
    },
    {
      "cell_type": "markdown",
      "metadata": {
        "id": "bw77TT7RSRvr"
      },
      "source": [
        "11. ¿Cuál es la longitud mínima y máxima de la aleta entre las tres especies de pingüinos?"
      ]
    },
    {
      "cell_type": "code",
      "execution_count": 290,
      "metadata": {},
      "outputs": [
        {
          "data": {
            "text/html": [
              "<div>\n",
              "<style scoped>\n",
              "    .dataframe tbody tr th:only-of-type {\n",
              "        vertical-align: middle;\n",
              "    }\n",
              "\n",
              "    .dataframe tbody tr th {\n",
              "        vertical-align: top;\n",
              "    }\n",
              "\n",
              "    .dataframe thead th {\n",
              "        text-align: right;\n",
              "    }\n",
              "</style>\n",
              "<table border=\"1\" class=\"dataframe\">\n",
              "  <thead>\n",
              "    <tr style=\"text-align: right;\">\n",
              "      <th></th>\n",
              "      <th>min</th>\n",
              "      <th>max</th>\n",
              "    </tr>\n",
              "    <tr>\n",
              "      <th>Species</th>\n",
              "      <th></th>\n",
              "      <th></th>\n",
              "    </tr>\n",
              "  </thead>\n",
              "  <tbody>\n",
              "    <tr>\n",
              "      <th>Adelie</th>\n",
              "      <td>172.0</td>\n",
              "      <td>210.0</td>\n",
              "    </tr>\n",
              "    <tr>\n",
              "      <th>Chinstrap</th>\n",
              "      <td>178.0</td>\n",
              "      <td>212.0</td>\n",
              "    </tr>\n",
              "    <tr>\n",
              "      <th>Gentoo</th>\n",
              "      <td>203.0</td>\n",
              "      <td>231.0</td>\n",
              "    </tr>\n",
              "  </tbody>\n",
              "</table>\n",
              "</div>"
            ],
            "text/plain": [
              "             min    max\n",
              "Species                \n",
              "Adelie     172.0  210.0\n",
              "Chinstrap  178.0  212.0\n",
              "Gentoo     203.0  231.0"
            ]
          },
          "execution_count": 290,
          "metadata": {},
          "output_type": "execute_result"
        }
      ],
      "source": [
        "Ping.groupby('Species')['FlipperLengthMm'].agg(['min','max'])"
      ]
    },
    {
      "cell_type": "markdown",
      "metadata": {
        "id": "VEeh3emESU7P"
      },
      "source": [
        "12. ¿Cuántos pingüinos tienen una masa corporal superior a 5000 gramos?"
      ]
    },
    {
      "cell_type": "code",
      "execution_count": 291,
      "metadata": {
        "id": "NZ9eA-RySUh1"
      },
      "outputs": [
        {
          "name": "stdout",
          "output_type": "stream",
          "text": [
            "Hay 61 pinguinos con masa corporal superior a 5000\n"
          ]
        }
      ],
      "source": [
        "print('Hay {} pinguinos con masa corporal superior a 5000'.format(Ping[Ping.BodyMassG > 5000]['Species'].count()))"
      ]
    },
    {
      "cell_type": "markdown",
      "metadata": {
        "id": "mf0tonXgSXG-"
      },
      "source": [
        "13. ¿Cómo varía la longitud del pico entre las diferentes especies de pingüinos en las distintas islas?"
      ]
    },
    {
      "cell_type": "code",
      "execution_count": 292,
      "metadata": {},
      "outputs": [
        {
          "data": {
            "text/html": [
              "<div>\n",
              "<style scoped>\n",
              "    .dataframe tbody tr th:only-of-type {\n",
              "        vertical-align: middle;\n",
              "    }\n",
              "\n",
              "    .dataframe tbody tr th {\n",
              "        vertical-align: top;\n",
              "    }\n",
              "\n",
              "    .dataframe thead th {\n",
              "        text-align: right;\n",
              "    }\n",
              "</style>\n",
              "<table border=\"1\" class=\"dataframe\">\n",
              "  <thead>\n",
              "    <tr style=\"text-align: right;\">\n",
              "      <th></th>\n",
              "      <th></th>\n",
              "      <th>mean</th>\n",
              "    </tr>\n",
              "    <tr>\n",
              "      <th>Island</th>\n",
              "      <th>Species</th>\n",
              "      <th></th>\n",
              "    </tr>\n",
              "  </thead>\n",
              "  <tbody>\n",
              "    <tr>\n",
              "      <th rowspan=\"2\" valign=\"top\">Biscoe</th>\n",
              "      <th>Adelie</th>\n",
              "      <td>38.975000</td>\n",
              "    </tr>\n",
              "    <tr>\n",
              "      <th>Gentoo</th>\n",
              "      <td>47.504878</td>\n",
              "    </tr>\n",
              "    <tr>\n",
              "      <th rowspan=\"2\" valign=\"top\">Dream</th>\n",
              "      <th>Adelie</th>\n",
              "      <td>38.501786</td>\n",
              "    </tr>\n",
              "    <tr>\n",
              "      <th>Chinstrap</th>\n",
              "      <td>48.833824</td>\n",
              "    </tr>\n",
              "    <tr>\n",
              "      <th>Torgersen</th>\n",
              "      <th>Adelie</th>\n",
              "      <td>38.950980</td>\n",
              "    </tr>\n",
              "  </tbody>\n",
              "</table>\n",
              "</div>"
            ],
            "text/plain": [
              "                          mean\n",
              "Island    Species             \n",
              "Biscoe    Adelie     38.975000\n",
              "          Gentoo     47.504878\n",
              "Dream     Adelie     38.501786\n",
              "          Chinstrap  48.833824\n",
              "Torgersen Adelie     38.950980"
            ]
          },
          "execution_count": 292,
          "metadata": {},
          "output_type": "execute_result"
        }
      ],
      "source": [
        "Ping.groupby(['Island','Species'])['BillLengthMm'].agg(['mean'])"
      ]
    },
    {
      "cell_type": "code",
      "execution_count": 293,
      "metadata": {},
      "outputs": [
        {
          "data": {
            "text/plain": [
              "-10.332037999999997"
            ]
          },
          "execution_count": 293,
          "metadata": {},
          "output_type": "execute_result"
        }
      ],
      "source": [
        "38.501786-48.833824"
      ]
    },
    {
      "cell_type": "markdown",
      "metadata": {},
      "source": [
        "En la isla Biscoe sólo hay 2 especies, entre estas especies, el promedio de la longitud del pico varia en 8.53 mm.\n",
        "Entre las 2 especies en la isla Biscoe, el promedio de la longitud del pico varia en 10.33 mm y en la isla Torgensen sólo hay una isla."
      ]
    },
    {
      "cell_type": "markdown",
      "metadata": {
        "id": "XZM5JBvFSaK5"
      },
      "source": [
        "14. ¿Cuál es la relación entre la longitud de la aleta y la masa corporal en los pingüinos de la especie Gentoo?\n",
        "\n"
      ]
    },
    {
      "cell_type": "code",
      "execution_count": 294,
      "metadata": {},
      "outputs": [
        {
          "data": {
            "text/plain": [
              "Text(0, 0.5, 'Masa corporal [g]')"
            ]
          },
          "execution_count": 294,
          "metadata": {},
          "output_type": "execute_result"
        },
        {
          "data": {
            "image/png": "[encoded data removed]",
            "text/plain": [
              "<Figure size 640x480 with 1 Axes>"
            ]
          },
          "metadata": {},
          "output_type": "display_data"
        }
      ],
      "source": [
        "plt.plot(Ping[Ping.Species == 'Gentoo']['BillLengthMm'], Ping[Ping.Species == 'Gentoo']['BodyMassG'], '.')\n",
        "plt.title('Relación entre la longitud de la aleta y masa corporal entre pinguinos Gentoo')\n",
        "plt.xlabel('Longitud de aleta [mm]')\n",
        "plt.ylabel('Masa corporal [g]')"
      ]
    },
    {
      "cell_type": "markdown",
      "metadata": {},
      "source": [
        "Vemos que hay una relación directamente proporcional con los datos dispersos."
      ]
    },
    {
      "cell_type": "markdown",
      "metadata": {
        "id": "00r0Gvs_ScGk"
      },
      "source": [
        "15. ¿Cuántos pingüinos tienen datos faltantes en alguna de sus características?\n",
        "\n"
      ]
    },
    {
      "cell_type": "code",
      "execution_count": 295,
      "metadata": {},
      "outputs": [
        {
          "name": "stdout",
          "output_type": "stream",
          "text": [
            "Species            0\n",
            "Island             0\n",
            "BillLengthMm       0\n",
            "BillDepthMm        0\n",
            "FlipperLengthMm    0\n",
            "BodyMassG          0\n",
            "Sex                9\n",
            "dtype: int64\n"
          ]
        }
      ],
      "source": [
        "Total_nan = Ping.isna().sum()\n",
        "print(Total_nan)"
      ]
    },
    {
      "cell_type": "markdown",
      "metadata": {
        "id": "S_I90lnISeaJ"
      },
      "source": [
        "16. ¿Cuál es la isla con la mayor variación en la longitud del pico entre las tres especies de pingüinos?\n",
        "\n",
        "\n",
        "No entendí muy bien a qué se refiere esta y la pregunta 12. Por eso doy 2 respuestas diferentes. Podría ser la variación que hay en longitudes entre las especies de la isla (aunque una isla sólo tiene una especie) o cómo varía la longitud para cada especie en cada isla (que es lo que hago en este punto)"
      ]
    },
    {
      "cell_type": "code",
      "execution_count": 296,
      "metadata": {},
      "outputs": [
        {
          "data": {
            "text/plain": [
              "Island     Species  \n",
              "Biscoe     Adelie       2.480916\n",
              "           Gentoo       3.081857\n",
              "Dream      Adelie       2.465359\n",
              "           Chinstrap    3.339256\n",
              "Torgersen  Adelie       3.025318\n",
              "Name: BillLengthMm, dtype: float64"
            ]
          },
          "execution_count": 296,
          "metadata": {},
          "output_type": "execute_result"
        }
      ],
      "source": [
        "Ping.groupby(['Island','Species'])['BillLengthMm'].agg('std')"
      ]
    },
    {
      "cell_type": "markdown",
      "metadata": {
        "id": "3sZD-BwESgSE"
      },
      "source": [
        "17. ¿Cuál es la diferencia en masa corporal promedio entre machos y hembras de la especie Chinstrap?"
      ]
    },
    {
      "cell_type": "code",
      "execution_count": 304,
      "metadata": {},
      "outputs": [
        {
          "name": "stdout",
          "output_type": "stream",
          "text": [
            "La diferencia en masa corporal promedio entre machos y hembras Chinstrap es 411.76470588235316 g\n"
          ]
        }
      ],
      "source": [
        "mprom_male = Ping[(Ping.Species == 'Chinstrap') & (Ping.Sex == 'Male')].BodyMassG.mean()\n",
        "mprom_female = Ping[(Ping.Species == 'Chinstrap') & (Ping.Sex == 'Female')].BodyMassG.mean()\n",
        "\n",
        "print('La diferencia en masa corporal promedio entre machos y hembras Chinstrap es {} g'.format(mprom_male-mprom_female))"
      ]
    },
    {
      "cell_type": "markdown",
      "metadata": {
        "id": "BXuPTLeOSiJn"
      },
      "source": [
        "18. ¿Qué especie de pingüino tiene la longitud de aleta promedio más alta?\n",
        "\n"
      ]
    },
    {
      "cell_type": "code",
      "execution_count": 298,
      "metadata": {},
      "outputs": [
        {
          "data": {
            "text/plain": [
              "Species\n",
              "Adelie       189.953642\n",
              "Chinstrap    195.823529\n",
              "Gentoo       217.186992\n",
              "Name: FlipperLengthMm, dtype: float64"
            ]
          },
          "execution_count": 298,
          "metadata": {},
          "output_type": "execute_result"
        }
      ],
      "source": [
        "Ping.groupby('Species')['FlipperLengthMm'].mean()"
      ]
    },
    {
      "cell_type": "markdown",
      "metadata": {},
      "source": [
        "La especie con la longitud de aleta más alta en promedio es Gentoo"
      ]
    },
    {
      "cell_type": "markdown",
      "metadata": {
        "id": "LsZEqukbSjry"
      },
      "source": [
        "19. ¿Cuál es la longitud del pico más pequeña registrada en el dataset y de qué especie es?\n",
        "\n"
      ]
    },
    {
      "cell_type": "code",
      "execution_count": 299,
      "metadata": {},
      "outputs": [
        {
          "data": {
            "text/html": [
              "<div>\n",
              "<style scoped>\n",
              "    .dataframe tbody tr th:only-of-type {\n",
              "        vertical-align: middle;\n",
              "    }\n",
              "\n",
              "    .dataframe tbody tr th {\n",
              "        vertical-align: top;\n",
              "    }\n",
              "\n",
              "    .dataframe thead th {\n",
              "        text-align: right;\n",
              "    }\n",
              "</style>\n",
              "<table border=\"1\" class=\"dataframe\">\n",
              "  <thead>\n",
              "    <tr style=\"text-align: right;\">\n",
              "      <th></th>\n",
              "      <th>Species</th>\n",
              "      <th>BillLengthMm</th>\n",
              "    </tr>\n",
              "  </thead>\n",
              "  <tbody>\n",
              "    <tr>\n",
              "      <th>142</th>\n",
              "      <td>Adelie</td>\n",
              "      <td>32.1</td>\n",
              "    </tr>\n",
              "  </tbody>\n",
              "</table>\n",
              "</div>"
            ],
            "text/plain": [
              "    Species  BillLengthMm\n",
              "142  Adelie          32.1"
            ]
          },
          "execution_count": 299,
          "metadata": {},
          "output_type": "execute_result"
        }
      ],
      "source": [
        "Ping[Ping['BillLengthMm'] == Ping['BillLengthMm'].min()][['Species','BillLengthMm']]"
      ]
    },
    {
      "cell_type": "markdown",
      "metadata": {
        "id": "-9X_422aSk8k"
      },
      "source": [
        "20. ¿Cuál es la relación entre el sexo y la longitud de la aleta en los pingüinos de la especie Adelie?"
      ]
    },
    {
      "cell_type": "code",
      "execution_count": 306,
      "metadata": {},
      "outputs": [
        {
          "data": {
            "text/plain": [
              "<matplotlib.legend.Legend at 0x7fde9de37a00>"
            ]
          },
          "execution_count": 306,
          "metadata": {},
          "output_type": "execute_result"
        },
        {
          "data": {
            "image/png": "[encoded data removed]",
            "text/plain": [
              "<Figure size 640x480 with 1 Axes>"
            ]
          },
          "metadata": {},
          "output_type": "display_data"
        }
      ],
      "source": [
        "Ping[Ping.Species == 'Adelie']['FlipperLengthMm'].mean()\n",
        "\n",
        "alemale = Ping[(Ping.Species == 'Adelie') & (Ping.Sex == 'Male')]['FlipperLengthMm']\n",
        "alefemale = Ping[(Ping.Species == 'Adelie') & (Ping.Sex == 'Female')]['FlipperLengthMm']\n",
        "\n",
        "plt.hist(alemale, bins=15, alpha=0.5, label='Male')\n",
        "plt.hist(alefemale, bins=15, alpha=0.5, label='Female')\n",
        "plt.title('Histograma de longitud del pico para machos y hembras de la especie Adelie')\n",
        "plt.xlabel('Longitud del pico [mm]')\n",
        "plt.ylabel('Frecuencia')\n",
        "plt.legend()"
      ]
    },
    {
      "cell_type": "markdown",
      "metadata": {},
      "source": [
        "Vemos que hay diferencias entre la longitud de los picos entre machos y hembras de este especie. Los machos llegan a tener picos más largos mientras que las hembras alcanzan valores más pequeños."
      ]
    },
    {
      "cell_type": "code",
      "execution_count": null,
      "metadata": {},
      "outputs": [],
      "source": []
    }
  ],
  "metadata": {
    "colab": {
      "provenance": []
    },
    "kernelspec": {
      "display_name": "Python 3",
      "name": "python3"
    },
    "language_info": {
      "codemirror_mode": {
        "name": "ipython",
        "version": 3
      },
      "file_extension": ".py",
      "mimetype": "text/x-python",
      "name": "python",
      "nbconvert_exporter": "python",
      "pygments_lexer": "ipython3",
      "version": "3.10.12"
    }
  },
  "nbformat": 4,
  "nbformat_minor": 0
}
