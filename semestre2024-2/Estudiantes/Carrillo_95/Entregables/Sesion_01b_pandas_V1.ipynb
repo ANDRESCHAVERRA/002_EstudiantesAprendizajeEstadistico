{
  "cells": [
    {
      "cell_type": "code",
      "execution_count": 1,
      "metadata": {
        "id": "-TZX7P8jEU4V"
      },
      "outputs": [
        {
          "name": "stderr",
          "output_type": "stream",
          "text": [
            "/tmp/ipykernel_5584/2427701451.py:2: DeprecationWarning: \n",
            "Pyarrow will become a required dependency of pandas in the next major release of pandas (pandas 3.0),\n",
            "(to allow more performant data types, such as the Arrow string type, and better interoperability with other libraries)\n",
            "but was not found to be installed on your system.\n",
            "If this would cause problems for you,\n",
            "please provide us feedback at https://github.com/pandas-dev/pandas/issues/54466\n",
            "        \n",
            "  import pandas as pd\n"
          ]
        }
      ],
      "source": [
        "import numpy as np\n",
        "import pandas as pd\n",
        "import matplotlib.pyplot as plt\n",
        "import seaborn as sns\n"
      ]
    },
    {
      "cell_type": "code",
      "execution_count": 2,
      "metadata": {
        "colab": {
          "base_uri": "https://localhost:8080/",
          "height": 363
        },
        "id": "3bzE79UTEk8v",
        "outputId": "b4803157-de08-4c2a-f408-ec63044de43f"
      },
      "outputs": [
        {
          "data": {
            "text/html": [
              "<div>\n",
              "<style scoped>\n",
              "    .dataframe tbody tr th:only-of-type {\n",
              "        vertical-align: middle;\n",
              "    }\n",
              "\n",
              "    .dataframe tbody tr th {\n",
              "        vertical-align: top;\n",
              "    }\n",
              "\n",
              "    .dataframe thead th {\n",
              "        text-align: right;\n",
              "    }\n",
              "</style>\n",
              "<table border=\"1\" class=\"dataframe\">\n",
              "  <thead>\n",
              "    <tr style=\"text-align: right;\">\n",
              "      <th></th>\n",
              "      <th>species</th>\n",
              "      <th>island</th>\n",
              "      <th>bill_length_mm</th>\n",
              "      <th>bill_depth_mm</th>\n",
              "      <th>flipper_length_mm</th>\n",
              "      <th>body_mass_g</th>\n",
              "      <th>sex</th>\n",
              "    </tr>\n",
              "  </thead>\n",
              "  <tbody>\n",
              "    <tr>\n",
              "      <th>136</th>\n",
              "      <td>Adelie</td>\n",
              "      <td>Dream</td>\n",
              "      <td>35.6</td>\n",
              "      <td>17.5</td>\n",
              "      <td>191.0</td>\n",
              "      <td>3175.0</td>\n",
              "      <td>Female</td>\n",
              "    </tr>\n",
              "    <tr>\n",
              "      <th>13</th>\n",
              "      <td>Adelie</td>\n",
              "      <td>Torgersen</td>\n",
              "      <td>38.6</td>\n",
              "      <td>21.2</td>\n",
              "      <td>191.0</td>\n",
              "      <td>3800.0</td>\n",
              "      <td>Male</td>\n",
              "    </tr>\n",
              "    <tr>\n",
              "      <th>27</th>\n",
              "      <td>Adelie</td>\n",
              "      <td>Biscoe</td>\n",
              "      <td>40.5</td>\n",
              "      <td>17.9</td>\n",
              "      <td>187.0</td>\n",
              "      <td>3200.0</td>\n",
              "      <td>Female</td>\n",
              "    </tr>\n",
              "    <tr>\n",
              "      <th>22</th>\n",
              "      <td>Adelie</td>\n",
              "      <td>Biscoe</td>\n",
              "      <td>35.9</td>\n",
              "      <td>19.2</td>\n",
              "      <td>189.0</td>\n",
              "      <td>3800.0</td>\n",
              "      <td>Female</td>\n",
              "    </tr>\n",
              "    <tr>\n",
              "      <th>306</th>\n",
              "      <td>Gentoo</td>\n",
              "      <td>Biscoe</td>\n",
              "      <td>43.4</td>\n",
              "      <td>14.4</td>\n",
              "      <td>218.0</td>\n",
              "      <td>4600.0</td>\n",
              "      <td>Female</td>\n",
              "    </tr>\n",
              "    <tr>\n",
              "      <th>324</th>\n",
              "      <td>Gentoo</td>\n",
              "      <td>Biscoe</td>\n",
              "      <td>47.3</td>\n",
              "      <td>13.8</td>\n",
              "      <td>216.0</td>\n",
              "      <td>4725.0</td>\n",
              "      <td>NaN</td>\n",
              "    </tr>\n",
              "    <tr>\n",
              "      <th>28</th>\n",
              "      <td>Adelie</td>\n",
              "      <td>Biscoe</td>\n",
              "      <td>37.9</td>\n",
              "      <td>18.6</td>\n",
              "      <td>172.0</td>\n",
              "      <td>3150.0</td>\n",
              "      <td>Female</td>\n",
              "    </tr>\n",
              "    <tr>\n",
              "      <th>337</th>\n",
              "      <td>Gentoo</td>\n",
              "      <td>Biscoe</td>\n",
              "      <td>48.8</td>\n",
              "      <td>16.2</td>\n",
              "      <td>222.0</td>\n",
              "      <td>6000.0</td>\n",
              "      <td>Male</td>\n",
              "    </tr>\n",
              "    <tr>\n",
              "      <th>151</th>\n",
              "      <td>Adelie</td>\n",
              "      <td>Dream</td>\n",
              "      <td>41.5</td>\n",
              "      <td>18.5</td>\n",
              "      <td>201.0</td>\n",
              "      <td>4000.0</td>\n",
              "      <td>Male</td>\n",
              "    </tr>\n",
              "    <tr>\n",
              "      <th>149</th>\n",
              "      <td>Adelie</td>\n",
              "      <td>Dream</td>\n",
              "      <td>37.8</td>\n",
              "      <td>18.1</td>\n",
              "      <td>193.0</td>\n",
              "      <td>3750.0</td>\n",
              "      <td>Male</td>\n",
              "    </tr>\n",
              "  </tbody>\n",
              "</table>\n",
              "</div>"
            ],
            "text/plain": [
              "    species     island  bill_length_mm  bill_depth_mm  flipper_length_mm  \\\n",
              "136  Adelie      Dream            35.6           17.5              191.0   \n",
              "13   Adelie  Torgersen            38.6           21.2              191.0   \n",
              "27   Adelie     Biscoe            40.5           17.9              187.0   \n",
              "22   Adelie     Biscoe            35.9           19.2              189.0   \n",
              "306  Gentoo     Biscoe            43.4           14.4              218.0   \n",
              "324  Gentoo     Biscoe            47.3           13.8              216.0   \n",
              "28   Adelie     Biscoe            37.9           18.6              172.0   \n",
              "337  Gentoo     Biscoe            48.8           16.2              222.0   \n",
              "151  Adelie      Dream            41.5           18.5              201.0   \n",
              "149  Adelie      Dream            37.8           18.1              193.0   \n",
              "\n",
              "     body_mass_g     sex  \n",
              "136       3175.0  Female  \n",
              "13        3800.0    Male  \n",
              "27        3200.0  Female  \n",
              "22        3800.0  Female  \n",
              "306       4600.0  Female  \n",
              "324       4725.0     NaN  \n",
              "28        3150.0  Female  \n",
              "337       6000.0    Male  \n",
              "151       4000.0    Male  \n",
              "149       3750.0    Male  "
            ]
          },
          "execution_count": 2,
          "metadata": {},
          "output_type": "execute_result"
        }
      ],
      "source": [
        "# Load dataset\n",
        "df = sns.load_dataset('penguins')\n",
        "df.sample(10)"
      ]
    },
    {
      "cell_type": "code",
      "execution_count": 3,
      "metadata": {
        "colab": {
          "base_uri": "https://localhost:8080/",
          "height": 303
        },
        "id": "s_-1kgzZE9o5",
        "outputId": "0a9f58cd-3c8a-4b49-ae57-3ad7d42cef8a"
      },
      "outputs": [
        {
          "data": {
            "text/plain": [
              "species               0\n",
              "island                0\n",
              "bill_length_mm        2\n",
              "bill_depth_mm         2\n",
              "flipper_length_mm     2\n",
              "body_mass_g           2\n",
              "sex                  11\n",
              "dtype: int64"
            ]
          },
          "execution_count": 3,
          "metadata": {},
          "output_type": "execute_result"
        }
      ],
      "source": [
        "# How many Nan values are per column?\n",
        "\n",
        "df.isna().sum()"
      ]
    },
    {
      "cell_type": "code",
      "execution_count": 4,
      "metadata": {
        "colab": {
          "base_uri": "https://localhost:8080/"
        },
        "id": "e-WM_LUZE_bX",
        "outputId": "41b22a7e-479f-4037-a7c5-58b40b832bba"
      },
      "outputs": [
        {
          "name": "stdout",
          "output_type": "stream",
          "text": [
            "<class 'pandas.core.frame.DataFrame'>\n",
            "RangeIndex: 344 entries, 0 to 343\n",
            "Data columns (total 7 columns):\n",
            " #   Column             Non-Null Count  Dtype  \n",
            "---  ------             --------------  -----  \n",
            " 0   species            344 non-null    object \n",
            " 1   island             344 non-null    object \n",
            " 2   bill_length_mm     342 non-null    float64\n",
            " 3   bill_depth_mm      342 non-null    float64\n",
            " 4   flipper_length_mm  342 non-null    float64\n",
            " 5   body_mass_g        342 non-null    float64\n",
            " 6   sex                333 non-null    object \n",
            "dtypes: float64(4), object(3)\n",
            "memory usage: 18.9+ KB\n"
          ]
        }
      ],
      "source": [
        "# General info\n",
        "\n",
        "df.info()"
      ]
    },
    {
      "cell_type": "code",
      "execution_count": 5,
      "metadata": {
        "colab": {
          "base_uri": "https://localhost:8080/",
          "height": 363
        },
        "id": "58l-XnFqFHWo",
        "outputId": "51e3102c-e141-4ed2-c8a7-0ae36d028bfc"
      },
      "outputs": [
        {
          "data": {
            "text/html": [
              "<div>\n",
              "<style scoped>\n",
              "    .dataframe tbody tr th:only-of-type {\n",
              "        vertical-align: middle;\n",
              "    }\n",
              "\n",
              "    .dataframe tbody tr th {\n",
              "        vertical-align: top;\n",
              "    }\n",
              "\n",
              "    .dataframe thead th {\n",
              "        text-align: right;\n",
              "    }\n",
              "</style>\n",
              "<table border=\"1\" class=\"dataframe\">\n",
              "  <thead>\n",
              "    <tr style=\"text-align: right;\">\n",
              "      <th></th>\n",
              "      <th>species</th>\n",
              "      <th>island</th>\n",
              "      <th>bill_length_mm</th>\n",
              "      <th>bill_depth_mm</th>\n",
              "      <th>flipper_length_mm</th>\n",
              "      <th>body_mass_g</th>\n",
              "      <th>sex</th>\n",
              "    </tr>\n",
              "  </thead>\n",
              "  <tbody>\n",
              "    <tr>\n",
              "      <th>56</th>\n",
              "      <td>Adelie</td>\n",
              "      <td>Biscoe</td>\n",
              "      <td>37.6</td>\n",
              "      <td>17.0</td>\n",
              "      <td>185.0</td>\n",
              "      <td>3600.0</td>\n",
              "      <td>Female</td>\n",
              "    </tr>\n",
              "    <tr>\n",
              "      <th>279</th>\n",
              "      <td>Gentoo</td>\n",
              "      <td>Biscoe</td>\n",
              "      <td>49.5</td>\n",
              "      <td>16.2</td>\n",
              "      <td>229.0</td>\n",
              "      <td>5800.0</td>\n",
              "      <td>Male</td>\n",
              "    </tr>\n",
              "    <tr>\n",
              "      <th>45</th>\n",
              "      <td>Adelie</td>\n",
              "      <td>Biscoe</td>\n",
              "      <td>40.1</td>\n",
              "      <td>18.9</td>\n",
              "      <td>188.0</td>\n",
              "      <td>4300.0</td>\n",
              "      <td>Male</td>\n",
              "    </tr>\n",
              "    <tr>\n",
              "      <th>300</th>\n",
              "      <td>Gentoo</td>\n",
              "      <td>Biscoe</td>\n",
              "      <td>47.5</td>\n",
              "      <td>14.0</td>\n",
              "      <td>212.0</td>\n",
              "      <td>4875.0</td>\n",
              "      <td>Female</td>\n",
              "    </tr>\n",
              "    <tr>\n",
              "      <th>214</th>\n",
              "      <td>Gentoo</td>\n",
              "      <td>Biscoe</td>\n",
              "      <td>46.1</td>\n",
              "      <td>13.2</td>\n",
              "      <td>211.0</td>\n",
              "      <td>4500.0</td>\n",
              "      <td>Female</td>\n",
              "    </tr>\n",
              "    <tr>\n",
              "      <th>86</th>\n",
              "      <td>Adelie</td>\n",
              "      <td>Dream</td>\n",
              "      <td>34.0</td>\n",
              "      <td>17.1</td>\n",
              "      <td>185.0</td>\n",
              "      <td>3400.0</td>\n",
              "      <td>Female</td>\n",
              "    </tr>\n",
              "    <tr>\n",
              "      <th>251</th>\n",
              "      <td>Gentoo</td>\n",
              "      <td>Biscoe</td>\n",
              "      <td>44.0</td>\n",
              "      <td>13.6</td>\n",
              "      <td>208.0</td>\n",
              "      <td>4350.0</td>\n",
              "      <td>Female</td>\n",
              "    </tr>\n",
              "    <tr>\n",
              "      <th>50</th>\n",
              "      <td>Adelie</td>\n",
              "      <td>Biscoe</td>\n",
              "      <td>39.0</td>\n",
              "      <td>17.5</td>\n",
              "      <td>186.0</td>\n",
              "      <td>3550.0</td>\n",
              "      <td>Female</td>\n",
              "    </tr>\n",
              "    <tr>\n",
              "      <th>25</th>\n",
              "      <td>Adelie</td>\n",
              "      <td>Dream</td>\n",
              "      <td>39.5</td>\n",
              "      <td>16.7</td>\n",
              "      <td>178.0</td>\n",
              "      <td>3250.0</td>\n",
              "      <td>Female</td>\n",
              "    </tr>\n",
              "    <tr>\n",
              "      <th>7</th>\n",
              "      <td>Adelie</td>\n",
              "      <td>Torgersen</td>\n",
              "      <td>41.1</td>\n",
              "      <td>17.6</td>\n",
              "      <td>182.0</td>\n",
              "      <td>3200.0</td>\n",
              "      <td>Female</td>\n",
              "    </tr>\n",
              "  </tbody>\n",
              "</table>\n",
              "</div>"
            ],
            "text/plain": [
              "    species     island  bill_length_mm  bill_depth_mm  flipper_length_mm  \\\n",
              "56   Adelie     Biscoe            37.6           17.0              185.0   \n",
              "279  Gentoo     Biscoe            49.5           16.2              229.0   \n",
              "45   Adelie     Biscoe            40.1           18.9              188.0   \n",
              "300  Gentoo     Biscoe            47.5           14.0              212.0   \n",
              "214  Gentoo     Biscoe            46.1           13.2              211.0   \n",
              "86   Adelie      Dream            34.0           17.1              185.0   \n",
              "251  Gentoo     Biscoe            44.0           13.6              208.0   \n",
              "50   Adelie     Biscoe            39.0           17.5              186.0   \n",
              "25   Adelie      Dream            39.5           16.7              178.0   \n",
              "7    Adelie  Torgersen            41.1           17.6              182.0   \n",
              "\n",
              "     body_mass_g     sex  \n",
              "56        3600.0  Female  \n",
              "279       5800.0    Male  \n",
              "45        4300.0    Male  \n",
              "300       4875.0  Female  \n",
              "214       4500.0  Female  \n",
              "86        3400.0  Female  \n",
              "251       4350.0  Female  \n",
              "50        3550.0  Female  \n",
              "25        3250.0  Female  \n",
              "7         3200.0  Female  "
            ]
          },
          "execution_count": 5,
          "metadata": {},
          "output_type": "execute_result"
        }
      ],
      "source": [
        "# Drop NAN values, since they represent only around 3% of total records.\n",
        "\n",
        "df.dropna(axis=0,inplace=True, ignore_index=True)\n",
        "df.sample(10)"
      ]
    },
    {
      "cell_type": "code",
      "execution_count": 6,
      "metadata": {
        "colab": {
          "base_uri": "https://localhost:8080/"
        },
        "id": "JP8cvPXSKtuS",
        "outputId": "12eabb68-0293-4323-ed58-8fb73f5b60cc"
      },
      "outputs": [
        {
          "name": "stdout",
          "output_type": "stream",
          "text": [
            "<class 'pandas.core.frame.DataFrame'>\n",
            "RangeIndex: 333 entries, 0 to 332\n",
            "Data columns (total 7 columns):\n",
            " #   Column             Non-Null Count  Dtype  \n",
            "---  ------             --------------  -----  \n",
            " 0   species            333 non-null    object \n",
            " 1   island             333 non-null    object \n",
            " 2   bill_length_mm     333 non-null    float64\n",
            " 3   bill_depth_mm      333 non-null    float64\n",
            " 4   flipper_length_mm  333 non-null    float64\n",
            " 5   body_mass_g        333 non-null    float64\n",
            " 6   sex                333 non-null    object \n",
            "dtypes: float64(4), object(3)\n",
            "memory usage: 18.3+ KB\n"
          ]
        }
      ],
      "source": [
        "df.info()"
      ]
    },
    {
      "cell_type": "markdown",
      "metadata": {
        "id": "cXOgQ8DjIkpH"
      },
      "source": [
        "## 1. ¿Cuántas especies diferentes de pingüinos hay en el dataset?"
      ]
    },
    {
      "cell_type": "code",
      "execution_count": 7,
      "metadata": {
        "colab": {
          "base_uri": "https://localhost:8080/"
        },
        "id": "-xIxwDpLIm7v",
        "outputId": "50866c9a-3639-4d8b-ff3e-42bf130ee0e5"
      },
      "outputs": [
        {
          "name": "stdout",
          "output_type": "stream",
          "text": [
            "Cantidad de especies:  3\n"
          ]
        }
      ],
      "source": [
        "print('Cantidad de especies: ', len( df['species'].unique() ))"
      ]
    },
    {
      "cell_type": "markdown",
      "metadata": {
        "id": "Jr115aDZI22Z"
      },
      "source": [
        "## 2. ¿Cuál es la longitud media del pico de los pingüinos de la especie Adelie?"
      ]
    },
    {
      "cell_type": "code",
      "execution_count": 8,
      "metadata": {
        "colab": {
          "base_uri": "https://localhost:8080/"
        },
        "id": "QVQWz322IuKE",
        "outputId": "349e4f8e-1176-437d-ca98-92bc5bd02ef3"
      },
      "outputs": [
        {
          "name": "stdout",
          "output_type": "stream",
          "text": [
            "Media de longitud de pico Adelie:  38.82397260273973 mm\n"
          ]
        }
      ],
      "source": [
        "adeliePicoLen = df[df.species==\"Adelie\"].bill_length_mm.mean()\n",
        "\n",
        "print('Media de longitud de pico Adelie: ', adeliePicoLen, 'mm')"
      ]
    },
    {
      "cell_type": "markdown",
      "metadata": {
        "id": "Mbik_nPZJJVi"
      },
      "source": [
        "## 3. ¿Cuál es la masa corporal promedio de los pingüinos de la especie Gentoo?"
      ]
    },
    {
      "cell_type": "code",
      "execution_count": 9,
      "metadata": {
        "id": "p7yu8W4BJTEm"
      },
      "outputs": [
        {
          "name": "stdout",
          "output_type": "stream",
          "text": [
            "Media masa promedio en gramos de Gentoo:  5092.436974789916 g\n"
          ]
        }
      ],
      "source": [
        "GentooMass = df[df.species==\"Gentoo\"].body_mass_g.mean()\n",
        "\n",
        "print('Media masa promedio en gramos de Gentoo: ', GentooMass, 'g')"
      ]
    },
    {
      "cell_type": "markdown",
      "metadata": {
        "id": "U039sQLvJYRA"
      },
      "source": [
        "## 4. ¿Cuál es la relación entre la longitud del pico y la masa corporal de los pingüinos?"
      ]
    },
    {
      "cell_type": "code",
      "execution_count": 10,
      "metadata": {
        "colab": {
          "base_uri": "https://localhost:8080/",
          "height": 125
        },
        "id": "-amqb_5IJcD6",
        "outputId": "15f5c8e2-a2ff-4133-892d-8a9f391df7b6"
      },
      "outputs": [
        {
          "data": {
            "text/html": [
              "<div>\n",
              "<style scoped>\n",
              "    .dataframe tbody tr th:only-of-type {\n",
              "        vertical-align: middle;\n",
              "    }\n",
              "\n",
              "    .dataframe tbody tr th {\n",
              "        vertical-align: top;\n",
              "    }\n",
              "\n",
              "    .dataframe thead th {\n",
              "        text-align: right;\n",
              "    }\n",
              "</style>\n",
              "<table border=\"1\" class=\"dataframe\">\n",
              "  <thead>\n",
              "    <tr style=\"text-align: right;\">\n",
              "      <th></th>\n",
              "      <th>bill_length_mm</th>\n",
              "      <th>body_mass_g</th>\n",
              "    </tr>\n",
              "  </thead>\n",
              "  <tbody>\n",
              "    <tr>\n",
              "      <th>bill_length_mm</th>\n",
              "      <td>1.000000</td>\n",
              "      <td>0.589451</td>\n",
              "    </tr>\n",
              "    <tr>\n",
              "      <th>body_mass_g</th>\n",
              "      <td>0.589451</td>\n",
              "      <td>1.000000</td>\n",
              "    </tr>\n",
              "  </tbody>\n",
              "</table>\n",
              "</div>"
            ],
            "text/plain": [
              "                bill_length_mm  body_mass_g\n",
              "bill_length_mm        1.000000     0.589451\n",
              "body_mass_g           0.589451     1.000000"
            ]
          },
          "execution_count": 10,
          "metadata": {},
          "output_type": "execute_result"
        }
      ],
      "source": [
        "\n",
        "df_2 = df[['bill_length_mm', 'body_mass_g']]\n",
        "\n",
        "# Pearson correlation\n",
        "billMassCorr = df_2.corr()\n",
        "billMassCorr"
      ]
    },
    {
      "cell_type": "code",
      "execution_count": 11,
      "metadata": {
        "colab": {
          "base_uri": "https://localhost:8080/",
          "height": 487
        },
        "id": "yDc1hU9zKEd8",
        "outputId": "35fb010e-a20d-4c0b-a9e4-7640154a893e"
      },
      "outputs": [
        {
          "data": {
            "image/png": "[encoded data removed]",
            "text/plain": [
              "<Figure size 600x500 with 1 Axes>"
            ]
          },
          "metadata": {},
          "output_type": "display_data"
        }
      ],
      "source": [
        "fig = plt.figure(figsize=(6,5))\n",
        "sns.scatterplot(data=df, x='bill_length_mm', y='body_mass_g', hue='species')\n",
        "plt.title('Bill Lenght And Body Mass Relation')\n",
        "plt.show()"
      ]
    },
    {
      "cell_type": "markdown",
      "metadata": {
        "id": "DfrKKsknJ9dy"
      },
      "source": [
        "## 5.¿Cuál es la isla con mayor número de pingüinos en el dataset?"
      ]
    },
    {
      "cell_type": "code",
      "execution_count": 12,
      "metadata": {
        "colab": {
          "base_uri": "https://localhost:8080/",
          "height": 143
        },
        "id": "qg1TCQ4sKA8r",
        "outputId": "9913ce1d-3e4a-44b9-9a2c-b6b1d1e6a819"
      },
      "outputs": [
        {
          "data": {
            "text/html": [
              "<div>\n",
              "<style scoped>\n",
              "    .dataframe tbody tr th:only-of-type {\n",
              "        vertical-align: middle;\n",
              "    }\n",
              "\n",
              "    .dataframe tbody tr th {\n",
              "        vertical-align: top;\n",
              "    }\n",
              "\n",
              "    .dataframe thead th {\n",
              "        text-align: right;\n",
              "    }\n",
              "</style>\n",
              "<table border=\"1\" class=\"dataframe\">\n",
              "  <thead>\n",
              "    <tr style=\"text-align: right;\">\n",
              "      <th></th>\n",
              "      <th>island</th>\n",
              "      <th>count</th>\n",
              "    </tr>\n",
              "  </thead>\n",
              "  <tbody>\n",
              "    <tr>\n",
              "      <th>0</th>\n",
              "      <td>Biscoe</td>\n",
              "      <td>163</td>\n",
              "    </tr>\n",
              "    <tr>\n",
              "      <th>1</th>\n",
              "      <td>Dream</td>\n",
              "      <td>123</td>\n",
              "    </tr>\n",
              "    <tr>\n",
              "      <th>2</th>\n",
              "      <td>Torgersen</td>\n",
              "      <td>47</td>\n",
              "    </tr>\n",
              "  </tbody>\n",
              "</table>\n",
              "</div>"
            ],
            "text/plain": [
              "      island  count\n",
              "0     Biscoe    163\n",
              "1      Dream    123\n",
              "2  Torgersen     47"
            ]
          },
          "execution_count": 12,
          "metadata": {},
          "output_type": "execute_result"
        }
      ],
      "source": [
        "# One way to do it using value_counts()\n",
        "\n",
        "df['island'].value_counts().reset_index()"
      ]
    },
    {
      "cell_type": "code",
      "execution_count": 13,
      "metadata": {
        "colab": {
          "base_uri": "https://localhost:8080/"
        },
        "id": "zQbD94qfLaid",
        "outputId": "f915f4d0-500d-4718-bc48-34b284a6d412"
      },
      "outputs": [
        {
          "name": "stdout",
          "output_type": "stream",
          "text": [
            "La isla con mas pingüinos es:  Biscoe\n"
          ]
        }
      ],
      "source": [
        "moreCrowdedIsland = df['island'].value_counts().idxmax()\n",
        "\n",
        "print('La isla con mas pingüinos es: ', moreCrowdedIsland)"
      ]
    },
    {
      "cell_type": "markdown",
      "metadata": {
        "id": "42Gl4cN4LtFf"
      },
      "source": [
        "## 6. ¿Cuál es la desviación estándar de la longitud de la aleta de los pingüinos de la especie Chinstrap?"
      ]
    },
    {
      "cell_type": "code",
      "execution_count": 14,
      "metadata": {
        "colab": {
          "base_uri": "https://localhost:8080/"
        },
        "id": "TxidpCLfLzcj",
        "outputId": "e9a491d1-23dc-425a-dc43-97cd5d32ae81"
      },
      "outputs": [
        {
          "name": "stdout",
          "output_type": "stream",
          "text": [
            "la desviaición estándar de la longitud de las laetas de los Chipstrap es: 7.131894258578147 mm\n"
          ]
        }
      ],
      "source": [
        "ChinstrapFlipperStd = df[df.species==\"Chinstrap\"]['flipper_length_mm'].std()\n",
        "\n",
        "print('la desviaición estándar de la longitud de las laetas de los Chipstrap es:', ChinstrapFlipperStd, 'mm' )"
      ]
    },
    {
      "cell_type": "markdown",
      "metadata": {
        "id": "fXM-a6wMMNRe"
      },
      "source": [
        "## 7. ¿Qué pingüino tiene el pico más largo en el dataset y cuál es su especie?"
      ]
    },
    {
      "cell_type": "code",
      "execution_count": 15,
      "metadata": {
        "colab": {
          "base_uri": "https://localhost:8080/",
          "height": 89
        },
        "id": "sXHAz9QGMQlI",
        "outputId": "5a47a7b2-f9a7-41ce-ab0e-452d0a50438d"
      },
      "outputs": [
        {
          "data": {
            "text/html": [
              "<div>\n",
              "<style scoped>\n",
              "    .dataframe tbody tr th:only-of-type {\n",
              "        vertical-align: middle;\n",
              "    }\n",
              "\n",
              "    .dataframe tbody tr th {\n",
              "        vertical-align: top;\n",
              "    }\n",
              "\n",
              "    .dataframe thead th {\n",
              "        text-align: right;\n",
              "    }\n",
              "</style>\n",
              "<table border=\"1\" class=\"dataframe\">\n",
              "  <thead>\n",
              "    <tr style=\"text-align: right;\">\n",
              "      <th></th>\n",
              "      <th>species</th>\n",
              "      <th>island</th>\n",
              "      <th>bill_length_mm</th>\n",
              "      <th>bill_depth_mm</th>\n",
              "      <th>flipper_length_mm</th>\n",
              "      <th>body_mass_g</th>\n",
              "      <th>sex</th>\n",
              "    </tr>\n",
              "  </thead>\n",
              "  <tbody>\n",
              "    <tr>\n",
              "      <th>246</th>\n",
              "      <td>Gentoo</td>\n",
              "      <td>Biscoe</td>\n",
              "      <td>59.6</td>\n",
              "      <td>17.0</td>\n",
              "      <td>230.0</td>\n",
              "      <td>6050.0</td>\n",
              "      <td>Male</td>\n",
              "    </tr>\n",
              "  </tbody>\n",
              "</table>\n",
              "</div>"
            ],
            "text/plain": [
              "    species  island  bill_length_mm  bill_depth_mm  flipper_length_mm  \\\n",
              "246  Gentoo  Biscoe            59.6           17.0              230.0   \n",
              "\n",
              "     body_mass_g   sex  \n",
              "246       6050.0  Male  "
            ]
          },
          "execution_count": 15,
          "metadata": {},
          "output_type": "execute_result"
        }
      ],
      "source": [
        "maxBillPenguin = df[df['bill_length_mm'] == df['bill_length_mm'].max()]\n",
        "maxBillPenguin"
      ]
    },
    {
      "cell_type": "code",
      "execution_count": 16,
      "metadata": {
        "colab": {
          "base_uri": "https://localhost:8080/"
        },
        "id": "xcFJNNDDMdY6",
        "outputId": "4869db84-ec94-433f-a7cd-0b9be4a729d5"
      },
      "outputs": [
        {
          "name": "stdout",
          "output_type": "stream",
          "text": [
            "La especio del pingüino con el pico más largo del dataset es:  Gentoo\n"
          ]
        }
      ],
      "source": [
        "maxBillPenguinSpecies = maxBillPenguin['species'].iloc[0]\n",
        "print('La especio del pingüino con el pico más largo del dataset es: ', maxBillPenguinSpecies)"
      ]
    },
    {
      "cell_type": "markdown",
      "metadata": {
        "id": "cOPW8wCiMxzF"
      },
      "source": [
        "## 8. ¿Cuál es la proporción de machos y hembras en la especie Adelie?"
      ]
    },
    {
      "cell_type": "code",
      "execution_count": 17,
      "metadata": {
        "colab": {
          "base_uri": "https://localhost:8080/",
          "height": 178
        },
        "id": "FkyZdPRUNRie",
        "outputId": "f4d16d3b-b635-41d6-9f59-be9d97b1aa56"
      },
      "outputs": [
        {
          "data": {
            "text/plain": [
              "sex\n",
              "Male      0.5\n",
              "Female    0.5\n",
              "Name: proportion, dtype: float64"
            ]
          },
          "execution_count": 17,
          "metadata": {},
          "output_type": "execute_result"
        }
      ],
      "source": [
        "Adeli_df_sex = df[df['species'] == 'Adelie']\n",
        "Adeli_df_sex_proportion = Adeli_df_sex['sex'].value_counts(normalize=True)\n",
        "Adeli_df_sex_proportion"
      ]
    },
    {
      "cell_type": "markdown",
      "metadata": {
        "id": "5I-wlIJvOJwC"
      },
      "source": [
        "## 9. ¿Existe una correlación significativa entre la longitud del pico y la masa corporal en las diferentes especies de pingüinos?"
      ]
    },
    {
      "cell_type": "code",
      "execution_count": 18,
      "metadata": {
        "colab": {
          "base_uri": "https://localhost:8080/",
          "height": 269
        },
        "id": "UJGpvkIYOYUa",
        "outputId": "ea49388a-5b3f-4798-df37-e71c35027fea"
      },
      "outputs": [
        {
          "data": {
            "text/html": [
              "<div>\n",
              "<style scoped>\n",
              "    .dataframe tbody tr th:only-of-type {\n",
              "        vertical-align: middle;\n",
              "    }\n",
              "\n",
              "    .dataframe tbody tr th {\n",
              "        vertical-align: top;\n",
              "    }\n",
              "\n",
              "    .dataframe thead th {\n",
              "        text-align: right;\n",
              "    }\n",
              "</style>\n",
              "<table border=\"1\" class=\"dataframe\">\n",
              "  <thead>\n",
              "    <tr style=\"text-align: right;\">\n",
              "      <th></th>\n",
              "      <th></th>\n",
              "      <th>bill_length_mm</th>\n",
              "      <th>body_mass_g</th>\n",
              "    </tr>\n",
              "    <tr>\n",
              "      <th>species</th>\n",
              "      <th></th>\n",
              "      <th></th>\n",
              "      <th></th>\n",
              "    </tr>\n",
              "  </thead>\n",
              "  <tbody>\n",
              "    <tr>\n",
              "      <th rowspan=\"2\" valign=\"top\">Adelie</th>\n",
              "      <th>bill_length_mm</th>\n",
              "      <td>1.000000</td>\n",
              "      <td>0.544276</td>\n",
              "    </tr>\n",
              "    <tr>\n",
              "      <th>body_mass_g</th>\n",
              "      <td>0.544276</td>\n",
              "      <td>1.000000</td>\n",
              "    </tr>\n",
              "    <tr>\n",
              "      <th rowspan=\"2\" valign=\"top\">Chinstrap</th>\n",
              "      <th>bill_length_mm</th>\n",
              "      <td>1.000000</td>\n",
              "      <td>0.513638</td>\n",
              "    </tr>\n",
              "    <tr>\n",
              "      <th>body_mass_g</th>\n",
              "      <td>0.513638</td>\n",
              "      <td>1.000000</td>\n",
              "    </tr>\n",
              "    <tr>\n",
              "      <th rowspan=\"2\" valign=\"top\">Gentoo</th>\n",
              "      <th>bill_length_mm</th>\n",
              "      <td>1.000000</td>\n",
              "      <td>0.666730</td>\n",
              "    </tr>\n",
              "    <tr>\n",
              "      <th>body_mass_g</th>\n",
              "      <td>0.666730</td>\n",
              "      <td>1.000000</td>\n",
              "    </tr>\n",
              "  </tbody>\n",
              "</table>\n",
              "</div>"
            ],
            "text/plain": [
              "                          bill_length_mm  body_mass_g\n",
              "species                                              \n",
              "Adelie    bill_length_mm        1.000000     0.544276\n",
              "          body_mass_g           0.544276     1.000000\n",
              "Chinstrap bill_length_mm        1.000000     0.513638\n",
              "          body_mass_g           0.513638     1.000000\n",
              "Gentoo    bill_length_mm        1.000000     0.666730\n",
              "          body_mass_g           0.666730     1.000000"
            ]
          },
          "execution_count": 18,
          "metadata": {},
          "output_type": "execute_result"
        }
      ],
      "source": [
        "df_3 = df[['bill_length_mm', 'body_mass_g', 'species']]\n",
        "df_3 = df_3.groupby('species').corr()\n",
        "df_3"
      ]
    },
    {
      "cell_type": "code",
      "execution_count": 19,
      "metadata": {
        "colab": {
          "base_uri": "https://localhost:8080/"
        },
        "id": "TXDdbdA-O2qp",
        "outputId": "3ce98d31-173f-4268-ce97-1cbc0013318f"
      },
      "outputs": [
        {
          "name": "stdout",
          "output_type": "stream",
          "text": [
            "En efecto hay una relación entre el largo del pico y la masa del mismo en cada especie.\n"
          ]
        }
      ],
      "source": [
        "print('En efecto hay una relación entre el largo del pico y la masa del mismo en cada especie.')"
      ]
    },
    {
      "cell_type": "markdown",
      "metadata": {
        "id": "ivGyTxc6O998"
      },
      "source": [
        "## 10. ¿Cuál es la distribución de la masa corporal entre las especies de pingüinos?"
      ]
    },
    {
      "cell_type": "code",
      "execution_count": 60,
      "metadata": {
        "colab": {
          "base_uri": "https://localhost:8080/",
          "height": 504
        },
        "id": "2x_GZS7zPC83",
        "outputId": "f67e2bef-8853-48b7-b340-0d193168bdaf"
      },
      "outputs": [
        {
          "name": "stdout",
          "output_type": "stream",
          "text": [
            "All togheter\n"
          ]
        },
        {
          "data": {
            "image/png": "[encoded data removed]",
            "text/plain": [
              "<Figure size 900x800 with 1 Axes>"
            ]
          },
          "metadata": {},
          "output_type": "display_data"
        }
      ],
      "source": [
        "fig = plt.figure(figsize=(9,8))\n",
        "sns.histplot(data=df[df['species'] == 'Adelie'], x='body_mass_g', label='Adelie', color='blue', alpha=1)\n",
        "sns.histplot(data=df[df['species'] == 'Gentoo'], x='body_mass_g', label='Gentoo', color='green', alpha=0.7)  # Sin opacidad\n",
        "sns.histplot(data=df[df['species'] == 'Chinstrap'], x='body_mass_g', label='Chinstrap', color='orange', alpha=0.7)\n",
        "\n",
        "plt.title('Body Mass by Species')\n",
        "plt.legend()\n",
        "\n",
        "print('All togheter')\n",
        "plt.show()\n"
      ]
    },
    {
      "cell_type": "code",
      "execution_count": 63,
      "metadata": {
        "colab": {
          "base_uri": "https://localhost:8080/",
          "height": 616
        },
        "id": "PK6x0DTFPxaA",
        "outputId": "f3f2d9e7-962b-4254-cff4-689da3181978"
      },
      "outputs": [
        {
          "data": {
            "image/png": "[encoded data removed]",
            "text/plain": [
              "<Figure size 1500x700 with 3 Axes>"
            ]
          },
          "metadata": {},
          "output_type": "display_data"
        }
      ],
      "source": [
        "adelie_df = df[df['species'] == 'Adelie']\n",
        "chinstrap_df = df[df['species'] == 'Chinstrap']\n",
        "gentoo_df = df[df['species'] == 'Gentoo']\n",
        "\n",
        "fig = plt.figure(figsize=(15,7))\n",
        "\n",
        "plt.subplot(1,3,1)\n",
        "sns.histplot(data=adelie_df, x='body_mass_g')\n",
        "plt.title('Body Mass for Adelie')\n",
        "plt.xlabel('Body Mass (g)')\n",
        "plt.ylabel('Count')\n",
        "plt.ylim(0,30)\n",
        "\n",
        "plt.subplot(1,3,2)\n",
        "sns.histplot(data=chinstrap_df, x='body_mass_g')\n",
        "plt.title('Body Mass for chinstrap')\n",
        "plt.xlabel('Body Mass (g)')\n",
        "plt.ylabel('Count')\n",
        "plt.ylim(0,30)\n",
        "\n",
        "plt.subplot(1,3,3)\n",
        "sns.histplot(data=gentoo_df, x='body_mass_g')\n",
        "plt.title('Body Mass for gentoo')\n",
        "plt.xlabel('Body Mass (g)')\n",
        "plt.ylabel('Count')\n",
        "plt.ylim(0,30)\n",
        "\n",
        "plt.tight_layout()\n",
        "plt.show()"
      ]
    },
    {
      "cell_type": "markdown",
      "metadata": {
        "id": "14_8yba5SFdR"
      },
      "source": [
        "## 11. ¿Cuál es la longitud mínima y máxima de la aleta entre las tres especies de pingüinos?"
      ]
    },
    {
      "cell_type": "code",
      "execution_count": 23,
      "metadata": {
        "colab": {
          "base_uri": "https://localhost:8080/"
        },
        "id": "6k45OFCeSKdq",
        "outputId": "59995901-0f28-4288-c6a1-3ee466e05260"
      },
      "outputs": [
        {
          "data": {
            "text/html": [
              "<div>\n",
              "<style scoped>\n",
              "    .dataframe tbody tr th:only-of-type {\n",
              "        vertical-align: middle;\n",
              "    }\n",
              "\n",
              "    .dataframe tbody tr th {\n",
              "        vertical-align: top;\n",
              "    }\n",
              "\n",
              "    .dataframe thead th {\n",
              "        text-align: right;\n",
              "    }\n",
              "</style>\n",
              "<table border=\"1\" class=\"dataframe\">\n",
              "  <thead>\n",
              "    <tr style=\"text-align: right;\">\n",
              "      <th></th>\n",
              "      <th>Flipper Min length mm</th>\n",
              "      <th>Flipper Max length mm</th>\n",
              "    </tr>\n",
              "    <tr>\n",
              "      <th>species</th>\n",
              "      <th></th>\n",
              "      <th></th>\n",
              "    </tr>\n",
              "  </thead>\n",
              "  <tbody>\n",
              "    <tr>\n",
              "      <th>Adelie</th>\n",
              "      <td>172.0</td>\n",
              "      <td>210.0</td>\n",
              "    </tr>\n",
              "    <tr>\n",
              "      <th>Chinstrap</th>\n",
              "      <td>178.0</td>\n",
              "      <td>212.0</td>\n",
              "    </tr>\n",
              "    <tr>\n",
              "      <th>Gentoo</th>\n",
              "      <td>203.0</td>\n",
              "      <td>231.0</td>\n",
              "    </tr>\n",
              "  </tbody>\n",
              "</table>\n",
              "</div>"
            ],
            "text/plain": [
              "           Flipper Min length mm  Flipper Max length mm\n",
              "species                                                \n",
              "Adelie                     172.0                  210.0\n",
              "Chinstrap                  178.0                  212.0\n",
              "Gentoo                     203.0                  231.0"
            ]
          },
          "execution_count": 23,
          "metadata": {},
          "output_type": "execute_result"
        }
      ],
      "source": [
        "minMax = df.groupby('species')['flipper_length_mm'].agg(['min', 'max'])\n",
        "minMax = minMax.rename(columns={'min':'Flipper Min length mm','max':'Flipper Max length mm'})\n",
        "minMax"
      ]
    },
    {
      "cell_type": "markdown",
      "metadata": {
        "id": "SroWd8Z4Sh-w"
      },
      "source": [
        "## 12. ¿Cuántos pingüinos tienen una masa corporal superior a 5000 gramos?"
      ]
    },
    {
      "cell_type": "code",
      "execution_count": 24,
      "metadata": {
        "colab": {
          "base_uri": "https://localhost:8080/",
          "height": 423
        },
        "id": "zvpproaYSrLv",
        "outputId": "913c13b4-351a-4fff-9468-f77847440a42"
      },
      "outputs": [
        {
          "name": "stdout",
          "output_type": "stream",
          "text": [
            "The amount of penguin with more 5000g on body weight are:  61\n"
          ]
        }
      ],
      "source": [
        "df_4 = df[df['body_mass_g'] > 5000]\n",
        "BiggerPenguins = df_4.shape[0]\n",
        "print(\"The amount of penguin with more 5000g on body weight are: \", BiggerPenguins)"
      ]
    },
    {
      "cell_type": "markdown",
      "metadata": {
        "id": "5dRCS5nAUKvX"
      },
      "source": [
        "## 13. ¿Cómo varía la longitud del pico entre las diferentes especies de pingüinos en las distintas islas?"
      ]
    },
    {
      "cell_type": "code",
      "execution_count": 43,
      "metadata": {},
      "outputs": [
        {
          "data": {
            "image/png": "[encoded data removed]",
            "text/plain": [
              "<Figure size 1000x600 with 1 Axes>"
            ]
          },
          "metadata": {},
          "output_type": "display_data"
        }
      ],
      "source": [
        "plt.figure(figsize=(10, 6))\n",
        "sns.boxplot(data=df, x='island', y='bill_length_mm', hue='species')\n",
        "plt.title('Variación de la longitud del pico entre especies en diferentes islas')\n",
        "plt.show()"
      ]
    },
    {
      "cell_type": "code",
      "execution_count": 45,
      "metadata": {},
      "outputs": [
        {
          "name": "stdout",
          "output_type": "stream",
          "text": [
            "                     count       mean       std   min     25%    50%     75%  \\\n",
            "island    species                                                              \n",
            "Biscoe    Adelie      44.0  38.975000  2.480916  34.5  37.675  38.70  40.700   \n",
            "          Gentoo     119.0  47.568067  3.106116  40.9  45.350  47.40  49.600   \n",
            "Dream     Adelie      55.0  38.520000  2.484276  32.1  36.700  38.80  40.450   \n",
            "          Chinstrap   68.0  48.833824  3.339256  40.9  46.350  49.55  51.075   \n",
            "Torgersen Adelie      47.0  39.038298  3.028097  33.5  36.650  39.00  41.100   \n",
            "\n",
            "                      max  \n",
            "island    species          \n",
            "Biscoe    Adelie     45.6  \n",
            "          Gentoo     59.6  \n",
            "Dream     Adelie     44.1  \n",
            "          Chinstrap  58.0  \n",
            "Torgersen Adelie     46.0  \n"
          ]
        }
      ],
      "source": [
        "summaryStats = df.groupby(['island', 'species'])['bill_length_mm'].describe()\n",
        "print(summaryStats)"
      ]
    },
    {
      "cell_type": "markdown",
      "metadata": {
        "id": "GEbiCwb2VRDC"
      },
      "source": [
        "## 14. ¿Cuál es la relación entre la longitud de la aleta y la masa corporal en los pingüinos de la especie Gentoo?"
      ]
    },
    {
      "cell_type": "code",
      "execution_count": null,
      "metadata": {
        "colab": {
          "base_uri": "https://localhost:8080/",
          "height": 125
        },
        "id": "ZM9-NcQKVVwJ",
        "outputId": "cd6a19e9-2b2b-44e4-a0ee-8144857625ce"
      },
      "outputs": [
        {
          "data": {
            "application/vnd.google.colaboratory.intrinsic+json": {
              "summary": "{\n  \"name\": \"flipperMassGentooCorr\",\n  \"rows\": 2,\n  \"fields\": [\n    {\n      \"column\": \"flipper_length_mm\",\n      \"properties\": {\n        \"dtype\": \"number\",\n        \"std\": 0.20413801107312116,\n        \"min\": 0.711305256144523,\n        \"max\": 1.0,\n        \"num_unique_values\": 2,\n        \"samples\": [\n          0.711305256144523,\n          1.0\n        ],\n        \"semantic_type\": \"\",\n        \"description\": \"\"\n      }\n    },\n    {\n      \"column\": \"body_mass_g\",\n      \"properties\": {\n        \"dtype\": \"number\",\n        \"std\": 0.20413801107312116,\n        \"min\": 0.711305256144523,\n        \"max\": 1.0,\n        \"num_unique_values\": 2,\n        \"samples\": [\n          1.0,\n          0.711305256144523\n        ],\n        \"semantic_type\": \"\",\n        \"description\": \"\"\n      }\n    }\n  ]\n}",
              "type": "dataframe",
              "variable_name": "flipperMassGentooCorr"
            },
            "text/html": [
              "\n",
              "  <div id=\"df-9e78c432-91c1-4b88-a189-1671b5f576fc\" class=\"colab-df-container\">\n",
              "    <div>\n",
              "<style scoped>\n",
              "    .dataframe tbody tr th:only-of-type {\n",
              "        vertical-align: middle;\n",
              "    }\n",
              "\n",
              "    .dataframe tbody tr th {\n",
              "        vertical-align: top;\n",
              "    }\n",
              "\n",
              "    .dataframe thead th {\n",
              "        text-align: right;\n",
              "    }\n",
              "</style>\n",
              "<table border=\"1\" class=\"dataframe\">\n",
              "  <thead>\n",
              "    <tr style=\"text-align: right;\">\n",
              "      <th></th>\n",
              "      <th>flipper_length_mm</th>\n",
              "      <th>body_mass_g</th>\n",
              "    </tr>\n",
              "  </thead>\n",
              "  <tbody>\n",
              "    <tr>\n",
              "      <th>flipper_length_mm</th>\n",
              "      <td>1.000000</td>\n",
              "      <td>0.711305</td>\n",
              "    </tr>\n",
              "    <tr>\n",
              "      <th>body_mass_g</th>\n",
              "      <td>0.711305</td>\n",
              "      <td>1.000000</td>\n",
              "    </tr>\n",
              "  </tbody>\n",
              "</table>\n",
              "</div>\n",
              "    <div class=\"colab-df-buttons\">\n",
              "\n",
              "  <div class=\"colab-df-container\">\n",
              "    <button class=\"colab-df-convert\" onclick=\"convertToInteractive('df-9e78c432-91c1-4b88-a189-1671b5f576fc')\"\n",
              "            title=\"Convert this dataframe to an interactive table.\"\n",
              "            style=\"display:none;\">\n",
              "\n",
              "  <svg xmlns=\"http://www.w3.org/2000/svg\" height=\"24px\" viewBox=\"0 -960 960 960\">\n",
              "    <path d=\"M120-120v-720h720v720H120Zm60-500h600v-160H180v160Zm220 220h160v-160H400v160Zm0 220h160v-160H400v160ZM180-400h160v-160H180v160Zm440 0h160v-160H620v160ZM180-180h160v-160H180v160Zm440 0h160v-160H620v160Z\"/>\n",
              "  </svg>\n",
              "    </button>\n",
              "\n",
              "  <style>\n",
              "    .colab-df-container {\n",
              "      display:flex;\n",
              "      gap: 12px;\n",
              "    }\n",
              "\n",
              "    .colab-df-convert {\n",
              "      background-color: #E8F0FE;\n",
              "      border: none;\n",
              "      border-radius: 50%;\n",
              "      cursor: pointer;\n",
              "      display: none;\n",
              "      fill: #1967D2;\n",
              "      height: 32px;\n",
              "      padding: 0 0 0 0;\n",
              "      width: 32px;\n",
              "    }\n",
              "\n",
              "    .colab-df-convert:hover {\n",
              "      background-color: #E2EBFA;\n",
              "      box-shadow: 0px 1px 2px rgba(60, 64, 67, 0.3), 0px 1px 3px 1px rgba(60, 64, 67, 0.15);\n",
              "      fill: #174EA6;\n",
              "    }\n",
              "\n",
              "    .colab-df-buttons div {\n",
              "      margin-bottom: 4px;\n",
              "    }\n",
              "\n",
              "    [theme=dark] .colab-df-convert {\n",
              "      background-color: #3B4455;\n",
              "      fill: #D2E3FC;\n",
              "    }\n",
              "\n",
              "    [theme=dark] .colab-df-convert:hover {\n",
              "      background-color: #434B5C;\n",
              "      box-shadow: 0px 1px 3px 1px rgba(0, 0, 0, 0.15);\n",
              "      filter: drop-shadow(0px 1px 2px rgba(0, 0, 0, 0.3));\n",
              "      fill: #FFFFFF;\n",
              "    }\n",
              "  </style>\n",
              "\n",
              "    <script>\n",
              "      const buttonEl =\n",
              "        document.querySelector('#df-9e78c432-91c1-4b88-a189-1671b5f576fc button.colab-df-convert');\n",
              "      buttonEl.style.display =\n",
              "        google.colab.kernel.accessAllowed ? 'block' : 'none';\n",
              "\n",
              "      async function convertToInteractive(key) {\n",
              "        const element = document.querySelector('#df-9e78c432-91c1-4b88-a189-1671b5f576fc');\n",
              "        const dataTable =\n",
              "          await google.colab.kernel.invokeFunction('convertToInteractive',\n",
              "                                                    [key], {});\n",
              "        if (!dataTable) return;\n",
              "\n",
              "        const docLinkHtml = 'Like what you see? Visit the ' +\n",
              "          '<a target=\"_blank\" href=https://colab.research.google.com/notebooks/data_table.ipynb>data table notebook</a>'\n",
              "          + ' to learn more about interactive tables.';\n",
              "        element.innerHTML = '';\n",
              "        dataTable['output_type'] = 'display_data';\n",
              "        await google.colab.output.renderOutput(dataTable, element);\n",
              "        const docLink = document.createElement('div');\n",
              "        docLink.innerHTML = docLinkHtml;\n",
              "        element.appendChild(docLink);\n",
              "      }\n",
              "    </script>\n",
              "  </div>\n",
              "\n",
              "\n",
              "<div id=\"df-4b42ee6c-e35b-41ef-a644-8eaa354e3a06\">\n",
              "  <button class=\"colab-df-quickchart\" onclick=\"quickchart('df-4b42ee6c-e35b-41ef-a644-8eaa354e3a06')\"\n",
              "            title=\"Suggest charts\"\n",
              "            style=\"display:none;\">\n",
              "\n",
              "<svg xmlns=\"http://www.w3.org/2000/svg\" height=\"24px\"viewBox=\"0 0 24 24\"\n",
              "     width=\"24px\">\n",
              "    <g>\n",
              "        <path d=\"M19 3H5c-1.1 0-2 .9-2 2v14c0 1.1.9 2 2 2h14c1.1 0 2-.9 2-2V5c0-1.1-.9-2-2-2zM9 17H7v-7h2v7zm4 0h-2V7h2v10zm4 0h-2v-4h2v4z\"/>\n",
              "    </g>\n",
              "</svg>\n",
              "  </button>\n",
              "\n",
              "<style>\n",
              "  .colab-df-quickchart {\n",
              "      --bg-color: #E8F0FE;\n",
              "      --fill-color: #1967D2;\n",
              "      --hover-bg-color: #E2EBFA;\n",
              "      --hover-fill-color: #174EA6;\n",
              "      --disabled-fill-color: #AAA;\n",
              "      --disabled-bg-color: #DDD;\n",
              "  }\n",
              "\n",
              "  [theme=dark] .colab-df-quickchart {\n",
              "      --bg-color: #3B4455;\n",
              "      --fill-color: #D2E3FC;\n",
              "      --hover-bg-color: #434B5C;\n",
              "      --hover-fill-color: #FFFFFF;\n",
              "      --disabled-bg-color: #3B4455;\n",
              "      --disabled-fill-color: #666;\n",
              "  }\n",
              "\n",
              "  .colab-df-quickchart {\n",
              "    background-color: var(--bg-color);\n",
              "    border: none;\n",
              "    border-radius: 50%;\n",
              "    cursor: pointer;\n",
              "    display: none;\n",
              "    fill: var(--fill-color);\n",
              "    height: 32px;\n",
              "    padding: 0;\n",
              "    width: 32px;\n",
              "  }\n",
              "\n",
              "  .colab-df-quickchart:hover {\n",
              "    background-color: var(--hover-bg-color);\n",
              "    box-shadow: 0 1px 2px rgba(60, 64, 67, 0.3), 0 1px 3px 1px rgba(60, 64, 67, 0.15);\n",
              "    fill: var(--button-hover-fill-color);\n",
              "  }\n",
              "\n",
              "  .colab-df-quickchart-complete:disabled,\n",
              "  .colab-df-quickchart-complete:disabled:hover {\n",
              "    background-color: var(--disabled-bg-color);\n",
              "    fill: var(--disabled-fill-color);\n",
              "    box-shadow: none;\n",
              "  }\n",
              "\n",
              "  .colab-df-spinner {\n",
              "    border: 2px solid var(--fill-color);\n",
              "    border-color: transparent;\n",
              "    border-bottom-color: var(--fill-color);\n",
              "    animation:\n",
              "      spin 1s steps(1) infinite;\n",
              "  }\n",
              "\n",
              "  @keyframes spin {\n",
              "    0% {\n",
              "      border-color: transparent;\n",
              "      border-bottom-color: var(--fill-color);\n",
              "      border-left-color: var(--fill-color);\n",
              "    }\n",
              "    20% {\n",
              "      border-color: transparent;\n",
              "      border-left-color: var(--fill-color);\n",
              "      border-top-color: var(--fill-color);\n",
              "    }\n",
              "    30% {\n",
              "      border-color: transparent;\n",
              "      border-left-color: var(--fill-color);\n",
              "      border-top-color: var(--fill-color);\n",
              "      border-right-color: var(--fill-color);\n",
              "    }\n",
              "    40% {\n",
              "      border-color: transparent;\n",
              "      border-right-color: var(--fill-color);\n",
              "      border-top-color: var(--fill-color);\n",
              "    }\n",
              "    60% {\n",
              "      border-color: transparent;\n",
              "      border-right-color: var(--fill-color);\n",
              "    }\n",
              "    80% {\n",
              "      border-color: transparent;\n",
              "      border-right-color: var(--fill-color);\n",
              "      border-bottom-color: var(--fill-color);\n",
              "    }\n",
              "    90% {\n",
              "      border-color: transparent;\n",
              "      border-bottom-color: var(--fill-color);\n",
              "    }\n",
              "  }\n",
              "</style>\n",
              "\n",
              "  <script>\n",
              "    async function quickchart(key) {\n",
              "      const quickchartButtonEl =\n",
              "        document.querySelector('#' + key + ' button');\n",
              "      quickchartButtonEl.disabled = true;  // To prevent multiple clicks.\n",
              "      quickchartButtonEl.classList.add('colab-df-spinner');\n",
              "      try {\n",
              "        const charts = await google.colab.kernel.invokeFunction(\n",
              "            'suggestCharts', [key], {});\n",
              "      } catch (error) {\n",
              "        console.error('Error during call to suggestCharts:', error);\n",
              "      }\n",
              "      quickchartButtonEl.classList.remove('colab-df-spinner');\n",
              "      quickchartButtonEl.classList.add('colab-df-quickchart-complete');\n",
              "    }\n",
              "    (() => {\n",
              "      let quickchartButtonEl =\n",
              "        document.querySelector('#df-4b42ee6c-e35b-41ef-a644-8eaa354e3a06 button');\n",
              "      quickchartButtonEl.style.display =\n",
              "        google.colab.kernel.accessAllowed ? 'block' : 'none';\n",
              "    })();\n",
              "  </script>\n",
              "</div>\n",
              "\n",
              "  <div id=\"id_9401e6f0-eb05-43de-982d-066cc67db43e\">\n",
              "    <style>\n",
              "      .colab-df-generate {\n",
              "        background-color: #E8F0FE;\n",
              "        border: none;\n",
              "        border-radius: 50%;\n",
              "        cursor: pointer;\n",
              "        display: none;\n",
              "        fill: #1967D2;\n",
              "        height: 32px;\n",
              "        padding: 0 0 0 0;\n",
              "        width: 32px;\n",
              "      }\n",
              "\n",
              "      .colab-df-generate:hover {\n",
              "        background-color: #E2EBFA;\n",
              "        box-shadow: 0px 1px 2px rgba(60, 64, 67, 0.3), 0px 1px 3px 1px rgba(60, 64, 67, 0.15);\n",
              "        fill: #174EA6;\n",
              "      }\n",
              "\n",
              "      [theme=dark] .colab-df-generate {\n",
              "        background-color: #3B4455;\n",
              "        fill: #D2E3FC;\n",
              "      }\n",
              "\n",
              "      [theme=dark] .colab-df-generate:hover {\n",
              "        background-color: #434B5C;\n",
              "        box-shadow: 0px 1px 3px 1px rgba(0, 0, 0, 0.15);\n",
              "        filter: drop-shadow(0px 1px 2px rgba(0, 0, 0, 0.3));\n",
              "        fill: #FFFFFF;\n",
              "      }\n",
              "    </style>\n",
              "    <button class=\"colab-df-generate\" onclick=\"generateWithVariable('flipperMassGentooCorr')\"\n",
              "            title=\"Generate code using this dataframe.\"\n",
              "            style=\"display:none;\">\n",
              "\n",
              "  <svg xmlns=\"http://www.w3.org/2000/svg\" height=\"24px\"viewBox=\"0 0 24 24\"\n",
              "       width=\"24px\">\n",
              "    <path d=\"M7,19H8.4L18.45,9,17,7.55,7,17.6ZM5,21V16.75L18.45,3.32a2,2,0,0,1,2.83,0l1.4,1.43a1.91,1.91,0,0,1,.58,1.4,1.91,1.91,0,0,1-.58,1.4L9.25,21ZM18.45,9,17,7.55Zm-12,3A5.31,5.31,0,0,0,4.9,8.1,5.31,5.31,0,0,0,1,6.5,5.31,5.31,0,0,0,4.9,4.9,5.31,5.31,0,0,0,6.5,1,5.31,5.31,0,0,0,8.1,4.9,5.31,5.31,0,0,0,12,6.5,5.46,5.46,0,0,0,6.5,12Z\"/>\n",
              "  </svg>\n",
              "    </button>\n",
              "    <script>\n",
              "      (() => {\n",
              "      const buttonEl =\n",
              "        document.querySelector('#id_9401e6f0-eb05-43de-982d-066cc67db43e button.colab-df-generate');\n",
              "      buttonEl.style.display =\n",
              "        google.colab.kernel.accessAllowed ? 'block' : 'none';\n",
              "\n",
              "      buttonEl.onclick = () => {\n",
              "        google.colab.notebook.generateWithVariable('flipperMassGentooCorr');\n",
              "      }\n",
              "      })();\n",
              "    </script>\n",
              "  </div>\n",
              "\n",
              "    </div>\n",
              "  </div>\n"
            ],
            "text/plain": [
              "                   flipper_length_mm  body_mass_g\n",
              "flipper_length_mm           1.000000     0.711305\n",
              "body_mass_g                 0.711305     1.000000"
            ]
          },
          "execution_count": 70,
          "metadata": {},
          "output_type": "execute_result"
        }
      ],
      "source": [
        "flipperMassGentooCorr = df[['flipper_length_mm','body_mass_g']][df['species'] == 'Gentoo'].corr()\n",
        "flipperMassGentooCorr"
      ]
    },
    {
      "cell_type": "code",
      "execution_count": null,
      "metadata": {
        "colab": {
          "base_uri": "https://localhost:8080/",
          "height": 450
        },
        "id": "bkCEnFWMVwCl",
        "outputId": "983b1850-d7be-4a36-a38b-952d9319810e"
      },
      "outputs": [
        {
          "data": {
            "image/png": "[encoded data removed]",
            "text/plain": [
              "<Figure size 640x480 with 1 Axes>"
            ]
          },
          "metadata": {},
          "output_type": "display_data"
        }
      ],
      "source": [
        "sns.scatterplot(data=gentoo_df, x='flipper_length_mm', y='body_mass_g')\n",
        "plt.show()"
      ]
    },
    {
      "cell_type": "markdown",
      "metadata": {
        "id": "zoy7jrtpWKWv"
      },
      "source": [
        "## 15. ¿Cuántos pingüinos tienen datos faltantes en alguna de sus características?"
      ]
    },
    {
      "cell_type": "code",
      "execution_count": 50,
      "metadata": {
        "id": "osk-0zm_WPLw"
      },
      "outputs": [
        {
          "name": "stdout",
          "output_type": "stream",
          "text": [
            "Número de pingüinos con datos faltantes: 11\n"
          ]
        }
      ],
      "source": [
        "#Load dataset before any modification\n",
        "dff = sns.load_dataset('penguins')\n",
        "\n",
        "missingPenguinsRecord = dff.isnull().any(axis=1).sum()\n",
        "print(f'Número de pingüinos con datos faltantes: {missingPenguinsRecord}')"
      ]
    },
    {
      "cell_type": "markdown",
      "metadata": {},
      "source": [
        "## 16. ¿Cuál es la isla con la mayor variación en la longitud del pico entre las tres especies de pingüinos?"
      ]
    },
    {
      "cell_type": "code",
      "execution_count": 25,
      "metadata": {},
      "outputs": [
        {
          "data": {
            "text/html": [
              "<div>\n",
              "<style scoped>\n",
              "    .dataframe tbody tr th:only-of-type {\n",
              "        vertical-align: middle;\n",
              "    }\n",
              "\n",
              "    .dataframe tbody tr th {\n",
              "        vertical-align: top;\n",
              "    }\n",
              "\n",
              "    .dataframe thead th {\n",
              "        text-align: right;\n",
              "    }\n",
              "</style>\n",
              "<table border=\"1\" class=\"dataframe\">\n",
              "  <thead>\n",
              "    <tr style=\"text-align: right;\">\n",
              "      <th></th>\n",
              "      <th>island</th>\n",
              "      <th>diff mm</th>\n",
              "    </tr>\n",
              "  </thead>\n",
              "  <tbody>\n",
              "    <tr>\n",
              "      <th>0</th>\n",
              "      <td>Biscoe</td>\n",
              "      <td>25.1</td>\n",
              "    </tr>\n",
              "    <tr>\n",
              "      <th>1</th>\n",
              "      <td>Dream</td>\n",
              "      <td>25.9</td>\n",
              "    </tr>\n",
              "    <tr>\n",
              "      <th>2</th>\n",
              "      <td>Torgersen</td>\n",
              "      <td>12.5</td>\n",
              "    </tr>\n",
              "  </tbody>\n",
              "</table>\n",
              "</div>"
            ],
            "text/plain": [
              "      island  diff mm\n",
              "0     Biscoe     25.1\n",
              "1      Dream     25.9\n",
              "2  Torgersen     12.5"
            ]
          },
          "execution_count": 25,
          "metadata": {},
          "output_type": "execute_result"
        }
      ],
      "source": [
        "df_6 = df.groupby('island')['bill_length_mm'].std().reset_index()\n",
        "df_6.columns = ['island', 'std mm']\n",
        "df_6\n",
        "\n",
        "df_7 = df.groupby('island')['bill_length_mm'].apply(lambda x: x.max() - x.min()).reset_index()\n",
        "df_7.columns = ['island', 'diff mm']\n",
        "df_7"
      ]
    },
    {
      "cell_type": "markdown",
      "metadata": {},
      "source": [
        "## 17. ¿Cuál es la diferencia en masa corporal promedio entre machos y hembras de la especie Chinstrap?"
      ]
    },
    {
      "cell_type": "code",
      "execution_count": 27,
      "metadata": {},
      "outputs": [
        {
          "name": "stdout",
          "output_type": "stream",
          "text": [
            "La diferencia de masa por sexo para los chipstrap es:  411.76470588235316 g\n"
          ]
        }
      ],
      "source": [
        "df_8 = df[df['species'] == 'Chinstrap']\n",
        "df_8 = df_8.groupby('sex')['body_mass_g'].mean()\n",
        "\n",
        "massDifferenceGenderChipstrap = np.abs(df_8.iloc[0]-df_8.iloc[1])\n",
        "print('La diferencia de masa por sexo para los chipstrap es: ', massDifferenceGenderChipstrap, 'g')"
      ]
    },
    {
      "cell_type": "markdown",
      "metadata": {},
      "source": [
        "## 18. ¿Qué especie de pingüino tiene la longitud de aleta promedio más alta?"
      ]
    },
    {
      "cell_type": "code",
      "execution_count": 28,
      "metadata": {},
      "outputs": [
        {
          "data": {
            "text/html": [
              "<div>\n",
              "<style scoped>\n",
              "    .dataframe tbody tr th:only-of-type {\n",
              "        vertical-align: middle;\n",
              "    }\n",
              "\n",
              "    .dataframe tbody tr th {\n",
              "        vertical-align: top;\n",
              "    }\n",
              "\n",
              "    .dataframe thead th {\n",
              "        text-align: right;\n",
              "    }\n",
              "</style>\n",
              "<table border=\"1\" class=\"dataframe\">\n",
              "  <thead>\n",
              "    <tr style=\"text-align: right;\">\n",
              "      <th></th>\n",
              "      <th>species</th>\n",
              "      <th>mean mm</th>\n",
              "    </tr>\n",
              "  </thead>\n",
              "  <tbody>\n",
              "    <tr>\n",
              "      <th>0</th>\n",
              "      <td>Adelie</td>\n",
              "      <td>190.102740</td>\n",
              "    </tr>\n",
              "    <tr>\n",
              "      <th>1</th>\n",
              "      <td>Chinstrap</td>\n",
              "      <td>195.823529</td>\n",
              "    </tr>\n",
              "    <tr>\n",
              "      <th>2</th>\n",
              "      <td>Gentoo</td>\n",
              "      <td>217.235294</td>\n",
              "    </tr>\n",
              "  </tbody>\n",
              "</table>\n",
              "</div>"
            ],
            "text/plain": [
              "     species     mean mm\n",
              "0     Adelie  190.102740\n",
              "1  Chinstrap  195.823529\n",
              "2     Gentoo  217.235294"
            ]
          },
          "execution_count": 28,
          "metadata": {},
          "output_type": "execute_result"
        }
      ],
      "source": [
        "df_9 = df.groupby('species')['flipper_length_mm'].mean().reset_index()\n",
        "df_9.columns = ['species', 'mean mm']\n",
        "df_9"
      ]
    },
    {
      "cell_type": "code",
      "execution_count": 33,
      "metadata": {},
      "outputs": [
        {
          "data": {
            "text/plain": [
              "species        Gentoo\n",
              "mean mm    217.235294\n",
              "Name: 2, dtype: object"
            ]
          },
          "execution_count": 33,
          "metadata": {},
          "output_type": "execute_result"
        }
      ],
      "source": [
        "MaxFlipperLenSpecies = df_9.iloc[df_9['mean mm'].idxmax()]\n",
        "MaxFlipperLenSpecies"
      ]
    },
    {
      "cell_type": "markdown",
      "metadata": {},
      "source": [
        "## 19. ¿Cuál es la longitud del pico más pequeña registrada en el dataset y de qué especie es?"
      ]
    },
    {
      "cell_type": "code",
      "execution_count": 29,
      "metadata": {},
      "outputs": [
        {
          "data": {
            "text/html": [
              "<div>\n",
              "<style scoped>\n",
              "    .dataframe tbody tr th:only-of-type {\n",
              "        vertical-align: middle;\n",
              "    }\n",
              "\n",
              "    .dataframe tbody tr th {\n",
              "        vertical-align: top;\n",
              "    }\n",
              "\n",
              "    .dataframe thead th {\n",
              "        text-align: right;\n",
              "    }\n",
              "</style>\n",
              "<table border=\"1\" class=\"dataframe\">\n",
              "  <thead>\n",
              "    <tr style=\"text-align: right;\">\n",
              "      <th></th>\n",
              "      <th>species</th>\n",
              "      <th>island</th>\n",
              "      <th>bill_length_mm</th>\n",
              "      <th>bill_depth_mm</th>\n",
              "      <th>flipper_length_mm</th>\n",
              "      <th>body_mass_g</th>\n",
              "      <th>sex</th>\n",
              "    </tr>\n",
              "  </thead>\n",
              "  <tbody>\n",
              "    <tr>\n",
              "      <th>136</th>\n",
              "      <td>Adelie</td>\n",
              "      <td>Dream</td>\n",
              "      <td>32.1</td>\n",
              "      <td>15.5</td>\n",
              "      <td>188.0</td>\n",
              "      <td>3050.0</td>\n",
              "      <td>Female</td>\n",
              "    </tr>\n",
              "  </tbody>\n",
              "</table>\n",
              "</div>"
            ],
            "text/plain": [
              "    species island  bill_length_mm  bill_depth_mm  flipper_length_mm  \\\n",
              "136  Adelie  Dream            32.1           15.5              188.0   \n",
              "\n",
              "     body_mass_g     sex  \n",
              "136       3050.0  Female  "
            ]
          },
          "execution_count": 29,
          "metadata": {},
          "output_type": "execute_result"
        }
      ],
      "source": [
        "df_10 = df[ df['bill_length_mm'] == df['bill_length_mm'].min()  ]\n",
        "df_10"
      ]
    },
    {
      "cell_type": "markdown",
      "metadata": {},
      "source": [
        "## 20.¿Cuál es la relación entre el sexo y la longitud de la aleta en los pingüinos de la especie Adelie?"
      ]
    },
    {
      "cell_type": "code",
      "execution_count": 62,
      "metadata": {},
      "outputs": [
        {
          "data": {
            "image/png": "[encoded data removed]",
            "text/plain": [
              "<Figure size 800x600 with 1 Axes>"
            ]
          },
          "metadata": {},
          "output_type": "display_data"
        }
      ],
      "source": [
        "df_11 = df[ df['species'] == 'Adelie' ]\n",
        "\n",
        "plt.figure(figsize=(8, 6))\n",
        "sns.boxplot(data=df_11, x='sex', y='flipper_length_mm',hue='sex')\n",
        "plt.title('Relación entre Sexo y Longitud de Aleta en Pingüinos Adelie')\n",
        "plt.show()"
      ]
    }
  ],
  "metadata": {
    "colab": {
      "provenance": []
    },
    "kernelspec": {
      "display_name": "Python 3",
      "name": "python3"
    },
    "language_info": {
      "codemirror_mode": {
        "name": "ipython",
        "version": 3
      },
      "file_extension": ".py",
      "mimetype": "text/x-python",
      "name": "python",
      "nbconvert_exporter": "python",
      "pygments_lexer": "ipython3",
      "version": "3.10.12"
    }
  },
  "nbformat": 4,
  "nbformat_minor": 0
}
