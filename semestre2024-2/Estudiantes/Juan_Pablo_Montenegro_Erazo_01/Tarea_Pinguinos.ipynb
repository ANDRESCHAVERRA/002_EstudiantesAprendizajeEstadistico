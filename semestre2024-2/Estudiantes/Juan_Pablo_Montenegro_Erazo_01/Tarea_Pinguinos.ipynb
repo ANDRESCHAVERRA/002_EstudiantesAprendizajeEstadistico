{
  "nbformat": 4,
  "nbformat_minor": 0,
  "metadata": {
    "colab": {
      "provenance": []
    },
    "kernelspec": {
      "name": "python3",
      "display_name": "Python 3"
    },
    "language_info": {
      "name": "python"
    }
  },
  "cells": [
    {
      "cell_type": "markdown",
      "source": [
        "# Juan Pablo Montenegro Erazo - CC1007778301\n",
        "\n",
        "1. ¿Cuántas especies diferentes de pingüinos hay en el dataset?\n",
        "\n",
        "2. ¿Cuál es la longitud media del pico de los pingüinos de la especie Adelie?\n",
        "\n",
        "3. ¿Cuál es la masa corporal promedio de los pingüinos de la especie Gentoo?\n",
        "\n",
        "4. ¿Cuál es la relación entre la longitud del pico y la masa corporal de los pingüinos?\n",
        "\n",
        "5. ¿Cuál es la isla con mayor número de pingüinos en el dataset?\n",
        "\n",
        "6. ¿Cuál es la desviación estándar de la longitud de la aleta de los pingüinos de la especie Chinstrap?\n",
        "\n",
        "7. ¿Qué pingüino tiene el pico más largo en el dataset y cuál es su especie?\n",
        "\n",
        "8. ¿Cuál es la proporción de machos y hembras en la especie Adelie?\n",
        "\n",
        "9. ¿Existe una correlación significativa entre la longitud del pico y la masa corporal en las diferentes especies de pingüinos?\n",
        "\n",
        "10. ¿Cuál es la distribución de la masa corporal entre las especies de pingüinos?\n",
        "\n",
        "11. ¿Cuál es la longitud mínima y máxima de la aleta entre las tres especies de pingüinos?\n",
        "\n",
        "12. ¿Cuántos pingüinos tienen una masa corporal superior a 5000 gramos?\n",
        "\n",
        "13. ¿Cómo varía la longitud del pico entre las diferentes especies de pingüinos en las distintas islas?\n",
        "\n",
        "14. ¿Cuál es la relación entre la longitud de la aleta y la masa corporal en los pingüinos de la especie Gentoo?\n",
        "\n",
        "15. ¿Cuántos pingüinos tienen datos faltantes en alguna de sus características?\n",
        "\n",
        "16. ¿Cuál es la isla con la mayor variación en la longitud del pico entre las tres especies de pingüinos?\n",
        "\n",
        "17. ¿Cuál es la diferencia en masa corporal promedio entre machos y hembras de la especie Chinstrap?\n",
        "\n",
        "18. ¿Qué especie de pingüino tiene la longitud de aleta promedio más alta?\n",
        "\n",
        "19. ¿Cuál es la longitud del pico más pequeña registrada en el dataset y de qué especie es?\n",
        "\n",
        "20. ¿Cuál es la relación entre el sexo y la longitud de la aleta en los pingüinos de la especie Adelie?"
      ],
      "metadata": {
        "id": "AtyYGoLM8Zny"
      }
    },
    {
      "cell_type": "code",
      "source": [
        "import numpy as np\n",
        "import matplotlib.pyplot as plt\n",
        "import pandas as pd\n",
        "import seaborn as sns\n",
        "\n",
        "# Cargar el dataset\n",
        "df_original = sns.load_dataset('penguins') # Dataset original de pinguinos\n",
        "df = sns.load_dataset('penguins') # Dataset para limpiar tal y como la profesora indicó\n",
        "df.dropna(axis=0, inplace=True, ignore_index=True) #Esto borra las filas con valores NaN. axis = 0 quita las filas con dropna, ignore_index=True hace que el nuevo dataframe cambie los indices acomodandolos al nuevo dataframe\n",
        "\n",
        "df_original"
      ],
      "metadata": {
        "colab": {
          "base_uri": "https://localhost:8080/",
          "height": 423
        },
        "id": "j0zubhUV8EgV",
        "outputId": "9387be5b-a452-43d1-efbf-de3ec437fb2d"
      },
      "execution_count": 145,
      "outputs": [
        {
          "output_type": "execute_result",
          "data": {
            "text/plain": [
              "    species     island  bill_length_mm  bill_depth_mm  flipper_length_mm  \\\n",
              "0    Adelie  Torgersen            39.1           18.7              181.0   \n",
              "1    Adelie  Torgersen            39.5           17.4              186.0   \n",
              "2    Adelie  Torgersen            40.3           18.0              195.0   \n",
              "3    Adelie  Torgersen             NaN            NaN                NaN   \n",
              "4    Adelie  Torgersen            36.7           19.3              193.0   \n",
              "..      ...        ...             ...            ...                ...   \n",
              "339  Gentoo     Biscoe             NaN            NaN                NaN   \n",
              "340  Gentoo     Biscoe            46.8           14.3              215.0   \n",
              "341  Gentoo     Biscoe            50.4           15.7              222.0   \n",
              "342  Gentoo     Biscoe            45.2           14.8              212.0   \n",
              "343  Gentoo     Biscoe            49.9           16.1              213.0   \n",
              "\n",
              "     body_mass_g     sex  \n",
              "0         3750.0    Male  \n",
              "1         3800.0  Female  \n",
              "2         3250.0  Female  \n",
              "3            NaN     NaN  \n",
              "4         3450.0  Female  \n",
              "..           ...     ...  \n",
              "339          NaN     NaN  \n",
              "340       4850.0  Female  \n",
              "341       5750.0    Male  \n",
              "342       5200.0  Female  \n",
              "343       5400.0    Male  \n",
              "\n",
              "[344 rows x 7 columns]"
            ],
            "text/html": [
              "\n",
              "  <div id=\"df-de6ae300-20bb-477f-88eb-16217eabd630\" class=\"colab-df-container\">\n",
              "    <div>\n",
              "<style scoped>\n",
              "    .dataframe tbody tr th:only-of-type {\n",
              "        vertical-align: middle;\n",
              "    }\n",
              "\n",
              "    .dataframe tbody tr th {\n",
              "        vertical-align: top;\n",
              "    }\n",
              "\n",
              "    .dataframe thead th {\n",
              "        text-align: right;\n",
              "    }\n",
              "</style>\n",
              "<table border=\"1\" class=\"dataframe\">\n",
              "  <thead>\n",
              "    <tr style=\"text-align: right;\">\n",
              "      <th></th>\n",
              "      <th>species</th>\n",
              "      <th>island</th>\n",
              "      <th>bill_length_mm</th>\n",
              "      <th>bill_depth_mm</th>\n",
              "      <th>flipper_length_mm</th>\n",
              "      <th>body_mass_g</th>\n",
              "      <th>sex</th>\n",
              "    </tr>\n",
              "  </thead>\n",
              "  <tbody>\n",
              "    <tr>\n",
              "      <th>0</th>\n",
              "      <td>Adelie</td>\n",
              "      <td>Torgersen</td>\n",
              "      <td>39.1</td>\n",
              "      <td>18.7</td>\n",
              "      <td>181.0</td>\n",
              "      <td>3750.0</td>\n",
              "      <td>Male</td>\n",
              "    </tr>\n",
              "    <tr>\n",
              "      <th>1</th>\n",
              "      <td>Adelie</td>\n",
              "      <td>Torgersen</td>\n",
              "      <td>39.5</td>\n",
              "      <td>17.4</td>\n",
              "      <td>186.0</td>\n",
              "      <td>3800.0</td>\n",
              "      <td>Female</td>\n",
              "    </tr>\n",
              "    <tr>\n",
              "      <th>2</th>\n",
              "      <td>Adelie</td>\n",
              "      <td>Torgersen</td>\n",
              "      <td>40.3</td>\n",
              "      <td>18.0</td>\n",
              "      <td>195.0</td>\n",
              "      <td>3250.0</td>\n",
              "      <td>Female</td>\n",
              "    </tr>\n",
              "    <tr>\n",
              "      <th>3</th>\n",
              "      <td>Adelie</td>\n",
              "      <td>Torgersen</td>\n",
              "      <td>NaN</td>\n",
              "      <td>NaN</td>\n",
              "      <td>NaN</td>\n",
              "      <td>NaN</td>\n",
              "      <td>NaN</td>\n",
              "    </tr>\n",
              "    <tr>\n",
              "      <th>4</th>\n",
              "      <td>Adelie</td>\n",
              "      <td>Torgersen</td>\n",
              "      <td>36.7</td>\n",
              "      <td>19.3</td>\n",
              "      <td>193.0</td>\n",
              "      <td>3450.0</td>\n",
              "      <td>Female</td>\n",
              "    </tr>\n",
              "    <tr>\n",
              "      <th>...</th>\n",
              "      <td>...</td>\n",
              "      <td>...</td>\n",
              "      <td>...</td>\n",
              "      <td>...</td>\n",
              "      <td>...</td>\n",
              "      <td>...</td>\n",
              "      <td>...</td>\n",
              "    </tr>\n",
              "    <tr>\n",
              "      <th>339</th>\n",
              "      <td>Gentoo</td>\n",
              "      <td>Biscoe</td>\n",
              "      <td>NaN</td>\n",
              "      <td>NaN</td>\n",
              "      <td>NaN</td>\n",
              "      <td>NaN</td>\n",
              "      <td>NaN</td>\n",
              "    </tr>\n",
              "    <tr>\n",
              "      <th>340</th>\n",
              "      <td>Gentoo</td>\n",
              "      <td>Biscoe</td>\n",
              "      <td>46.8</td>\n",
              "      <td>14.3</td>\n",
              "      <td>215.0</td>\n",
              "      <td>4850.0</td>\n",
              "      <td>Female</td>\n",
              "    </tr>\n",
              "    <tr>\n",
              "      <th>341</th>\n",
              "      <td>Gentoo</td>\n",
              "      <td>Biscoe</td>\n",
              "      <td>50.4</td>\n",
              "      <td>15.7</td>\n",
              "      <td>222.0</td>\n",
              "      <td>5750.0</td>\n",
              "      <td>Male</td>\n",
              "    </tr>\n",
              "    <tr>\n",
              "      <th>342</th>\n",
              "      <td>Gentoo</td>\n",
              "      <td>Biscoe</td>\n",
              "      <td>45.2</td>\n",
              "      <td>14.8</td>\n",
              "      <td>212.0</td>\n",
              "      <td>5200.0</td>\n",
              "      <td>Female</td>\n",
              "    </tr>\n",
              "    <tr>\n",
              "      <th>343</th>\n",
              "      <td>Gentoo</td>\n",
              "      <td>Biscoe</td>\n",
              "      <td>49.9</td>\n",
              "      <td>16.1</td>\n",
              "      <td>213.0</td>\n",
              "      <td>5400.0</td>\n",
              "      <td>Male</td>\n",
              "    </tr>\n",
              "  </tbody>\n",
              "</table>\n",
              "<p>344 rows × 7 columns</p>\n",
              "</div>\n",
              "    <div class=\"colab-df-buttons\">\n",
              "\n",
              "  <div class=\"colab-df-container\">\n",
              "    <button class=\"colab-df-convert\" onclick=\"convertToInteractive('df-de6ae300-20bb-477f-88eb-16217eabd630')\"\n",
              "            title=\"Convert this dataframe to an interactive table.\"\n",
              "            style=\"display:none;\">\n",
              "\n",
              "  <svg xmlns=\"http://www.w3.org/2000/svg\" height=\"24px\" viewBox=\"0 -960 960 960\">\n",
              "    <path d=\"M120-120v-720h720v720H120Zm60-500h600v-160H180v160Zm220 220h160v-160H400v160Zm0 220h160v-160H400v160ZM180-400h160v-160H180v160Zm440 0h160v-160H620v160ZM180-180h160v-160H180v160Zm440 0h160v-160H620v160Z\"/>\n",
              "  </svg>\n",
              "    </button>\n",
              "\n",
              "  <style>\n",
              "    .colab-df-container {\n",
              "      display:flex;\n",
              "      gap: 12px;\n",
              "    }\n",
              "\n",
              "    .colab-df-convert {\n",
              "      background-color: #E8F0FE;\n",
              "      border: none;\n",
              "      border-radius: 50%;\n",
              "      cursor: pointer;\n",
              "      display: none;\n",
              "      fill: #1967D2;\n",
              "      height: 32px;\n",
              "      padding: 0 0 0 0;\n",
              "      width: 32px;\n",
              "    }\n",
              "\n",
              "    .colab-df-convert:hover {\n",
              "      background-color: #E2EBFA;\n",
              "      box-shadow: 0px 1px 2px rgba(60, 64, 67, 0.3), 0px 1px 3px 1px rgba(60, 64, 67, 0.15);\n",
              "      fill: #174EA6;\n",
              "    }\n",
              "\n",
              "    .colab-df-buttons div {\n",
              "      margin-bottom: 4px;\n",
              "    }\n",
              "\n",
              "    [theme=dark] .colab-df-convert {\n",
              "      background-color: #3B4455;\n",
              "      fill: #D2E3FC;\n",
              "    }\n",
              "\n",
              "    [theme=dark] .colab-df-convert:hover {\n",
              "      background-color: #434B5C;\n",
              "      box-shadow: 0px 1px 3px 1px rgba(0, 0, 0, 0.15);\n",
              "      filter: drop-shadow(0px 1px 2px rgba(0, 0, 0, 0.3));\n",
              "      fill: #FFFFFF;\n",
              "    }\n",
              "  </style>\n",
              "\n",
              "    <script>\n",
              "      const buttonEl =\n",
              "        document.querySelector('#df-de6ae300-20bb-477f-88eb-16217eabd630 button.colab-df-convert');\n",
              "      buttonEl.style.display =\n",
              "        google.colab.kernel.accessAllowed ? 'block' : 'none';\n",
              "\n",
              "      async function convertToInteractive(key) {\n",
              "        const element = document.querySelector('#df-de6ae300-20bb-477f-88eb-16217eabd630');\n",
              "        const dataTable =\n",
              "          await google.colab.kernel.invokeFunction('convertToInteractive',\n",
              "                                                    [key], {});\n",
              "        if (!dataTable) return;\n",
              "\n",
              "        const docLinkHtml = 'Like what you see? Visit the ' +\n",
              "          '<a target=\"_blank\" href=https://colab.research.google.com/notebooks/data_table.ipynb>data table notebook</a>'\n",
              "          + ' to learn more about interactive tables.';\n",
              "        element.innerHTML = '';\n",
              "        dataTable['output_type'] = 'display_data';\n",
              "        await google.colab.output.renderOutput(dataTable, element);\n",
              "        const docLink = document.createElement('div');\n",
              "        docLink.innerHTML = docLinkHtml;\n",
              "        element.appendChild(docLink);\n",
              "      }\n",
              "    </script>\n",
              "  </div>\n",
              "\n",
              "\n",
              "<div id=\"df-6f394bba-5601-4563-b8d5-748fc31411c9\">\n",
              "  <button class=\"colab-df-quickchart\" onclick=\"quickchart('df-6f394bba-5601-4563-b8d5-748fc31411c9')\"\n",
              "            title=\"Suggest charts\"\n",
              "            style=\"display:none;\">\n",
              "\n",
              "<svg xmlns=\"http://www.w3.org/2000/svg\" height=\"24px\"viewBox=\"0 0 24 24\"\n",
              "     width=\"24px\">\n",
              "    <g>\n",
              "        <path d=\"M19 3H5c-1.1 0-2 .9-2 2v14c0 1.1.9 2 2 2h14c1.1 0 2-.9 2-2V5c0-1.1-.9-2-2-2zM9 17H7v-7h2v7zm4 0h-2V7h2v10zm4 0h-2v-4h2v4z\"/>\n",
              "    </g>\n",
              "</svg>\n",
              "  </button>\n",
              "\n",
              "<style>\n",
              "  .colab-df-quickchart {\n",
              "      --bg-color: #E8F0FE;\n",
              "      --fill-color: #1967D2;\n",
              "      --hover-bg-color: #E2EBFA;\n",
              "      --hover-fill-color: #174EA6;\n",
              "      --disabled-fill-color: #AAA;\n",
              "      --disabled-bg-color: #DDD;\n",
              "  }\n",
              "\n",
              "  [theme=dark] .colab-df-quickchart {\n",
              "      --bg-color: #3B4455;\n",
              "      --fill-color: #D2E3FC;\n",
              "      --hover-bg-color: #434B5C;\n",
              "      --hover-fill-color: #FFFFFF;\n",
              "      --disabled-bg-color: #3B4455;\n",
              "      --disabled-fill-color: #666;\n",
              "  }\n",
              "\n",
              "  .colab-df-quickchart {\n",
              "    background-color: var(--bg-color);\n",
              "    border: none;\n",
              "    border-radius: 50%;\n",
              "    cursor: pointer;\n",
              "    display: none;\n",
              "    fill: var(--fill-color);\n",
              "    height: 32px;\n",
              "    padding: 0;\n",
              "    width: 32px;\n",
              "  }\n",
              "\n",
              "  .colab-df-quickchart:hover {\n",
              "    background-color: var(--hover-bg-color);\n",
              "    box-shadow: 0 1px 2px rgba(60, 64, 67, 0.3), 0 1px 3px 1px rgba(60, 64, 67, 0.15);\n",
              "    fill: var(--button-hover-fill-color);\n",
              "  }\n",
              "\n",
              "  .colab-df-quickchart-complete:disabled,\n",
              "  .colab-df-quickchart-complete:disabled:hover {\n",
              "    background-color: var(--disabled-bg-color);\n",
              "    fill: var(--disabled-fill-color);\n",
              "    box-shadow: none;\n",
              "  }\n",
              "\n",
              "  .colab-df-spinner {\n",
              "    border: 2px solid var(--fill-color);\n",
              "    border-color: transparent;\n",
              "    border-bottom-color: var(--fill-color);\n",
              "    animation:\n",
              "      spin 1s steps(1) infinite;\n",
              "  }\n",
              "\n",
              "  @keyframes spin {\n",
              "    0% {\n",
              "      border-color: transparent;\n",
              "      border-bottom-color: var(--fill-color);\n",
              "      border-left-color: var(--fill-color);\n",
              "    }\n",
              "    20% {\n",
              "      border-color: transparent;\n",
              "      border-left-color: var(--fill-color);\n",
              "      border-top-color: var(--fill-color);\n",
              "    }\n",
              "    30% {\n",
              "      border-color: transparent;\n",
              "      border-left-color: var(--fill-color);\n",
              "      border-top-color: var(--fill-color);\n",
              "      border-right-color: var(--fill-color);\n",
              "    }\n",
              "    40% {\n",
              "      border-color: transparent;\n",
              "      border-right-color: var(--fill-color);\n",
              "      border-top-color: var(--fill-color);\n",
              "    }\n",
              "    60% {\n",
              "      border-color: transparent;\n",
              "      border-right-color: var(--fill-color);\n",
              "    }\n",
              "    80% {\n",
              "      border-color: transparent;\n",
              "      border-right-color: var(--fill-color);\n",
              "      border-bottom-color: var(--fill-color);\n",
              "    }\n",
              "    90% {\n",
              "      border-color: transparent;\n",
              "      border-bottom-color: var(--fill-color);\n",
              "    }\n",
              "  }\n",
              "</style>\n",
              "\n",
              "  <script>\n",
              "    async function quickchart(key) {\n",
              "      const quickchartButtonEl =\n",
              "        document.querySelector('#' + key + ' button');\n",
              "      quickchartButtonEl.disabled = true;  // To prevent multiple clicks.\n",
              "      quickchartButtonEl.classList.add('colab-df-spinner');\n",
              "      try {\n",
              "        const charts = await google.colab.kernel.invokeFunction(\n",
              "            'suggestCharts', [key], {});\n",
              "      } catch (error) {\n",
              "        console.error('Error during call to suggestCharts:', error);\n",
              "      }\n",
              "      quickchartButtonEl.classList.remove('colab-df-spinner');\n",
              "      quickchartButtonEl.classList.add('colab-df-quickchart-complete');\n",
              "    }\n",
              "    (() => {\n",
              "      let quickchartButtonEl =\n",
              "        document.querySelector('#df-6f394bba-5601-4563-b8d5-748fc31411c9 button');\n",
              "      quickchartButtonEl.style.display =\n",
              "        google.colab.kernel.accessAllowed ? 'block' : 'none';\n",
              "    })();\n",
              "  </script>\n",
              "</div>\n",
              "\n",
              "  <div id=\"id_0b9d66b6-1e5c-4c13-a5fc-b64e721d4df3\">\n",
              "    <style>\n",
              "      .colab-df-generate {\n",
              "        background-color: #E8F0FE;\n",
              "        border: none;\n",
              "        border-radius: 50%;\n",
              "        cursor: pointer;\n",
              "        display: none;\n",
              "        fill: #1967D2;\n",
              "        height: 32px;\n",
              "        padding: 0 0 0 0;\n",
              "        width: 32px;\n",
              "      }\n",
              "\n",
              "      .colab-df-generate:hover {\n",
              "        background-color: #E2EBFA;\n",
              "        box-shadow: 0px 1px 2px rgba(60, 64, 67, 0.3), 0px 1px 3px 1px rgba(60, 64, 67, 0.15);\n",
              "        fill: #174EA6;\n",
              "      }\n",
              "\n",
              "      [theme=dark] .colab-df-generate {\n",
              "        background-color: #3B4455;\n",
              "        fill: #D2E3FC;\n",
              "      }\n",
              "\n",
              "      [theme=dark] .colab-df-generate:hover {\n",
              "        background-color: #434B5C;\n",
              "        box-shadow: 0px 1px 3px 1px rgba(0, 0, 0, 0.15);\n",
              "        filter: drop-shadow(0px 1px 2px rgba(0, 0, 0, 0.3));\n",
              "        fill: #FFFFFF;\n",
              "      }\n",
              "    </style>\n",
              "    <button class=\"colab-df-generate\" onclick=\"generateWithVariable('df_original')\"\n",
              "            title=\"Generate code using this dataframe.\"\n",
              "            style=\"display:none;\">\n",
              "\n",
              "  <svg xmlns=\"http://www.w3.org/2000/svg\" height=\"24px\"viewBox=\"0 0 24 24\"\n",
              "       width=\"24px\">\n",
              "    <path d=\"M7,19H8.4L18.45,9,17,7.55,7,17.6ZM5,21V16.75L18.45,3.32a2,2,0,0,1,2.83,0l1.4,1.43a1.91,1.91,0,0,1,.58,1.4,1.91,1.91,0,0,1-.58,1.4L9.25,21ZM18.45,9,17,7.55Zm-12,3A5.31,5.31,0,0,0,4.9,8.1,5.31,5.31,0,0,0,1,6.5,5.31,5.31,0,0,0,4.9,4.9,5.31,5.31,0,0,0,6.5,1,5.31,5.31,0,0,0,8.1,4.9,5.31,5.31,0,0,0,12,6.5,5.46,5.46,0,0,0,6.5,12Z\"/>\n",
              "  </svg>\n",
              "    </button>\n",
              "    <script>\n",
              "      (() => {\n",
              "      const buttonEl =\n",
              "        document.querySelector('#id_0b9d66b6-1e5c-4c13-a5fc-b64e721d4df3 button.colab-df-generate');\n",
              "      buttonEl.style.display =\n",
              "        google.colab.kernel.accessAllowed ? 'block' : 'none';\n",
              "\n",
              "      buttonEl.onclick = () => {\n",
              "        google.colab.notebook.generateWithVariable('df_original');\n",
              "      }\n",
              "      })();\n",
              "    </script>\n",
              "  </div>\n",
              "\n",
              "    </div>\n",
              "  </div>\n"
            ],
            "application/vnd.google.colaboratory.intrinsic+json": {
              "type": "dataframe",
              "variable_name": "df_original",
              "summary": "{\n  \"name\": \"df_original\",\n  \"rows\": 344,\n  \"fields\": [\n    {\n      \"column\": \"species\",\n      \"properties\": {\n        \"dtype\": \"category\",\n        \"num_unique_values\": 3,\n        \"samples\": [\n          \"Adelie\",\n          \"Chinstrap\",\n          \"Gentoo\"\n        ],\n        \"semantic_type\": \"\",\n        \"description\": \"\"\n      }\n    },\n    {\n      \"column\": \"island\",\n      \"properties\": {\n        \"dtype\": \"category\",\n        \"num_unique_values\": 3,\n        \"samples\": [\n          \"Torgersen\",\n          \"Biscoe\",\n          \"Dream\"\n        ],\n        \"semantic_type\": \"\",\n        \"description\": \"\"\n      }\n    },\n    {\n      \"column\": \"bill_length_mm\",\n      \"properties\": {\n        \"dtype\": \"number\",\n        \"std\": 5.4595837139265315,\n        \"min\": 32.1,\n        \"max\": 59.6,\n        \"num_unique_values\": 164,\n        \"samples\": [\n          48.2,\n          49.8,\n          45.1\n        ],\n        \"semantic_type\": \"\",\n        \"description\": \"\"\n      }\n    },\n    {\n      \"column\": \"bill_depth_mm\",\n      \"properties\": {\n        \"dtype\": \"number\",\n        \"std\": 1.9747931568167816,\n        \"min\": 13.1,\n        \"max\": 21.5,\n        \"num_unique_values\": 80,\n        \"samples\": [\n          16.9,\n          18.7,\n          18.6\n        ],\n        \"semantic_type\": \"\",\n        \"description\": \"\"\n      }\n    },\n    {\n      \"column\": \"flipper_length_mm\",\n      \"properties\": {\n        \"dtype\": \"number\",\n        \"std\": 14.061713679356888,\n        \"min\": 172.0,\n        \"max\": 231.0,\n        \"num_unique_values\": 55,\n        \"samples\": [\n          201.0,\n          180.0,\n          212.0\n        ],\n        \"semantic_type\": \"\",\n        \"description\": \"\"\n      }\n    },\n    {\n      \"column\": \"body_mass_g\",\n      \"properties\": {\n        \"dtype\": \"number\",\n        \"std\": 801.9545356980956,\n        \"min\": 2700.0,\n        \"max\": 6300.0,\n        \"num_unique_values\": 94,\n        \"samples\": [\n          4350.0,\n          4150.0,\n          3525.0\n        ],\n        \"semantic_type\": \"\",\n        \"description\": \"\"\n      }\n    },\n    {\n      \"column\": \"sex\",\n      \"properties\": {\n        \"dtype\": \"category\",\n        \"num_unique_values\": 2,\n        \"samples\": [\n          \"Female\",\n          \"Male\"\n        ],\n        \"semantic_type\": \"\",\n        \"description\": \"\"\n      }\n    }\n  ]\n}"
            }
          },
          "metadata": {},
          "execution_count": 145
        }
      ]
    },
    {
      "cell_type": "code",
      "source": [
        "# Punto 1\n",
        "especies_array = df[\"species\"].unique()\n",
        "numero_especies = len(especies_array)\n",
        "\n",
        "print(f\"Hay {numero_especies} especies de pinguinos, que son: {especies_array[0]}, {especies_array[1]} y {especies_array[2]}\")"
      ],
      "metadata": {
        "colab": {
          "base_uri": "https://localhost:8080/"
        },
        "id": "z792AJyjFWi2",
        "outputId": "a9c8ed48-092c-45b9-b69e-726bdcbe7a8d"
      },
      "execution_count": 146,
      "outputs": [
        {
          "output_type": "stream",
          "name": "stdout",
          "text": [
            "Hay 3 especies de pinguinos, que son: Adelie, Chinstrap y Gentoo\n"
          ]
        }
      ]
    },
    {
      "cell_type": "code",
      "source": [
        "# Punto 2\n",
        "Adelie_df = df[(df[\"species\"]) == \"Adelie\"] # Dataframe de los pinguinos Adelie\n",
        "media_longitud_pico_Adelie = Adelie_df[\"bill_length_mm\"].mean()\n",
        "print(f\"La media de la longitud del pico es: {media_longitud_pico_Adelie} mm\")"
      ],
      "metadata": {
        "colab": {
          "base_uri": "https://localhost:8080/"
        },
        "id": "2czz_B8j9qgL",
        "outputId": "9f72dec0-8fc5-43bb-c73f-2c029884f3b3"
      },
      "execution_count": 147,
      "outputs": [
        {
          "output_type": "stream",
          "name": "stdout",
          "text": [
            "La media de la longitud del pico es: 38.82397260273973 mm\n"
          ]
        }
      ]
    },
    {
      "cell_type": "code",
      "source": [
        "# Punto 3\n",
        "Gentoo_df = df[(df[\"species\"]) == \"Gentoo\"] # Dataframe de los pinguinos Gentoo\n",
        "masa_corporal_media_Gentoo = Gentoo_df[\"body_mass_g\"].mean()\n",
        "print(f\"La masa corporal media de los pinguinos Gentoo es: {masa_corporal_media_Gentoo} g\")"
      ],
      "metadata": {
        "colab": {
          "base_uri": "https://localhost:8080/"
        },
        "id": "SPecL7VN_q5k",
        "outputId": "bfafb3df-3258-4756-945b-62ed21ffe663"
      },
      "execution_count": 148,
      "outputs": [
        {
          "output_type": "stream",
          "name": "stdout",
          "text": [
            "La masa corporal media de los pinguinos Gentoo es: 5092.436974789916 g\n"
          ]
        }
      ]
    },
    {
      "cell_type": "code",
      "source": [
        "# Punto 4\n",
        "longitud_pico_serie = df[\"bill_length_mm\"]\n",
        "masa_corporal_serie = df[\"body_mass_g\"]\n",
        "\n",
        "longitud_pico_array = np.array(longitud_pico_serie)\n",
        "masa_corporal_array = np.array(masa_corporal_serie)\n",
        "\n",
        "plt.scatter(longitud_pico_array, masa_corporal_array, s=8)\n",
        "plt.title(\"Grafico de la longitud del pico y la masa corporal\")\n",
        "plt.xlabel(\"Longitud del pico (mm)\")\n",
        "plt.ylabel(\"Masa corporal (g)\")\n",
        "\n",
        "plt.show()"
      ],
      "metadata": {
        "colab": {
          "base_uri": "https://localhost:8080/",
          "height": 472
        },
        "id": "eMqrCCLEBAOa",
        "outputId": "32a57f0b-f532-41dd-9c12-dfbee2b4d968"
      },
      "execution_count": 149,
      "outputs": [
        {
          "output_type": "display_data",
          "data": {
            "text/plain": [
              "<Figure size 640x480 with 1 Axes>"
            ],
            "image/png": "[encoded data removed]"
          },
          "metadata": {}
        }
      ]
    },
    {
      "cell_type": "code",
      "source": [
        "coeficiente_correlacion_Pearson = np.corrcoef(longitud_pico_array, masa_corporal_array)\n",
        "print(f\"La longitud del pico de los pinguinos tiene una relación aproximadamente lineal con la masa corporal.\")\n",
        "print(\"Por lo general, entre mayor es la longitud del pico, mayor es la masa corporal\")\n",
        "print(f\"El coeficiente de correlacion de Pearson es de {coeficiente_correlacion_Pearson[0, 1]}\")\n"
      ],
      "metadata": {
        "colab": {
          "base_uri": "https://localhost:8080/"
        },
        "id": "srq0evwzDiWm",
        "outputId": "2c7e2890-e2db-4b3d-a3e3-d37d8de8dbb1"
      },
      "execution_count": 150,
      "outputs": [
        {
          "output_type": "stream",
          "name": "stdout",
          "text": [
            "La longitud del pico de los pinguinos tiene una relación aproximadamente lineal con la masa corporal.\n",
            "Por lo general, entre mayor es la longitud del pico, mayor es la masa corporal\n",
            "El coeficiente de correlacion de Pearson es de 0.589451110176949\n"
          ]
        }
      ]
    },
    {
      "cell_type": "code",
      "source": [
        "# Punto 5\n",
        "\n",
        "Torgersen_df = df[(df[\"island\"]) == \"Torgersen\"]\n",
        "Biscoe_df = df[(df[\"island\"]) == \"Biscoe\"]\n",
        "Dream_df = df[(df[\"island\"]) == \"Dream\"]\n",
        "\n",
        "numero_Torgersen = len(Torgersen_df)\n",
        "numero_Biscoe = len(Biscoe_df)\n",
        "numero_Dream = len(Dream_df)\n",
        "\n",
        "print(f\"El numero de pinguinos en la isla Torgersen es: {numero_Torgersen}, el de la isla Biscoe es: {numero_Biscoe}, y el de la isla Dream es: {numero_Dream}\")\n",
        "print(\"Por tanto, la isla con más pinguinos es la isla Biscoe\")"
      ],
      "metadata": {
        "colab": {
          "base_uri": "https://localhost:8080/"
        },
        "id": "68_5m5iEE_gL",
        "outputId": "8820d270-e32a-4e91-a7f9-c78ebaf313f3"
      },
      "execution_count": 151,
      "outputs": [
        {
          "output_type": "stream",
          "name": "stdout",
          "text": [
            "El numero de pinguinos en la isla Torgersen es: 47, el de la isla Biscoe es: 163, y el de la isla Dream es: 123\n",
            "Por tanto, la isla con más pinguinos es la isla Biscoe\n"
          ]
        }
      ]
    },
    {
      "cell_type": "code",
      "source": [
        "# Punto 6\n",
        "Chinstrap_df = df[(df[\"species\"]) == \"Chinstrap\"] # Dataframe de los pinguinos Chinstrap\n",
        "desviacion_longitud_aleta_Chinstrap = Chinstrap_df[\"flipper_length_mm\"].std()\n",
        "print(f\"La desviación estandar de la longitud de la aleta de los pinguinos de la especie Chinstrap es: {desviacion_longitud_aleta_Chinstrap}\")"
      ],
      "metadata": {
        "colab": {
          "base_uri": "https://localhost:8080/"
        },
        "id": "rhEaSoC_IcN9",
        "outputId": "a1aa18ac-d4f0-4877-aac1-ad2c407bf3c4"
      },
      "execution_count": 152,
      "outputs": [
        {
          "output_type": "stream",
          "name": "stdout",
          "text": [
            "La desviación estandar de la longitud de la aleta de los pinguinos de la especie Chinstrap es: 7.131894258578147\n"
          ]
        }
      ]
    },
    {
      "cell_type": "code",
      "source": [
        "# Punto 7\n",
        "indice_pinguino_pico_mas_largo = df_original[\"bill_length_mm\"].idxmax()\n",
        "especie_pinguino_pico_mas_largo = df_original.iloc[indice_pinguino_pico_mas_largo][\"species\"]\n",
        "\n",
        "print(f\"El pinguino con el pico más largo tiene el indice {indice_pinguino_pico_mas_largo} en el dataset original\")\n",
        "print(f\"Y la especie de este pinguino es: {especie_pinguino_pico_mas_largo}\")"
      ],
      "metadata": {
        "colab": {
          "base_uri": "https://localhost:8080/"
        },
        "id": "PuMXqBa5JVy0",
        "outputId": "e548eaa9-3d7c-45f9-db30-428371e56b56"
      },
      "execution_count": 153,
      "outputs": [
        {
          "output_type": "stream",
          "name": "stdout",
          "text": [
            "El pinguino con el pico más largo tiene el indice 253 en el dataset original\n",
            "Y la especie de este pinguino es: Gentoo\n"
          ]
        }
      ]
    },
    {
      "cell_type": "code",
      "source": [
        "# Punto 8\n",
        "# ¿Cuál es la proporción de machos y hembras en la especie Adelie?\n",
        "\n",
        "numero_machos = len(Adelie_df[Adelie_df[\"sex\"] == \"Male\"])\n",
        "numero_hembras = len(Adelie_df[Adelie_df[\"sex\"] == \"Female\"])\n",
        "numero_Adelie = len(Adelie_df)\n",
        "\n",
        "print(f\"El {numero_machos/numero_Adelie*100}% de los pinguinos Adelie son machos, y el {numero_hembras/numero_Adelie*100}% son hembras. Así pues, por cada macho hay una hembra, lo que daría una proporción 1:1\")\n"
      ],
      "metadata": {
        "id": "RgGeA_a3NgAk",
        "colab": {
          "base_uri": "https://localhost:8080/"
        },
        "outputId": "876af8a4-b3fe-45d3-cd30-51c0c53f1f58"
      },
      "execution_count": 154,
      "outputs": [
        {
          "output_type": "stream",
          "name": "stdout",
          "text": [
            "El 50.0% de los pinguinos Adelie son machos, y el 50.0% son hembras. Así pues, por cada macho hay una hembra, lo que daría una proporción 1:1\n"
          ]
        }
      ]
    },
    {
      "cell_type": "code",
      "source": [
        "# Punto 9\n",
        "# ¿Existe una correlación significativa entre la longitud del pico y la masa corporal en las diferentes especies de pingüinos?\n",
        "\n",
        "longitud_pico_Adelie_array = np.array(Adelie_df[\"bill_length_mm\"])\n",
        "longitud_pico_Chinstrap_array = np.array(Chinstrap_df[\"bill_length_mm\"])\n",
        "longitud_pico_Gentoo_array = np.array(Gentoo_df[\"bill_length_mm\"])\n",
        "\n",
        "masa_corporal_Adelie_array = np.array(Adelie_df[\"body_mass_g\"])\n",
        "masa_corporal_Chinstrap_array = np.array(Chinstrap_df[\"body_mass_g\"])\n",
        "masa_corporal_Gentoo_array = np.array(Gentoo_df[\"body_mass_g\"])\n",
        "\n",
        "fig, axs = plt.subplots(2, 2, figsize=(12, 10))\n",
        "\n",
        "axs[0, 0].scatter(longitud_pico_Adelie_array, masa_corporal_Adelie_array, s=6)\n",
        "axs[0, 0].set_xlabel(\"Longitud del pico (mm)\")\n",
        "axs[0, 0].set_ylabel(\"Masa corporal (g)\")\n",
        "axs[0, 0].set_title('Adelie')\n",
        "\n",
        "axs[0, 1].scatter(longitud_pico_Chinstrap_array, masa_corporal_Chinstrap_array, s=6)\n",
        "axs[0, 1].set_xlabel(\"Longitud del pico (mm)\")\n",
        "axs[0, 1].set_ylabel(\"Masa corporal (g)\")\n",
        "axs[0, 1].set_title('Chinstrap')\n",
        "\n",
        "axs[1, 0].scatter(longitud_pico_Gentoo_array, masa_corporal_Gentoo_array, s=6)\n",
        "axs[1, 0].set_xlabel(\"Longitud del pico (mm)\")\n",
        "axs[1, 0].set_ylabel(\"Masa corporal (g)\")\n",
        "axs[1, 0].set_title('Gentoo')\n",
        "\n",
        "plt.subplots_adjust(wspace=0.3)\n",
        "plt.subplots_adjust(hspace=0.4)\n",
        "\n",
        "plt.show()"
      ],
      "metadata": {
        "colab": {
          "base_uri": "https://localhost:8080/",
          "height": 872
        },
        "id": "UXE1vTzJJnl5",
        "outputId": "047402ac-ca2e-49cc-e6b9-ac8bb570c37e"
      },
      "execution_count": 155,
      "outputs": [
        {
          "output_type": "display_data",
          "data": {
            "text/plain": [
              "<Figure size 1200x1000 with 4 Axes>"
            ],
            "image/png": "[encoded data removed]"
          },
          "metadata": {}
        }
      ]
    },
    {
      "cell_type": "code",
      "source": [
        "correlacion_longitud_pico_masa_Adelie = np.corrcoef(longitud_pico_Adelie_array, masa_corporal_Adelie_array)[0, 1]\n",
        "correlacion_longitud_pico_masa_Chinstrap = np.corrcoef(longitud_pico_Chinstrap_array, masa_corporal_Chinstrap_array)[0, 1]\n",
        "correlacion_longitud_pico_masa_Gentoo = np.corrcoef(longitud_pico_Gentoo_array, masa_corporal_Gentoo_array)[0, 1]\n",
        "\n",
        "diccionario_correlaciones = {\"Adelie\": correlacion_longitud_pico_masa_Adelie,\n",
        "                             \"Chinstrap\": correlacion_longitud_pico_masa_Chinstrap,\n",
        "                             \"Gentoo\": correlacion_longitud_pico_masa_Gentoo}\n",
        "\n",
        "for (clave, valor) in diccionario_correlaciones.items():\n",
        "    print(f\"La correlación entre la longitud del pico y la masa corporal de la especie {clave} es de {valor}\")\n",
        "\n",
        "print()\n",
        "print(\"La correlación en las diferentes especies es lo suficientemente alta como para mostrar una relación entre la longitud del pico y la masa corporal de la especie.\")\n",
        "print(\"Especificamente se observa una relación aproximadamente lineal, en la que entre más largo es el pico, mayor es también su masa corporal.\")\n",
        "print(\"Sin embargo la correlación no es lo suficientemente alta como para poder crear un modelo cuantitativo preciso\")"
      ],
      "metadata": {
        "colab": {
          "base_uri": "https://localhost:8080/"
        },
        "id": "BnS50rtGMnVs",
        "outputId": "7af1cfc5-dc8a-4067-e6a8-d84e4fd061cc"
      },
      "execution_count": 156,
      "outputs": [
        {
          "output_type": "stream",
          "name": "stdout",
          "text": [
            "La correlación entre la longitud del pico y la masa corporal de la especie Adelie es de 0.5442764102182444\n",
            "La correlación entre la longitud del pico y la masa corporal de la especie Chinstrap es de 0.5136383479489105\n",
            "La correlación entre la longitud del pico y la masa corporal de la especie Gentoo es de 0.6667302222195619\n",
            "\n",
            "La correlación en las diferentes especies es lo suficientemente alta como para mostrar una relación entre la longitud del pico y la masa corporal de la especie.\n",
            "Especificamente se observa una relación aproximadamente lineal, en la que entre más largo es el pico, mayor es también su masa corporal.\n",
            "Sin embargo la correlación no es lo suficientemente alta como para poder crear un modelo cuantitativo preciso\n"
          ]
        }
      ]
    },
    {
      "cell_type": "code",
      "source": [
        "# Punto 10\n",
        "# ¿Cuál es la distribución de la masa corporal entre las especies de pingüinos?\n",
        "\n",
        "fig2, axs2 = plt.subplots(2, 2, figsize=(12, 10))\n",
        "\n",
        "axs2[0, 0].hist(masa_corporal_Adelie_array, bins=16, color='blue', alpha=0.7)\n",
        "axs2[0, 0].set_title('Adelie')\n",
        "axs2[0, 0].set_xlabel('Masa corporal (g)')\n",
        "axs2[0, 0].set_ylabel('Frecuencia')\n",
        "\n",
        "axs2[0, 1].hist(masa_corporal_Chinstrap_array, bins=16, color='green', alpha=0.7)\n",
        "axs2[0, 1].set_title('Chinstrap')\n",
        "axs2[0, 1].set_xlabel('Masa corporal (g)')\n",
        "axs2[0, 1].set_ylabel('Frecuencia')\n",
        "\n",
        "axs2[1, 0].hist(masa_corporal_Gentoo_array, bins=16, color='red', alpha=0.9)\n",
        "axs2[1, 0].set_title('Gentoo')\n",
        "axs2[1, 0].set_xlabel('Masa corporal (g)')\n",
        "axs2[1, 0].set_ylabel('Frecuencia')\n",
        "\n",
        "plt.subplots_adjust(wspace=0.3)\n",
        "plt.subplots_adjust(hspace=0.4)\n",
        "\n",
        "plt.show()"
      ],
      "metadata": {
        "colab": {
          "base_uri": "https://localhost:8080/",
          "height": 872
        },
        "id": "tZesx4s2VyjV",
        "outputId": "818cb3b0-ed6e-46eb-fc29-354ec8a60cdd"
      },
      "execution_count": 157,
      "outputs": [
        {
          "output_type": "display_data",
          "data": {
            "text/plain": [
              "<Figure size 1200x1000 with 4 Axes>"
            ],
            "image/png": "[encoded data removed]"
          },
          "metadata": {}
        }
      ]
    },
    {
      "cell_type": "code",
      "source": [
        "print(\"Los anteriores histogramas muestran la distribución de la masa corporal entre las especies de pingüinos\")"
      ],
      "metadata": {
        "colab": {
          "base_uri": "https://localhost:8080/"
        },
        "id": "Vrg2aCQHAvhJ",
        "outputId": "45e783a0-c8cf-4da7-f26f-0c6e2ab81c47"
      },
      "execution_count": 158,
      "outputs": [
        {
          "output_type": "stream",
          "name": "stdout",
          "text": [
            "Los anteriores histogramas muestran la distribución de la masa corporal entre las especies de pingüinos\n"
          ]
        }
      ]
    },
    {
      "cell_type": "code",
      "source": [
        "# Punto 11\n",
        "#¿Cuál es la longitud mínima y máxima de la aleta entre las tres especies de pingüinos?\n",
        "\n",
        "minima_longitud_aleta_Adelie = Adelie_df[\"flipper_length_mm\"].min()\n",
        "maxima_longitud_aleta_Adelie = Adelie_df[\"flipper_length_mm\"].max()\n",
        "\n",
        "minima_longitud_aleta_Chinstrap = Chinstrap_df[\"flipper_length_mm\"].min()\n",
        "maxima_longitud_aleta_Chinstrap = Chinstrap_df[\"flipper_length_mm\"].max()\n",
        "\n",
        "minima_longitud_aleta_Gentoo = Gentoo_df[\"flipper_length_mm\"].min()\n",
        "maxima_longitud_aleta_Gentoo = Gentoo_df[\"flipper_length_mm\"].max()\n",
        "\n",
        "diccionario_longitudes_aleta = {\"Adelie\": (minima_longitud_aleta_Adelie, maxima_longitud_aleta_Adelie),\n",
        "                                \"Chinstrap\": (minima_longitud_aleta_Chinstrap, maxima_longitud_aleta_Chinstrap),\n",
        "                                \"Gentoo\": (minima_longitud_aleta_Gentoo, maxima_longitud_aleta_Gentoo)}\n",
        "\n",
        "for (clave, valor) in diccionario_longitudes_aleta.items():\n",
        "    print(f\"La mínima longitud de la aleta de los pingüinos de la especie {clave} es de {valor[0]} mm\")\n",
        "    print(f\"La máxima longitud de la aleta de los pingüinos de la especie {clave} es de {valor[1]} mm\")\n"
      ],
      "metadata": {
        "colab": {
          "base_uri": "https://localhost:8080/"
        },
        "id": "-tQXKdSCBlIr",
        "outputId": "89215ccc-4c7a-483a-d4f6-737893d7c576"
      },
      "execution_count": 159,
      "outputs": [
        {
          "output_type": "stream",
          "name": "stdout",
          "text": [
            "La mínima longitud de la aleta de los pingüinos de la especie Adelie es de 172.0 mm\n",
            "La máxima longitud de la aleta de los pingüinos de la especie Adelie es de 210.0 mm\n",
            "La mínima longitud de la aleta de los pingüinos de la especie Chinstrap es de 178.0 mm\n",
            "La máxima longitud de la aleta de los pingüinos de la especie Chinstrap es de 212.0 mm\n",
            "La mínima longitud de la aleta de los pingüinos de la especie Gentoo es de 203.0 mm\n",
            "La máxima longitud de la aleta de los pingüinos de la especie Gentoo es de 231.0 mm\n"
          ]
        }
      ]
    },
    {
      "cell_type": "code",
      "source": [
        "# Punto 12\n",
        "# ¿Cuántos pingüinos tienen una masa corporal superior a 5000 gramos?\n",
        "\n",
        "numero_masa_superior_5000 = len(df[df[\"body_mass_g\"] > 5000])\n",
        "print(f\"Hay {numero_masa_superior_5000} pinguinos con una masa corporal superior a 5000 gramos\")"
      ],
      "metadata": {
        "colab": {
          "base_uri": "https://localhost:8080/"
        },
        "id": "pIyWr9DqDEgN",
        "outputId": "1c4257ed-10a8-4fc3-e9b6-1fae908dd554"
      },
      "execution_count": 160,
      "outputs": [
        {
          "output_type": "stream",
          "name": "stdout",
          "text": [
            "Hay 61 pinguinos con una masa corporal superior a 5000 gramos\n"
          ]
        }
      ]
    },
    {
      "cell_type": "code",
      "source": [
        "# Punto 13\n",
        "# ¿Cómo varía la longitud del pico entre las diferentes especies de pingüinos en las distintas islas?\n",
        "\n",
        "print(\"Desviación estandar de la longitud del pico en distintas especies en las distintas islas\")\n",
        "print()\n",
        "df.groupby([\"species\", \"island\"])['bill_length_mm'].std()"
      ],
      "metadata": {
        "colab": {
          "base_uri": "https://localhost:8080/",
          "height": 307
        },
        "id": "1qGafxxqECHs",
        "outputId": "2b519b74-ca84-43c7-b13e-42171f7108e2"
      },
      "execution_count": 161,
      "outputs": [
        {
          "output_type": "stream",
          "name": "stdout",
          "text": [
            "Desviación estandar de la longitud del pico en distintas especies en las distintas islas\n",
            "\n"
          ]
        },
        {
          "output_type": "execute_result",
          "data": {
            "text/plain": [
              "species    island   \n",
              "Adelie     Biscoe       2.480916\n",
              "           Dream        2.484276\n",
              "           Torgersen    3.028097\n",
              "Chinstrap  Dream        3.339256\n",
              "Gentoo     Biscoe       3.106116\n",
              "Name: bill_length_mm, dtype: float64"
            ],
            "text/html": [
              "<div>\n",
              "<style scoped>\n",
              "    .dataframe tbody tr th:only-of-type {\n",
              "        vertical-align: middle;\n",
              "    }\n",
              "\n",
              "    .dataframe tbody tr th {\n",
              "        vertical-align: top;\n",
              "    }\n",
              "\n",
              "    .dataframe thead th {\n",
              "        text-align: right;\n",
              "    }\n",
              "</style>\n",
              "<table border=\"1\" class=\"dataframe\">\n",
              "  <thead>\n",
              "    <tr style=\"text-align: right;\">\n",
              "      <th></th>\n",
              "      <th></th>\n",
              "      <th>bill_length_mm</th>\n",
              "    </tr>\n",
              "    <tr>\n",
              "      <th>species</th>\n",
              "      <th>island</th>\n",
              "      <th></th>\n",
              "    </tr>\n",
              "  </thead>\n",
              "  <tbody>\n",
              "    <tr>\n",
              "      <th rowspan=\"3\" valign=\"top\">Adelie</th>\n",
              "      <th>Biscoe</th>\n",
              "      <td>2.480916</td>\n",
              "    </tr>\n",
              "    <tr>\n",
              "      <th>Dream</th>\n",
              "      <td>2.484276</td>\n",
              "    </tr>\n",
              "    <tr>\n",
              "      <th>Torgersen</th>\n",
              "      <td>3.028097</td>\n",
              "    </tr>\n",
              "    <tr>\n",
              "      <th>Chinstrap</th>\n",
              "      <th>Dream</th>\n",
              "      <td>3.339256</td>\n",
              "    </tr>\n",
              "    <tr>\n",
              "      <th>Gentoo</th>\n",
              "      <th>Biscoe</th>\n",
              "      <td>3.106116</td>\n",
              "    </tr>\n",
              "  </tbody>\n",
              "</table>\n",
              "</div><br><label><b>dtype:</b> float64</label>"
            ]
          },
          "metadata": {},
          "execution_count": 161
        }
      ]
    },
    {
      "cell_type": "code",
      "source": [
        "Adelie_Biscoe_pico = Adelie_df[Adelie_df[\"island\"] == \"Biscoe\"][\"bill_length_mm\"]\n",
        "Adelie_Dream_pico = Adelie_df[Adelie_df[\"island\"] == \"Dream\"][\"bill_length_mm\"]\n",
        "Adelie_Torgersen_pico = Adelie_df[Adelie_df[\"island\"] == \"Torgersen\"][\"bill_length_mm\"]\n",
        "\n",
        "Chinstrap_Dream_pico = Chinstrap_df[Chinstrap_df[\"island\"] == \"Dream\"][\"bill_length_mm\"]\n",
        "Gentoo_Biscoe_pico = Gentoo_df[Gentoo_df[\"island\"] == \"Biscoe\"][\"bill_length_mm\"]\n",
        "\n",
        "fig3, axs3 = plt.subplots(3, 2, figsize=(12, 15))\n",
        "\n",
        "axs3[0, 0].hist(Adelie_Biscoe_pico, bins=16)\n",
        "axs3[0, 0].set_title('Especie Adelie en la isla Biscoe')\n",
        "axs3[0, 0].set_xlabel('Longitud del pico (mm)')\n",
        "axs3[0, 0].set_ylabel('Frecuencia')\n",
        "\n",
        "axs3[0, 1].hist(Adelie_Dream_pico, bins=16)\n",
        "axs3[0, 1].set_title('Especie Adelie en la isla Dream')\n",
        "axs3[0, 1].set_xlabel('Longitud del pico (mm)')\n",
        "axs3[0, 1].set_ylabel('Frecuencia')\n",
        "\n",
        "axs3[1, 0].hist(Adelie_Torgersen_pico, bins=16)\n",
        "axs3[1, 0].set_title('Especie Adelie en la isla Torgersen')\n",
        "axs3[1, 0].set_xlabel('Longitud del pico (mm)')\n",
        "axs3[1, 0].set_ylabel('Frecuencia')\n",
        "\n",
        "axs3[1, 1].hist(Chinstrap_Dream_pico, bins=16)\n",
        "axs3[1, 1].set_title('Especie Chinstrap en la isla Dream')\n",
        "axs3[1, 1].set_xlabel('Longitud del pico (mm)')\n",
        "axs3[1, 1].set_ylabel('Frecuencia')\n",
        "\n",
        "axs3[2, 0].hist(Gentoo_Biscoe_pico, bins=16)\n",
        "axs3[2, 0].set_title('Especie Gentoo en la isla Biscoe')\n",
        "axs3[2, 0].set_xlabel('Longitud del pico (mm)')\n",
        "axs3[2, 0].set_ylabel('Frecuencia')\n",
        "\n",
        "plt.subplots_adjust(wspace=0.3)\n",
        "plt.subplots_adjust(hspace=0.4)\n",
        "\n",
        "plt.show()"
      ],
      "metadata": {
        "colab": {
          "base_uri": "https://localhost:8080/",
          "height": 1000
        },
        "id": "ejb9im9DIofQ",
        "outputId": "ae9b046d-786a-4715-c5ea-2961553cfaa0"
      },
      "execution_count": 162,
      "outputs": [
        {
          "output_type": "display_data",
          "data": {
            "text/plain": [
              "<Figure size 1200x1500 with 6 Axes>"
            ],
            "image/png": "[encoded data removed]"
          },
          "metadata": {}
        }
      ]
    },
    {
      "cell_type": "code",
      "source": [
        "print(\"Los histogramas muestran la variación de la longitud del pico entre las diferentes especies de pingüinos en las distintas islas.\")\n",
        "print(\"La desviación estandar anteriormente calculada es una medida de cuanto varía esta longitud\")"
      ],
      "metadata": {
        "colab": {
          "base_uri": "https://localhost:8080/"
        },
        "id": "730zBhErekJH",
        "outputId": "f7ab4887-1aa7-4489-a047-829d79cd331b"
      },
      "execution_count": 163,
      "outputs": [
        {
          "output_type": "stream",
          "name": "stdout",
          "text": [
            "Los histogramas muestran la variación de la longitud del pico entre las diferentes especies de pingüinos en las distintas islas.\n",
            "La desviación estandar anteriormente calculada es una medida de cuanto varía esta longitud\n"
          ]
        }
      ]
    },
    {
      "cell_type": "code",
      "source": [
        "# Punto 14\n",
        "# ¿Cuál es la relación entre la longitud de la aleta y la masa corporal en los pingüinos de la especie Gentoo?\n",
        "\n",
        "longitud_aleta_Gentoo_array = np.array(Gentoo_df[\"flipper_length_mm\"])\n",
        "masa_aleta_Gentoo_array = np.array(Gentoo_df[\"body_mass_g\"])\n",
        "\n",
        "plt.scatter(longitud_aleta_Gentoo_array, masa_aleta_Gentoo_array, s=6)\n",
        "plt.title(\"Relación entre la longitud de la aleta y la masa corporal\")\n",
        "plt.xlabel(\"Longitud de la aleta (mm)\")\n",
        "plt.ylabel(\"Masa corporal (g)\")\n",
        "\n",
        "plt.show()"
      ],
      "metadata": {
        "colab": {
          "base_uri": "https://localhost:8080/",
          "height": 472
        },
        "id": "_RbEXso_Gays",
        "outputId": "902cf94c-a2d3-4d20-a830-9f9e4ae2ecc9"
      },
      "execution_count": 164,
      "outputs": [
        {
          "output_type": "display_data",
          "data": {
            "text/plain": [
              "<Figure size 640x480 with 1 Axes>"
            ],
            "image/png": "[encoded data removed]"
          },
          "metadata": {}
        }
      ]
    },
    {
      "cell_type": "code",
      "source": [
        "correlacion_aleta_masa = np.corrcoef(longitud_aleta_Gentoo_array, masa_aleta_Gentoo_array)[0, 1]\n",
        "\n",
        "print(\"La anterior grafica muestra una relación aproximadamente lineal de la longitud de la aleta con la masa corporal.\")\n",
        "print(\"Por lo general entre mayor sea la longitud de la aleta, mayor es la masa corporal\")\n",
        "print(f\"La correlación entre estas 2 cantidades es de {correlacion_aleta_masa}\")"
      ],
      "metadata": {
        "colab": {
          "base_uri": "https://localhost:8080/"
        },
        "id": "zX_PR5DKPGq8",
        "outputId": "2f22c4c9-c0ac-4cec-87a0-f83252e04359"
      },
      "execution_count": 165,
      "outputs": [
        {
          "output_type": "stream",
          "name": "stdout",
          "text": [
            "La anterior grafica muestra una relación aproximadamente lineal de la longitud de la aleta con la masa corporal.\n",
            "Por lo general entre mayor sea la longitud de la aleta, mayor es la masa corporal\n",
            "La correlación entre estas 2 cantidades es de 0.7113052561445228\n"
          ]
        }
      ]
    },
    {
      "cell_type": "code",
      "source": [
        "# Punto 15\n",
        "# ¿Cuántos pingüinos tienen datos faltantes en alguna de sus características?\n",
        "\n",
        "num_pinguinos_faltantes = df_original.isna().any(axis=1).sum()\n",
        "\n",
        "print(f\"Hay {num_pinguinos_faltantes} pinguinos con caracteristicas faltantes\")"
      ],
      "metadata": {
        "colab": {
          "base_uri": "https://localhost:8080/"
        },
        "id": "wifEIyXuQIZT",
        "outputId": "4d0aad8f-fc78-4cf1-a975-fbd38670e5d0"
      },
      "execution_count": 166,
      "outputs": [
        {
          "output_type": "stream",
          "name": "stdout",
          "text": [
            "Hay 11 pinguinos con caracteristicas faltantes\n"
          ]
        }
      ]
    },
    {
      "cell_type": "code",
      "source": [
        "indices_faltantes = df_original[df_original.isna().any(axis=1)].index\n",
        "df_NaN = df_original.loc[indices_faltantes]\n",
        "df_NaN"
      ],
      "metadata": {
        "colab": {
          "base_uri": "https://localhost:8080/",
          "height": 394
        },
        "id": "vRJBop0LjUN4",
        "outputId": "1721f84f-69b5-4f75-d66a-e1d1c48f4faa"
      },
      "execution_count": 167,
      "outputs": [
        {
          "output_type": "execute_result",
          "data": {
            "text/plain": [
              "    species     island  bill_length_mm  bill_depth_mm  flipper_length_mm  \\\n",
              "3    Adelie  Torgersen             NaN            NaN                NaN   \n",
              "8    Adelie  Torgersen            34.1           18.1              193.0   \n",
              "9    Adelie  Torgersen            42.0           20.2              190.0   \n",
              "10   Adelie  Torgersen            37.8           17.1              186.0   \n",
              "11   Adelie  Torgersen            37.8           17.3              180.0   \n",
              "47   Adelie      Dream            37.5           18.9              179.0   \n",
              "246  Gentoo     Biscoe            44.5           14.3              216.0   \n",
              "286  Gentoo     Biscoe            46.2           14.4              214.0   \n",
              "324  Gentoo     Biscoe            47.3           13.8              216.0   \n",
              "336  Gentoo     Biscoe            44.5           15.7              217.0   \n",
              "339  Gentoo     Biscoe             NaN            NaN                NaN   \n",
              "\n",
              "     body_mass_g  sex  \n",
              "3            NaN  NaN  \n",
              "8         3475.0  NaN  \n",
              "9         4250.0  NaN  \n",
              "10        3300.0  NaN  \n",
              "11        3700.0  NaN  \n",
              "47        2975.0  NaN  \n",
              "246       4100.0  NaN  \n",
              "286       4650.0  NaN  \n",
              "324       4725.0  NaN  \n",
              "336       4875.0  NaN  \n",
              "339          NaN  NaN  "
            ],
            "text/html": [
              "\n",
              "  <div id=\"df-68c4274f-e23e-4d70-8e9e-d1b50afb5bd0\" class=\"colab-df-container\">\n",
              "    <div>\n",
              "<style scoped>\n",
              "    .dataframe tbody tr th:only-of-type {\n",
              "        vertical-align: middle;\n",
              "    }\n",
              "\n",
              "    .dataframe tbody tr th {\n",
              "        vertical-align: top;\n",
              "    }\n",
              "\n",
              "    .dataframe thead th {\n",
              "        text-align: right;\n",
              "    }\n",
              "</style>\n",
              "<table border=\"1\" class=\"dataframe\">\n",
              "  <thead>\n",
              "    <tr style=\"text-align: right;\">\n",
              "      <th></th>\n",
              "      <th>species</th>\n",
              "      <th>island</th>\n",
              "      <th>bill_length_mm</th>\n",
              "      <th>bill_depth_mm</th>\n",
              "      <th>flipper_length_mm</th>\n",
              "      <th>body_mass_g</th>\n",
              "      <th>sex</th>\n",
              "    </tr>\n",
              "  </thead>\n",
              "  <tbody>\n",
              "    <tr>\n",
              "      <th>3</th>\n",
              "      <td>Adelie</td>\n",
              "      <td>Torgersen</td>\n",
              "      <td>NaN</td>\n",
              "      <td>NaN</td>\n",
              "      <td>NaN</td>\n",
              "      <td>NaN</td>\n",
              "      <td>NaN</td>\n",
              "    </tr>\n",
              "    <tr>\n",
              "      <th>8</th>\n",
              "      <td>Adelie</td>\n",
              "      <td>Torgersen</td>\n",
              "      <td>34.1</td>\n",
              "      <td>18.1</td>\n",
              "      <td>193.0</td>\n",
              "      <td>3475.0</td>\n",
              "      <td>NaN</td>\n",
              "    </tr>\n",
              "    <tr>\n",
              "      <th>9</th>\n",
              "      <td>Adelie</td>\n",
              "      <td>Torgersen</td>\n",
              "      <td>42.0</td>\n",
              "      <td>20.2</td>\n",
              "      <td>190.0</td>\n",
              "      <td>4250.0</td>\n",
              "      <td>NaN</td>\n",
              "    </tr>\n",
              "    <tr>\n",
              "      <th>10</th>\n",
              "      <td>Adelie</td>\n",
              "      <td>Torgersen</td>\n",
              "      <td>37.8</td>\n",
              "      <td>17.1</td>\n",
              "      <td>186.0</td>\n",
              "      <td>3300.0</td>\n",
              "      <td>NaN</td>\n",
              "    </tr>\n",
              "    <tr>\n",
              "      <th>11</th>\n",
              "      <td>Adelie</td>\n",
              "      <td>Torgersen</td>\n",
              "      <td>37.8</td>\n",
              "      <td>17.3</td>\n",
              "      <td>180.0</td>\n",
              "      <td>3700.0</td>\n",
              "      <td>NaN</td>\n",
              "    </tr>\n",
              "    <tr>\n",
              "      <th>47</th>\n",
              "      <td>Adelie</td>\n",
              "      <td>Dream</td>\n",
              "      <td>37.5</td>\n",
              "      <td>18.9</td>\n",
              "      <td>179.0</td>\n",
              "      <td>2975.0</td>\n",
              "      <td>NaN</td>\n",
              "    </tr>\n",
              "    <tr>\n",
              "      <th>246</th>\n",
              "      <td>Gentoo</td>\n",
              "      <td>Biscoe</td>\n",
              "      <td>44.5</td>\n",
              "      <td>14.3</td>\n",
              "      <td>216.0</td>\n",
              "      <td>4100.0</td>\n",
              "      <td>NaN</td>\n",
              "    </tr>\n",
              "    <tr>\n",
              "      <th>286</th>\n",
              "      <td>Gentoo</td>\n",
              "      <td>Biscoe</td>\n",
              "      <td>46.2</td>\n",
              "      <td>14.4</td>\n",
              "      <td>214.0</td>\n",
              "      <td>4650.0</td>\n",
              "      <td>NaN</td>\n",
              "    </tr>\n",
              "    <tr>\n",
              "      <th>324</th>\n",
              "      <td>Gentoo</td>\n",
              "      <td>Biscoe</td>\n",
              "      <td>47.3</td>\n",
              "      <td>13.8</td>\n",
              "      <td>216.0</td>\n",
              "      <td>4725.0</td>\n",
              "      <td>NaN</td>\n",
              "    </tr>\n",
              "    <tr>\n",
              "      <th>336</th>\n",
              "      <td>Gentoo</td>\n",
              "      <td>Biscoe</td>\n",
              "      <td>44.5</td>\n",
              "      <td>15.7</td>\n",
              "      <td>217.0</td>\n",
              "      <td>4875.0</td>\n",
              "      <td>NaN</td>\n",
              "    </tr>\n",
              "    <tr>\n",
              "      <th>339</th>\n",
              "      <td>Gentoo</td>\n",
              "      <td>Biscoe</td>\n",
              "      <td>NaN</td>\n",
              "      <td>NaN</td>\n",
              "      <td>NaN</td>\n",
              "      <td>NaN</td>\n",
              "      <td>NaN</td>\n",
              "    </tr>\n",
              "  </tbody>\n",
              "</table>\n",
              "</div>\n",
              "    <div class=\"colab-df-buttons\">\n",
              "\n",
              "  <div class=\"colab-df-container\">\n",
              "    <button class=\"colab-df-convert\" onclick=\"convertToInteractive('df-68c4274f-e23e-4d70-8e9e-d1b50afb5bd0')\"\n",
              "            title=\"Convert this dataframe to an interactive table.\"\n",
              "            style=\"display:none;\">\n",
              "\n",
              "  <svg xmlns=\"http://www.w3.org/2000/svg\" height=\"24px\" viewBox=\"0 -960 960 960\">\n",
              "    <path d=\"M120-120v-720h720v720H120Zm60-500h600v-160H180v160Zm220 220h160v-160H400v160Zm0 220h160v-160H400v160ZM180-400h160v-160H180v160Zm440 0h160v-160H620v160ZM180-180h160v-160H180v160Zm440 0h160v-160H620v160Z\"/>\n",
              "  </svg>\n",
              "    </button>\n",
              "\n",
              "  <style>\n",
              "    .colab-df-container {\n",
              "      display:flex;\n",
              "      gap: 12px;\n",
              "    }\n",
              "\n",
              "    .colab-df-convert {\n",
              "      background-color: #E8F0FE;\n",
              "      border: none;\n",
              "      border-radius: 50%;\n",
              "      cursor: pointer;\n",
              "      display: none;\n",
              "      fill: #1967D2;\n",
              "      height: 32px;\n",
              "      padding: 0 0 0 0;\n",
              "      width: 32px;\n",
              "    }\n",
              "\n",
              "    .colab-df-convert:hover {\n",
              "      background-color: #E2EBFA;\n",
              "      box-shadow: 0px 1px 2px rgba(60, 64, 67, 0.3), 0px 1px 3px 1px rgba(60, 64, 67, 0.15);\n",
              "      fill: #174EA6;\n",
              "    }\n",
              "\n",
              "    .colab-df-buttons div {\n",
              "      margin-bottom: 4px;\n",
              "    }\n",
              "\n",
              "    [theme=dark] .colab-df-convert {\n",
              "      background-color: #3B4455;\n",
              "      fill: #D2E3FC;\n",
              "    }\n",
              "\n",
              "    [theme=dark] .colab-df-convert:hover {\n",
              "      background-color: #434B5C;\n",
              "      box-shadow: 0px 1px 3px 1px rgba(0, 0, 0, 0.15);\n",
              "      filter: drop-shadow(0px 1px 2px rgba(0, 0, 0, 0.3));\n",
              "      fill: #FFFFFF;\n",
              "    }\n",
              "  </style>\n",
              "\n",
              "    <script>\n",
              "      const buttonEl =\n",
              "        document.querySelector('#df-68c4274f-e23e-4d70-8e9e-d1b50afb5bd0 button.colab-df-convert');\n",
              "      buttonEl.style.display =\n",
              "        google.colab.kernel.accessAllowed ? 'block' : 'none';\n",
              "\n",
              "      async function convertToInteractive(key) {\n",
              "        const element = document.querySelector('#df-68c4274f-e23e-4d70-8e9e-d1b50afb5bd0');\n",
              "        const dataTable =\n",
              "          await google.colab.kernel.invokeFunction('convertToInteractive',\n",
              "                                                    [key], {});\n",
              "        if (!dataTable) return;\n",
              "\n",
              "        const docLinkHtml = 'Like what you see? Visit the ' +\n",
              "          '<a target=\"_blank\" href=https://colab.research.google.com/notebooks/data_table.ipynb>data table notebook</a>'\n",
              "          + ' to learn more about interactive tables.';\n",
              "        element.innerHTML = '';\n",
              "        dataTable['output_type'] = 'display_data';\n",
              "        await google.colab.output.renderOutput(dataTable, element);\n",
              "        const docLink = document.createElement('div');\n",
              "        docLink.innerHTML = docLinkHtml;\n",
              "        element.appendChild(docLink);\n",
              "      }\n",
              "    </script>\n",
              "  </div>\n",
              "\n",
              "\n",
              "<div id=\"df-2e4cdcc3-b3ed-4b28-bc6d-9123469a5517\">\n",
              "  <button class=\"colab-df-quickchart\" onclick=\"quickchart('df-2e4cdcc3-b3ed-4b28-bc6d-9123469a5517')\"\n",
              "            title=\"Suggest charts\"\n",
              "            style=\"display:none;\">\n",
              "\n",
              "<svg xmlns=\"http://www.w3.org/2000/svg\" height=\"24px\"viewBox=\"0 0 24 24\"\n",
              "     width=\"24px\">\n",
              "    <g>\n",
              "        <path d=\"M19 3H5c-1.1 0-2 .9-2 2v14c0 1.1.9 2 2 2h14c1.1 0 2-.9 2-2V5c0-1.1-.9-2-2-2zM9 17H7v-7h2v7zm4 0h-2V7h2v10zm4 0h-2v-4h2v4z\"/>\n",
              "    </g>\n",
              "</svg>\n",
              "  </button>\n",
              "\n",
              "<style>\n",
              "  .colab-df-quickchart {\n",
              "      --bg-color: #E8F0FE;\n",
              "      --fill-color: #1967D2;\n",
              "      --hover-bg-color: #E2EBFA;\n",
              "      --hover-fill-color: #174EA6;\n",
              "      --disabled-fill-color: #AAA;\n",
              "      --disabled-bg-color: #DDD;\n",
              "  }\n",
              "\n",
              "  [theme=dark] .colab-df-quickchart {\n",
              "      --bg-color: #3B4455;\n",
              "      --fill-color: #D2E3FC;\n",
              "      --hover-bg-color: #434B5C;\n",
              "      --hover-fill-color: #FFFFFF;\n",
              "      --disabled-bg-color: #3B4455;\n",
              "      --disabled-fill-color: #666;\n",
              "  }\n",
              "\n",
              "  .colab-df-quickchart {\n",
              "    background-color: var(--bg-color);\n",
              "    border: none;\n",
              "    border-radius: 50%;\n",
              "    cursor: pointer;\n",
              "    display: none;\n",
              "    fill: var(--fill-color);\n",
              "    height: 32px;\n",
              "    padding: 0;\n",
              "    width: 32px;\n",
              "  }\n",
              "\n",
              "  .colab-df-quickchart:hover {\n",
              "    background-color: var(--hover-bg-color);\n",
              "    box-shadow: 0 1px 2px rgba(60, 64, 67, 0.3), 0 1px 3px 1px rgba(60, 64, 67, 0.15);\n",
              "    fill: var(--button-hover-fill-color);\n",
              "  }\n",
              "\n",
              "  .colab-df-quickchart-complete:disabled,\n",
              "  .colab-df-quickchart-complete:disabled:hover {\n",
              "    background-color: var(--disabled-bg-color);\n",
              "    fill: var(--disabled-fill-color);\n",
              "    box-shadow: none;\n",
              "  }\n",
              "\n",
              "  .colab-df-spinner {\n",
              "    border: 2px solid var(--fill-color);\n",
              "    border-color: transparent;\n",
              "    border-bottom-color: var(--fill-color);\n",
              "    animation:\n",
              "      spin 1s steps(1) infinite;\n",
              "  }\n",
              "\n",
              "  @keyframes spin {\n",
              "    0% {\n",
              "      border-color: transparent;\n",
              "      border-bottom-color: var(--fill-color);\n",
              "      border-left-color: var(--fill-color);\n",
              "    }\n",
              "    20% {\n",
              "      border-color: transparent;\n",
              "      border-left-color: var(--fill-color);\n",
              "      border-top-color: var(--fill-color);\n",
              "    }\n",
              "    30% {\n",
              "      border-color: transparent;\n",
              "      border-left-color: var(--fill-color);\n",
              "      border-top-color: var(--fill-color);\n",
              "      border-right-color: var(--fill-color);\n",
              "    }\n",
              "    40% {\n",
              "      border-color: transparent;\n",
              "      border-right-color: var(--fill-color);\n",
              "      border-top-color: var(--fill-color);\n",
              "    }\n",
              "    60% {\n",
              "      border-color: transparent;\n",
              "      border-right-color: var(--fill-color);\n",
              "    }\n",
              "    80% {\n",
              "      border-color: transparent;\n",
              "      border-right-color: var(--fill-color);\n",
              "      border-bottom-color: var(--fill-color);\n",
              "    }\n",
              "    90% {\n",
              "      border-color: transparent;\n",
              "      border-bottom-color: var(--fill-color);\n",
              "    }\n",
              "  }\n",
              "</style>\n",
              "\n",
              "  <script>\n",
              "    async function quickchart(key) {\n",
              "      const quickchartButtonEl =\n",
              "        document.querySelector('#' + key + ' button');\n",
              "      quickchartButtonEl.disabled = true;  // To prevent multiple clicks.\n",
              "      quickchartButtonEl.classList.add('colab-df-spinner');\n",
              "      try {\n",
              "        const charts = await google.colab.kernel.invokeFunction(\n",
              "            'suggestCharts', [key], {});\n",
              "      } catch (error) {\n",
              "        console.error('Error during call to suggestCharts:', error);\n",
              "      }\n",
              "      quickchartButtonEl.classList.remove('colab-df-spinner');\n",
              "      quickchartButtonEl.classList.add('colab-df-quickchart-complete');\n",
              "    }\n",
              "    (() => {\n",
              "      let quickchartButtonEl =\n",
              "        document.querySelector('#df-2e4cdcc3-b3ed-4b28-bc6d-9123469a5517 button');\n",
              "      quickchartButtonEl.style.display =\n",
              "        google.colab.kernel.accessAllowed ? 'block' : 'none';\n",
              "    })();\n",
              "  </script>\n",
              "</div>\n",
              "\n",
              "  <div id=\"id_bea444b1-3c03-41ee-9e75-1140d3b87b9b\">\n",
              "    <style>\n",
              "      .colab-df-generate {\n",
              "        background-color: #E8F0FE;\n",
              "        border: none;\n",
              "        border-radius: 50%;\n",
              "        cursor: pointer;\n",
              "        display: none;\n",
              "        fill: #1967D2;\n",
              "        height: 32px;\n",
              "        padding: 0 0 0 0;\n",
              "        width: 32px;\n",
              "      }\n",
              "\n",
              "      .colab-df-generate:hover {\n",
              "        background-color: #E2EBFA;\n",
              "        box-shadow: 0px 1px 2px rgba(60, 64, 67, 0.3), 0px 1px 3px 1px rgba(60, 64, 67, 0.15);\n",
              "        fill: #174EA6;\n",
              "      }\n",
              "\n",
              "      [theme=dark] .colab-df-generate {\n",
              "        background-color: #3B4455;\n",
              "        fill: #D2E3FC;\n",
              "      }\n",
              "\n",
              "      [theme=dark] .colab-df-generate:hover {\n",
              "        background-color: #434B5C;\n",
              "        box-shadow: 0px 1px 3px 1px rgba(0, 0, 0, 0.15);\n",
              "        filter: drop-shadow(0px 1px 2px rgba(0, 0, 0, 0.3));\n",
              "        fill: #FFFFFF;\n",
              "      }\n",
              "    </style>\n",
              "    <button class=\"colab-df-generate\" onclick=\"generateWithVariable('df_NaN')\"\n",
              "            title=\"Generate code using this dataframe.\"\n",
              "            style=\"display:none;\">\n",
              "\n",
              "  <svg xmlns=\"http://www.w3.org/2000/svg\" height=\"24px\"viewBox=\"0 0 24 24\"\n",
              "       width=\"24px\">\n",
              "    <path d=\"M7,19H8.4L18.45,9,17,7.55,7,17.6ZM5,21V16.75L18.45,3.32a2,2,0,0,1,2.83,0l1.4,1.43a1.91,1.91,0,0,1,.58,1.4,1.91,1.91,0,0,1-.58,1.4L9.25,21ZM18.45,9,17,7.55Zm-12,3A5.31,5.31,0,0,0,4.9,8.1,5.31,5.31,0,0,0,1,6.5,5.31,5.31,0,0,0,4.9,4.9,5.31,5.31,0,0,0,6.5,1,5.31,5.31,0,0,0,8.1,4.9,5.31,5.31,0,0,0,12,6.5,5.46,5.46,0,0,0,6.5,12Z\"/>\n",
              "  </svg>\n",
              "    </button>\n",
              "    <script>\n",
              "      (() => {\n",
              "      const buttonEl =\n",
              "        document.querySelector('#id_bea444b1-3c03-41ee-9e75-1140d3b87b9b button.colab-df-generate');\n",
              "      buttonEl.style.display =\n",
              "        google.colab.kernel.accessAllowed ? 'block' : 'none';\n",
              "\n",
              "      buttonEl.onclick = () => {\n",
              "        google.colab.notebook.generateWithVariable('df_NaN');\n",
              "      }\n",
              "      })();\n",
              "    </script>\n",
              "  </div>\n",
              "\n",
              "    </div>\n",
              "  </div>\n"
            ],
            "application/vnd.google.colaboratory.intrinsic+json": {
              "type": "dataframe",
              "variable_name": "df_NaN",
              "repr_error": "0"
            }
          },
          "metadata": {},
          "execution_count": 167
        }
      ]
    },
    {
      "cell_type": "code",
      "source": [
        "# Punto 16\n",
        "# ¿Cuál es la isla con la mayor variación en la longitud del pico entre las tres especies de pingüinos?\n",
        "\n",
        "\n",
        "desviacion_Torgersen_Adelie = Torgersen_df[Torgersen_df[\"species\"] == \"Adelie\"][\"bill_length_mm\"].std()\n",
        "desviacion_Torgersen_Chinstrap = Torgersen_df[Torgersen_df[\"species\"] == \"Chinstrap\"][\"bill_length_mm\"].std()\n",
        "desviacion_Torgersen_Gentoo = Torgersen_df[Torgersen_df[\"species\"] == \"Gentoo\"][\"bill_length_mm\"].std()\n",
        "\n",
        "print(\"Desviación estandar de la longitud del pico en distintas especies\")\n",
        "print()\n",
        "df.groupby([\"island\", \"species\"])['bill_length_mm'].std()"
      ],
      "metadata": {
        "colab": {
          "base_uri": "https://localhost:8080/",
          "height": 307
        },
        "id": "nJprMyEQR-Ri",
        "outputId": "be3908f5-b61f-44e7-841d-21a0dd888612"
      },
      "execution_count": 168,
      "outputs": [
        {
          "output_type": "stream",
          "name": "stdout",
          "text": [
            "Desviación estandar de la longitud del pico en distintas especies\n",
            "\n"
          ]
        },
        {
          "output_type": "execute_result",
          "data": {
            "text/plain": [
              "island     species  \n",
              "Biscoe     Adelie       2.480916\n",
              "           Gentoo       3.106116\n",
              "Dream      Adelie       2.484276\n",
              "           Chinstrap    3.339256\n",
              "Torgersen  Adelie       3.028097\n",
              "Name: bill_length_mm, dtype: float64"
            ],
            "text/html": [
              "<div>\n",
              "<style scoped>\n",
              "    .dataframe tbody tr th:only-of-type {\n",
              "        vertical-align: middle;\n",
              "    }\n",
              "\n",
              "    .dataframe tbody tr th {\n",
              "        vertical-align: top;\n",
              "    }\n",
              "\n",
              "    .dataframe thead th {\n",
              "        text-align: right;\n",
              "    }\n",
              "</style>\n",
              "<table border=\"1\" class=\"dataframe\">\n",
              "  <thead>\n",
              "    <tr style=\"text-align: right;\">\n",
              "      <th></th>\n",
              "      <th></th>\n",
              "      <th>bill_length_mm</th>\n",
              "    </tr>\n",
              "    <tr>\n",
              "      <th>island</th>\n",
              "      <th>species</th>\n",
              "      <th></th>\n",
              "    </tr>\n",
              "  </thead>\n",
              "  <tbody>\n",
              "    <tr>\n",
              "      <th rowspan=\"2\" valign=\"top\">Biscoe</th>\n",
              "      <th>Adelie</th>\n",
              "      <td>2.480916</td>\n",
              "    </tr>\n",
              "    <tr>\n",
              "      <th>Gentoo</th>\n",
              "      <td>3.106116</td>\n",
              "    </tr>\n",
              "    <tr>\n",
              "      <th rowspan=\"2\" valign=\"top\">Dream</th>\n",
              "      <th>Adelie</th>\n",
              "      <td>2.484276</td>\n",
              "    </tr>\n",
              "    <tr>\n",
              "      <th>Chinstrap</th>\n",
              "      <td>3.339256</td>\n",
              "    </tr>\n",
              "    <tr>\n",
              "      <th>Torgersen</th>\n",
              "      <th>Adelie</th>\n",
              "      <td>3.028097</td>\n",
              "    </tr>\n",
              "  </tbody>\n",
              "</table>\n",
              "</div><br><label><b>dtype:</b> float64</label>"
            ]
          },
          "metadata": {},
          "execution_count": 168
        }
      ]
    },
    {
      "cell_type": "code",
      "source": [
        "print(\"Desviación estandar de la longitud del pico en general\")\n",
        "print()\n",
        "df.groupby([\"island\"])['bill_length_mm'].std()"
      ],
      "metadata": {
        "colab": {
          "base_uri": "https://localhost:8080/",
          "height": 244
        },
        "id": "RMoC390aiI83",
        "outputId": "02921f36-5d58-42ff-8382-e125178c4761"
      },
      "execution_count": 169,
      "outputs": [
        {
          "output_type": "stream",
          "name": "stdout",
          "text": [
            "Desviación estandar de la longitud del pico en general\n",
            "\n"
          ]
        },
        {
          "output_type": "execute_result",
          "data": {
            "text/plain": [
              "island\n",
              "Biscoe       4.827319\n",
              "Dream        5.947069\n",
              "Torgersen    3.028097\n",
              "Name: bill_length_mm, dtype: float64"
            ],
            "text/html": [
              "<div>\n",
              "<style scoped>\n",
              "    .dataframe tbody tr th:only-of-type {\n",
              "        vertical-align: middle;\n",
              "    }\n",
              "\n",
              "    .dataframe tbody tr th {\n",
              "        vertical-align: top;\n",
              "    }\n",
              "\n",
              "    .dataframe thead th {\n",
              "        text-align: right;\n",
              "    }\n",
              "</style>\n",
              "<table border=\"1\" class=\"dataframe\">\n",
              "  <thead>\n",
              "    <tr style=\"text-align: right;\">\n",
              "      <th></th>\n",
              "      <th>bill_length_mm</th>\n",
              "    </tr>\n",
              "    <tr>\n",
              "      <th>island</th>\n",
              "      <th></th>\n",
              "    </tr>\n",
              "  </thead>\n",
              "  <tbody>\n",
              "    <tr>\n",
              "      <th>Biscoe</th>\n",
              "      <td>4.827319</td>\n",
              "    </tr>\n",
              "    <tr>\n",
              "      <th>Dream</th>\n",
              "      <td>5.947069</td>\n",
              "    </tr>\n",
              "    <tr>\n",
              "      <th>Torgersen</th>\n",
              "      <td>3.028097</td>\n",
              "    </tr>\n",
              "  </tbody>\n",
              "</table>\n",
              "</div><br><label><b>dtype:</b> float64</label>"
            ]
          },
          "metadata": {},
          "execution_count": 169
        }
      ]
    },
    {
      "cell_type": "code",
      "source": [
        "print(\"La desviación estandar es una medida de la variación en los datos.\")\n",
        "print(\"Entre mayor es la desviación estandar mayor es la variación de los datos, así que la podemos usar para este inciso.\")\n",
        "print()\n",
        "print(\"La isla con la mayor variación en la longitud del pico en la especie Adelie es la isla Torgersen\")\n",
        "print(\"La isla con la mayor variación en la longitud del pico en la especie Chinstrap es la isla Dream\")\n",
        "print(\"La isla con la mayor variación en la longitud del pico en la especie Gentoo es la isla Biscoe\")\n",
        "print()\n",
        "print(\"La isla con la mayor variación en la longitud del pico en general es la isla Dream\")"
      ],
      "metadata": {
        "colab": {
          "base_uri": "https://localhost:8080/"
        },
        "id": "kNCW_lQBfVhS",
        "outputId": "211f25c8-a3f0-4594-e04e-ef5435861156"
      },
      "execution_count": 170,
      "outputs": [
        {
          "output_type": "stream",
          "name": "stdout",
          "text": [
            "La desviación estandar es una medida de la variación en los datos.\n",
            "Entre mayor es la desviación estandar mayor es la variación de los datos, así que la podemos usar para este inciso.\n",
            "\n",
            "La isla con la mayor variación en la longitud del pico en la especie Adelie es la isla Torgersen\n",
            "La isla con la mayor variación en la longitud del pico en la especie Chinstrap es la isla Dream\n",
            "La isla con la mayor variación en la longitud del pico en la especie Gentoo es la isla Biscoe\n",
            "\n",
            "La isla con la mayor variación en la longitud del pico en general es la isla Dream\n"
          ]
        }
      ]
    },
    {
      "cell_type": "code",
      "source": [
        "# Punto 17\n",
        "# ¿Cuál es la diferencia en masa corporal promedio entre machos y hembras de la especie Chinstrap?\n",
        "\n",
        "masa_promedio_machos_Chinstrap = Chinstrap_df[Chinstrap_df[\"sex\"] == \"Male\"][\"body_mass_g\"].mean()\n",
        "masa_promedio_hembras_Chinstrap = Chinstrap_df[Chinstrap_df[\"sex\"] == \"Female\"][\"body_mass_g\"].mean()\n",
        "\n",
        "diferencia = np.abs(masa_promedio_machos_Chinstrap - masa_promedio_hembras_Chinstrap)\n",
        "\n",
        "print(f\"La diferencia en el promedio de masa corporal entre machos y hembras de la especie Chinstrap es de {diferencia} g\")"
      ],
      "metadata": {
        "colab": {
          "base_uri": "https://localhost:8080/"
        },
        "id": "OFIiLjs2TB59",
        "outputId": "3b522a8f-2e5a-4895-ecb6-0e9c646512d1"
      },
      "execution_count": 171,
      "outputs": [
        {
          "output_type": "stream",
          "name": "stdout",
          "text": [
            "La diferencia en el promedio de masa corporal entre machos y hembras de la especie Chinstrap es de 411.76470588235316 g\n"
          ]
        }
      ]
    },
    {
      "cell_type": "code",
      "source": [
        "# Punto 18\n",
        "# ¿Qué especie de pingüino tiene la longitud de aleta promedio más alta?\n",
        "\n",
        "aleta_Adelie = Adelie_df[\"flipper_length_mm\"].mean()\n",
        "aleta_Chinstrap = Chinstrap_df[\"flipper_length_mm\"].mean()\n",
        "aleta_Gentoo = Gentoo_df[\"flipper_length_mm\"].mean()\n",
        "\n",
        "print(f\"El promedio de la longitud de aleta de la especie Adelie es de: {aleta_Adelie} mm\")\n",
        "print(f\"El promedio de la longitud de aleta de la especie Chinstrap es de: {aleta_Chinstrap} mm\")\n",
        "print(f\"El promedio de la longitud de aleta de la especie Gentoo es de: {aleta_Gentoo} mm\")\n",
        "print()\n",
        "print(\"Por tanto, la especie Gentoo tiene la longitud de aleta promedio más alta\")"
      ],
      "metadata": {
        "colab": {
          "base_uri": "https://localhost:8080/"
        },
        "id": "V2slrLnhUNWt",
        "outputId": "1d3671ff-060e-4f37-8a7a-ef14bb5d4728"
      },
      "execution_count": 172,
      "outputs": [
        {
          "output_type": "stream",
          "name": "stdout",
          "text": [
            "El promedio de la longitud de aleta de la especie Adelie es de: 190.1027397260274 mm\n",
            "El promedio de la longitud de aleta de la especie Chinstrap es de: 195.8235294117647 mm\n",
            "El promedio de la longitud de aleta de la especie Gentoo es de: 217.23529411764707 mm\n",
            "\n",
            "Por tanto, la especie Gentoo tiene la longitud de aleta promedio más alta\n"
          ]
        }
      ]
    },
    {
      "cell_type": "code",
      "source": [
        "# Punto 19\n",
        "# ¿Cuál es la longitud del pico más pequeña registrada en el dataset y de qué especie es?\n",
        "\n",
        "minima_longitud_pico = df_original[\"bill_length_mm\"].min()\n",
        "especie_minima_longitud_pico = df_original[df_original[\"bill_length_mm\"] == minima_longitud_pico][\"species\"].iloc[0]\n",
        "\n",
        "print(f\"La longitud del pico más pequeña registrada en el dataset es de {minima_longitud_pico} mm, y es de la especie {especie_minima_longitud_pico}\")\n"
      ],
      "metadata": {
        "colab": {
          "base_uri": "https://localhost:8080/"
        },
        "id": "mzY8spErVYPN",
        "outputId": "41a2b374-8ce7-4e53-9d90-0b419de69e5f"
      },
      "execution_count": 173,
      "outputs": [
        {
          "output_type": "stream",
          "name": "stdout",
          "text": [
            "La longitud del pico más pequeña registrada en el dataset es de 32.1 mm, y es de la especie Adelie\n"
          ]
        }
      ]
    },
    {
      "cell_type": "code",
      "source": [
        "# Punto 20\n",
        "# ¿Cuál es la relación entre el sexo y la longitud de la aleta en los pingüinos de la especie Adelie?\n",
        "\n",
        "longitud_aleta_machos_array = Adelie_df[Adelie_df[\"sex\"] == \"Male\"][\"flipper_length_mm\"]\n",
        "longitud_aleta_hembras_array = Adelie_df[Adelie_df[\"sex\"] == \"Female\"][\"flipper_length_mm\"]\n",
        "\n",
        "plt.hist(longitud_aleta_machos_array, alpha=0.7, label='Machos')\n",
        "plt.hist(longitud_aleta_hembras_array, alpha=0.7, label='Hembras')\n",
        "\n",
        "plt.title(\"Histograma de longitudes de aleta de machos y hembras\")\n",
        "plt.xlabel(\"Longitud de la aleta (mm)\")\n",
        "plt.ylabel(\"Frecuencia\")\n",
        "plt.legend()\n",
        "\n",
        "plt.show()"
      ],
      "metadata": {
        "colab": {
          "base_uri": "https://localhost:8080/",
          "height": 472
        },
        "id": "vZJjuszDXH12",
        "outputId": "c421096e-facf-4850-d756-5c15794e514b"
      },
      "execution_count": 174,
      "outputs": [
        {
          "output_type": "display_data",
          "data": {
            "text/plain": [
              "<Figure size 640x480 with 1 Axes>"
            ],
            "image/png": "[encoded data removed]"
          },
          "metadata": {}
        }
      ]
    },
    {
      "cell_type": "code",
      "source": [
        "promedio_longitud_aleta_machos = longitud_aleta_machos_array.mean()\n",
        "promedio_longitud_aleta_hembras = longitud_aleta_hembras_array.mean()\n",
        "\n",
        "print(f\"El promedio de la longitud de la aleta de los machos es de {promedio_longitud_aleta_machos}.\")\n",
        "print(f\"El promedio de la longitud de la aleta de las hembras es de {promedio_longitud_aleta_hembras}.\")\n",
        "print(\"Tanto el histograma, como los promedios anteriormente calculados muestran que los machos tienden a tener una longitud de aleta ligeramente mayor a las de las hembras\")"
      ],
      "metadata": {
        "colab": {
          "base_uri": "https://localhost:8080/"
        },
        "id": "CBxwdmGJbTU3",
        "outputId": "e7acb74c-4313-436c-ca98-f4faef80adc7"
      },
      "execution_count": 175,
      "outputs": [
        {
          "output_type": "stream",
          "name": "stdout",
          "text": [
            "El promedio de la longitud de la aleta de los machos es de 192.41095890410958.\n",
            "El promedio de la longitud de la aleta de las hembras es de 187.7945205479452.\n",
            "Tanto el histograma, como los promedios anteriormente calculados muestran que los machos tienden a tener una longitud de aleta ligeramente mayor a las de las hembras\n"
          ]
        }
      ]
    }
  ]
}