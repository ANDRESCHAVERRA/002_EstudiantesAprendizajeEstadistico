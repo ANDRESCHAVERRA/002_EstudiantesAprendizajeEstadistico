{
 "cells": [
  {
   "cell_type": "markdown",
   "metadata": {},
   "source": [
    "# Problema: Dataset de pingüinos:\n",
    "\n",
    "Carga el sigiuente dataset y responde las siguientes preguntas:\n",
    "\n",
    "```python\n",
    "import pandas as pd\n",
    "import seaborn as sns\n",
    "\n",
    "# Cargar el dataset\n",
    "df = sns.load_dataset('penguins')\n",
    "```\n",
    "\n",
    "\n",
    "1. ¿Cuántas especies diferentes de pingüinos hay en el dataset?\n"
   ]
  },
  {
   "cell_type": "code",
   "execution_count": 2,
   "metadata": {},
   "outputs": [],
   "source": [
    "import pandas as pd\n",
    "import seaborn as sns\n",
    "\n",
    "df = sns.load_dataset('penguins')"
   ]
  },
  {
   "cell_type": "code",
   "execution_count": 3,
   "metadata": {},
   "outputs": [
    {
     "data": {
      "text/html": [
       "<div>\n",
       "<style scoped>\n",
       "    .dataframe tbody tr th:only-of-type {\n",
       "        vertical-align: middle;\n",
       "    }\n",
       "\n",
       "    .dataframe tbody tr th {\n",
       "        vertical-align: top;\n",
       "    }\n",
       "\n",
       "    .dataframe thead th {\n",
       "        text-align: right;\n",
       "    }\n",
       "</style>\n",
       "<table border=\"1\" class=\"dataframe\">\n",
       "  <thead>\n",
       "    <tr style=\"text-align: right;\">\n",
       "      <th></th>\n",
       "      <th>species</th>\n",
       "      <th>island</th>\n",
       "      <th>bill_length_mm</th>\n",
       "      <th>bill_depth_mm</th>\n",
       "      <th>flipper_length_mm</th>\n",
       "      <th>body_mass_g</th>\n",
       "      <th>sex</th>\n",
       "    </tr>\n",
       "  </thead>\n",
       "  <tbody>\n",
       "    <tr>\n",
       "      <th>0</th>\n",
       "      <td>Adelie</td>\n",
       "      <td>Torgersen</td>\n",
       "      <td>39.1</td>\n",
       "      <td>18.7</td>\n",
       "      <td>181.0</td>\n",
       "      <td>3750.0</td>\n",
       "      <td>Male</td>\n",
       "    </tr>\n",
       "    <tr>\n",
       "      <th>1</th>\n",
       "      <td>Adelie</td>\n",
       "      <td>Torgersen</td>\n",
       "      <td>39.5</td>\n",
       "      <td>17.4</td>\n",
       "      <td>186.0</td>\n",
       "      <td>3800.0</td>\n",
       "      <td>Female</td>\n",
       "    </tr>\n",
       "    <tr>\n",
       "      <th>2</th>\n",
       "      <td>Adelie</td>\n",
       "      <td>Torgersen</td>\n",
       "      <td>40.3</td>\n",
       "      <td>18.0</td>\n",
       "      <td>195.0</td>\n",
       "      <td>3250.0</td>\n",
       "      <td>Female</td>\n",
       "    </tr>\n",
       "    <tr>\n",
       "      <th>3</th>\n",
       "      <td>Adelie</td>\n",
       "      <td>Torgersen</td>\n",
       "      <td>NaN</td>\n",
       "      <td>NaN</td>\n",
       "      <td>NaN</td>\n",
       "      <td>NaN</td>\n",
       "      <td>NaN</td>\n",
       "    </tr>\n",
       "    <tr>\n",
       "      <th>4</th>\n",
       "      <td>Adelie</td>\n",
       "      <td>Torgersen</td>\n",
       "      <td>36.7</td>\n",
       "      <td>19.3</td>\n",
       "      <td>193.0</td>\n",
       "      <td>3450.0</td>\n",
       "      <td>Female</td>\n",
       "    </tr>\n",
       "  </tbody>\n",
       "</table>\n",
       "</div>"
      ],
      "text/plain": [
       "  species     island  bill_length_mm  bill_depth_mm  flipper_length_mm  \\\n",
       "0  Adelie  Torgersen            39.1           18.7              181.0   \n",
       "1  Adelie  Torgersen            39.5           17.4              186.0   \n",
       "2  Adelie  Torgersen            40.3           18.0              195.0   \n",
       "3  Adelie  Torgersen             NaN            NaN                NaN   \n",
       "4  Adelie  Torgersen            36.7           19.3              193.0   \n",
       "\n",
       "   body_mass_g     sex  \n",
       "0       3750.0    Male  \n",
       "1       3800.0  Female  \n",
       "2       3250.0  Female  \n",
       "3          NaN     NaN  \n",
       "4       3450.0  Female  "
      ]
     },
     "execution_count": 3,
     "metadata": {},
     "output_type": "execute_result"
    }
   ],
   "source": [
    "df.head()"
   ]
  },
  {
   "cell_type": "code",
   "execution_count": 4,
   "metadata": {},
   "outputs": [
    {
     "name": "stdout",
     "output_type": "stream",
     "text": [
      "<class 'pandas.core.frame.DataFrame'>\n",
      "RangeIndex: 344 entries, 0 to 343\n",
      "Data columns (total 7 columns):\n",
      " #   Column             Non-Null Count  Dtype  \n",
      "---  ------             --------------  -----  \n",
      " 0   species            344 non-null    object \n",
      " 1   island             344 non-null    object \n",
      " 2   bill_length_mm     342 non-null    float64\n",
      " 3   bill_depth_mm      342 non-null    float64\n",
      " 4   flipper_length_mm  342 non-null    float64\n",
      " 5   body_mass_g        342 non-null    float64\n",
      " 6   sex                333 non-null    object \n",
      "dtypes: float64(4), object(3)\n",
      "memory usage: 18.9+ KB\n"
     ]
    }
   ],
   "source": [
    "df.info()"
   ]
  },
  {
   "cell_type": "code",
   "execution_count": 5,
   "metadata": {},
   "outputs": [
    {
     "data": {
      "text/html": [
       "<div>\n",
       "<style scoped>\n",
       "    .dataframe tbody tr th:only-of-type {\n",
       "        vertical-align: middle;\n",
       "    }\n",
       "\n",
       "    .dataframe tbody tr th {\n",
       "        vertical-align: top;\n",
       "    }\n",
       "\n",
       "    .dataframe thead th {\n",
       "        text-align: right;\n",
       "    }\n",
       "</style>\n",
       "<table border=\"1\" class=\"dataframe\">\n",
       "  <thead>\n",
       "    <tr style=\"text-align: right;\">\n",
       "      <th></th>\n",
       "      <th>island</th>\n",
       "      <th>bill_length_mm</th>\n",
       "      <th>bill_depth_mm</th>\n",
       "      <th>flipper_length_mm</th>\n",
       "      <th>body_mass_g</th>\n",
       "      <th>sex</th>\n",
       "    </tr>\n",
       "    <tr>\n",
       "      <th>species</th>\n",
       "      <th></th>\n",
       "      <th></th>\n",
       "      <th></th>\n",
       "      <th></th>\n",
       "      <th></th>\n",
       "      <th></th>\n",
       "    </tr>\n",
       "  </thead>\n",
       "  <tbody>\n",
       "    <tr>\n",
       "      <th>Adelie</th>\n",
       "      <td>152</td>\n",
       "      <td>151</td>\n",
       "      <td>151</td>\n",
       "      <td>151</td>\n",
       "      <td>151</td>\n",
       "      <td>146</td>\n",
       "    </tr>\n",
       "    <tr>\n",
       "      <th>Chinstrap</th>\n",
       "      <td>68</td>\n",
       "      <td>68</td>\n",
       "      <td>68</td>\n",
       "      <td>68</td>\n",
       "      <td>68</td>\n",
       "      <td>68</td>\n",
       "    </tr>\n",
       "    <tr>\n",
       "      <th>Gentoo</th>\n",
       "      <td>124</td>\n",
       "      <td>123</td>\n",
       "      <td>123</td>\n",
       "      <td>123</td>\n",
       "      <td>123</td>\n",
       "      <td>119</td>\n",
       "    </tr>\n",
       "  </tbody>\n",
       "</table>\n",
       "</div>"
      ],
      "text/plain": [
       "           island  bill_length_mm  bill_depth_mm  flipper_length_mm  \\\n",
       "species                                                               \n",
       "Adelie        152             151            151                151   \n",
       "Chinstrap      68              68             68                 68   \n",
       "Gentoo        124             123            123                123   \n",
       "\n",
       "           body_mass_g  sex  \n",
       "species                      \n",
       "Adelie             151  146  \n",
       "Chinstrap           68   68  \n",
       "Gentoo             123  119  "
      ]
     },
     "execution_count": 5,
     "metadata": {},
     "output_type": "execute_result"
    }
   ],
   "source": [
    "df.groupby([\"species\"]).count()"
   ]
  },
  {
   "cell_type": "code",
   "execution_count": 6,
   "metadata": {},
   "outputs": [
    {
     "name": "stdout",
     "output_type": "stream",
     "text": [
      "['Adelie' 'Chinstrap' 'Gentoo'] <class 'numpy.ndarray'>\n"
     ]
    }
   ],
   "source": [
    "species = df.species.unique()\n",
    "\n",
    "print(species, type (species))"
   ]
  },
  {
   "cell_type": "markdown",
   "metadata": {},
   "source": [
    "**Respuesta:** Usando el método anterior vemos que existen 3 especies diferentes de pingüinos: Adelie, Chisntrap y Gentoo."
   ]
  },
  {
   "cell_type": "markdown",
   "metadata": {},
   "source": [
    "2. ¿Cuál es la longitud media del pico de los pingüinos de la especie Adelie?"
   ]
  },
  {
   "cell_type": "code",
   "execution_count": 7,
   "metadata": {},
   "outputs": [
    {
     "name": "stdout",
     "output_type": "stream",
     "text": [
      "La media de la longitud del pico de los pingüinos Adelie es: 38.79 mm.\n"
     ]
    }
   ],
   "source": [
    "df_Adelie = df[df[\"species\"] == \"Adelie\"]\n",
    "mu_BL_A = df_Adelie[\"bill_length_mm\"].mean()\n",
    "\n",
    "# Imprimimos con dos cifras decimales\n",
    "print(\"La media de la longitud del pico de los pingüinos Adelie es: {:.2f} mm.\".format(mu_BL_A))\n"
   ]
  },
  {
   "cell_type": "markdown",
   "metadata": {},
   "source": [
    "3. ¿Cuál es la masa corporal promedio de los pingüinos de la especie Gentoo?"
   ]
  },
  {
   "cell_type": "code",
   "execution_count": 8,
   "metadata": {},
   "outputs": [
    {
     "name": "stdout",
     "output_type": "stream",
     "text": [
      "La media de la masa corporal de los pingüinos Gentoo es: 5076.02 g.\n"
     ]
    }
   ],
   "source": [
    "df_Chinstrap = df[df[\"species\"] == \"Chinstrap\"]\n",
    "\n",
    "df_Gentoo = df[df[\"species\"] == \"Gentoo\"]\n",
    "df_Gentoo[\"body_mass_g\"].mean()\n",
    "\n",
    "mu_CM_G = df_Gentoo[\"body_mass_g\"].mean()\n",
    "\n",
    "# Imprimimos con dos cifras decimales\n",
    "print(\"La media de la masa corporal de los pingüinos Gentoo es: {:.2f} g.\".format(mu_CM_G))"
   ]
  },
  {
   "cell_type": "markdown",
   "metadata": {},
   "source": [
    "4. ¿Cuál es la relación entre la longitud del pico y la masa corporal de los pingüinos?"
   ]
  },
  {
   "cell_type": "code",
   "execution_count": 9,
   "metadata": {},
   "outputs": [
    {
     "data": {
      "text/html": [
       "<div>\n",
       "<style scoped>\n",
       "    .dataframe tbody tr th:only-of-type {\n",
       "        vertical-align: middle;\n",
       "    }\n",
       "\n",
       "    .dataframe tbody tr th {\n",
       "        vertical-align: top;\n",
       "    }\n",
       "\n",
       "    .dataframe thead th {\n",
       "        text-align: right;\n",
       "    }\n",
       "</style>\n",
       "<table border=\"1\" class=\"dataframe\">\n",
       "  <thead>\n",
       "    <tr style=\"text-align: right;\">\n",
       "      <th></th>\n",
       "      <th>species</th>\n",
       "      <th>island</th>\n",
       "      <th>bill_length_mm</th>\n",
       "      <th>bill_depth_mm</th>\n",
       "      <th>flipper_length_mm</th>\n",
       "      <th>body_mass_g</th>\n",
       "      <th>sex</th>\n",
       "      <th>Mass / Bill Length</th>\n",
       "    </tr>\n",
       "  </thead>\n",
       "  <tbody>\n",
       "    <tr>\n",
       "      <th>0</th>\n",
       "      <td>Adelie</td>\n",
       "      <td>Torgersen</td>\n",
       "      <td>39.1</td>\n",
       "      <td>18.7</td>\n",
       "      <td>181.0</td>\n",
       "      <td>3750.0</td>\n",
       "      <td>Male</td>\n",
       "      <td>95.91</td>\n",
       "    </tr>\n",
       "    <tr>\n",
       "      <th>1</th>\n",
       "      <td>Adelie</td>\n",
       "      <td>Torgersen</td>\n",
       "      <td>39.5</td>\n",
       "      <td>17.4</td>\n",
       "      <td>186.0</td>\n",
       "      <td>3800.0</td>\n",
       "      <td>Female</td>\n",
       "      <td>96.20</td>\n",
       "    </tr>\n",
       "    <tr>\n",
       "      <th>2</th>\n",
       "      <td>Adelie</td>\n",
       "      <td>Torgersen</td>\n",
       "      <td>40.3</td>\n",
       "      <td>18.0</td>\n",
       "      <td>195.0</td>\n",
       "      <td>3250.0</td>\n",
       "      <td>Female</td>\n",
       "      <td>80.65</td>\n",
       "    </tr>\n",
       "    <tr>\n",
       "      <th>3</th>\n",
       "      <td>Adelie</td>\n",
       "      <td>Torgersen</td>\n",
       "      <td>NaN</td>\n",
       "      <td>NaN</td>\n",
       "      <td>NaN</td>\n",
       "      <td>NaN</td>\n",
       "      <td>NaN</td>\n",
       "      <td>NaN</td>\n",
       "    </tr>\n",
       "    <tr>\n",
       "      <th>4</th>\n",
       "      <td>Adelie</td>\n",
       "      <td>Torgersen</td>\n",
       "      <td>36.7</td>\n",
       "      <td>19.3</td>\n",
       "      <td>193.0</td>\n",
       "      <td>3450.0</td>\n",
       "      <td>Female</td>\n",
       "      <td>94.01</td>\n",
       "    </tr>\n",
       "  </tbody>\n",
       "</table>\n",
       "</div>"
      ],
      "text/plain": [
       "  species     island  bill_length_mm  bill_depth_mm  flipper_length_mm  \\\n",
       "0  Adelie  Torgersen            39.1           18.7              181.0   \n",
       "1  Adelie  Torgersen            39.5           17.4              186.0   \n",
       "2  Adelie  Torgersen            40.3           18.0              195.0   \n",
       "3  Adelie  Torgersen             NaN            NaN                NaN   \n",
       "4  Adelie  Torgersen            36.7           19.3              193.0   \n",
       "\n",
       "   body_mass_g     sex  Mass / Bill Length  \n",
       "0       3750.0    Male               95.91  \n",
       "1       3800.0  Female               96.20  \n",
       "2       3250.0  Female               80.65  \n",
       "3          NaN     NaN                 NaN  \n",
       "4       3450.0  Female               94.01  "
      ]
     },
     "execution_count": 9,
     "metadata": {},
     "output_type": "execute_result"
    }
   ],
   "source": [
    "df[\"Mass / Bill Length\"] = round(df[\"body_mass_g\"] / df[\"bill_length_mm\"], 2)\n",
    "df.head()"
   ]
  },
  {
   "cell_type": "code",
   "execution_count": 10,
   "metadata": {},
   "outputs": [
    {
     "data": {
      "text/plain": [
       "Text(0.5, 1.0, 'Masa vs Longitud del pico,\\ncorrelación: 0.60')"
      ]
     },
     "execution_count": 10,
     "metadata": {},
     "output_type": "execute_result"
    },
    {
     "data": {
      "image/png": "[encoded data removed]",
      "text/plain": [
       "<Figure size 720x432 with 1 Axes>"
      ]
     },
     "metadata": {
      "needs_background": "light"
     },
     "output_type": "display_data"
    }
   ],
   "source": [
    "import matplotlib.pyplot as plt\n",
    "\n",
    "corr_BL_BM = df['bill_length_mm'].corr(df['body_mass_g'])\n",
    "\n",
    "# Graficamos la relación entre la masa y la longitud del pico\n",
    "plt.figure(figsize=(10, 6))\n",
    "sns.scatterplot(data=df, x=\"bill_length_mm\", y=\"body_mass_g\", hue=\"species\")\n",
    "plt.title(\"Masa vs Longitud del pico,\\ncorrelación: {:.2f}\".format(corr_BL_BM))"
   ]
  },
  {
   "cell_type": "code",
   "execution_count": null,
   "metadata": {},
   "outputs": [],
   "source": []
  },
  {
   "cell_type": "markdown",
   "metadata": {},
   "source": [
    "5. ¿Cuál es la isla con mayor número de pingüinos en el dataset?"
   ]
  },
  {
   "cell_type": "code",
   "execution_count": 11,
   "metadata": {},
   "outputs": [
    {
     "data": {
      "text/plain": [
       "2752"
      ]
     },
     "execution_count": 11,
     "metadata": {},
     "output_type": "execute_result"
    }
   ],
   "source": [
    "import numpy as np\n",
    "df.size"
   ]
  },
  {
   "cell_type": "code",
   "execution_count": 12,
   "metadata": {},
   "outputs": [],
   "source": [
    "df_island = df[df[\"island\"] != np.nan]"
   ]
  },
  {
   "cell_type": "code",
   "execution_count": 13,
   "metadata": {},
   "outputs": [
    {
     "data": {
      "text/plain": [
       "2752"
      ]
     },
     "execution_count": 13,
     "metadata": {},
     "output_type": "execute_result"
    }
   ],
   "source": [
    "df_island.size"
   ]
  },
  {
   "cell_type": "code",
   "execution_count": 14,
   "metadata": {},
   "outputs": [
    {
     "name": "stdout",
     "output_type": "stream",
     "text": [
      "\n",
      " Biscoe:  1344 \n",
      " Dream:  992 \n",
      " Torgersen:  416\n",
      "\n",
      " Total:  2752\n"
     ]
    }
   ],
   "source": [
    "Biscoe_No = df[df[\"island\"] == \"Biscoe\"].size\n",
    "Dream_No = df[df[\"island\"] == \"Dream\"].size\n",
    "Torgersen_No = df[df[\"island\"] == \"Torgersen\"].size\n",
    "\n",
    "print(\"\\n Biscoe: \", Biscoe_No, \"\\n Dream: \", Dream_No, \"\\n Torgersen: \", Torgersen_No)\n",
    "print(\"\\n Total: \", Biscoe_No + Dream_No + Torgersen_No)"
   ]
  },
  {
   "cell_type": "markdown",
   "metadata": {},
   "source": [
    "**Respuesta:** La isla Biscoe posee el mayor número de pingüinos del dataset con 1344 especímenes."
   ]
  },
  {
   "cell_type": "markdown",
   "metadata": {},
   "source": [
    "6. ¿Cuál es la desviación estándar de la longitud de la aleta de los pingüinos de la especie Chinstrap?"
   ]
  },
  {
   "cell_type": "code",
   "execution_count": 15,
   "metadata": {},
   "outputs": [
    {
     "name": "stdout",
     "output_type": "stream",
     "text": [
      "7.131894258578146\n"
     ]
    }
   ],
   "source": [
    "df_aletaChin = df[df[\"species\"] == \"Chinstrap\"]\n",
    "std_aletaChin = df_aletaChin[\"flipper_length_mm\"].std()\n",
    "print(std_aletaChin)"
   ]
  },
  {
   "cell_type": "markdown",
   "metadata": {},
   "source": [
    "7. ¿Qué pingüino tiene el pico más largo en el dataset y cuál es su especie?"
   ]
  },
  {
   "cell_type": "code",
   "execution_count": 16,
   "metadata": {},
   "outputs": [
    {
     "data": {
      "text/plain": [
       "59.6"
      ]
     },
     "execution_count": 16,
     "metadata": {},
     "output_type": "execute_result"
    }
   ],
   "source": [
    "df[\"bill_length_mm\"].max()"
   ]
  },
  {
   "cell_type": "code",
   "execution_count": 17,
   "metadata": {},
   "outputs": [
    {
     "data": {
      "text/html": [
       "<div>\n",
       "<style scoped>\n",
       "    .dataframe tbody tr th:only-of-type {\n",
       "        vertical-align: middle;\n",
       "    }\n",
       "\n",
       "    .dataframe tbody tr th {\n",
       "        vertical-align: top;\n",
       "    }\n",
       "\n",
       "    .dataframe thead th {\n",
       "        text-align: right;\n",
       "    }\n",
       "</style>\n",
       "<table border=\"1\" class=\"dataframe\">\n",
       "  <thead>\n",
       "    <tr style=\"text-align: right;\">\n",
       "      <th></th>\n",
       "      <th>species</th>\n",
       "      <th>island</th>\n",
       "      <th>bill_length_mm</th>\n",
       "      <th>bill_depth_mm</th>\n",
       "      <th>flipper_length_mm</th>\n",
       "      <th>body_mass_g</th>\n",
       "      <th>sex</th>\n",
       "      <th>Mass / Bill Length</th>\n",
       "    </tr>\n",
       "  </thead>\n",
       "  <tbody>\n",
       "    <tr>\n",
       "      <th>253</th>\n",
       "      <td>Gentoo</td>\n",
       "      <td>Biscoe</td>\n",
       "      <td>59.6</td>\n",
       "      <td>17.0</td>\n",
       "      <td>230.0</td>\n",
       "      <td>6050.0</td>\n",
       "      <td>Male</td>\n",
       "      <td>101.51</td>\n",
       "    </tr>\n",
       "  </tbody>\n",
       "</table>\n",
       "</div>"
      ],
      "text/plain": [
       "    species  island  bill_length_mm  bill_depth_mm  flipper_length_mm  \\\n",
       "253  Gentoo  Biscoe            59.6           17.0              230.0   \n",
       "\n",
       "     body_mass_g   sex  Mass / Bill Length  \n",
       "253       6050.0  Male              101.51  "
      ]
     },
     "execution_count": 17,
     "metadata": {},
     "output_type": "execute_result"
    }
   ],
   "source": [
    "df_maxBillLength = df[df[\"bill_length_mm\"] == df[\"bill_length_mm\"].max()]\n",
    "df_maxBillLength"
   ]
  },
  {
   "cell_type": "markdown",
   "metadata": {},
   "source": [
    "**Respuesta:** El pinguino con el pico más largo es el 253 perteneciente a la especie Gentoo y posee 59.6 mm de longitud de pico."
   ]
  },
  {
   "cell_type": "markdown",
   "metadata": {},
   "source": [
    "8. ¿Cuál es la proporción de machos y hembras en la especie Adelie?"
   ]
  },
  {
   "cell_type": "code",
   "execution_count": 18,
   "metadata": {},
   "outputs": [
    {
     "name": "stdout",
     "output_type": "stream",
     "text": [
      "1320 1344 55/56\n"
     ]
    }
   ],
   "source": [
    "from fractions import Fraction\n",
    "\n",
    "df_hembras = df[df[\"sex\"] == \"Female\"]\n",
    "df_machos = df[df[\"sex\"] == \"Male\"]\n",
    "\n",
    "print(df_hembras.size, df_machos.size, Fraction(df_hembras.size/df_machos.size).limit_denominator())"
   ]
  },
  {
   "cell_type": "markdown",
   "metadata": {},
   "source": [
    "**Respuesta:** Por cada 55 hembras hay 56 machos en el dataframe."
   ]
  },
  {
   "cell_type": "markdown",
   "metadata": {},
   "source": [
    "9. ¿Existe una correlación significativa entre la longitud del pico y la masa corporal en las diferentes especies de pingüinos?"
   ]
  },
  {
   "cell_type": "code",
   "execution_count": 19,
   "metadata": {},
   "outputs": [
    {
     "data": {
      "image/png": "[encoded data removed]",
      "text/plain": [
       "<Figure size 1080x360 with 3 Axes>"
      ]
     },
     "metadata": {
      "needs_background": "light"
     },
     "output_type": "display_data"
    }
   ],
   "source": [
    "import matplotlib.pyplot as plt\n",
    "\n",
    "corr_adelie = df_Adelie['bill_length_mm'].corr(df_Adelie['body_mass_g'])\n",
    "corr_gentoo = df_Gentoo['bill_length_mm'].corr(df_Gentoo['body_mass_g'])\n",
    "corr_chinstrap = df_Chinstrap['bill_length_mm'].corr(df_Chinstrap['body_mass_g'])\n",
    "\n",
    "fig, axs = plt.subplots(1, 3, figsize=(15, 5))\n",
    "\n",
    "sns.scatterplot(data=df_Adelie, x=\"bill_length_mm\", y=\"body_mass_g\", ax=axs[0])\n",
    "axs[0].set_title(f\"Adelie Penguins\\nCorrelación: {corr_adelie:.2f}\")\n",
    "\n",
    "sns.scatterplot(data=df_Gentoo, x=\"bill_length_mm\", y=\"body_mass_g\", ax=axs[1])\n",
    "axs[1].set_title(f\"Gentoo Penguins\\nCorrelación: {corr_gentoo:.2f}\")\n",
    "\n",
    "\n",
    "sns.scatterplot(data=df_Chinstrap, x=\"bill_length_mm\", y=\"body_mass_g\", ax=axs[2])\n",
    "axs[2].set_title(f\"Chinstrap Penguins\\nCorrelación: {corr_chinstrap:.2f}\")\n",
    "\n",
    "plt.tight_layout()\n",
    "plt.show()"
   ]
  },
  {
   "cell_type": "markdown",
   "metadata": {},
   "source": [
    "10. ¿Cuál es la distribución de la masa corporal entre las especies de pingüinos?"
   ]
  },
  {
   "cell_type": "code",
   "execution_count": 20,
   "metadata": {},
   "outputs": [
    {
     "data": {
      "image/png": "[encoded data removed]",
      "text/plain": [
       "<Figure size 1080x360 with 3 Axes>"
      ]
     },
     "metadata": {
      "needs_background": "light"
     },
     "output_type": "display_data"
    }
   ],
   "source": [
    "# Hacer una gráfica de barras de la masa corporal asociada a la especie Adelie\n",
    "\n",
    "fig, axs = plt.subplots(1, 3, figsize=(15, 5))\n",
    "\n",
    "sns.histplot(data=df_Adelie, x=\"body_mass_g\", bins=20, kde=True, ax = axs[0])\n",
    "axs[0].set_title(f\"Adelie Penguins\")\n",
    "\n",
    "sns.histplot(data=df_Gentoo, x=\"body_mass_g\", bins=20, kde=True, ax = axs[1])\n",
    "axs[1].set_title(f\"Gentoo Penguins\")\n",
    "\n",
    "sns.histplot(data=df_Chinstrap, x=\"body_mass_g\", bins=20, kde=True, ax = axs[2])\n",
    "axs[2].set_title(f\"Chinstrap Penguins\")\n",
    "\n",
    "plt.tight_layout()\n",
    "plt.show()\n"
   ]
  },
  {
   "cell_type": "markdown",
   "metadata": {},
   "source": [
    "11. ¿Cuál es la longitud mínima y máxima de la aleta entre las tres especies de pingüinos?"
   ]
  },
  {
   "cell_type": "code",
   "execution_count": 21,
   "metadata": {},
   "outputs": [
    {
     "name": "stdout",
     "output_type": "stream",
     "text": [
      "El pingüino con la aleta más corta mide:  172.0 mm.\n",
      "El pingüino con la aleta más larga mide:  231.0 mm.\n"
     ]
    }
   ],
   "source": [
    "min_flipper = df[\"flipper_length_mm\"].min()\n",
    "max_flipper = df[\"flipper_length_mm\"].max()\n",
    "\n",
    "print(\"El pingüino con la aleta más corta mide: \", min_flipper, \"mm.\")\n",
    "print(\"El pingüino con la aleta más larga mide: \", max_flipper, \"mm.\")"
   ]
  },
  {
   "cell_type": "markdown",
   "metadata": {},
   "source": [
    "12. ¿Cuántos pingüinos tienen una masa corporal superior a 5000 gramos?"
   ]
  },
  {
   "cell_type": "code",
   "execution_count": 22,
   "metadata": {},
   "outputs": [
    {
     "name": "stdout",
     "output_type": "stream",
     "text": [
      "El número de pingüino con masa sobre 5000 gramos es de 488\n"
     ]
    }
   ],
   "source": [
    "df_massOver5000 = df[df[\"body_mass_g\"] > 5000]\n",
    "No_massOver5000 = df_massOver5000.size\n",
    "\n",
    "print(f\"El número de pingüino con masa sobre 5000 gramos es de {No_massOver5000}\")"
   ]
  },
  {
   "cell_type": "markdown",
   "metadata": {},
   "source": [
    "13. ¿Cómo varía la longitud del pico entre las diferentes especies de pingüinos en las distintas islas?"
   ]
  },
  {
   "cell_type": "code",
   "execution_count": 23,
   "metadata": {},
   "outputs": [
    {
     "data": {
      "text/html": [
       "<div>\n",
       "<style scoped>\n",
       "    .dataframe tbody tr th:only-of-type {\n",
       "        vertical-align: middle;\n",
       "    }\n",
       "\n",
       "    .dataframe tbody tr th {\n",
       "        vertical-align: top;\n",
       "    }\n",
       "\n",
       "    .dataframe thead th {\n",
       "        text-align: right;\n",
       "    }\n",
       "</style>\n",
       "<table border=\"1\" class=\"dataframe\">\n",
       "  <thead>\n",
       "    <tr style=\"text-align: right;\">\n",
       "      <th></th>\n",
       "      <th>count</th>\n",
       "      <th>mean</th>\n",
       "      <th>std</th>\n",
       "      <th>min</th>\n",
       "      <th>25%</th>\n",
       "      <th>50%</th>\n",
       "      <th>75%</th>\n",
       "      <th>max</th>\n",
       "    </tr>\n",
       "    <tr>\n",
       "      <th>species</th>\n",
       "      <th></th>\n",
       "      <th></th>\n",
       "      <th></th>\n",
       "      <th></th>\n",
       "      <th></th>\n",
       "      <th></th>\n",
       "      <th></th>\n",
       "      <th></th>\n",
       "    </tr>\n",
       "  </thead>\n",
       "  <tbody>\n",
       "    <tr>\n",
       "      <th>Adelie</th>\n",
       "      <td>151.0</td>\n",
       "      <td>38.791391</td>\n",
       "      <td>2.663405</td>\n",
       "      <td>32.1</td>\n",
       "      <td>36.75</td>\n",
       "      <td>38.80</td>\n",
       "      <td>40.750</td>\n",
       "      <td>46.0</td>\n",
       "    </tr>\n",
       "    <tr>\n",
       "      <th>Chinstrap</th>\n",
       "      <td>68.0</td>\n",
       "      <td>48.833824</td>\n",
       "      <td>3.339256</td>\n",
       "      <td>40.9</td>\n",
       "      <td>46.35</td>\n",
       "      <td>49.55</td>\n",
       "      <td>51.075</td>\n",
       "      <td>58.0</td>\n",
       "    </tr>\n",
       "    <tr>\n",
       "      <th>Gentoo</th>\n",
       "      <td>123.0</td>\n",
       "      <td>47.504878</td>\n",
       "      <td>3.081857</td>\n",
       "      <td>40.9</td>\n",
       "      <td>45.30</td>\n",
       "      <td>47.30</td>\n",
       "      <td>49.550</td>\n",
       "      <td>59.6</td>\n",
       "    </tr>\n",
       "  </tbody>\n",
       "</table>\n",
       "</div>"
      ],
      "text/plain": [
       "           count       mean       std   min    25%    50%     75%   max\n",
       "species                                                                \n",
       "Adelie     151.0  38.791391  2.663405  32.1  36.75  38.80  40.750  46.0\n",
       "Chinstrap   68.0  48.833824  3.339256  40.9  46.35  49.55  51.075  58.0\n",
       "Gentoo     123.0  47.504878  3.081857  40.9  45.30  47.30  49.550  59.6"
      ]
     },
     "execution_count": 23,
     "metadata": {},
     "output_type": "execute_result"
    }
   ],
   "source": [
    "# Clasificando la longitud del pico por especie\n",
    "df.groupby([\"species\"])[\"bill_length_mm\"].describe()"
   ]
  },
  {
   "cell_type": "markdown",
   "metadata": {},
   "source": [
    "14. ¿Cuál es la relación entre la longitud de la aleta y la masa corporal en los pingüinos de la especie Gentoo?"
   ]
  },
  {
   "cell_type": "code",
   "execution_count": 24,
   "metadata": {},
   "outputs": [
    {
     "data": {
      "text/plain": [
       "Text(0.5, 1.0, 'Masa vs Longitud de las aletas,\\ncorrelación: 0.67')"
      ]
     },
     "execution_count": 24,
     "metadata": {},
     "output_type": "execute_result"
    },
    {
     "data": {
      "image/png": "[encoded data removed]",
      "text/plain": [
       "<Figure size 720x432 with 1 Axes>"
      ]
     },
     "metadata": {
      "needs_background": "light"
     },
     "output_type": "display_data"
    }
   ],
   "source": [
    "import matplotlib.pyplot as plt\n",
    "\n",
    "corr_FL_BM = df_Gentoo['bill_length_mm'].corr(df_Gentoo['body_mass_g'])\n",
    "\n",
    "# Graficamos la relación entre la masa y la longitud del pico\n",
    "plt.figure(figsize=(10, 6))\n",
    "sns.scatterplot(data=df_Gentoo, x=\"flipper_length_mm\", y=\"body_mass_g\")\n",
    "plt.title(\"Masa vs Longitud de las aletas,\\ncorrelación: {:.2f}\".format(corr_FL_BM))"
   ]
  },
  {
   "cell_type": "markdown",
   "metadata": {},
   "source": [
    "15. ¿Cuántos pingüinos tienen datos faltantes en alguna de sus características?"
   ]
  },
  {
   "cell_type": "code",
   "execution_count": 25,
   "metadata": {},
   "outputs": [
    {
     "name": "stdout",
     "output_type": "stream",
     "text": [
      "<class 'pandas.core.frame.DataFrame'>\n",
      "RangeIndex: 344 entries, 0 to 343\n",
      "Data columns (total 8 columns):\n",
      " #   Column              Non-Null Count  Dtype  \n",
      "---  ------              --------------  -----  \n",
      " 0   species             344 non-null    object \n",
      " 1   island              344 non-null    object \n",
      " 2   bill_length_mm      342 non-null    float64\n",
      " 3   bill_depth_mm       342 non-null    float64\n",
      " 4   flipper_length_mm   342 non-null    float64\n",
      " 5   body_mass_g         342 non-null    float64\n",
      " 6   sex                 333 non-null    object \n",
      " 7   Mass / Bill Length  342 non-null    float64\n",
      "dtypes: float64(5), object(3)\n",
      "memory usage: 21.6+ KB\n"
     ]
    }
   ],
   "source": [
    "df.info()"
   ]
  },
  {
   "cell_type": "code",
   "execution_count": 26,
   "metadata": {},
   "outputs": [
    {
     "name": "stdout",
     "output_type": "stream",
     "text": [
      "Número de pingüinos con datos faltantes: 11\n"
     ]
    }
   ],
   "source": [
    "df_faltantes = df[df.isna().any(axis=1)]\n",
    "\n",
    "penguinWithNan = df_faltantes.shape[0]\n",
    "\n",
    "print(f\"Número de pingüinos con datos faltantes: {penguinWithNan}\")"
   ]
  },
  {
   "cell_type": "markdown",
   "metadata": {},
   "source": [
    "16. ¿Cuál es la isla con la mayor variación en la longitud del pico entre las tres especies de pingüinos?"
   ]
  },
  {
   "cell_type": "code",
   "execution_count": 27,
   "metadata": {},
   "outputs": [
    {
     "data": {
      "text/html": [
       "<div>\n",
       "<style scoped>\n",
       "    .dataframe tbody tr th:only-of-type {\n",
       "        vertical-align: middle;\n",
       "    }\n",
       "\n",
       "    .dataframe tbody tr th {\n",
       "        vertical-align: top;\n",
       "    }\n",
       "\n",
       "    .dataframe thead th {\n",
       "        text-align: right;\n",
       "    }\n",
       "</style>\n",
       "<table border=\"1\" class=\"dataframe\">\n",
       "  <thead>\n",
       "    <tr style=\"text-align: right;\">\n",
       "      <th></th>\n",
       "      <th>count</th>\n",
       "      <th>mean</th>\n",
       "      <th>std</th>\n",
       "      <th>min</th>\n",
       "      <th>25%</th>\n",
       "      <th>50%</th>\n",
       "      <th>75%</th>\n",
       "      <th>max</th>\n",
       "    </tr>\n",
       "    <tr>\n",
       "      <th>island</th>\n",
       "      <th></th>\n",
       "      <th></th>\n",
       "      <th></th>\n",
       "      <th></th>\n",
       "      <th></th>\n",
       "      <th></th>\n",
       "      <th></th>\n",
       "      <th></th>\n",
       "    </tr>\n",
       "  </thead>\n",
       "  <tbody>\n",
       "    <tr>\n",
       "      <th>Biscoe</th>\n",
       "      <td>167.0</td>\n",
       "      <td>45.257485</td>\n",
       "      <td>4.772731</td>\n",
       "      <td>34.5</td>\n",
       "      <td>42.00</td>\n",
       "      <td>45.80</td>\n",
       "      <td>48.70</td>\n",
       "      <td>59.6</td>\n",
       "    </tr>\n",
       "    <tr>\n",
       "      <th>Dream</th>\n",
       "      <td>124.0</td>\n",
       "      <td>44.167742</td>\n",
       "      <td>5.953527</td>\n",
       "      <td>32.1</td>\n",
       "      <td>39.15</td>\n",
       "      <td>44.65</td>\n",
       "      <td>49.85</td>\n",
       "      <td>58.0</td>\n",
       "    </tr>\n",
       "    <tr>\n",
       "      <th>Torgersen</th>\n",
       "      <td>51.0</td>\n",
       "      <td>38.950980</td>\n",
       "      <td>3.025318</td>\n",
       "      <td>33.5</td>\n",
       "      <td>36.65</td>\n",
       "      <td>38.90</td>\n",
       "      <td>41.10</td>\n",
       "      <td>46.0</td>\n",
       "    </tr>\n",
       "  </tbody>\n",
       "</table>\n",
       "</div>"
      ],
      "text/plain": [
       "           count       mean       std   min    25%    50%    75%   max\n",
       "island                                                                \n",
       "Biscoe     167.0  45.257485  4.772731  34.5  42.00  45.80  48.70  59.6\n",
       "Dream      124.0  44.167742  5.953527  32.1  39.15  44.65  49.85  58.0\n",
       "Torgersen   51.0  38.950980  3.025318  33.5  36.65  38.90  41.10  46.0"
      ]
     },
     "execution_count": 27,
     "metadata": {},
     "output_type": "execute_result"
    }
   ],
   "source": [
    "df.groupby([\"island\"])[\"bill_length_mm\"].describe()"
   ]
  },
  {
   "cell_type": "markdown",
   "metadata": {},
   "source": [
    "17. ¿Cuál es la diferencia en masa corporal promedio entre machos y hembras de la especie Chinstrap?"
   ]
  },
  {
   "cell_type": "code",
   "execution_count": 28,
   "metadata": {},
   "outputs": [
    {
     "name": "stdout",
     "output_type": "stream",
     "text": [
      "La masa corporal promedio de los pingüinos Chinstrap es:\n",
      "sex\n",
      "Female    3527.205882\n",
      "Male      3938.970588\n",
      "Name: body_mass_g, dtype: float64\n",
      "\n",
      "La diferencia de la masa corporal promedio entre machos y hembras es de: 411.76 g. donde la de los machos es mayor.\n"
     ]
    }
   ],
   "source": [
    "mean_mass_Chinstrap = df_Chinstrap.groupby([\"sex\"])[\"body_mass_g\"].mean()\n",
    "\n",
    "print(\"La masa corporal promedio de los pingüinos Chinstrap es:\")\n",
    "print(mean_mass_Chinstrap)\n",
    "\n",
    "diferenceMassSex = abs(mean_mass_Chinstrap[0] - mean_mass_Chinstrap[1])\n",
    "print(\"\\nLa diferencia de la masa corporal promedio entre machos y hembras es de: {:.2f} g.\".format(diferenceMassSex), \"donde la de los machos es mayor.\")"
   ]
  },
  {
   "cell_type": "markdown",
   "metadata": {},
   "source": [
    "\n",
    "18. ¿Qué especie de pingüino tiene la longitud de aleta promedio más alta?"
   ]
  },
  {
   "cell_type": "code",
   "execution_count": 29,
   "metadata": {},
   "outputs": [
    {
     "data": {
      "text/plain": [
       "species\n",
       "Adelie       189.953642\n",
       "Chinstrap    195.823529\n",
       "Gentoo       217.186992\n",
       "Name: flipper_length_mm, dtype: float64"
      ]
     },
     "execution_count": 29,
     "metadata": {},
     "output_type": "execute_result"
    }
   ],
   "source": [
    "# Promedios de longitud de aleta por especie\n",
    "df_FlipperLength = df.groupby([\"species\"])[\"flipper_length_mm\"].mean()\n",
    "df_FlipperLength\n"
   ]
  },
  {
   "cell_type": "markdown",
   "metadata": {},
   "source": [
    "**Respuesta:** La especie Gentoo  tiene el promdio de longitud de aleta más alta."
   ]
  },
  {
   "cell_type": "markdown",
   "metadata": {},
   "source": [
    "\n",
    "19. ¿Cuál es la longitud del pico más pequeña registrada en el dataset y de qué especie es?"
   ]
  },
  {
   "cell_type": "code",
   "execution_count": 30,
   "metadata": {},
   "outputs": [
    {
     "name": "stdout",
     "output_type": "stream",
     "text": [
      "La longitud del pico más corta es de: 32.10 mm. y pertenece a la especie Adelie\n"
     ]
    }
   ],
   "source": [
    "min_bill_length = df[\"bill_length_mm\"].min()\n",
    "df_minBillLength = df[df[\"bill_length_mm\"] == min_bill_length]\n",
    "\n",
    "print(\"La longitud del pico más corta es de: {:.2f} mm.\".format(min_bill_length), \"y pertenece a la especie\", df_minBillLength[\"species\"].values[0])"
   ]
  },
  {
   "cell_type": "markdown",
   "metadata": {},
   "source": [
    "\n",
    "20. ¿Cuál es la relación entre el sexo y la longitud de la aleta en los pingüinos de la especie Adelie?"
   ]
  },
  {
   "cell_type": "code",
   "execution_count": 31,
   "metadata": {},
   "outputs": [
    {
     "data": {
      "text/html": [
       "<div>\n",
       "<style scoped>\n",
       "    .dataframe tbody tr th:only-of-type {\n",
       "        vertical-align: middle;\n",
       "    }\n",
       "\n",
       "    .dataframe tbody tr th {\n",
       "        vertical-align: top;\n",
       "    }\n",
       "\n",
       "    .dataframe thead th {\n",
       "        text-align: right;\n",
       "    }\n",
       "</style>\n",
       "<table border=\"1\" class=\"dataframe\">\n",
       "  <thead>\n",
       "    <tr style=\"text-align: right;\">\n",
       "      <th></th>\n",
       "      <th>species</th>\n",
       "      <th>island</th>\n",
       "      <th>bill_length_mm</th>\n",
       "      <th>bill_depth_mm</th>\n",
       "      <th>flipper_length_mm</th>\n",
       "      <th>body_mass_g</th>\n",
       "      <th>sex</th>\n",
       "      <th>Mass / Bill Length</th>\n",
       "    </tr>\n",
       "  </thead>\n",
       "  <tbody>\n",
       "    <tr>\n",
       "      <th>0</th>\n",
       "      <td>Adelie</td>\n",
       "      <td>Torgersen</td>\n",
       "      <td>39.1</td>\n",
       "      <td>18.7</td>\n",
       "      <td>181.0</td>\n",
       "      <td>3750.0</td>\n",
       "      <td>Male</td>\n",
       "      <td>95.91</td>\n",
       "    </tr>\n",
       "    <tr>\n",
       "      <th>1</th>\n",
       "      <td>Adelie</td>\n",
       "      <td>Torgersen</td>\n",
       "      <td>39.5</td>\n",
       "      <td>17.4</td>\n",
       "      <td>186.0</td>\n",
       "      <td>3800.0</td>\n",
       "      <td>Female</td>\n",
       "      <td>96.20</td>\n",
       "    </tr>\n",
       "    <tr>\n",
       "      <th>2</th>\n",
       "      <td>Adelie</td>\n",
       "      <td>Torgersen</td>\n",
       "      <td>40.3</td>\n",
       "      <td>18.0</td>\n",
       "      <td>195.0</td>\n",
       "      <td>3250.0</td>\n",
       "      <td>Female</td>\n",
       "      <td>80.65</td>\n",
       "    </tr>\n",
       "    <tr>\n",
       "      <th>3</th>\n",
       "      <td>Adelie</td>\n",
       "      <td>Torgersen</td>\n",
       "      <td>NaN</td>\n",
       "      <td>NaN</td>\n",
       "      <td>NaN</td>\n",
       "      <td>NaN</td>\n",
       "      <td>NaN</td>\n",
       "      <td>NaN</td>\n",
       "    </tr>\n",
       "    <tr>\n",
       "      <th>4</th>\n",
       "      <td>Adelie</td>\n",
       "      <td>Torgersen</td>\n",
       "      <td>36.7</td>\n",
       "      <td>19.3</td>\n",
       "      <td>193.0</td>\n",
       "      <td>3450.0</td>\n",
       "      <td>Female</td>\n",
       "      <td>94.01</td>\n",
       "    </tr>\n",
       "  </tbody>\n",
       "</table>\n",
       "</div>"
      ],
      "text/plain": [
       "  species     island  bill_length_mm  bill_depth_mm  flipper_length_mm  \\\n",
       "0  Adelie  Torgersen            39.1           18.7              181.0   \n",
       "1  Adelie  Torgersen            39.5           17.4              186.0   \n",
       "2  Adelie  Torgersen            40.3           18.0              195.0   \n",
       "3  Adelie  Torgersen             NaN            NaN                NaN   \n",
       "4  Adelie  Torgersen            36.7           19.3              193.0   \n",
       "\n",
       "   body_mass_g     sex  Mass / Bill Length  \n",
       "0       3750.0    Male               95.91  \n",
       "1       3800.0  Female               96.20  \n",
       "2       3250.0  Female               80.65  \n",
       "3          NaN     NaN                 NaN  \n",
       "4       3450.0  Female               94.01  "
      ]
     },
     "execution_count": 31,
     "metadata": {},
     "output_type": "execute_result"
    }
   ],
   "source": [
    "df.head()"
   ]
  },
  {
   "cell_type": "code",
   "execution_count": 37,
   "metadata": {},
   "outputs": [
    {
     "data": {
      "image/png": "[encoded data removed]",
      "text/plain": [
       "<Figure size 720x360 with 2 Axes>"
      ]
     },
     "metadata": {
      "needs_background": "light"
     },
     "output_type": "display_data"
    }
   ],
   "source": [
    "# Hacer una gráfica de barras de la masa corporal asociada a la especie Adelie\n",
    "\n",
    "fig, axs = plt.subplots(1, 2, figsize=(10, 5))\n",
    "\n",
    "df_Male_Adelie = df_Adelie[df_Adelie[\"sex\"] == \"Male\"]\n",
    "df_Female_Adelie = df_Adelie[df_Adelie[\"sex\"] == \"Female\"]\n",
    "\n",
    "sns.histplot(data=df_Male_Adelie, x=\"flipper_length_mm\", bins=20, kde=True, ax = axs[0])\n",
    "axs[0].set_title(f\"Histograma de Tamaño de Aleta de Machos\")\n",
    "\n",
    "sns.histplot(data=df_Female_Adelie, x=\"flipper_length_mm\", bins=20, kde=True, ax = axs[1])\n",
    "axs[1].set_title(f\"Histograma de Tamaño de Aleta de Hembras\")\n",
    "\n",
    "plt.tight_layout()\n",
    "plt.show()"
   ]
  },
  {
   "cell_type": "code",
   "execution_count": 40,
   "metadata": {},
   "outputs": [
    {
     "name": "stdout",
     "output_type": "stream",
     "text": [
      "Media (Machos): 192.411, Media (Hembras): 187.795\n",
      "\n",
      "Desviación Estándar (Machos): 6.599, Desviación Estándar (Hembras): 5.595\n",
      "\n",
      "Curtosis (Machos): 0.012, Curtosis (Hembras): 0.488\n"
     ]
    }
   ],
   "source": [
    "from scipy.stats import kurtosis\n",
    "\n",
    "# Media\n",
    "media_machos = df_Male_Adelie[\"flipper_length_mm\"].mean()\n",
    "media_hembras = df_Female_Adelie[\"flipper_length_mm\"].mean()\n",
    "\n",
    "# Desviación estándar\n",
    "std_machos = df_Male_Adelie[\"flipper_length_mm\"].std()\n",
    "std_hembras = df_Female_Adelie[\"flipper_length_mm\"].std()\n",
    "\n",
    "# Curtosis\n",
    "curtosis_machos = kurtosis(df_Male_Adelie[\"flipper_length_mm\"])\n",
    "curtosis_hembras = kurtosis(df_Female_Adelie[\"flipper_length_mm\"])\n",
    "\n",
    "print(f\"Media (Machos): {round(media_machos,3)}, Media (Hembras): {round(media_hembras,3)}\")\n",
    "print(f\"\\nDesviación Estándar (Machos): {round(std_machos,3)}, Desviación Estándar (Hembras): {round(std_hembras,3)}\")\n",
    "print(f\"\\nCurtosis (Machos): {round(curtosis_machos,3)}, Curtosis (Hembras): {round(curtosis_hembras,3)}\")"
   ]
  },
  {
   "cell_type": "code",
   "execution_count": 42,
   "metadata": {},
   "outputs": [
    {
     "data": {
      "image/png": "[encoded data removed]",
      "text/plain": [
       "<Figure size 720x360 with 2 Axes>"
      ]
     },
     "metadata": {
      "needs_background": "light"
     },
     "output_type": "display_data"
    }
   ],
   "source": [
    "fig, axs = plt.subplots(1, 2, figsize=(10, 5))\n",
    "\n",
    "sns.histplot(data=df_Male_Adelie, x=\"flipper_length_mm\", bins=\"fd\", kde=True, ax=axs[0])\n",
    "axs[0].set_title(\"Histograma de Tamaño de Aleta de Machos\")\n",
    "\n",
    "# Anotaciones para machos\n",
    "axs[0].text(0.95, 0.95, f\"Media: {media_machos:.2f}\\nDesv. Est.: {std_machos:.2f}\\nCurtosis: {curtosis_machos:.2f}\",\n",
    "            transform=axs[0].transAxes, fontsize=10, verticalalignment='top', horizontalalignment='right')\n",
    "\n",
    "# Histograma para hembras\n",
    "sns.histplot(data=df_Female_Adelie, x=\"flipper_length_mm\", bins=\"fd\", kde=True, ax=axs[1])\n",
    "axs[1].set_title(\"Histograma de Tamaño de Aleta de Hembras\")\n",
    "\n",
    "# Anotaciones para hembras\n",
    "axs[1].text(0.95, 0.95, f\"Media: {media_hembras:.2f}\\nDesv. Est.: {std_hembras:.2f}\\nCurtosis: {curtosis_hembras:.2f}\",\n",
    "            transform=axs[1].transAxes, fontsize=10, verticalalignment='top', horizontalalignment='right')\n",
    "\n",
    "plt.tight_layout()\n",
    "plt.show()"
   ]
  },
  {
   "cell_type": "markdown",
   "metadata": {},
   "source": [
    "**Respuesta:** Vemos entonces que típicamente las aletas de los machos son más grandes y tienen una mayor desviación estándar, pero la distribución del tamaño de las aletas en hembras está más inclinado a la derecha, es decir la moda es mayor a la media."
   ]
  }
 ],
 "metadata": {
  "kernelspec": {
   "display_name": "base",
   "language": "python",
   "name": "python3"
  },
  "language_info": {
   "codemirror_mode": {
    "name": "ipython",
    "version": 3
   },
   "file_extension": ".py",
   "mimetype": "text/x-python",
   "name": "python",
   "nbconvert_exporter": "python",
   "pygments_lexer": "ipython3",
   "version": "3.9.7"
  }
 },
 "nbformat": 4,
 "nbformat_minor": 2
}
